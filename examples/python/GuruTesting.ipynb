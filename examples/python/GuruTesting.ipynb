{
 "cells": [
  {
   "cell_type": "code",
   "execution_count": 4,
   "id": "0734f50a-4653-4f88-bb0c-d95007c8055f",
   "metadata": {},
   "outputs": [
    {
     "name": "stdout",
     "output_type": "stream",
     "text": [
      "SETTING EVRATE SCALE TO DATA\n",
      "SETTING EVRATE SCALE TO DATA\n",
      "Total CHI2 :  10.199488874704636\n",
      " -----------------------\n",
      " | bin |  data |   err |\n",
      " -----------------------\n",
      " |   0 | 13.75 | 3.708 |\n",
      " |   1 | 14.11 | 3.756 |\n",
      " |   2 |    14 | 3.742 |\n",
      " |   3 | 13.96 | 3.737 |\n",
      " |   4 | 12.61 | 3.551 |\n",
      " |   5 | 11.09 |  3.33 |\n",
      " |   6 | 10.86 | 3.296 |\n",
      " |   7 | 9.644 | 3.105 |\n",
      " |   8 |  8.66 | 2.943 |\n",
      " |   9 |     9 |     3 |\n",
      " |  10 |  7.28 | 2.698 |\n",
      " |  11 | 6.245 | 2.499 |\n",
      " |  12 | 5.657 | 2.378 |\n",
      " |  13 | 5.385 | 2.321 |\n",
      " |  14 | 4.796 |  2.19 |\n",
      " |  15 |  4.69 | 2.166 |\n",
      " |  16 | 4.472 | 2.115 |\n",
      " |  17 | 3.742 | 1.934 |\n",
      " |  18 | 4.359 | 2.088 |\n",
      " |  19 | 4.123 | 2.031 |\n",
      " |  20 | 3.317 | 1.821 |\n",
      " |   ... |   ... |\n",
      " -----------------------\n"
     ]
    },
    {
     "data": {
      "image/png": "[encoded data removed]",
      "text/plain": [
       "<Figure size 640x480 with 1 Axes>"
      ]
     },
     "metadata": {},
     "output_type": "display_data"
    }
   ],
   "source": [
    "import pyNUISANCE as pn\n",
    "import pyProSelecta as pps\n",
    "import matplotlib.pyplot as plt\n",
    "\n",
    "rfact = pn.RecordFactory()\n",
    "evs = pn.EventSource(\"../../../runs/NUWRO-D2-ANL_77-numu/NUWRO.numu.numu_flux.ANL_1977_2horn_rescan.8652.evts.root\")\n",
    "rec = rfact.make_record({\"type\": \"hepdata\", \"release\": \"ANL/CCQE/182176/\"})\n",
    "tab = rec.table(\"EventCounts-Q2\")\n",
    "comp = tab.comparison()\n",
    "\n",
    "ev,_ = evs.first()\n",
    "tab.clear(comp)\n",
    "comp.mc.fill_if( tab.select(ev), tab.project(ev), tab.weight(ev) )\n",
    "tab.finalize(comp, evs.fatx()/evs.sumw())\n",
    "\n",
    "class comparison_guru:\n",
    "    def __init__(self):\n",
    "        self.rfact = pn.RecordFactory()\n",
    "        self.input_source_mapping = {} # avoid dup inputs\n",
    "        self.input_table_mapping = {} # map each input to table list\n",
    "        self.table_comparisons = {} \n",
    "\n",
    "        self.labels = []\n",
    "        self.tables = {}\n",
    "        self.comparisons = {}\n",
    "        self.entries = {}\n",
    "\n",
    "        self.source_objects = {}\n",
    "        self.source_mapping = {}\n",
    "        \n",
    "    def add(self, yaml_obj, label=None):\n",
    "        \n",
    "        table = self.rfact.make_table( yaml_obj )\n",
    "        if not label: label = table.metadata()[\"id\"]\n",
    "\n",
    "        self.labels.append(label)\n",
    "        self.entries[label] = yaml_obj\n",
    "        self.tables[label] = table\n",
    "        self.comparisons[label] = table.comparison()\n",
    "\n",
    "        filepath = yaml_obj[\"filepath\"]\n",
    "        if filepath not in self.source_objects:\n",
    "            self.source_objects[filepath] = pn.EventSource(filepath)\n",
    "            self.source_mapping[filepath] = []\n",
    "\n",
    "        self.source_mapping[filepath].append( [self.tables[label],self.comparisons[label]] )\n",
    "    \n",
    "    def add_hepdata(self, release, table, input_file):\n",
    "        yaml_obj = {}\n",
    "        yaml_obj[\"type\"] = \"hepdata\"\n",
    "        yaml_obj[\"filepath\"] = input_file\n",
    "        yaml_obj[\"release\"] = release\n",
    "        yaml_obj[\"table\"] = table\n",
    "        self.add(yaml_obj)\n",
    "        \n",
    "    def eval(self):\n",
    "\n",
    "        for tab, comp in zip(self.tables.values(), \n",
    "                             self.comparisons.values()):\n",
    "            tab.clear(comp)\n",
    "\n",
    "        count = 0\n",
    "        for source, associations in zip(self.source_objects.values(),\n",
    "                                        self.source_mapping.values()):\n",
    "\n",
    "            for ev, cvw in source:   \n",
    "                for tab, comp in associations:\n",
    "                    comp.mc.fill_if(tab.select(ev),\n",
    "                                    tab.project(ev),\n",
    "                                    tab.weight(ev))\n",
    "\n",
    "                count += 1\n",
    "\n",
    "            for tab, comp in associations:\n",
    "                tab.finalize(comp, source.fatx()/source.sumw())\n",
    "            \n",
    "        chi2 = 0\n",
    "        for tab, comp in zip(self.tables.values(), \n",
    "                             self.comparisons.values()):\n",
    "            chi2 += tab.likelihood(comp)\n",
    "\n",
    "        return chi2\n",
    "\n",
    "    def plot(self):\n",
    "        for comp in self.comparisons.values():\n",
    "            plt.title(comp.metadata[\"id\"])\n",
    "            print(comp.data)\n",
    "            comp.data.mpl().errorbar(label=\"Data\", color='black', ls='none')\n",
    "            comp.estimate.mpl().hist(color='green', alpha=0.5, label=\"MC\")  \n",
    "            plt.legend()\n",
    "            plt.show()\n",
    "            \n",
    "        \n",
    "            \n",
    "cg = comparison_guru()\n",
    "cg.add_hepdata(\"ANL/CCQE/182176/\", \"EventCounts-Q2\", \"../../../runs/NUWRO-D2-ANL_77-numu/NUWRO.numu.numu_flux.ANL_1977_2horn_rescan.8652.evts.root\")\n",
    "print(\"Total CHI2 : \", cg.eval())\n",
    "cg.plot()\n",
    "\n",
    "\n"
   ]
  },
  {
   "cell_type": "code",
   "execution_count": null,
   "id": "b6543b63-e41c-4b96-af6d-027338600add",
   "metadata": {},
   "outputs": [],
   "source": [
    "rfact = pn.RecordFactory()\n",
    "evs = pn.EventSource(\"../../../runs/NUWRO-D2-ANL_77-numu/NUWRO.numu.numu_flux.ANL_1977_2horn_rescan.8652.evts.root\")\n",
    "rec = rfact.make_record({\"type\": \"hepdata\", \"release\": \"ANL/CCQE/182176/\"})\n",
    "hf = rec.table(\"EventCounts-Q2\")\n",
    "comp = hf.comparison()\n",
    "\n",
    "# cg.add({ \n",
    "#     \"type\": \"hepdata\",\n",
    "#     \"release\": \"ANL/CCQE/182176/\",\n",
    "#     \"table\": \"EventCounts-Q2\",\n",
    "#     \"filepath\": \"../../../runs/NUWRO-D2-ANL_77-numu/NUWRO.numu.numu_flux.ANL_1977_2horn_rescan.8652.evts.root\"\n",
    "# })\n",
    "\n",
    "\n",
    "# Grab the old records used for analysis and get the old table or a new one!\n",
    "old_record = rfact.make_record( comp.metadata ) \n",
    "old_record_table = old_record.table( comp.metadata[\"table\"] )\n",
    "\n",
    "# Or just straight to the point for recreation\n",
    "old_table  = rfact.make_table( comp.metadata )\n",
    "print(old_table)\n"
   ]
  },
  {
   "cell_type": "code",
   "execution_count": 3,
   "id": "c52b82e8-551f-4d33-aa67-37932045480e",
   "metadata": {},
   "outputs": [],
   "source": [
    "import pyNUISANCE as pn"
   ]
  },
  {
   "cell_type": "code",
   "execution_count": 4,
   "id": "69a5d3ae-cb20-42f9-9d85-7828290a2e15",
   "metadata": {},
   "outputs": [
    {
     "ename": "TypeError",
     "evalue": "__init__(): incompatible constructor arguments. The following argument types are supported:\n    1. pyNUISANCE._pyNUISANCE.YamlNode(arg0: str)\n    2. pyNUISANCE._pyNUISANCE.YamlNode(arg0: _object)\n\nInvoked with: {'dict': 1}",
     "output_type": "error",
     "traceback": [
      "\u001b[0;31m---------------------------------------------------------------------------\u001b[0m",
      "\u001b[0;31mTypeError\u001b[0m                                 Traceback (most recent call last)",
      "Cell \u001b[0;32mIn[4], line 1\u001b[0m\n\u001b[0;32m----> 1\u001b[0m \u001b[43mpn\u001b[49m\u001b[38;5;241;43m.\u001b[39;49m\u001b[43mYamlNode\u001b[49m\u001b[43m(\u001b[49m\u001b[43m{\u001b[49m\u001b[38;5;124;43m\"\u001b[39;49m\u001b[38;5;124;43mdict\u001b[39;49m\u001b[38;5;124;43m\"\u001b[39;49m\u001b[43m:\u001b[49m\u001b[38;5;241;43m1\u001b[39;49m\u001b[43m}\u001b[49m\u001b[43m)\u001b[49m\n",
      "\u001b[0;31mTypeError\u001b[0m: __init__(): incompatible constructor arguments. The following argument types are supported:\n    1. pyNUISANCE._pyNUISANCE.YamlNode(arg0: str)\n    2. pyNUISANCE._pyNUISANCE.YamlNode(arg0: _object)\n\nInvoked with: {'dict': 1}"
     ]
    }
   ],
   "source": [
    "pn.YamlNode({\"dict\":1})"
   ]
  },
  {
   "cell_type": "code",
   "execution_count": 43,
   "id": "b7d3267d-396f-4ad1-bfe7-a03467e81ce4",
   "metadata": {},
   "outputs": [
    {
     "data": {
      "image/png": "[encoded data removed]",
      "text/plain": [
       "<Figure size 640x480 with 1 Axes>"
      ]
     },
     "metadata": {},
     "output_type": "display_data"
    },
    {
     "data": {
      "image/png": "[encoded data removed]",
      "text/plain": [
       "<Figure size 640x480 with 1 Axes>"
      ]
     },
     "metadata": {},
     "output_type": "display_data"
    }
   ],
   "source": [
    "cg = comparison_guru()\n",
    "cg.add_hepdata(\"ANL/CCQE/182176/\", \"EventCounts-Q2\", \"../../../runs/NUWRO-D2-ANL_77-numu/NUWRO.numu.numu_flux.ANL_1977_2horn_rescan.8652.evts.root\")\n",
    "cg.add_hepdata(\"ANL/CCQE/182176/\", \"EventCounts-Q2\", \"../../../runs/NUWRO-D2-ANL_77-numu/NUWRO.numu.numu_flux.ANL_1977_2horn_rescan.8652.evts.root\")\n",
    "cg.eval()\n",
    "\n",
    "for sf in cg.table_comparisons:\n",
    "    for plot in cg.table_comparisons[sf]:\n",
    "        plot.mc.mpl().scatter()\n",
    "        plt.show()\n"
   ]
  },
  {
   "cell_type": "code",
   "execution_count": null,
   "id": "c1d7bc31-fc2d-4f65-85a1-5896cef150e4",
   "metadata": {},
   "outputs": [],
   "source": []
  },
  {
   "cell_type": "code",
   "execution_count": 3,
   "id": "68560848-5d3b-4b82-8737-a321bf629df0",
   "metadata": {},
   "outputs": [
    {
     "data": {
      "text/plain": [
       "<pyNUISANCE._pyNUISANCE.Comparison at 0x7f63f053e730>"
      ]
     },
     "execution_count": 3,
     "metadata": {},
     "output_type": "execute_result"
    }
   ],
   "source": [
    "hf.comparison()"
   ]
  },
  {
   "cell_type": "code",
   "execution_count": 4,
   "id": "03e7811d-731c-4b87-802a-a1ea4341b6b1",
   "metadata": {},
   "outputs": [
    {
     "data": {
      "text/plain": [
       "pyNUISANCE._pyNUISANCE.HistFrame"
      ]
     },
     "execution_count": 4,
     "metadata": {},
     "output_type": "execute_result"
    }
   ],
   "source": [
    "type(hf.blueprint.mc)"
   ]
  },
  {
   "cell_type": "code",
   "execution_count": null,
   "id": "43fc3dff-ec2c-4e49-a1fe-62eeec2d8255",
   "metadata": {},
   "outputs": [],
   "source": [
    "mapping = {}\n",
    "mapping[evs] = []\n",
    "mapping[evs].append(rec)\n",
    "\n",
    "for evs in mapping:\n",
    "    "
   ]
  }
 ],
 "metadata": {
  "kernelspec": {
   "display_name": "Python 3 (ipykernel)",
   "language": "python",
   "name": "python3"
  },
  "language_info": {
   "codemirror_mode": {
    "name": "ipython",
    "version": 3
   },
   "file_extension": ".py",
   "mimetype": "text/x-python",
   "name": "python",
   "nbconvert_exporter": "python",
   "pygments_lexer": "ipython3",
   "version": "3.9.18"
  }
 },
 "nbformat": 4,
 "nbformat_minor": 5
}
