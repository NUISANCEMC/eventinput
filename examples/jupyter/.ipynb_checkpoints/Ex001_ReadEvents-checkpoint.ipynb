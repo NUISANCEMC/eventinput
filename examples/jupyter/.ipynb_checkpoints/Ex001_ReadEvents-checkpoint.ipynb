{
 "cells": [
  {
   "cell_type": "code",
   "execution_count": 7,
   "id": "bae250b5-d83b-4f67-8c62-5215b25ef62d",
   "metadata": {},
   "outputs": [
    {
     "name": "stdout",
     "output_type": "stream",
     "text": [
      "Ex000_SimpleLoad.ipynb\tEx001_ReadEvents.ipynb\n",
      "\n"
     ]
    }
   ],
   "source": [
    "# !pip install matplotlib numpy tqdm\n",
    "!ls\n",
    "!echo $NUISANCEROOT"
   ]
  },
  {
   "cell_type": "code",
   "execution_count": 2,
   "id": "88f543b3-398f-40e6-aa47-c3bb3b2e5489",
   "metadata": {},
   "outputs": [
    {
     "ename": "ModuleNotFoundError",
     "evalue": "No module named 'pyNUISANCE'",
     "output_type": "error",
     "traceback": [
      "\u001b[0;31m---------------------------------------------------------------------------\u001b[0m",
      "\u001b[0;31mModuleNotFoundError\u001b[0m                       Traceback (most recent call last)",
      "Cell \u001b[0;32mIn[2], line 1\u001b[0m\n\u001b[0;32m----> 1\u001b[0m \u001b[38;5;28;01mimport\u001b[39;00m \u001b[38;5;21;01mpyNUISANCE\u001b[39;00m \u001b[38;5;28;01mas\u001b[39;00m \u001b[38;5;21;01mpn\u001b[39;00m\n\u001b[1;32m      2\u001b[0m \u001b[38;5;28;01mimport\u001b[39;00m \u001b[38;5;21;01mtime\u001b[39;00m\n\u001b[1;32m      3\u001b[0m \u001b[38;5;28;01mimport\u001b[39;00m \u001b[38;5;21;01mmatplotlib\u001b[39;00m\u001b[38;5;21;01m.\u001b[39;00m\u001b[38;5;21;01mpyplot\u001b[39;00m \u001b[38;5;28;01mas\u001b[39;00m \u001b[38;5;21;01mplt\u001b[39;00m\n",
      "\u001b[0;31mModuleNotFoundError\u001b[0m: No module named 'pyNUISANCE'"
     ]
    }
   ],
   "source": [
    "import pyNUISANCE as pn\n",
    "import time\n",
    "import matplotlib.pyplot as plt\n",
    "import numpy as np\n",
    "from tqdm import tqdm\n",
    "pn.configure()"
   ]
  },
  {
   "cell_type": "code",
   "execution_count": 3,
   "id": "ff670228-7c17-4f3f-b5b2-e7082113afab",
   "metadata": {},
   "outputs": [
    {
     "ename": "NameError",
     "evalue": "name 'pn' is not defined",
     "output_type": "error",
     "traceback": [
      "\u001b[0;31m---------------------------------------------------------------------------\u001b[0m",
      "\u001b[0;31mNameError\u001b[0m                                 Traceback (most recent call last)",
      "Cell \u001b[0;32mIn[3], line 1\u001b[0m\n\u001b[0;32m----> 1\u001b[0m nuwro_source \u001b[38;5;241m=\u001b[39m \u001b[43mpn\u001b[49m\u001b[38;5;241m.\u001b[39mEventSource(\u001b[38;5;124m\"\u001b[39m\u001b[38;5;124m../../../runs/NUWRO-D2-ANL_77-numu/NUWRO.numu.numu_flux.ANL_1977_2horn_rescan.8652.evts.root\u001b[39m\u001b[38;5;124m\"\u001b[39m)\n\u001b[1;32m      2\u001b[0m neut_source  \u001b[38;5;241m=\u001b[39m pn\u001b[38;5;241m.\u001b[39mEventSource(\u001b[38;5;124m\"\u001b[39m\u001b[38;5;124m../../../runs/NEUT-D2-ANL_77-numu/NEUT.numu.numu_flux.ANL_1977_2horn_rescan.23500.evts.root\u001b[39m\u001b[38;5;124m\"\u001b[39m)\n",
      "\u001b[0;31mNameError\u001b[0m: name 'pn' is not defined"
     ]
    }
   ],
   "source": [
    "nuwro_source = pn.EventSource(\"../../../runs/NUWRO-D2-ANL_77-numu/NUWRO.numu.numu_flux.ANL_1977_2horn_rescan.8652.evts.root\")\n",
    "neut_source  = pn.EventSource(\"../../../runs/NEUT-D2-ANL_77-numu/NEUT.numu.numu_flux.ANL_1977_2horn_rescan.23500.evts.root\")"
   ]
  },
  {
   "cell_type": "code",
   "execution_count": 4,
   "id": "38161205-1217-46c3-bc82-aa6754bfacf8",
   "metadata": {},
   "outputs": [
    {
     "name": "stdout",
     "output_type": "stream",
     "text": [
      "[2024-02-24 20:16:43.482] [info] [INFO]: Loading HEPData Object\n",
      "[2024-02-24 20:16:43.482] [info] [INFO]: --> database: /Users/stowell/Research/Software/NUISANCEMC/eventinput/data/\n",
      "[2024-02-24 20:16:43.482] [info] [INFO]: --> requested release: ANL/CCQE/182176/\n",
      "[2024-02-24 20:16:43.482] [info] [INFO]: --> Looking for release in local data folder.\n",
      "[2024-02-24 20:16:43.482] [info] [INFO]: --> data release: /Users/stowell/Research/Software/NUISANCEMC/eventinput/data//neutrino_data/ANL/CCQE/182176/\n",
      "[2024-02-24 20:16:43.482] [info] [INFO]: --> path: /Users/stowell/Research/Software/NUISANCEMC/eventinput/data//neutrino_data/ANL/CCQE/182176\n",
      "[2024-02-24 20:16:43.482] [info] [INFO]: --> file: /Users/stowell/Research/Software/NUISANCEMC/eventinput/data//neutrino_data/ANL/CCQE/182176//submission.yaml\n",
      "PROSELECTA LOADING CLING\n",
      "[INFO]: Parsing YAML Table for EventCounts-Q2\n",
      "[INFO] : -> Filter : ANL_CCQE_182176_Filter\n",
      "[INFO] : Selected Projection : Q2\n"
     ]
    }
   ],
   "source": [
    "# Create a Measurement\n",
    "anlsetup = { \"measurement\": \"ANL_Analysis_mycustomtag\", \"release\": \"ANL/CCQE/182176/\", \"table\": \"EventCounts-Q2\"}\n",
    "anl_handler = pn.Measurement(anlsetup)\n",
    "\n",
    "# Setup new projections\n",
    "hi_e_col = 2\n",
    "lo_e_col = 3\n",
    "\n",
    "data_neut  = anl_handler.CreateProjection(\"neut\")\n",
    "data_nuwro = anl_handler.CreateProjection(\"nuwro\")"
   ]
  },
  {
   "cell_type": "code",
   "execution_count": 5,
   "id": "d7a35a3d-25a1-4f5e-b251-d9c4dde93068",
   "metadata": {},
   "outputs": [
    {
     "name": "stderr",
     "output_type": "stream",
     "text": [
      "[INFO] : Processing NEUT : 100000it [00:34, 2939.20it/s]\n",
      "[INFO] : Processing NuWro : 100000it [00:15, 6312.47it/s]\n"
     ]
    }
   ],
   "source": [
    "for (e, cvw) in tqdm (neut_source, desc=\"[INFO] : Processing NEUT \"):\n",
    "    anl_handler.FillProjectionFromEvent( data_neut, e )\n",
    "\n",
    "for (e, cvw) in tqdm (nuwro_source, desc=\"[INFO] : Processing NuWro \"):\n",
    "    anl_handler.FillProjectionFromEvent( data_nuwro, e )"
   ]
  },
  {
   "cell_type": "code",
   "execution_count": 6,
   "id": "3b5a2721-ab14-4735-9c4d-478b7943ec17",
   "metadata": {},
   "outputs": [
    {
     "data": {
      "image/png": "[encoded data removed]",
      "text/plain": [
       "<Figure size 640x480 with 1 Axes>"
      ]
     },
     "metadata": {},
     "output_type": "display_data"
    }
   ],
   "source": [
    "nuwro_scaling = np.sum(data_nuwro[\"data\"].value) / np.sum(data_nuwro[\"mc\"].value)\n",
    "neut_scaling = np.sum(data_neut[\"data\"].value) / np.sum(data_neut[\"mc\"].value) \n",
    "\n",
    "plt.plot(data_nuwro.bin_center(), data_nuwro[\"mc\"].value * nuwro_scaling)\n",
    "plt.plot(data_neut.bin_center(), data_neut[\"mc\"].value * neut_scaling)\n",
    "plt.scatter(data_nuwro.bin_center(), data_nuwro[\"data\"].value, c='black')\n",
    "plt.xlabel(\"Q2 [GeV]\")\n",
    "plt.ylabel(\"Events\")\n",
    "plt.show()"
   ]
  },
  {
   "cell_type": "code",
   "execution_count": 7,
   "id": "8f32f958-40c3-483b-bcc4-c9045a2fa5b8",
   "metadata": {},
   "outputs": [
    {
     "name": "stdout",
     "output_type": "stream",
     "text": [
      "Collecting scipy\n",
      "  Downloading scipy-1.12.0-cp39-cp39-manylinux_2_17_x86_64.manylinux2014_x86_64.whl (38.5 MB)\n",
      "\u001b[K     |████████████████████████████████| 38.5 MB 21 kB/s  eta 0:00:01    |█                               | 1.3 MB 2.1 MB/s eta 0:00:18     |██▌                             | 3.0 MB 2.1 MB/s eta 0:00:17     |████████▎                       | 9.9 MB 1.4 MB/s eta 0:00:20     |█████████▍                      | 11.2 MB 1.4 MB/s eta 0:00:19     |███████████████████▊            | 23.7 MB 5.2 MB/s eta 0:00:03     |█████████████████████▉          | 26.3 MB 5.2 MB/s eta 0:00:03     |██████████████████████▎         | 26.8 MB 5.2 MB/s eta 0:00:03     |███████████████████████▊        | 28.5 MB 4.5 MB/s eta 0:00:03     |█████████████████████████████▊  | 35.8 MB 4.8 MB/s eta 0:00:01\n",
      "\u001b[?25hRequirement already satisfied: numpy<1.29.0,>=1.22.4 in /usr/local/lib64/python3.9/site-packages (from scipy) (1.26.4)\n",
      "Installing collected packages: scipy\n",
      "Successfully installed scipy-1.12.0\n",
      "\u001b[33mWARNING: Running pip as the 'root' user can result in broken permissions and conflicting behaviour with the system package manager. It is recommended to use a virtual environment instead: https://pip.pypa.io/warnings/venv\u001b[0m\n"
     ]
    }
   ],
   "source": [
    "!pip install scipy"
   ]
  },
  {
   "cell_type": "code",
   "execution_count": 8,
   "id": "3cabcb3a-a19f-48c0-8387-076b0b8d29fe",
   "metadata": {},
   "outputs": [],
   "source": [
    "import scipy"
   ]
  },
  {
   "cell_type": "code",
   "execution_count": null,
   "id": "5f0efc19-8bb7-43d0-b0d6-e3b312bead9e",
   "metadata": {},
   "outputs": [],
   "source": []
  }
 ],
 "metadata": {
  "kernelspec": {
   "display_name": "Python 3 (ipykernel)",
   "language": "python",
   "name": "python3"
  },
  "language_info": {
   "codemirror_mode": {
    "name": "ipython",
    "version": 3
   },
   "file_extension": ".py",
   "mimetype": "text/x-python",
   "name": "python",
   "nbconvert_exporter": "python",
   "pygments_lexer": "ipython3",
   "version": "3.9.16"
  }
 },
 "nbformat": 4,
 "nbformat_minor": 5
}
