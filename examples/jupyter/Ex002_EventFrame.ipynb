{
 "cells": [
  {
   "cell_type": "code",
   "execution_count": 1,
   "id": "17c32af7-385e-421a-a370-ef295877ed77",
   "metadata": {},
   "outputs": [
    {
     "data": {
      "application/javascript": [
       "\n",
       "    require(['notebook/js/codecell'], function(cc) {\n",
       "        cc.CodeCell.options_default.highlight_modes['magic_text/x-c++src'] =\n",
       "            {reg: [/^\\s*%%pybind11/]};\n",
       "    });\n",
       "    "
      ]
     },
     "metadata": {},
     "output_type": "display_data"
    },
    {
     "data": {
      "text/html": [
       "\n",
       "    <style>\n",
       "    .cm-s-ipython span.cm-variable-3 {\n",
       "        color: #208ffb;\n",
       "        font-weight: bold;\n",
       "    }\n",
       "    </style>\n",
       "    "
      ]
     },
     "metadata": {},
     "output_type": "display_data"
    }
   ],
   "source": [
    "%load_ext ipybind "
   ]
  },
  {
   "cell_type": "code",
   "execution_count": 2,
   "id": "c4207889-219a-49b1-a9fa-1a039fd0949e",
   "metadata": {},
   "outputs": [
    {
     "name": "stdout",
     "output_type": "stream",
     "text": [
      ":/opt/HepMC3/git_master/include:/usr/include:/opt/HepMC3/git_master/include:/opt/HepMC3/git_master/include:/opt/HepMC3/git_master/include:/usr/include:/opt/HepMC3/git_master/include:/usr/include:/usr/include:/usr/include:/opt/NuHepMC_CPPUtils/git_master/include:/opt/root/v6-28-08/include:/opt/root/v6-28-08/include:/opt/root/v6-28-08/include:/opt/root/v6-28-08/include:/opt/root/v6-28-08/include:/opt/root/v6-28-08/include:/opt/root/v6-28-08/include:/opt/root/v6-28-08/include:/opt/root/v6-28-08/include:/opt/root/v6-28-08/include:/opt/root/v6-28-08/include:/opt/root/v6-28-08/include:/opt/root/v6-28-08/include:/opt/root/v6-28-08/include:/opt/root/v6-28-08/include:/opt/root/v6-28-08/include:/opt/root/v6-28-08/include:/opt/root/v6-28-08/include:/opt/root/v6-28-08/include:/opt/root/v6-28-08/include:/opt/root/v6-28-08/include:/opt/root/v6-28-08/include:/opt/root/v6-28-08/include:/opt/root/v6-28-08/include:/opt/root/v6-28-08/include:/opt/root/v6-28-08/include:/opt/root/v6-28-08/include:/opt/root/v6-28-08/include:/opt/root/v6-28-08/include:/opt/ProSelecta/git_master/include:/usr/include:/usr/include:/opt/yaml-cpp/v0.8.0/include:/usr/include:/usr/include:/usr/include:/usr/include/eigen3:/Users/stowell/Research/Software/NUISANCEMC/eventinput/src:INSTALL_INTERFACE:include -D$<$<NOT:$<BOOL:ON>>:YAML_CPP_STATIC_DEFINE> -DFMT_LOCALE -DFMT_SHARED -DSPDLOG_SHARED_LIB -DSPDLOG_COMPILED_LIB -DSPDLOG_FMT_EXTERNAL -DFMT_LOCALE -DFMT_SHARED\n"
     ]
    }
   ],
   "source": [
    "!echo $NUISANCE_CXX_PATHS $NUISANCE_CXX_FLAGS"
   ]
  },
  {
   "cell_type": "code",
   "execution_count": 4,
   "id": "5f0efc19-8bb7-43d0-b0d6-e3b312bead9e",
   "metadata": {},
   "outputs": [
    {
     "name": "stdout",
     "output_type": "stream",
     "text": [
      "--------------------------------------------------------------------------------\n",
      "In file included from <source>:2:\n",
      "/Users/stowell/Research/Software/NUISANCEMC/eventinput/src/nuis/python/pyWeightCalc.h:12:10: fatal error: yaml-cpp/yaml.h: No such file or directory\n",
      "   12 | #include \"yaml-cpp/yaml.h\"\n",
      "      |          ^~~~~~~~~~~~~~~~~\n",
      "compilation terminated.\n",
      "--------------------------------------------------------------------------------\n"
     ]
    },
    {
     "ename": "AttributeError",
     "evalue": "'tuple' object has no attribute 'tb_frame'",
     "output_type": "error",
     "traceback": [
      "\u001b[0;31m---------------------------------------------------------------------------\u001b[0m",
      "\u001b[0;31mDistutilsExecError\u001b[0m                        Traceback (most recent call last)",
      "File \u001b[0;32m/usr/lib64/python3.9/distutils/unixccompiler.py:126\u001b[0m, in \u001b[0;36mUnixCCompiler._compile\u001b[0;34m(self, obj, src, ext, cc_args, extra_postargs, pp_opts)\u001b[0m\n\u001b[1;32m    125\u001b[0m \u001b[38;5;28;01mtry\u001b[39;00m:\n\u001b[0;32m--> 126\u001b[0m     \u001b[38;5;28;43mself\u001b[39;49m\u001b[38;5;241;43m.\u001b[39;49m\u001b[43mspawn\u001b[49m\u001b[43m(\u001b[49m\u001b[43mcompiler_so\u001b[49m\u001b[43m \u001b[49m\u001b[38;5;241;43m+\u001b[39;49m\u001b[43m \u001b[49m\u001b[43mcc_args\u001b[49m\u001b[43m \u001b[49m\u001b[38;5;241;43m+\u001b[39;49m\u001b[43m \u001b[49m\u001b[43m[\u001b[49m\u001b[43msrc\u001b[49m\u001b[43m,\u001b[49m\u001b[43m \u001b[49m\u001b[38;5;124;43m'\u001b[39;49m\u001b[38;5;124;43m-o\u001b[39;49m\u001b[38;5;124;43m'\u001b[39;49m\u001b[43m,\u001b[49m\u001b[43m \u001b[49m\u001b[43mobj\u001b[49m\u001b[43m]\u001b[49m\u001b[43m \u001b[49m\u001b[38;5;241;43m+\u001b[39;49m\n\u001b[1;32m    127\u001b[0m \u001b[43m               \u001b[49m\u001b[43mextra_postargs\u001b[49m\u001b[43m)\u001b[49m\n\u001b[1;32m    128\u001b[0m \u001b[38;5;28;01mexcept\u001b[39;00m DistutilsExecError \u001b[38;5;28;01mas\u001b[39;00m msg:\n",
      "File \u001b[0;32m/usr/lib64/python3.9/distutils/ccompiler.py:910\u001b[0m, in \u001b[0;36mCCompiler.spawn\u001b[0;34m(self, cmd)\u001b[0m\n\u001b[1;32m    909\u001b[0m \u001b[38;5;28;01mdef\u001b[39;00m \u001b[38;5;21mspawn\u001b[39m(\u001b[38;5;28mself\u001b[39m, cmd):\n\u001b[0;32m--> 910\u001b[0m     \u001b[43mspawn\u001b[49m\u001b[43m(\u001b[49m\u001b[43mcmd\u001b[49m\u001b[43m,\u001b[49m\u001b[43m \u001b[49m\u001b[43mdry_run\u001b[49m\u001b[38;5;241;43m=\u001b[39;49m\u001b[38;5;28;43mself\u001b[39;49m\u001b[38;5;241;43m.\u001b[39;49m\u001b[43mdry_run\u001b[49m\u001b[43m)\u001b[49m\n",
      "File \u001b[0;32m/usr/local/lib/python3.9/site-packages/ipybind-0.1.0-py3.9.egg/ipybind/spawn.py:30\u001b[0m, in \u001b[0;36minject.__call__\u001b[0;34m(self, *args, **kwargs)\u001b[0m\n\u001b[1;32m     29\u001b[0m \u001b[38;5;28;01mdef\u001b[39;00m \u001b[38;5;21m__call__\u001b[39m(\u001b[38;5;28mself\u001b[39m, \u001b[38;5;241m*\u001b[39margs, \u001b[38;5;241m*\u001b[39m\u001b[38;5;241m*\u001b[39mkwargs):\n\u001b[0;32m---> 30\u001b[0m     \u001b[38;5;28;01mreturn\u001b[39;00m \u001b[38;5;28;43mself\u001b[39;49m\u001b[38;5;241;43m.\u001b[39;49m\u001b[43mfn\u001b[49m\u001b[43m(\u001b[49m\u001b[38;5;241;43m*\u001b[39;49m\u001b[43margs\u001b[49m\u001b[43m,\u001b[49m\u001b[43m \u001b[49m\u001b[38;5;241;43m*\u001b[39;49m\u001b[38;5;241;43m*\u001b[39;49m\u001b[43mkwargs\u001b[49m\u001b[43m)\u001b[49m\n",
      "File \u001b[0;32m/usr/local/lib/python3.9/site-packages/ipybind-0.1.0-py3.9.egg/ipybind/spawn.py:69\u001b[0m, in \u001b[0;36mspawn_fn.<locals>.spawn\u001b[0;34m(cmd, search_path, verbose, dry_run)\u001b[0m\n\u001b[1;32m     68\u001b[0m \u001b[38;5;28;01mexcept\u001b[39;00m:\n\u001b[0;32m---> 69\u001b[0m     \u001b[38;5;28;01mraise\u001b[39;00m distutils\u001b[38;5;241m.\u001b[39merrors\u001b[38;5;241m.\u001b[39mDistutilsExecError(\n\u001b[1;32m     70\u001b[0m         \u001b[38;5;124m'\u001b[39m\u001b[38;5;124mcommand \u001b[39m\u001b[38;5;132;01m{!r}\u001b[39;00m\u001b[38;5;124m failed\u001b[39m\u001b[38;5;124m'\u001b[39m\n\u001b[1;32m     71\u001b[0m         \u001b[38;5;241m.\u001b[39mformat(os\u001b[38;5;241m.\u001b[39mpath\u001b[38;5;241m.\u001b[39mbasename(cmd[\u001b[38;5;241m0\u001b[39m]))) \u001b[38;5;28;01mfrom\u001b[39;00m \u001b[38;5;28;01mNone\u001b[39;00m\n",
      "\u001b[0;31mDistutilsExecError\u001b[0m: command 'gcc' failed",
      "\nDuring handling of the above exception, another exception occurred:\n",
      "\u001b[0;31mCompileError\u001b[0m                              Traceback (most recent call last)",
      "File \u001b[0;32m/usr/lib64/python3.9/distutils/core.py:148\u001b[0m, in \u001b[0;36msetup\u001b[0;34m(**attrs)\u001b[0m\n\u001b[1;32m    147\u001b[0m \u001b[38;5;28;01mtry\u001b[39;00m:\n\u001b[0;32m--> 148\u001b[0m     \u001b[43mdist\u001b[49m\u001b[38;5;241;43m.\u001b[39;49m\u001b[43mrun_commands\u001b[49m\u001b[43m(\u001b[49m\u001b[43m)\u001b[49m\n\u001b[1;32m    149\u001b[0m \u001b[38;5;28;01mexcept\u001b[39;00m \u001b[38;5;167;01mKeyboardInterrupt\u001b[39;00m:\n",
      "File \u001b[0;32m/usr/lib64/python3.9/distutils/dist.py:966\u001b[0m, in \u001b[0;36mDistribution.run_commands\u001b[0;34m(self)\u001b[0m\n\u001b[1;32m    965\u001b[0m \u001b[38;5;28;01mfor\u001b[39;00m cmd \u001b[38;5;129;01min\u001b[39;00m \u001b[38;5;28mself\u001b[39m\u001b[38;5;241m.\u001b[39mcommands:\n\u001b[0;32m--> 966\u001b[0m     \u001b[38;5;28;43mself\u001b[39;49m\u001b[38;5;241;43m.\u001b[39;49m\u001b[43mrun_command\u001b[49m\u001b[43m(\u001b[49m\u001b[43mcmd\u001b[49m\u001b[43m)\u001b[49m\n",
      "File \u001b[0;32m/usr/lib64/python3.9/distutils/dist.py:985\u001b[0m, in \u001b[0;36mDistribution.run_command\u001b[0;34m(self, command)\u001b[0m\n\u001b[1;32m    984\u001b[0m cmd_obj\u001b[38;5;241m.\u001b[39mensure_finalized()\n\u001b[0;32m--> 985\u001b[0m \u001b[43mcmd_obj\u001b[49m\u001b[38;5;241;43m.\u001b[39;49m\u001b[43mrun\u001b[49m\u001b[43m(\u001b[49m\u001b[43m)\u001b[49m\n\u001b[1;32m    986\u001b[0m \u001b[38;5;28mself\u001b[39m\u001b[38;5;241m.\u001b[39mhave_run[command] \u001b[38;5;241m=\u001b[39m \u001b[38;5;241m1\u001b[39m\n",
      "File \u001b[0;32m/usr/lib/python3.9/site-packages/setuptools/command/build_ext.py:79\u001b[0m, in \u001b[0;36mbuild_ext.run\u001b[0;34m(self)\u001b[0m\n\u001b[1;32m     78\u001b[0m old_inplace, \u001b[38;5;28mself\u001b[39m\u001b[38;5;241m.\u001b[39minplace \u001b[38;5;241m=\u001b[39m \u001b[38;5;28mself\u001b[39m\u001b[38;5;241m.\u001b[39minplace, \u001b[38;5;241m0\u001b[39m\n\u001b[0;32m---> 79\u001b[0m \u001b[43m_build_ext\u001b[49m\u001b[38;5;241;43m.\u001b[39;49m\u001b[43mrun\u001b[49m\u001b[43m(\u001b[49m\u001b[38;5;28;43mself\u001b[39;49m\u001b[43m)\u001b[49m\n\u001b[1;32m     80\u001b[0m \u001b[38;5;28mself\u001b[39m\u001b[38;5;241m.\u001b[39minplace \u001b[38;5;241m=\u001b[39m old_inplace\n",
      "File \u001b[0;32m/usr/lib64/python3.9/distutils/command/build_ext.py:340\u001b[0m, in \u001b[0;36mbuild_ext.run\u001b[0;34m(self)\u001b[0m\n\u001b[1;32m    339\u001b[0m \u001b[38;5;66;03m# Now actually compile and link everything.\u001b[39;00m\n\u001b[0;32m--> 340\u001b[0m \u001b[38;5;28;43mself\u001b[39;49m\u001b[38;5;241;43m.\u001b[39;49m\u001b[43mbuild_extensions\u001b[49m\u001b[43m(\u001b[49m\u001b[43m)\u001b[49m\n",
      "File \u001b[0;32m/usr/local/lib/python3.9/site-packages/ipybind-0.1.0-py3.9.egg/ipybind/build_ext.py:118\u001b[0m, in \u001b[0;36mbuild_ext.build_extensions\u001b[0;34m(self)\u001b[0m\n\u001b[1;32m    116\u001b[0m \u001b[38;5;28;01mwith\u001b[39;00m spawn_capture(\u001b[38;5;28mself\u001b[39m\u001b[38;5;241m.\u001b[39mverbose \u001b[38;5;129;01mand\u001b[39;00m \u001b[38;5;124m'\u001b[39m\u001b[38;5;124malways\u001b[39m\u001b[38;5;124m'\u001b[39m \u001b[38;5;129;01mor\u001b[39;00m \u001b[38;5;124m'\u001b[39m\u001b[38;5;124mon_error\u001b[39m\u001b[38;5;124m'\u001b[39m, handler\u001b[38;5;241m=\u001b[39m\u001b[38;5;28mself\u001b[39m\u001b[38;5;241m.\u001b[39mformat_log,\n\u001b[1;32m    117\u001b[0m                    log_commands\u001b[38;5;241m=\u001b[39m\u001b[38;5;28mbool\u001b[39m(\u001b[38;5;28mself\u001b[39m\u001b[38;5;241m.\u001b[39mverbose)):\n\u001b[0;32m--> 118\u001b[0m     \u001b[38;5;28;43msuper\u001b[39;49m\u001b[43m(\u001b[49m\u001b[43m)\u001b[49m\u001b[38;5;241;43m.\u001b[39;49m\u001b[43mbuild_extensions\u001b[49m\u001b[43m(\u001b[49m\u001b[43m)\u001b[49m\n",
      "File \u001b[0;32m/usr/lib64/python3.9/distutils/command/build_ext.py:449\u001b[0m, in \u001b[0;36mbuild_ext.build_extensions\u001b[0;34m(self)\u001b[0m\n\u001b[1;32m    448\u001b[0m \u001b[38;5;28;01melse\u001b[39;00m:\n\u001b[0;32m--> 449\u001b[0m     \u001b[38;5;28;43mself\u001b[39;49m\u001b[38;5;241;43m.\u001b[39;49m\u001b[43m_build_extensions_serial\u001b[49m\u001b[43m(\u001b[49m\u001b[43m)\u001b[49m\n",
      "File \u001b[0;32m/usr/lib64/python3.9/distutils/command/build_ext.py:474\u001b[0m, in \u001b[0;36mbuild_ext._build_extensions_serial\u001b[0;34m(self)\u001b[0m\n\u001b[1;32m    473\u001b[0m \u001b[38;5;28;01mwith\u001b[39;00m \u001b[38;5;28mself\u001b[39m\u001b[38;5;241m.\u001b[39m_filter_build_errors(ext):\n\u001b[0;32m--> 474\u001b[0m     \u001b[38;5;28;43mself\u001b[39;49m\u001b[38;5;241;43m.\u001b[39;49m\u001b[43mbuild_extension\u001b[49m\u001b[43m(\u001b[49m\u001b[43mext\u001b[49m\u001b[43m)\u001b[49m\n",
      "File \u001b[0;32m/usr/lib/python3.9/site-packages/setuptools/command/build_ext.py:196\u001b[0m, in \u001b[0;36mbuild_ext.build_extension\u001b[0;34m(self, ext)\u001b[0m\n\u001b[1;32m    195\u001b[0m     \u001b[38;5;28mself\u001b[39m\u001b[38;5;241m.\u001b[39mcompiler \u001b[38;5;241m=\u001b[39m \u001b[38;5;28mself\u001b[39m\u001b[38;5;241m.\u001b[39mshlib_compiler\n\u001b[0;32m--> 196\u001b[0m \u001b[43m_build_ext\u001b[49m\u001b[38;5;241;43m.\u001b[39;49m\u001b[43mbuild_extension\u001b[49m\u001b[43m(\u001b[49m\u001b[38;5;28;43mself\u001b[39;49m\u001b[43m,\u001b[49m\u001b[43m \u001b[49m\u001b[43mext\u001b[49m\u001b[43m)\u001b[49m\n\u001b[1;32m    197\u001b[0m \u001b[38;5;28;01mif\u001b[39;00m ext\u001b[38;5;241m.\u001b[39m_needs_stub:\n",
      "File \u001b[0;32m/usr/lib64/python3.9/distutils/command/build_ext.py:529\u001b[0m, in \u001b[0;36mbuild_ext.build_extension\u001b[0;34m(self, ext)\u001b[0m\n\u001b[1;32m    527\u001b[0m     macros\u001b[38;5;241m.\u001b[39mappend((undef,))\n\u001b[0;32m--> 529\u001b[0m objects \u001b[38;5;241m=\u001b[39m \u001b[38;5;28;43mself\u001b[39;49m\u001b[38;5;241;43m.\u001b[39;49m\u001b[43mcompiler\u001b[49m\u001b[38;5;241;43m.\u001b[39;49m\u001b[43mcompile\u001b[49m\u001b[43m(\u001b[49m\u001b[43msources\u001b[49m\u001b[43m,\u001b[49m\n\u001b[1;32m    530\u001b[0m \u001b[43m                                 \u001b[49m\u001b[43moutput_dir\u001b[49m\u001b[38;5;241;43m=\u001b[39;49m\u001b[38;5;28;43mself\u001b[39;49m\u001b[38;5;241;43m.\u001b[39;49m\u001b[43mbuild_temp\u001b[49m\u001b[43m,\u001b[49m\n\u001b[1;32m    531\u001b[0m \u001b[43m                                 \u001b[49m\u001b[43mmacros\u001b[49m\u001b[38;5;241;43m=\u001b[39;49m\u001b[43mmacros\u001b[49m\u001b[43m,\u001b[49m\n\u001b[1;32m    532\u001b[0m \u001b[43m                                 \u001b[49m\u001b[43minclude_dirs\u001b[49m\u001b[38;5;241;43m=\u001b[39;49m\u001b[43mext\u001b[49m\u001b[38;5;241;43m.\u001b[39;49m\u001b[43minclude_dirs\u001b[49m\u001b[43m,\u001b[49m\n\u001b[1;32m    533\u001b[0m \u001b[43m                                 \u001b[49m\u001b[43mdebug\u001b[49m\u001b[38;5;241;43m=\u001b[39;49m\u001b[38;5;28;43mself\u001b[39;49m\u001b[38;5;241;43m.\u001b[39;49m\u001b[43mdebug\u001b[49m\u001b[43m,\u001b[49m\n\u001b[1;32m    534\u001b[0m \u001b[43m                                 \u001b[49m\u001b[43mextra_postargs\u001b[49m\u001b[38;5;241;43m=\u001b[39;49m\u001b[43mextra_args\u001b[49m\u001b[43m,\u001b[49m\n\u001b[1;32m    535\u001b[0m \u001b[43m                                 \u001b[49m\u001b[43mdepends\u001b[49m\u001b[38;5;241;43m=\u001b[39;49m\u001b[43mext\u001b[49m\u001b[38;5;241;43m.\u001b[39;49m\u001b[43mdepends\u001b[49m\u001b[43m)\u001b[49m\n\u001b[1;32m    537\u001b[0m \u001b[38;5;66;03m# XXX outdated variable, kept here in case third-part code\u001b[39;00m\n\u001b[1;32m    538\u001b[0m \u001b[38;5;66;03m# needs it.\u001b[39;00m\n",
      "File \u001b[0;32m/usr/lib64/python3.9/distutils/ccompiler.py:574\u001b[0m, in \u001b[0;36mCCompiler.compile\u001b[0;34m(self, sources, output_dir, macros, include_dirs, debug, extra_preargs, extra_postargs, depends)\u001b[0m\n\u001b[1;32m    573\u001b[0m         \u001b[38;5;28;01mcontinue\u001b[39;00m\n\u001b[0;32m--> 574\u001b[0m     \u001b[38;5;28;43mself\u001b[39;49m\u001b[38;5;241;43m.\u001b[39;49m\u001b[43m_compile\u001b[49m\u001b[43m(\u001b[49m\u001b[43mobj\u001b[49m\u001b[43m,\u001b[49m\u001b[43m \u001b[49m\u001b[43msrc\u001b[49m\u001b[43m,\u001b[49m\u001b[43m \u001b[49m\u001b[43mext\u001b[49m\u001b[43m,\u001b[49m\u001b[43m \u001b[49m\u001b[43mcc_args\u001b[49m\u001b[43m,\u001b[49m\u001b[43m \u001b[49m\u001b[43mextra_postargs\u001b[49m\u001b[43m,\u001b[49m\u001b[43m \u001b[49m\u001b[43mpp_opts\u001b[49m\u001b[43m)\u001b[49m\n\u001b[1;32m    576\u001b[0m \u001b[38;5;66;03m# Return *all* object filenames, not just the ones we just built.\u001b[39;00m\n",
      "File \u001b[0;32m/usr/lib64/python3.9/distutils/unixccompiler.py:129\u001b[0m, in \u001b[0;36mUnixCCompiler._compile\u001b[0;34m(self, obj, src, ext, cc_args, extra_postargs, pp_opts)\u001b[0m\n\u001b[1;32m    128\u001b[0m \u001b[38;5;28;01mexcept\u001b[39;00m DistutilsExecError \u001b[38;5;28;01mas\u001b[39;00m msg:\n\u001b[0;32m--> 129\u001b[0m     \u001b[38;5;28;01mraise\u001b[39;00m CompileError(msg)\n",
      "\u001b[0;31mCompileError\u001b[0m: command 'gcc' failed",
      "\nDuring handling of the above exception, another exception occurred:\n",
      "\u001b[0;31mSystemExit\u001b[0m                                Traceback (most recent call last)",
      "    \u001b[0;31m[... skipping hidden 1 frame]\u001b[0m\n",
      "Cell \u001b[0;32mIn[4], line 1\u001b[0m\n\u001b[0;32m----> 1\u001b[0m \u001b[43mget_ipython\u001b[49m\u001b[43m(\u001b[49m\u001b[43m)\u001b[49m\u001b[38;5;241;43m.\u001b[39;49m\u001b[43mrun_cell_magic\u001b[49m\u001b[43m(\u001b[49m\u001b[38;5;124;43m'\u001b[39;49m\u001b[38;5;124;43mpybind11\u001b[39;49m\u001b[38;5;124;43m'\u001b[39;49m\u001b[43m,\u001b[49m\u001b[43m \u001b[49m\u001b[38;5;124;43m'\u001b[39;49m\u001b[38;5;124;43m-std=c++17 -I=\u001b[39;49m\u001b[38;5;124;43m\"\u001b[39;49m\u001b[38;5;124;43m$NUISANCE_CXX_PATHS\u001b[39;49m\u001b[38;5;124;43m\"\u001b[39;49m\u001b[38;5;124;43m -I/Users/stowell/Research/Software/NUISANCEMC/eventinput/src -L\u001b[39;49m\u001b[38;5;124;43m\"\u001b[39;49m\u001b[38;5;124;43m$NUISANCE_CXX_LIBRARIES\u001b[39;49m\u001b[38;5;124;43m\"\u001b[39;49m\u001b[38;5;124;43m -c=\u001b[39;49m\u001b[38;5;124;43m\"\u001b[39;49m\u001b[38;5;124;43m$NUISANCE_CXX_FLAGS\u001b[39;49m\u001b[38;5;124;43m\"\u001b[39;49m\u001b[38;5;124;43m'\u001b[39;49m\u001b[43m,\u001b[49m\u001b[43m \u001b[49m\u001b[38;5;124;43m'\u001b[39;49m\u001b[38;5;124;43m#include \u001b[39;49m\u001b[38;5;124;43m\"\u001b[39;49m\u001b[38;5;124;43mnuis/python/pyWeightCalc.h\u001b[39;49m\u001b[38;5;124;43m\"\u001b[39;49m\u001b[38;5;130;43;01m\\n\u001b[39;49;00m\u001b[38;5;124;43m#include \u001b[39;49m\u001b[38;5;124;43m\"\u001b[39;49m\u001b[38;5;124;43mNReWeightEngineI.h\u001b[39;49m\u001b[38;5;124;43m\"\u001b[39;49m\u001b[38;5;130;43;01m\\n\u001b[39;49;00m\u001b[38;5;124;43mnamespace neut \u001b[39;49m\u001b[38;5;124;43m{\u001b[39;49m\u001b[38;5;130;43;01m\\n\u001b[39;49;00m\u001b[38;5;124;43mnamespace rew \u001b[39;49m\u001b[38;5;124;43m{\u001b[39;49m\u001b[38;5;130;43;01m\\n\u001b[39;49;00m\u001b[38;5;130;43;01m\\n\u001b[39;49;00m\u001b[38;5;124;43mclass NuXSecCCQECustomEngine : public NReWeightEngineI \u001b[39;49m\u001b[38;5;124;43m{\u001b[39;49m\u001b[38;5;130;43;01m\\n\u001b[39;49;00m\u001b[38;5;124;43mpublic:\u001b[39;49m\u001b[38;5;130;43;01m\\n\u001b[39;49;00m\u001b[38;5;124;43m  NuXSecCCQECustomEngine() \u001b[39;49m\u001b[38;5;132;43;01m{}\u001b[39;49;00m\u001b[38;5;130;43;01m\\n\u001b[39;49;00m\u001b[38;5;124;43m  ~NuXSecCCQECustomEngine() \u001b[39;49m\u001b[38;5;132;43;01m{}\u001b[39;49;00m\u001b[38;5;130;43;01m\\n\u001b[39;49;00m\u001b[38;5;124;43m  void Reconfigure()\u001b[39;49m\u001b[38;5;132;43;01m{}\u001b[39;49;00m\u001b[38;5;124;43m;\u001b[39;49m\u001b[38;5;130;43;01m\\n\u001b[39;49;00m\u001b[38;5;124;43m  double CalcWeight()\u001b[39;49m\u001b[38;5;124;43m{\u001b[39;49m\u001b[38;5;124;43mreturn 1;};\u001b[39;49m\u001b[38;5;130;43;01m\\n\u001b[39;49;00m\u001b[38;5;124;43m  std::string EngineName() const \u001b[39;49m\u001b[38;5;124;43m{\u001b[39;49m\u001b[38;5;124;43m return \u001b[39;49m\u001b[38;5;124;43m\"\u001b[39;49m\u001b[38;5;124;43mNuXSecCCQECustomEngine\u001b[39;49m\u001b[38;5;124;43m\"\u001b[39;49m\u001b[38;5;124;43m; }\u001b[39;49m\u001b[38;5;130;43;01m\\n\u001b[39;49;00m\u001b[38;5;130;43;01m\\n\u001b[39;49;00m\u001b[38;5;124;43mprivate:\u001b[39;49m\u001b[38;5;130;43;01m\\n\u001b[39;49;00m\u001b[38;5;124;43m  NSyst_t ZEXP_custom;\u001b[39;49m\u001b[38;5;130;43;01m\\n\u001b[39;49;00m\u001b[38;5;124;43m};\u001b[39;49m\u001b[38;5;130;43;01m\\n\u001b[39;49;00m\u001b[38;5;124;43m}\u001b[39;49m\u001b[38;5;130;43;01m\\n\u001b[39;49;00m\u001b[38;5;124;43m}\u001b[39;49m\u001b[38;5;130;43;01m\\n\u001b[39;49;00m\u001b[38;5;130;43;01m\\n\u001b[39;49;00m\u001b[38;5;124;43mvoid GimmeDatDialOnDatToWeightEngine(const pyWeightCalc& wc)\u001b[39;49m\u001b[38;5;124;43m{\u001b[39;49m\u001b[38;5;130;43;01m\\n\u001b[39;49;00m\u001b[38;5;124;43m    NuXSecCCQECustomEngine new_calculator;\u001b[39;49m\u001b[38;5;130;43;01m\\n\u001b[39;49;00m\u001b[38;5;124;43m    auto nwc = dynamic_cast<NReWeightCalc>(wc.calc);\u001b[39;49m\u001b[38;5;130;43;01m\\n\u001b[39;49;00m\u001b[38;5;124;43m    nwc->AdoptWeightEngine(\u001b[39;49m\u001b[38;5;124;43m\"\u001b[39;49m\u001b[38;5;124;43mmyccqe\u001b[39;49m\u001b[38;5;124;43m\"\u001b[39;49m\u001b[38;5;124;43m, &NuXSecCCQECustomEngine);\u001b[39;49m\u001b[38;5;130;43;01m\\n\u001b[39;49;00m\u001b[38;5;124;43m}\u001b[39;49m\u001b[38;5;130;43;01m\\n\u001b[39;49;00m\u001b[38;5;130;43;01m\\n\u001b[39;49;00m\u001b[38;5;124;43mPYBIND11_MODULE(py11fractal, m) \u001b[39;49m\u001b[38;5;124;43m{\u001b[39;49m\u001b[38;5;130;43;01m\\n\u001b[39;49;00m\u001b[38;5;124;43m    m.def(\u001b[39;49m\u001b[38;5;124;43m\"\u001b[39;49m\u001b[38;5;124;43mGimmeDatDialOnDatToWeightEngine\u001b[39;49m\u001b[38;5;124;43m\"\u001b[39;49m\u001b[38;5;124;43m, GimmeDatDialOnDatToWeightEngine);\u001b[39;49m\u001b[38;5;130;43;01m\\n\u001b[39;49;00m\u001b[38;5;124;43m}\u001b[39;49m\u001b[38;5;130;43;01m\\n\u001b[39;49;00m\u001b[38;5;124;43m'\u001b[39;49m\u001b[43m)\u001b[49m\n",
      "File \u001b[0;32m/usr/local/lib/python3.9/site-packages/IPython/core/interactiveshell.py:2517\u001b[0m, in \u001b[0;36mInteractiveShell.run_cell_magic\u001b[0;34m(self, magic_name, line, cell)\u001b[0m\n\u001b[1;32m   2516\u001b[0m     args \u001b[38;5;241m=\u001b[39m (magic_arg_s, cell)\n\u001b[0;32m-> 2517\u001b[0m     result \u001b[38;5;241m=\u001b[39m \u001b[43mfn\u001b[49m\u001b[43m(\u001b[49m\u001b[38;5;241;43m*\u001b[39;49m\u001b[43margs\u001b[49m\u001b[43m,\u001b[49m\u001b[43m \u001b[49m\u001b[38;5;241;43m*\u001b[39;49m\u001b[38;5;241;43m*\u001b[39;49m\u001b[43mkwargs\u001b[49m\u001b[43m)\u001b[49m\n\u001b[1;32m   2519\u001b[0m \u001b[38;5;66;03m# The code below prevents the output from being displayed\u001b[39;00m\n\u001b[1;32m   2520\u001b[0m \u001b[38;5;66;03m# when using magics with decorator @output_can_be_silenced\u001b[39;00m\n\u001b[1;32m   2521\u001b[0m \u001b[38;5;66;03m# when the last Python token in the expression is a ';'.\u001b[39;00m\n",
      "File \u001b[0;32m/usr/local/lib/python3.9/site-packages/ipybind-0.1.0-py3.9.egg/ipybind/magic.py:66\u001b[0m, in \u001b[0;36mPybind11Magics.pybind11\u001b[0;34m(self, line, cell)\u001b[0m\n\u001b[1;32m     65\u001b[0m     source \u001b[38;5;241m=\u001b[39m \u001b[38;5;28mself\u001b[39m\u001b[38;5;241m.\u001b[39msave_source(code, module)\n\u001b[0;32m---> 66\u001b[0m     \u001b[38;5;28;43mself\u001b[39;49m\u001b[38;5;241;43m.\u001b[39;49m\u001b[43mbuild_module\u001b[49m\u001b[43m(\u001b[49m\u001b[43mmodule\u001b[49m\u001b[43m,\u001b[49m\u001b[43m \u001b[49m\u001b[43msource\u001b[49m\u001b[43m,\u001b[49m\u001b[43m \u001b[49m\u001b[43margs\u001b[49m\u001b[43m)\u001b[49m\n\u001b[1;32m     67\u001b[0m \u001b[38;5;28mself\u001b[39m\u001b[38;5;241m.\u001b[39mimport_module(module, libfile, import_symbols\u001b[38;5;241m=\u001b[39m\u001b[38;5;129;01mnot\u001b[39;00m args\u001b[38;5;241m.\u001b[39mmodule)\n",
      "File \u001b[0;32m/usr/local/lib/python3.9/site-packages/ipybind-0.1.0-py3.9.egg/ipybind/magic.py:151\u001b[0m, in \u001b[0;36mPybind11Magics.build_module\u001b[0;34m(self, module, source, args)\u001b[0m\n\u001b[1;32m    150\u001b[0m warnings\u001b[38;5;241m.\u001b[39mfilterwarnings(\u001b[38;5;124m'\u001b[39m\u001b[38;5;124mignore\u001b[39m\u001b[38;5;124m'\u001b[39m, \u001b[38;5;124m'\u001b[39m\u001b[38;5;124mTo exit\u001b[39m\u001b[38;5;124m'\u001b[39m)\n\u001b[0;32m--> 151\u001b[0m \u001b[43msetuptools\u001b[49m\u001b[38;5;241;43m.\u001b[39;49m\u001b[43msetup\u001b[49m\u001b[43m(\u001b[49m\n\u001b[1;32m    152\u001b[0m \u001b[43m    \u001b[49m\u001b[43mname\u001b[49m\u001b[38;5;241;43m=\u001b[39;49m\u001b[43mmodule\u001b[49m\u001b[43m,\u001b[49m\n\u001b[1;32m    153\u001b[0m \u001b[43m    \u001b[49m\u001b[43mext_modules\u001b[49m\u001b[38;5;241;43m=\u001b[39;49m\u001b[43m[\u001b[49m\u001b[38;5;28;43mself\u001b[39;49m\u001b[38;5;241;43m.\u001b[39;49m\u001b[43mmake_extension\u001b[49m\u001b[43m(\u001b[49m\u001b[43mmodule\u001b[49m\u001b[43m,\u001b[49m\u001b[43m \u001b[49m\u001b[43msource\u001b[49m\u001b[43m,\u001b[49m\u001b[43m \u001b[49m\u001b[43margs\u001b[49m\u001b[43m)\u001b[49m\u001b[43m]\u001b[49m\u001b[43m,\u001b[49m\n\u001b[1;32m    154\u001b[0m \u001b[43m    \u001b[49m\u001b[43mscript_args\u001b[49m\u001b[38;5;241;43m=\u001b[39;49m\u001b[43mscript_args\u001b[49m\u001b[43m,\u001b[49m\n\u001b[1;32m    155\u001b[0m \u001b[43m    \u001b[49m\u001b[43mcmdclass\u001b[49m\u001b[38;5;241;43m=\u001b[39;49m\u001b[43m{\u001b[49m\u001b[38;5;124;43m'\u001b[39;49m\u001b[38;5;124;43mbuild_ext\u001b[39;49m\u001b[38;5;124;43m'\u001b[39;49m\u001b[43m:\u001b[49m\u001b[43m \u001b[49m\u001b[43mbuild_ext\u001b[49m\u001b[43m}\u001b[49m\n\u001b[1;32m    156\u001b[0m \u001b[43m\u001b[49m\u001b[43m)\u001b[49m\n",
      "File \u001b[0;32m/usr/lib/python3.9/site-packages/setuptools/__init__.py:153\u001b[0m, in \u001b[0;36msetup\u001b[0;34m(**attrs)\u001b[0m\n\u001b[1;32m    152\u001b[0m _install_setup_requires(attrs)\n\u001b[0;32m--> 153\u001b[0m \u001b[38;5;28;01mreturn\u001b[39;00m \u001b[43mdistutils\u001b[49m\u001b[38;5;241;43m.\u001b[39;49m\u001b[43mcore\u001b[49m\u001b[38;5;241;43m.\u001b[39;49m\u001b[43msetup\u001b[49m\u001b[43m(\u001b[49m\u001b[38;5;241;43m*\u001b[39;49m\u001b[38;5;241;43m*\u001b[39;49m\u001b[43mattrs\u001b[49m\u001b[43m)\u001b[49m\n",
      "File \u001b[0;32m/usr/lib64/python3.9/distutils/core.py:163\u001b[0m, in \u001b[0;36msetup\u001b[0;34m(**attrs)\u001b[0m\n\u001b[1;32m    162\u001b[0m         \u001b[38;5;28;01melse\u001b[39;00m:\n\u001b[0;32m--> 163\u001b[0m             \u001b[38;5;28;01mraise\u001b[39;00m \u001b[38;5;167;01mSystemExit\u001b[39;00m(\u001b[38;5;124m\"\u001b[39m\u001b[38;5;124merror: \u001b[39m\u001b[38;5;124m\"\u001b[39m \u001b[38;5;241m+\u001b[39m \u001b[38;5;28mstr\u001b[39m(msg))\n\u001b[1;32m    165\u001b[0m \u001b[38;5;28;01mreturn\u001b[39;00m dist\n",
      "\u001b[0;31mSystemExit\u001b[0m: error: command 'gcc' failed",
      "\nDuring handling of the above exception, another exception occurred:\n",
      "\u001b[0;31mAttributeError\u001b[0m                            Traceback (most recent call last)",
      "    \u001b[0;31m[... skipping hidden 1 frame]\u001b[0m\n",
      "File \u001b[0;32m/usr/local/lib/python3.9/site-packages/IPython/core/interactiveshell.py:2121\u001b[0m, in \u001b[0;36mInteractiveShell.showtraceback\u001b[0;34m(self, exc_tuple, filename, tb_offset, exception_only, running_compiled_code)\u001b[0m\n\u001b[1;32m   2118\u001b[0m \u001b[38;5;28;01mif\u001b[39;00m exception_only:\n\u001b[1;32m   2119\u001b[0m     stb \u001b[38;5;241m=\u001b[39m [\u001b[38;5;124m'\u001b[39m\u001b[38;5;124mAn exception has occurred, use \u001b[39m\u001b[38;5;124m%\u001b[39m\u001b[38;5;124mtb to see \u001b[39m\u001b[38;5;124m'\u001b[39m\n\u001b[1;32m   2120\u001b[0m            \u001b[38;5;124m'\u001b[39m\u001b[38;5;124mthe full traceback.\u001b[39m\u001b[38;5;130;01m\\n\u001b[39;00m\u001b[38;5;124m'\u001b[39m]\n\u001b[0;32m-> 2121\u001b[0m     stb\u001b[38;5;241m.\u001b[39mextend(\u001b[38;5;28;43mself\u001b[39;49m\u001b[38;5;241;43m.\u001b[39;49m\u001b[43mInteractiveTB\u001b[49m\u001b[38;5;241;43m.\u001b[39;49m\u001b[43mget_exception_only\u001b[49m\u001b[43m(\u001b[49m\u001b[43metype\u001b[49m\u001b[43m,\u001b[49m\n\u001b[1;32m   2122\u001b[0m \u001b[43m                                                     \u001b[49m\u001b[43mvalue\u001b[49m\u001b[43m)\u001b[49m)\n\u001b[1;32m   2123\u001b[0m \u001b[38;5;28;01melse\u001b[39;00m:\n\u001b[1;32m   2125\u001b[0m     \u001b[38;5;28;01mdef\u001b[39;00m \u001b[38;5;21mcontains_exceptiongroup\u001b[39m(val):\n",
      "File \u001b[0;32m/usr/local/lib/python3.9/site-packages/IPython/core/ultratb.py:710\u001b[0m, in \u001b[0;36mListTB.get_exception_only\u001b[0;34m(self, etype, value)\u001b[0m\n\u001b[1;32m    702\u001b[0m \u001b[38;5;28;01mdef\u001b[39;00m \u001b[38;5;21mget_exception_only\u001b[39m(\u001b[38;5;28mself\u001b[39m, etype, value):\n\u001b[1;32m    703\u001b[0m \u001b[38;5;250m    \u001b[39m\u001b[38;5;124;03m\"\"\"Only print the exception type and message, without a traceback.\u001b[39;00m\n\u001b[1;32m    704\u001b[0m \n\u001b[1;32m    705\u001b[0m \u001b[38;5;124;03m    Parameters\u001b[39;00m\n\u001b[0;32m   (...)\u001b[0m\n\u001b[1;32m    708\u001b[0m \u001b[38;5;124;03m    value : exception value\u001b[39;00m\n\u001b[1;32m    709\u001b[0m \u001b[38;5;124;03m    \"\"\"\u001b[39;00m\n\u001b[0;32m--> 710\u001b[0m     \u001b[38;5;28;01mreturn\u001b[39;00m \u001b[43mListTB\u001b[49m\u001b[38;5;241;43m.\u001b[39;49m\u001b[43mstructured_traceback\u001b[49m\u001b[43m(\u001b[49m\u001b[38;5;28;43mself\u001b[39;49m\u001b[43m,\u001b[49m\u001b[43m \u001b[49m\u001b[43metype\u001b[49m\u001b[43m,\u001b[49m\u001b[43m \u001b[49m\u001b[43mvalue\u001b[49m\u001b[43m)\u001b[49m\n",
      "File \u001b[0;32m/usr/local/lib/python3.9/site-packages/IPython/core/ultratb.py:568\u001b[0m, in \u001b[0;36mListTB.structured_traceback\u001b[0;34m(self, etype, evalue, etb, tb_offset, context)\u001b[0m\n\u001b[1;32m    565\u001b[0m     chained_exc_ids\u001b[38;5;241m.\u001b[39madd(\u001b[38;5;28mid\u001b[39m(exception[\u001b[38;5;241m1\u001b[39m]))\n\u001b[1;32m    566\u001b[0m     chained_exceptions_tb_offset \u001b[38;5;241m=\u001b[39m \u001b[38;5;241m0\u001b[39m\n\u001b[1;32m    567\u001b[0m     out_list \u001b[38;5;241m=\u001b[39m (\n\u001b[0;32m--> 568\u001b[0m         \u001b[38;5;28;43mself\u001b[39;49m\u001b[38;5;241;43m.\u001b[39;49m\u001b[43mstructured_traceback\u001b[49m\u001b[43m(\u001b[49m\n\u001b[1;32m    569\u001b[0m \u001b[43m            \u001b[49m\u001b[43metype\u001b[49m\u001b[43m,\u001b[49m\n\u001b[1;32m    570\u001b[0m \u001b[43m            \u001b[49m\u001b[43mevalue\u001b[49m\u001b[43m,\u001b[49m\n\u001b[1;32m    571\u001b[0m \u001b[43m            \u001b[49m\u001b[43m(\u001b[49m\u001b[43metb\u001b[49m\u001b[43m,\u001b[49m\u001b[43m \u001b[49m\u001b[43mchained_exc_ids\u001b[49m\u001b[43m)\u001b[49m\u001b[43m,\u001b[49m\u001b[43m  \u001b[49m\u001b[38;5;66;43;03m# type: ignore\u001b[39;49;00m\n\u001b[1;32m    572\u001b[0m \u001b[43m            \u001b[49m\u001b[43mchained_exceptions_tb_offset\u001b[49m\u001b[43m,\u001b[49m\n\u001b[1;32m    573\u001b[0m \u001b[43m            \u001b[49m\u001b[43mcontext\u001b[49m\u001b[43m,\u001b[49m\n\u001b[1;32m    574\u001b[0m \u001b[43m        \u001b[49m\u001b[43m)\u001b[49m\n\u001b[1;32m    575\u001b[0m         \u001b[38;5;241m+\u001b[39m chained_exception_message\n\u001b[1;32m    576\u001b[0m         \u001b[38;5;241m+\u001b[39m out_list)\n\u001b[1;32m    578\u001b[0m \u001b[38;5;28;01mreturn\u001b[39;00m out_list\n",
      "File \u001b[0;32m/usr/local/lib/python3.9/site-packages/IPython/core/ultratb.py:1435\u001b[0m, in \u001b[0;36mAutoFormattedTB.structured_traceback\u001b[0;34m(self, etype, evalue, etb, tb_offset, number_of_lines_of_context)\u001b[0m\n\u001b[1;32m   1433\u001b[0m \u001b[38;5;28;01melse\u001b[39;00m:\n\u001b[1;32m   1434\u001b[0m     \u001b[38;5;28mself\u001b[39m\u001b[38;5;241m.\u001b[39mtb \u001b[38;5;241m=\u001b[39m etb\n\u001b[0;32m-> 1435\u001b[0m \u001b[38;5;28;01mreturn\u001b[39;00m \u001b[43mFormattedTB\u001b[49m\u001b[38;5;241;43m.\u001b[39;49m\u001b[43mstructured_traceback\u001b[49m\u001b[43m(\u001b[49m\n\u001b[1;32m   1436\u001b[0m \u001b[43m    \u001b[49m\u001b[38;5;28;43mself\u001b[39;49m\u001b[43m,\u001b[49m\u001b[43m \u001b[49m\u001b[43metype\u001b[49m\u001b[43m,\u001b[49m\u001b[43m \u001b[49m\u001b[43mevalue\u001b[49m\u001b[43m,\u001b[49m\u001b[43m \u001b[49m\u001b[43metb\u001b[49m\u001b[43m,\u001b[49m\u001b[43m \u001b[49m\u001b[43mtb_offset\u001b[49m\u001b[43m,\u001b[49m\u001b[43m \u001b[49m\u001b[43mnumber_of_lines_of_context\u001b[49m\n\u001b[1;32m   1437\u001b[0m \u001b[43m\u001b[49m\u001b[43m)\u001b[49m\n",
      "File \u001b[0;32m/usr/local/lib/python3.9/site-packages/IPython/core/ultratb.py:1326\u001b[0m, in \u001b[0;36mFormattedTB.structured_traceback\u001b[0;34m(self, etype, value, tb, tb_offset, number_of_lines_of_context)\u001b[0m\n\u001b[1;32m   1323\u001b[0m mode \u001b[38;5;241m=\u001b[39m \u001b[38;5;28mself\u001b[39m\u001b[38;5;241m.\u001b[39mmode\n\u001b[1;32m   1324\u001b[0m \u001b[38;5;28;01mif\u001b[39;00m mode \u001b[38;5;129;01min\u001b[39;00m \u001b[38;5;28mself\u001b[39m\u001b[38;5;241m.\u001b[39mverbose_modes:\n\u001b[1;32m   1325\u001b[0m     \u001b[38;5;66;03m# Verbose modes need a full traceback\u001b[39;00m\n\u001b[0;32m-> 1326\u001b[0m     \u001b[38;5;28;01mreturn\u001b[39;00m \u001b[43mVerboseTB\u001b[49m\u001b[38;5;241;43m.\u001b[39;49m\u001b[43mstructured_traceback\u001b[49m\u001b[43m(\u001b[49m\n\u001b[1;32m   1327\u001b[0m \u001b[43m        \u001b[49m\u001b[38;5;28;43mself\u001b[39;49m\u001b[43m,\u001b[49m\u001b[43m \u001b[49m\u001b[43metype\u001b[49m\u001b[43m,\u001b[49m\u001b[43m \u001b[49m\u001b[43mvalue\u001b[49m\u001b[43m,\u001b[49m\u001b[43m \u001b[49m\u001b[43mtb\u001b[49m\u001b[43m,\u001b[49m\u001b[43m \u001b[49m\u001b[43mtb_offset\u001b[49m\u001b[43m,\u001b[49m\u001b[43m \u001b[49m\u001b[43mnumber_of_lines_of_context\u001b[49m\n\u001b[1;32m   1328\u001b[0m \u001b[43m    \u001b[49m\u001b[43m)\u001b[49m\n\u001b[1;32m   1329\u001b[0m \u001b[38;5;28;01melif\u001b[39;00m mode \u001b[38;5;241m==\u001b[39m \u001b[38;5;124m'\u001b[39m\u001b[38;5;124mMinimal\u001b[39m\u001b[38;5;124m'\u001b[39m:\n\u001b[1;32m   1330\u001b[0m     \u001b[38;5;28;01mreturn\u001b[39;00m ListTB\u001b[38;5;241m.\u001b[39mget_exception_only(\u001b[38;5;28mself\u001b[39m, etype, value)\n",
      "File \u001b[0;32m/usr/local/lib/python3.9/site-packages/IPython/core/ultratb.py:1173\u001b[0m, in \u001b[0;36mVerboseTB.structured_traceback\u001b[0;34m(self, etype, evalue, etb, tb_offset, number_of_lines_of_context)\u001b[0m\n\u001b[1;32m   1164\u001b[0m \u001b[38;5;28;01mdef\u001b[39;00m \u001b[38;5;21mstructured_traceback\u001b[39m(\n\u001b[1;32m   1165\u001b[0m     \u001b[38;5;28mself\u001b[39m,\n\u001b[1;32m   1166\u001b[0m     etype: \u001b[38;5;28mtype\u001b[39m,\n\u001b[0;32m   (...)\u001b[0m\n\u001b[1;32m   1170\u001b[0m     number_of_lines_of_context: \u001b[38;5;28mint\u001b[39m \u001b[38;5;241m=\u001b[39m \u001b[38;5;241m5\u001b[39m,\n\u001b[1;32m   1171\u001b[0m ):\n\u001b[1;32m   1172\u001b[0m \u001b[38;5;250m    \u001b[39m\u001b[38;5;124;03m\"\"\"Return a nice text document describing the traceback.\"\"\"\u001b[39;00m\n\u001b[0;32m-> 1173\u001b[0m     formatted_exception \u001b[38;5;241m=\u001b[39m \u001b[38;5;28;43mself\u001b[39;49m\u001b[38;5;241;43m.\u001b[39;49m\u001b[43mformat_exception_as_a_whole\u001b[49m\u001b[43m(\u001b[49m\u001b[43metype\u001b[49m\u001b[43m,\u001b[49m\u001b[43m \u001b[49m\u001b[43mevalue\u001b[49m\u001b[43m,\u001b[49m\u001b[43m \u001b[49m\u001b[43metb\u001b[49m\u001b[43m,\u001b[49m\u001b[43m \u001b[49m\u001b[43mnumber_of_lines_of_context\u001b[49m\u001b[43m,\u001b[49m\n\u001b[1;32m   1174\u001b[0m \u001b[43m                                                           \u001b[49m\u001b[43mtb_offset\u001b[49m\u001b[43m)\u001b[49m\n\u001b[1;32m   1176\u001b[0m     colors \u001b[38;5;241m=\u001b[39m \u001b[38;5;28mself\u001b[39m\u001b[38;5;241m.\u001b[39mColors  \u001b[38;5;66;03m# just a shorthand + quicker name lookup\u001b[39;00m\n\u001b[1;32m   1177\u001b[0m     colorsnormal \u001b[38;5;241m=\u001b[39m colors\u001b[38;5;241m.\u001b[39mNormal  \u001b[38;5;66;03m# used a lot\u001b[39;00m\n",
      "File \u001b[0;32m/usr/local/lib/python3.9/site-packages/IPython/core/ultratb.py:1063\u001b[0m, in \u001b[0;36mVerboseTB.format_exception_as_a_whole\u001b[0;34m(self, etype, evalue, etb, number_of_lines_of_context, tb_offset)\u001b[0m\n\u001b[1;32m   1060\u001b[0m \u001b[38;5;28;01massert\u001b[39;00m \u001b[38;5;28misinstance\u001b[39m(tb_offset, \u001b[38;5;28mint\u001b[39m)\n\u001b[1;32m   1061\u001b[0m head \u001b[38;5;241m=\u001b[39m \u001b[38;5;28mself\u001b[39m\u001b[38;5;241m.\u001b[39mprepare_header(\u001b[38;5;28mstr\u001b[39m(etype), \u001b[38;5;28mself\u001b[39m\u001b[38;5;241m.\u001b[39mlong_header)\n\u001b[1;32m   1062\u001b[0m records \u001b[38;5;241m=\u001b[39m (\n\u001b[0;32m-> 1063\u001b[0m     \u001b[38;5;28;43mself\u001b[39;49m\u001b[38;5;241;43m.\u001b[39;49m\u001b[43mget_records\u001b[49m\u001b[43m(\u001b[49m\u001b[43metb\u001b[49m\u001b[43m,\u001b[49m\u001b[43m \u001b[49m\u001b[43mnumber_of_lines_of_context\u001b[49m\u001b[43m,\u001b[49m\u001b[43m \u001b[49m\u001b[43mtb_offset\u001b[49m\u001b[43m)\u001b[49m \u001b[38;5;28;01mif\u001b[39;00m etb \u001b[38;5;28;01melse\u001b[39;00m []\n\u001b[1;32m   1064\u001b[0m )\n\u001b[1;32m   1066\u001b[0m frames \u001b[38;5;241m=\u001b[39m []\n\u001b[1;32m   1067\u001b[0m skipped \u001b[38;5;241m=\u001b[39m \u001b[38;5;241m0\u001b[39m\n",
      "File \u001b[0;32m/usr/local/lib/python3.9/site-packages/IPython/core/ultratb.py:1131\u001b[0m, in \u001b[0;36mVerboseTB.get_records\u001b[0;34m(self, etb, number_of_lines_of_context, tb_offset)\u001b[0m\n\u001b[1;32m   1129\u001b[0m \u001b[38;5;28;01mwhile\u001b[39;00m cf \u001b[38;5;129;01mis\u001b[39;00m \u001b[38;5;129;01mnot\u001b[39;00m \u001b[38;5;28;01mNone\u001b[39;00m:\n\u001b[1;32m   1130\u001b[0m     \u001b[38;5;28;01mtry\u001b[39;00m:\n\u001b[0;32m-> 1131\u001b[0m         mod \u001b[38;5;241m=\u001b[39m inspect\u001b[38;5;241m.\u001b[39mgetmodule(\u001b[43mcf\u001b[49m\u001b[38;5;241;43m.\u001b[39;49m\u001b[43mtb_frame\u001b[49m)\n\u001b[1;32m   1132\u001b[0m         \u001b[38;5;28;01mif\u001b[39;00m mod \u001b[38;5;129;01mis\u001b[39;00m \u001b[38;5;129;01mnot\u001b[39;00m \u001b[38;5;28;01mNone\u001b[39;00m:\n\u001b[1;32m   1133\u001b[0m             mod_name \u001b[38;5;241m=\u001b[39m mod\u001b[38;5;241m.\u001b[39m\u001b[38;5;18m__name__\u001b[39m\n",
      "\u001b[0;31mAttributeError\u001b[0m: 'tuple' object has no attribute 'tb_frame'"
     ]
    }
   ],
   "source": [
    "%%pybind11 -std=c++17 -I=\"$NUISANCE_CXX_PATHS\" -I/Users/stowell/Research/Software/NUISANCEMC/eventinput/src -L\"$NUISANCE_CXX_LIBRARIES\" -c=\"$NUISANCE_CXX_FLAGS\"\n",
    "#include \"nuis/python/pyWeightCalc.h\"\n",
    "#include \"NReWeightEngineI.h\"\n",
    "namespace neut {\n",
    "namespace rew {\n",
    "\n",
    "class NuXSecCCQECustomEngine : public NReWeightEngineI {\n",
    "public:\n",
    "  NuXSecCCQECustomEngine() {}\n",
    "  ~NuXSecCCQECustomEngine() {}\n",
    "  void Reconfigure(){};\n",
    "  double CalcWeight(){return 1;};\n",
    "  std::string EngineName() const { return \"NuXSecCCQECustomEngine\"; }\n",
    "\n",
    "private:\n",
    "  NSyst_t ZEXP_custom;\n",
    "};\n",
    "}\n",
    "}\n",
    "\n",
    "void GimmeDatDialOnDatToWeightEngine(const pyWeightCalc& wc){\n",
    "    NuXSecCCQECustomEngine new_calculator;\n",
    "    auto nwc = dynamic_cast<NReWeightCalc>(wc.calc);\n",
    "    nwc->AdoptWeightEngine(\"myccqe\", &NuXSecCCQECustomEngine);\n",
    "}\n",
    "\n",
    "PYBIND11_MODULE(py11fractal, m) {\n",
    "    m.def(\"GimmeDatDialOnDatToWeightEngine\", GimmeDatDialOnDatToWeightEngine);\n",
    "}"
   ]
  },
  {
   "cell_type": "code",
   "execution_count": 3,
   "id": "ea224825-6f36-4915-9c7e-0abd89aad59d",
   "metadata": {},
   "outputs": [
    {
     "name": "stdout",
     "output_type": "stream",
     "text": [
      "[2024-02-27 21:15:25.873] [info] Found eventinput plugin: /Users/stowell/Research/Software/NUISANCEMC/eventinput/build/Linux/lib/plugins/nuisplugin-eventinput-NuWroevent1.so\n",
      "[2024-02-27 21:15:25.875] [info] Found eventinput plugin: /Users/stowell/Research/Software/NUISANCEMC/eventinput/build/Linux/lib/plugins/nuisplugin-eventinput-neutvect.so\n",
      "[2024-02-27 21:15:25.894] [info] EventSourceFactory: PathResolver::resolve filepath: ../../../runs/NUWRO-D2-ANL_77-numu/NUWRO.numu.numu_flux.ANL_1977_2horn_rescan.8652.evts.root, exists: true\n",
      "[2024-02-27 21:15:26.537] [info] Reading file ../../../runs/NUWRO-D2-ANL_77-numu/NUWRO.numu.numu_flux.ANL_1977_2horn_rescan.8652.evts.root with plugin /Users/stowell/Research/Software/NUISANCEMC/eventinput/build/Linux/lib/plugins/nuisplugin-eventinput-NuWroevent1.so\n",
      "Projection :  1.0988593386966012\n"
     ]
    }
   ],
   "source": [
    "import pyNUISANCE as pn\n",
    "nuwro_source = pn.EventSource(\"../../../runs/NUWRO-D2-ANL_77-numu/NUWRO.numu.numu_flux.ANL_1977_2horn_rescan.8652.evts.root\")\n",
    "ev,_ = nuwro_source.first()\n",
    "val = (custom_projection(ev))\n",
    "print(\"Projection : \", val)"
   ]
  },
  {
   "cell_type": "code",
   "execution_count": 6,
   "id": "84b5140e-b556-443d-aed0-cbebace51b87",
   "metadata": {},
   "outputs": [
    {
     "name": "stdout",
     "output_type": "stream",
     "text": [
      "[1.09885934e+00 2.01845309e-01 7.00199367e-01 7.13876998e-01\n",
      " 2.02511892e-01 6.04968104e-01 3.73592856e+09 9.28192621e-02\n",
      " 7.96496397e-01 2.10955016e-01 7.76018229e-02 9.02184602e-02\n",
      " 3.73592856e+09 3.73592856e+09 6.32639060e-01 6.27442081e-02\n",
      " 1.33174844e-01 3.73592856e+09 3.73592856e+09 2.53475162e+00\n",
      " 3.73592856e+09 4.20577266e-01 4.12016154e-01 1.08817346e-02\n",
      " 2.40913181e+00 1.69760345e-01 3.73592856e+09 3.84813965e+00\n",
      " 3.73592856e+09 1.07594365e-01 2.34233139e-01 1.07253014e-01\n",
      " 7.09610648e-02 3.21931480e-01 9.47010529e-01 3.73592856e+09\n",
      " 6.02421452e-01 5.83860556e+00 5.26068876e-01 4.64066608e-02\n",
      " 1.12330186e+00 4.56558072e-01 3.73592856e+09 3.73592856e+09\n",
      " 1.83094016e-01 2.50389416e-02 3.25372028e+01 3.73592856e+09\n",
      " 3.73592856e+09 3.73592856e+09 9.19925925e-01 1.70525506e-01\n",
      " 3.73592856e+09 3.73592856e+09 1.45770328e-01 3.73592856e+09\n",
      " 3.68797421e-01 8.54108584e-01 6.90711036e-02 3.73592856e+09\n",
      " 1.89269356e+00 1.17137627e-01 3.92157774e-01 3.73592856e+09\n",
      " 3.73592856e+09 2.25593009e-02 5.63989365e-01 3.73592856e+09\n",
      " 3.20134943e-01 8.93463678e-01 1.13465854e-01 3.06855399e-02\n",
      " 4.05248134e-01 1.81948505e+00 3.57448711e-01 7.78826666e-02\n",
      " 3.73592856e+09 4.59960987e-01 7.91006159e-01 9.78279388e-01\n",
      " 1.63871335e+00 4.68787370e-01 3.93196998e-01 4.50024796e-02\n",
      " 4.61954688e-01 3.73592856e+09 3.73592856e+09 3.29426077e-01\n",
      " 1.42453408e+00 3.73592856e+09 3.73592856e+09 3.73592856e+09\n",
      " 3.29606662e-01 1.22502568e+00 3.95414942e-01 1.14868848e+00\n",
      " 3.73592856e+09 3.73592856e+09 3.73592856e+09 8.59497891e-02\n",
      " 4.04894315e-01 3.73592856e+09 3.73592856e+09 3.77709465e-01\n",
      " 6.50669432e-01 1.30993412e+00 4.32440030e-01 4.07947559e-01\n",
      " 2.18950374e+00 8.96425967e-01 1.06390679e+00 3.73592856e+09\n",
      " 3.73592856e+09 4.53439770e-01 6.85776077e-01 6.21805355e-01\n",
      " 3.55745186e+00 2.54056506e-01 5.72367906e-01 3.02799566e-01\n",
      " 3.73592856e+09 3.73592856e+09 1.18267991e+00 4.60206074e-01\n",
      " 4.40460064e-01 1.20380742e+01 1.09216735e+00 9.21450470e-01\n",
      " 1.67197626e+00 1.40496111e+00 2.43009154e-01 8.08287388e-01\n",
      " 8.13701571e-02 2.86015645e-01 9.44656213e-01 3.73592856e+09\n",
      " 1.15994599e+01 3.73592856e+09 6.81504620e-02 2.76440816e+00\n",
      " 3.73592856e+09 3.80136707e-01 8.63889651e-01 5.52821715e+00\n",
      " 3.73592856e+09 2.85995636e+00 2.15928031e-01 1.22039141e-01\n",
      " 6.64260260e-01 2.74531135e-01 1.14039208e+00 2.54317342e-01\n",
      " 7.13233331e+00 3.73592856e+09 3.73592856e+09 1.51591947e-01\n",
      " 1.23846506e-01 7.05168594e-01 3.73592856e+09 3.73592856e+09\n",
      " 3.73592856e+09 4.28003881e-01 2.55632433e-01 3.05742988e+00\n",
      " 3.73592856e+09 3.73592856e+09 1.01262672e+00 2.32552515e-01\n",
      " 1.77239442e-01 3.73592856e+09 3.73592856e+09 3.73592856e+09\n",
      " 4.08059919e-01 1.03850737e-01 5.42538498e-01 1.55856386e+00\n",
      " 7.06274645e-01 3.73592856e+09 3.73592856e+09 1.52928676e+00\n",
      " 1.65402138e+00 1.14688236e+00 9.19946230e-02 3.73592856e+09\n",
      " 5.01838967e-01 3.12272880e-01 3.73592856e+09 3.73592856e+09\n",
      " 3.73592856e+09 1.47729319e+00 1.06543347e-01 4.43959568e-01\n",
      " 3.73592856e+09 3.40442181e-01 2.43659176e-01 2.57932347e-01\n",
      " 3.08140548e-01 1.00760007e-01 7.65166078e-03 9.97328154e-02\n",
      " 1.48030232e-01 1.17660311e+00 3.73592856e+09 1.58931145e+00\n",
      " 3.73592856e+09 3.73592856e+09 1.94166864e-01 4.70588090e-02\n",
      " 3.01416870e-01 5.63140600e-01 4.86420906e-02 3.73592856e+09\n",
      " 3.73592856e+09 3.63491949e-01 5.04827559e-01 1.85071921e-01\n",
      " 4.24708558e-01 4.26426650e-02 2.28391019e+00 8.61757099e-01\n",
      " 4.74667679e-04 3.26948883e+00 1.84904478e+00 3.24511712e-02\n",
      " 6.97777295e-02 1.29045884e-01 2.43908497e-01 3.40263585e-01\n",
      " 3.73592856e+09 1.06680961e+00 9.69156405e-01 1.57903814e-01\n",
      " 8.35071593e-02 4.85587820e+00 9.24535759e-01 6.67669124e-01\n",
      " 3.73592856e+09 1.58267180e-01 3.73592856e+09 2.28381901e+00\n",
      " 3.73592856e+09 3.73592856e+09 1.34890622e+00 7.05065475e-01\n",
      " 3.73592856e+09 3.73592856e+09 3.73592856e+09 1.10759995e+00\n",
      " 2.61481438e-01 3.73592856e+09 3.83848447e-01 6.20541026e-01\n",
      " 7.44987569e-02 3.15478454e-01 1.39794231e-01 3.73592856e+09\n",
      " 8.98317116e-02 3.73592856e+09 3.73592856e+09 9.75392302e-01\n",
      " 3.73592856e+09 4.17236945e-01 6.10218212e-01 1.92341762e-01\n",
      " 3.57185291e-02 3.73592856e+09 3.41368164e-01 8.19421583e-01\n",
      " 2.82492049e-01 3.77418519e-01 8.26491259e-01 5.16096978e-02\n",
      " 5.90313986e-01 3.51016923e-01 1.03917196e+00 3.73592856e+09\n",
      " 1.91482370e-01 1.74231834e-01 1.32021606e+00 1.53764980e+00\n",
      " 3.73592856e+09 6.15446267e-01 1.00390350e+00 3.11305789e-01\n",
      " 5.23039417e-01 7.96183080e-02 3.73592856e+09 4.37113218e-01\n",
      " 3.73592856e+09 4.80553203e-01 4.96088939e-01 3.73592856e+09\n",
      " 3.18420020e-01 2.66969680e-01 3.73592856e+09 3.09200892e-01\n",
      " 3.73592856e+09 1.47929148e-01 2.10583751e-01 3.73592856e+09\n",
      " 3.89064401e-01 4.90380490e-01 1.03420868e-01 8.66202385e-01\n",
      " 1.04499094e-01 1.66808751e-01 1.17266969e-01 1.17177944e+00\n",
      " 2.59373555e-02 4.12406875e-01 7.34631687e-01 1.74007497e-02\n",
      " 1.62448003e-01 6.81197918e-02 3.73592856e+09 8.65147079e-02\n",
      " 4.03737921e-02 7.94078818e-01 5.68338574e-01 2.81890239e-01\n",
      " 3.73592856e+09 2.60449435e-01 5.82159766e-01 8.22905846e-01\n",
      " 3.73592856e+09 3.73592856e+09 3.73592856e+09 3.73592856e+09\n",
      " 2.24503256e-01 8.53502263e-02 4.24513567e-01 7.11908406e-01\n",
      " 5.41256408e-01 1.13729717e+00 3.70558692e-01 1.98801606e-01\n",
      " 4.56897752e-01 3.73592856e+09 1.91260575e-01 1.14761927e+00\n",
      " 3.73592856e+09 6.60714814e-01 2.76795539e-01 7.73414158e-01\n",
      " 1.51876517e+00 4.39764823e-01 3.73592856e+09 3.88369471e-02\n",
      " 1.28166226e+00 3.15784150e+00 9.70312895e-01 3.73592856e+09\n",
      " 3.73592856e+09 3.73592856e+09 1.04302871e+00 3.44045251e+00\n",
      " 7.25548169e-01 2.28959877e-01 3.73592856e+09 3.73592856e+09\n",
      " 1.91884657e+00 3.73592856e+09 1.07266510e+00 1.39219365e-01\n",
      " 1.03904552e+00 2.03434248e-01 3.73592856e+09 3.73592856e+09\n",
      " 3.73592856e+09 6.10534218e-01 1.74626865e-01 6.59668831e-01\n",
      " 7.70997309e+00 3.32865132e+00 3.73592856e+09 2.52105296e-01\n",
      " 3.21976223e-01 4.83693064e-01 6.29106460e-01 2.62772658e-01\n",
      " 3.55974794e-01 2.09161961e+00 3.39118697e-01 2.63742799e+00\n",
      " 2.82458251e+00 4.24162144e+00 3.03065668e-01 5.62466420e-01\n",
      " 8.31251214e-01 1.13648392e+00 1.38635798e+00 4.30967562e-01\n",
      " 3.73592856e+09 3.73592856e+09 1.15219681e+00 3.73592856e+09\n",
      " 3.73592856e+09 1.46971894e-01 3.73592856e+09 3.73592856e+09\n",
      " 3.52038459e-01 3.73592856e+09 4.47634916e-01 3.86073636e-01\n",
      " 3.73592856e+09 6.79866214e-01 2.60753260e-01 2.24415513e-01\n",
      " 6.32478326e-01 3.73592856e+09 1.25958062e+00 3.84379372e-01\n",
      " 3.16322641e+00 1.28178090e+00 3.19619090e-01 3.73224207e-01\n",
      " 5.68499584e-01 2.22431368e+00 3.44064906e-01 3.73592856e+09\n",
      " 3.73592856e+09 2.71645540e-01 1.10650339e+00 5.79787087e-01\n",
      " 3.73592856e+09 2.67396377e-01 8.71118922e-01 3.72865448e-01\n",
      " 2.09034967e-01 3.73592856e+09 2.23264989e-01 2.70693684e-01\n",
      " 1.76200249e-01 8.59146592e-01 1.51819146e-01 4.31492309e-01\n",
      " 4.43124245e+00 1.63262869e-02 3.73592856e+09 3.41386174e-01\n",
      " 5.69762965e-01 3.73592856e+09 1.50233268e-01 5.52144057e-01\n",
      " 5.93494059e+00 3.73592856e+09 4.79168391e-01 3.73592856e+09\n",
      " 1.20624017e+00 3.73592856e+09 3.73592856e+09 3.73592856e+09\n",
      " 7.31783000e-02 3.73592856e+09 2.09930029e-01 2.15589447e-01\n",
      " 1.93268766e-01 3.73592856e+09 7.06689246e-02 1.23835664e+00\n",
      " 3.73592856e+09 5.01358492e-01 4.95736378e-01 1.74636462e+00\n",
      " 7.31955387e-01 2.66648789e-02 2.03936880e-03 4.28240806e-02\n",
      " 3.73592856e+09 9.78576144e-01 3.14657034e-02 7.22798120e-01\n",
      " 3.73592856e+09 5.47661888e+00 3.73592856e+09 3.81428377e-01\n",
      " 1.39233114e-01 1.20319287e-01 3.73592856e+09 3.73592856e+09\n",
      " 3.73592856e+09 2.52815569e-01 2.51201670e-01 3.73592856e+09\n",
      " 6.54228596e-02 2.26367172e-01 3.73592856e+09 3.73592856e+09\n",
      " 3.73592856e+09 3.73592856e+09 1.24116030e+00 1.33157735e+00\n",
      " 1.29422565e-02 1.01488954e-01 2.98558332e-01 7.14949114e-02\n",
      " 5.26510754e-01 3.73592856e+09 3.59438273e+00 3.73592856e+09]\n"
     ]
    }
   ],
   "source": [
    "fr = pn.FrameGen(nuwro_source, 1000).Limit(500)\n",
    "fr.AddColumn(\"Q2\",custom_projection)\n",
    "df = fr.Evaluate()\n",
    "print(df.Q2)"
   ]
  },
  {
   "cell_type": "code",
   "execution_count": null,
   "id": "a3c654c1-3f2f-450a-931a-7bb11954156c",
   "metadata": {},
   "outputs": [],
   "source": []
  }
 ],
 "metadata": {
  "kernelspec": {
   "display_name": "Python 3 (ipykernel)",
   "language": "python",
   "name": "python3"
  },
  "language_info": {
   "codemirror_mode": {
    "name": "ipython",
    "version": 3
   },
   "file_extension": ".py",
   "mimetype": "text/x-python",
   "name": "python",
   "nbconvert_exporter": "python",
   "pygments_lexer": "ipython3",
   "version": "3.9.16"
  }
 },
 "nbformat": 4,
 "nbformat_minor": 5
}
