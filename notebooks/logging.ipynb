{
 "cells": [
  {
   "cell_type": "markdown",
   "id": "225f91e4-2f13-4deb-9159-794542cefa08",
   "metadata": {
    "editable": true,
    "slideshow": {
     "slide_type": ""
    },
    "tags": []
   },
   "source": [
    "# Logging\n",
    "\n",
    "The most useful functionality is probably the ability to set the log level for the default logger and named loggers on the C++ side."
   ]
  },
  {
   "cell_type": "code",
   "execution_count": 1,
   "id": "d50ec98a-0a91-44a5-b80a-27c0e312ff4f",
   "metadata": {},
   "outputs": [],
   "source": [
    "import pyNUISANCE as pn"
   ]
  },
  {
   "cell_type": "code",
   "execution_count": 2,
   "id": "33a59e77-e6aa-4cd7-b4a2-c90fec469132",
   "metadata": {},
   "outputs": [
    {
     "name": "stdout",
     "output_type": "stream",
     "text": [
      "default logger level: level.warn\n",
      "EventInput logger level: level.warn\n",
      "default logger level: level.warn\n",
      "EventInput logger level: level.warn\n",
      "[log]: Instantiated new logger: default, 0xaaaad084a440\n",
      "[log]: Fetched existing logger: EventInput, 0xaaaad084aa60\n"
     ]
    },
    {
     "name": "stderr",
     "output_type": "stream",
     "text": [
      "[pyLog]: Instantiated new logger: blabla(0xaaaad084a010)\n",
      "[pyLog]: Instantiated new logger: EventInput(0xaaaad084aa60)\n",
      "[pyLog]: Fetched existing logger: EventInput(0xaaaad084aa60)\n",
      "[pyLog]: Fetched existing logger: EventInput(0xaaaad084aa60)\n"
     ]
    }
   ],
   "source": [
    "# The default level, reset it here so that out-of-order cell execution isn't too confusing\n",
    "pn.log.set_level(\"blabla\",pn.log.level.warn)\n",
    "\n",
    "print(\"default logger level: %s\" % pn.log.get_level())\n",
    "print(\"EventInput logger level: %s\" % pn.log.get_level(\"EventInput\"))\n",
    "pn.log.set_level(\"EventInput\",pn.log.level.warn)\n",
    "print(\"default logger level: %s\" % pn.log.get_level())\n",
    "print(\"EventInput logger level: %s\" % pn.log.get_level(\"EventInput\"))\n",
    "\n",
    "evs = pn.EventSource(\"nuwro.event1.dune_argon_sf_10mega.root\")\n",
    "if not evs:\n",
    "    print(\"Error: failed to open input file\")"
   ]
  },
  {
   "cell_type": "markdown",
   "id": "9349d8ce-2ee4-4806-ae17-4b4e2352db9f",
   "metadata": {},
   "source": [
    "That didn't report much about what it did... lets try upping the verbosity"
   ]
  },
  {
   "cell_type": "code",
   "execution_count": 3,
   "id": "2aa2f5bc-9fa9-448d-9071-bc871ce68c3f",
   "metadata": {
    "editable": true,
    "slideshow": {
     "slide_type": ""
    },
    "tags": []
   },
   "outputs": [
    {
     "name": "stdout",
     "output_type": "stream",
     "text": [
      "default logger level: level.warn\n",
      "EventInput logger level: level.warn\n",
      "default logger level: level.warn\n",
      "EventInput logger level: level.trace\n"
     ]
    },
    {
     "name": "stderr",
     "output_type": "stream",
     "text": [
      "[pyLog]: Fetched existing logger: EventInput(0xaaaad084aa60)\n",
      "[pyLog]: Fetched existing logger: EventInput(0xaaaad084aa60)\n",
      "[pyLog]: Fetched existing logger: EventInput(0xaaaad084aa60)\n"
     ]
    },
    {
     "name": "stdout",
     "output_type": "stream",
     "text": [
      "[EventInput:debug]: Found eventinput plugin: /root/software/NUISANCEMC/eventinput/build/Linux/lib/plugins/nuisplugin-eventinput-GHEP3.so\n",
      "[EventInput:debug]: Found eventinput plugin: /root/software/NUISANCEMC/eventinput/build/Linux/lib/plugins/nuisplugin-eventinput-NuWroevent1.so\n",
      "[EventInput:debug]: Found eventinput plugin: /root/software/NUISANCEMC/eventinput/build/Linux/lib/plugins/nuisplugin-eventinput-neutvect.so\n",
      "[EventInput:debug]: [EventSourceFactory:PathResolver]::resolve filepath: nuwro.event1.dune_argon_sf_10mega.root, exists: true\n",
      "[EventInput:debug]: Reading file nuwro.event1.dune_argon_sf_10mega.root with plugin /root/software/NUISANCEMC/eventinput/build/Linux/lib/plugins/nuisplugin-eventinput-NuWroevent1.so\n"
     ]
    }
   ],
   "source": [
    "print(\"default logger level: %s\" % pn.log.get_level())\n",
    "print(\"EventInput logger level: %s\" % pn.log.get_level(\"EventInput\"))\n",
    "pn.log.set_level(\"EventInput\",pn.log.level.trace)\n",
    "print(\"default logger level: %s\" % pn.log.get_level())\n",
    "print(\"EventInput logger level: %s\" % pn.log.get_level(\"EventInput\"))\n",
    "evs = pn.EventSource(\"nuwro.event1.dune_argon_sf_10mega.root\")\n",
    "if not evs:\n",
    "    print(\"Error: failed to open input file\")"
   ]
  },
  {
   "cell_type": "markdown",
   "id": "098db4a0-1273-45d3-947f-048d9087ce6a",
   "metadata": {},
   "source": [
    "You can also use the nuisance loggers from python if you wish."
   ]
  },
  {
   "cell_type": "code",
   "execution_count": null,
   "id": "5da96afc-cad9-47a8-801e-f4c620ac56f1",
   "metadata": {},
   "outputs": [],
   "source": [
    "pn.log.trace(\"trace\")\n",
    "pn.log.debug(\"debug\")\n",
    "pn.log.info(\"info\")\n",
    "pn.log.warn(\"warn\")\n",
    "pn.log.error(\"error\")\n",
    "pn.log.critical(\"critical\")"
   ]
  },
  {
   "cell_type": "code",
   "execution_count": null,
   "id": "4654e642-b353-4130-945b-63d659a78166",
   "metadata": {},
   "outputs": [],
   "source": [
    "pn.log.set_level(pn.log.level.trace)"
   ]
  },
  {
   "cell_type": "code",
   "execution_count": null,
   "id": "b06565a6-c793-41e0-849f-a2e43ddd4791",
   "metadata": {},
   "outputs": [],
   "source": [
    "pn.log.trace(\"trace\")\n",
    "pn.log.debug(\"debug\")\n",
    "pn.log.info(\"info\")\n",
    "pn.log.warn(\"warn\")\n",
    "pn.log.error(\"error\")\n",
    "pn.log.critical(\"critical\")"
   ]
  },
  {
   "cell_type": "markdown",
   "id": "9fc0ce31-436a-441f-8564-2935476cc160",
   "metadata": {},
   "source": [
    "If you write to a named logger and a logger with that name exists, it will be used. If one does not exist, it will be transparently created and registered for you."
   ]
  },
  {
   "cell_type": "code",
   "execution_count": null,
   "id": "7bf6d6ea-901d-4f14-aec1-0ec33ed7e26c",
   "metadata": {},
   "outputs": [],
   "source": [
    "pn.log.trace(\"mylogger\",\"trace\")\n",
    "pn.log.debug(\"mylogger\",\"debug\")\n",
    "pn.log.info(\"mylogger\",\"info\")\n",
    "pn.log.warn(\"mylogger\",\"warn\")\n",
    "pn.log.error(\"mylogger\",\"error\")\n",
    "pn.log.critical(\"mylogger\",\"critical\")"
   ]
  },
  {
   "cell_type": "code",
   "execution_count": null,
   "id": "7ca3a93f-40fb-4ff1-a44b-e079b0bbcb90",
   "metadata": {},
   "outputs": [],
   "source": [
    "pn.log.set_level(\"mylogger\",pn.log.level.trace)"
   ]
  },
  {
   "cell_type": "code",
   "execution_count": null,
   "id": "2f0ccd20-bed8-40a7-8f86-fc0b26c03d1a",
   "metadata": {
    "editable": true,
    "slideshow": {
     "slide_type": ""
    },
    "tags": []
   },
   "outputs": [],
   "source": [
    "pn.log.trace(\"mylogger\",\"trace\")\n",
    "pn.log.debug(\"mylogger\",\"debug\")\n",
    "pn.log.info(\"mylogger\",\"info\")\n",
    "pn.log.warn(\"mylogger\",\"warn\")\n",
    "pn.log.error(\"mylogger\",\"error\")\n",
    "pn.log.critical(\"mylogger\",\"critical\")"
   ]
  },
  {
   "cell_type": "markdown",
   "id": "0f810b79-25ae-4785-b1df-4e3b45285547",
   "metadata": {},
   "source": [
    "## Getting the current log level"
   ]
  },
  {
   "cell_type": "code",
   "execution_count": null,
   "id": "35029b76-02dc-424d-b319-b74579b9f3bc",
   "metadata": {},
   "outputs": [],
   "source": [
    "print(\"default logger level: %s\" % pn.log.get_level())\n",
    "print(\"mylogger level: %s\" % pn.log.get_level(\"mylogger\"))\n",
    "print(\"mynewlogger level: %s\" % pn.log.get_level(\"mynewlogger\"))"
   ]
  },
  {
   "cell_type": "markdown",
   "id": "039d0965-2b69-466d-9949-db171f55c928",
   "metadata": {
    "editable": true,
    "slideshow": {
     "slide_type": ""
    },
    "tags": []
   },
   "source": [
    "## Compile-time Logging Macros\n",
    "\n",
    "In performance sensitive code, it is often attractive to remove debugging logging at compile time. Some of the NUISANCEv3 logging will be removed at compile time for releasy builds. Once the bindings have been compiled, we cannot change the logging level that was set. We can programmatically check what it was set to at compile time though"
   ]
  },
  {
   "cell_type": "code",
   "execution_count": null,
   "id": "0e69dd7f-ecc2-4ec5-87c8-21e4854296c9",
   "metadata": {},
   "outputs": [],
   "source": [
    "print(\"macro logging level: %s\" % pn.log.get_macro_level())\n"
   ]
  }
 ],
 "metadata": {
  "kernelspec": {
   "display_name": "Python 3 (ipykernel)",
   "language": "python",
   "name": "python3"
  },
  "language_info": {
   "codemirror_mode": {
    "name": "ipython",
    "version": 3
   },
   "file_extension": ".py",
   "mimetype": "text/x-python",
   "name": "python",
   "nbconvert_exporter": "python",
   "pygments_lexer": "ipython3",
   "version": "3.9.18"
  }
 },
 "nbformat": 4,
 "nbformat_minor": 5
}
