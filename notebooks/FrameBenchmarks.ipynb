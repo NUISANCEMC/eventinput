{
 "cells": [
  {
   "cell_type": "markdown",
   "id": "ab012ef4-d52d-49b7-941e-3bfd0aaa798f",
   "metadata": {},
   "source": [
    "### A Short Race\n",
    "\n",
    "Lets see if there is any appreciable difference in the looping speed between a python loop and a C++ loop:"
   ]
  },
  {
   "cell_type": "code",
   "execution_count": null,
   "id": "33b2c17f-f111-443b-8b17-c98dae445ae1",
   "metadata": {},
   "outputs": [],
   "source": [
    "import pyNUISANCE as pn\n",
    "import pyProSelecta as pps\n",
    "\n",
    "evs = pn.EventSource(\"dune_argon_sf_10mega.nuwro.pb.gz\")\n",
    "if not evs:\n",
    "    print(\"Error: failed to open input file\")\n",
    "\n",
    "def enu_GeV(ev):\n",
    "    bpart = pps.sel.Beam(ev,14)\n",
    "    if bpart:\n",
    "        return bpart.momentum().e() * 1E-3 # events are always with MeV momentum units\n",
    "    return -0"
   ]
  },
  {
   "cell_type": "code",
   "execution_count": null,
   "id": "d280c383-3c03-4e05-b720-18a74dd0a1bf",
   "metadata": {},
   "outputs": [],
   "source": [
    "import time"
   ]
  },
  {
   "cell_type": "code",
   "execution_count": null,
   "id": "5ae87556-f22a-457d-bcfc-dc9be6ce4e80",
   "metadata": {},
   "outputs": [],
   "source": [
    "time_start = time.perf_counter()\n",
    "for i, (ev, cvw) in enumerate(evs):\n",
    "    enu_GeV(ev)\n",
    "time_end = time.perf_counter()\n",
    "pyloop_elapsed = (time_end-time_start)\n",
    "print(\"pure python event loop took %.2fs\" % pyloop_elapsed)"
   ]
  },
  {
   "cell_type": "code",
   "execution_count": null,
   "id": "73ec8be2-c14d-4d65-b43d-6f89925165a5",
   "metadata": {},
   "outputs": [],
   "source": [
    "time_start = time.perf_counter()\n",
    "pn.FrameGen(evs).add_column(\"enu_GeV\",enu_GeV).all()\n",
    "time_end = time.perf_counter()\n",
    "fg_pyfunc_elapsed = (time_end-time_start)\n",
    "print(\"FrameGen with a python function took %.2fs\" % fg_pyfunc_elapsed)"
   ]
  },
  {
   "cell_type": "markdown",
   "id": "cb240847-6652-4fcd-9ed6-55cd12cdfaee",
   "metadata": {},
   "source": [
    "So that it actually slower than doing the loop in pure python! This is most likely due to the overheads of calling the python function on every event from the C++ side.\n",
    "\n",
    "### ProSelecta\n",
    "\n",
    "We can use ProSelecta to write and JIT compile C++ functions and then use the JITted functions to create new columns"
   ]
  },
  {
   "cell_type": "code",
   "execution_count": null,
   "id": "e306df23-c131-43da-8097-7292fdf9a2c1",
   "metadata": {},
   "outputs": [],
   "source": [
    "pps.load_text(\"\"\"\n",
    "double enu_GeV(HepMC3::GenEvent const &ev){\n",
    "  auto bpart = ps::sel::Beam(ev,14);\n",
    "  std::cout << \"bpart: \" << bool(bpart) << std::endl;\n",
    "  if(bpart) {\n",
    "    std::cout << \"  mom: \" << (bpart->momentum().e()*1E-3) << std::endl;\n",
    "    return bpart->momentum().e()*1E-3;\n",
    "  }\n",
    "  return -0;\n",
    "}\n",
    "\"\"\")\n",
    "enu_GeV_cpp = pps.project.enu_GeV"
   ]
  },
  {
   "cell_type": "code",
   "execution_count": null,
   "id": "9200f1e1-f687-4740-a3e3-70dea45db906",
   "metadata": {},
   "outputs": [],
   "source": [
    "time_start = time.perf_counter()\n",
    "pn.FrameGen(evs).add_column(\"enu_GeV\",enu_GeV_cpp).all()\n",
    "time_end = time.perf_counter()\n",
    "fg_ps_elapsed = (time_end-time_start)\n",
    "print(\"FrameGen with ProSelecta took %.2fs\" % fg_ps_elapsed)"
   ]
  },
  {
   "cell_type": "code",
   "execution_count": null,
   "id": "ef37db80-7b67-47ef-9d1b-c2c004131f05",
   "metadata": {},
   "outputs": [],
   "source": [
    "time_start = time.perf_counter()\n",
    "pn.FrameGen(evs).all()\n",
    "time_end = time.perf_counter()\n",
    "fg_noop_elapsed = (time_end-time_start)\n",
    "print(\"FrameGen with no-op took %.2fs\" % fg_noop_elapsed)"
   ]
  },
  {
   "cell_type": "markdown",
   "id": "41af4e32-20b0-4c7d-ab28-3f41b2df7f9f",
   "metadata": {},
   "source": [
    "So the majority of the time spent is reading the events off disk"
   ]
  },
  {
   "cell_type": "code",
   "execution_count": null,
   "id": "043d54d8-6f5f-483a-b647-1fa45df9d193",
   "metadata": {
    "editable": true,
    "slideshow": {
     "slide_type": ""
    },
    "tags": []
   },
   "outputs": [],
   "source": [
    "pyloop_elapsed -= fg_noop_elapsed\n",
    "fg_pyfunc_elapsed -= fg_noop_elapsed\n",
    "fg_ps_elapsed -= fg_noop_elapsed\n",
    "print(\"IO Corrected: Pure Python %.2fs\" % pyloop_elapsed)\n",
    "print(\"IO Corrected: FrameGen with Python event processor %.2fs\" % fg_pyfunc_elapsed)\n",
    "print(\"IO Corrected: FrameGen with ProSelecta JIT compiled function %.2fs\" % fg_ps_elapsed)"
   ]
  }
 ],
 "metadata": {
  "kernelspec": {
   "display_name": "Python 3 (ipykernel)",
   "language": "python",
   "name": "python3"
  },
  "language_info": {
   "codemirror_mode": {
    "name": "ipython",
    "version": 3
   },
   "file_extension": ".py",
   "mimetype": "text/x-python",
   "name": "python",
   "nbconvert_exporter": "python",
   "pygments_lexer": "ipython3",
   "version": "3.9.18"
  }
 },
 "nbformat": 4,
 "nbformat_minor": 5
}
