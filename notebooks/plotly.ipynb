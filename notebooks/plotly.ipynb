{
 "cells": [
  {
   "cell_type": "code",
   "execution_count": 1,
   "id": "9a56558f-7bf8-4b5d-a97a-20af085dcddc",
   "metadata": {},
   "outputs": [
    {
     "name": "stdout",
     "output_type": "stream",
     "text": [
      "[2024-03-06 15:28:27.016] [info] Found eventinput plugin: /root/software/NUISANCEMC/eventinput/build/Linux/lib/plugins/nuisplugin-eventinput-GHEP3.so\n",
      "[2024-03-06 15:28:27.038] [info] Found eventinput plugin: /root/software/NUISANCEMC/eventinput/build/Linux/lib/plugins/nuisplugin-eventinput-NuWroevent1.so\n",
      "[2024-03-06 15:28:27.043] [info] Found eventinput plugin: /root/software/NUISANCEMC/eventinput/build/Linux/lib/plugins/nuisplugin-eventinput-neutvect.so\n",
      "[2024-03-06 15:28:27.045] [info] EventSourceFactory: PathResolver::resolve filepath: dune_argon_sf_10mega.nuwro.pb.gz, exists: true\n",
      "[2024-03-06 15:28:27.248] [info] Reading file dune_argon_sf_10mega.nuwro.pb.gz with native HepMC3EventSource\n"
     ]
    }
   ],
   "source": [
    "import pyNUISANCE as pn\n",
    "import pyNuHepMC as nhm\n",
    "\n",
    "evs = pn.EventSource(\"dune_argon_sf_10mega.nuwro.pb.gz\")\n",
    "if not evs:\n",
    "    print(\"Error: failed to open input file\")\n",
    "\n",
    "def enu_GeV(ev):\n",
    "    bpart = pn.pps.sel.Beam(ev,14)\n",
    "    if bpart:\n",
    "        return bpart.momentum().e() * 1E-3\n",
    "    return -0\n",
    "\n",
    "def isCC(ev):\n",
    "    beamp = nhm.EventUtils.GetBeamParticle(ev)\n",
    "    beam_pid = beamp.pid()\n",
    "    cc_lep_pid = (beam_pid - 1) if (beam_pid > 0) else (beam_pid + 1);\n",
    "    return bool(nhm.EventUtils.GetParticle_FirstRealFinalState(ev, [int(cc_lep_pid)]))\n",
    "    \n",
    "\n",
    "def lep_ptheta_GeVRad(ev):\n",
    "    beamp = nhm.EventUtils.GetBeamParticle(ev)\n",
    "    beam_pid = beamp.pid()\n",
    "    cc_lep_pid = (beam_pid - 1) if (beam_pid > 0) else (beam_pid + 1);\n",
    "    lep = nhm.EventUtils.GetParticle_FirstRealFinalState(ev, [int(cc_lep_pid)])\n",
    "    if lep:\n",
    "        return [lep.momentum().e() * 1E-3,lep.momentum().theta()]\n",
    "    return [-0,-0]\n",
    "\n",
    "def cpi_p_GeV(ev):\n",
    "    cpis = nhm.EventUtils.GetParticles_AllRealFinalState(ev, [211,-211])\n",
    "    if len(cpis):\n",
    "        cpi_p = [p.momentum().length() * 1E-3 for p in cpis]\n",
    "        cpi_p.sort(reverse=True)\n",
    "        cpi_p.extend([-0,-0])\n",
    "        return cpi_p\n",
    "    return [-0,-0]\n"
   ]
  },
  {
   "cell_type": "code",
   "execution_count": null,
   "id": "35cd2f48-f6bb-45d1-89fc-5666422a1747",
   "metadata": {},
   "outputs": [
    {
     "name": "stdout",
     "output_type": "stream",
     "text": [
      "[2024-03-06 15:28:33.357] [info] [Prob3plusplusWeightCalc]: Set numu disappearance oscillation channel: 2 -> 2\n",
      "[2024-03-06 15:28:33.358] [info] [Prob3plusplusWeightCalc]: Set baseline_km = 1300\n",
      "[2024-03-06 15:28:33.358] [info] [Prob3plusplusWeightCalc]: Set DUNE baseline\n",
      "[2024-03-06 15:28:33.358] [info] [Prob3plusplusWeightCalc]: Set sinsq_th12 = 0.297\n",
      "[2024-03-06 15:28:33.358] [info] [Prob3plusplusWeightCalc]: Set sinsq_th13 = 0.0214\n",
      "[2024-03-06 15:28:33.358] [info] [Prob3plusplusWeightCalc]: Set sinsq_th23 = 0.526\n",
      "[2024-03-06 15:28:33.358] [info] [Prob3plusplusWeightCalc]: Set dmsq_21 = 7.37e-05\n",
      "[2024-03-06 15:28:33.358] [info] [Prob3plusplusWeightCalc]: Set dmsq_atm = 0.002463\n",
      "[2024-03-06 15:28:33.358] [info] [Prob3plusplusWeightCalc]: Set dcp_rad = 0\n",
      "[2024-03-06 15:28:33.358] [info] [Prob3plusplusWeightCalc]: Set T2K bestfit parameters\n"
     ]
    }
   ],
   "source": [
    "wt2k_disp = pn.Prob3plusplusWeightCalc()\n",
    "wt2k_disp.set_parameters({\"baseline:DUNE\": 1, \"t2k:bestfit\": 1, \"osc:numu_disp\":1})\n",
    "\n",
    "df = pn.FrameGen(evs).limit(int(1E6)) \\\n",
    "    .filter(isCC) \\\n",
    "    .add_column(\"enu_GeV\",enu_GeV) \\\n",
    "    .add_column(\"disp_w\",wt2k_disp.calc_weight) \\\n",
    "    .add_columns([\"plep_GeV\",\"thetalep_Rad\"],lep_ptheta_GeVRad) \\\n",
    "    .add_columns([\"hmcpi\",\"smcpi\"],cpi_p_GeV) \\\n",
    "    .all()"
   ]
  },
  {
   "cell_type": "code",
   "execution_count": 41,
   "id": "b33cb83a-a80d-4d5f-ada5-92a0623c4150",
   "metadata": {},
   "outputs": [
    {
     "name": "stdout",
     "output_type": "stream",
     "text": [
      "(50000, 8)\n"
     ]
    }
   ],
   "source": [
    "print(df.table.shape)"
   ]
  },
  {
   "cell_type": "code",
   "execution_count": 19,
   "id": "43eb2a58-4ce7-4862-9a11-d56e4a6fce08",
   "metadata": {},
   "outputs": [
    {
     "name": "stdout",
     "output_type": "stream",
     "text": [
      " ---------------------------------------\n",
      " | bin |   mc |   err |   osc |    err |\n",
      " ---------------------------------------\n",
      " |   0 |   53 |  7.28 | 1.766 | 0.3533 |\n",
      " |   1 |   80 | 8.944 | 26.81 |  3.329 |\n",
      " |   2 |   98 | 9.899 | 81.84 |   8.34 |\n",
      " |   3 |  133 | 11.53 | 127.6 |  11.07 |\n",
      " |   4 |  168 | 12.96 | 107.6 |  8.478 |\n",
      " |   5 |  205 | 14.32 | 47.98 |  3.669 |\n",
      " |   6 |  268 | 16.37 |  4.91 | 0.4723 |\n",
      " |   7 |  370 | 19.24 | 35.36 |  2.144 |\n",
      " |   8 |  460 | 21.45 |   174 |  8.338 |\n",
      " |   9 |  549 | 23.43 | 373.9 |  16.08 |\n",
      " |  10 |  702 |  26.5 | 635.9 |  24.03 |\n",
      " |  11 |  846 | 29.09 | 839.7 |  28.87 |\n",
      " |  12 |  910 | 30.17 | 859.5 |  28.51 |\n",
      " |  13 | 1217 | 34.89 | 975.1 |  28.01 |\n",
      " |  14 | 1396 | 37.36 | 852.7 |  22.92 |\n",
      " |  15 | 1786 | 42.26 | 747.7 |  17.84 |\n",
      " |  16 | 2181 |  46.7 |   544 |  11.82 |\n",
      " |  17 | 2459 | 49.59 | 303.8 |  6.303 |\n",
      " |  18 | 2834 | 53.24 | 118.7 |    2.4 |\n",
      " |  19 | 3286 | 57.32 |  17.9 | 0.4271 |\n",
      " |  20 | 3818 | 61.79 | 23.22 | 0.4816 |\n",
      " |  ... |   ... |   ... |    ... |\n",
      " ---------------------------------------\n"
     ]
    }
   ],
   "source": [
    "enu_hf = pn.HistFrame(pn.Binning.log10_space(30,0.5,6))\n",
    "enu_hf.add_column(\"osc\")\n",
    "for r in df.table:\n",
    "    enu_hf.fill(r[2],r[1])\n",
    "    enu_hf.fill(r[2],r[1]*r[3],1)\n",
    "print(enu_hf)"
   ]
  },
  {
   "cell_type": "code",
   "execution_count": 20,
   "id": "80b04610-3236-43a3-81ac-263c3c55dbc1",
   "metadata": {},
   "outputs": [
    {
     "data": {
      "application/vnd.plotly.v1+json": {
       "config": {
        "plotlyServerURL": "https://plot.ly"
       },
       "data": [
        {
         "type": "scatter",
         "x": [
          0.5215893382354835,
          0.566632412808235,
          0.6155652880694553,
          0.6687238769100725,
          0.726473100769094,
          0.7892093947350318,
          0.8573634289812551,
          0.931403065217296,
          1.0118365684514652,
          1.0992160961127837,
          1.19414148848425,
          1.297264386467891,
          1.4092927049491002,
          1.5309954924688824,
          1.6632082105645276,
          1.8068384690201709,
          1.9628722563984093,
          2.132380708624137,
          2.316527462085363,
          2.516576641728351,
          2.7339015389835133,
          2.9699940390940087,
          3.2264748625634905,
          3.505104691028164,
          3.807796253929711,
          4.136627458961293,
          4.493855656424109,
          4.881933135416032,
          5.303523958230077,
          5.761522248526955
         ],
         "y": [
          53,
          80,
          98,
          133,
          168,
          205,
          268,
          370,
          460,
          549,
          702,
          846,
          910,
          1217,
          1396,
          1786,
          2181,
          2459,
          2834,
          3286,
          3818,
          3822,
          3704,
          3372,
          2523,
          1613,
          867,
          446,
          343,
          335
         ]
        },
        {
         "type": "scatter",
         "x": [
          0.5215893382354835,
          0.566632412808235,
          0.6155652880694553,
          0.6687238769100725,
          0.726473100769094,
          0.7892093947350318,
          0.8573634289812551,
          0.931403065217296,
          1.0118365684514652,
          1.0992160961127837,
          1.19414148848425,
          1.297264386467891,
          1.4092927049491002,
          1.5309954924688824,
          1.6632082105645276,
          1.8068384690201709,
          1.9628722563984093,
          2.132380708624137,
          2.316527462085363,
          2.516576641728351,
          2.7339015389835133,
          2.9699940390940087,
          3.2264748625634905,
          3.505104691028164,
          3.807796253929711,
          4.136627458961293,
          4.493855656424109,
          4.881933135416032,
          5.303523958230077,
          5.761522248526955
         ],
         "y": [
          1.7660728489915216,
          26.812864399038602,
          81.84421077887528,
          127.57775289525011,
          107.5954325245346,
          47.98275149250929,
          4.9096082140301345,
          35.36293691406752,
          173.96398401692676,
          373.94826737014057,
          635.944375729492,
          839.666918988249,
          859.5104074861208,
          975.0840349813728,
          852.6725184456305,
          747.7138561450292,
          544.0480235679642,
          303.78004219142184,
          118.74485513112754,
          17.89762962000383,
          23.219624891634663,
          136.60913506622927,
          318.06877840524385,
          504.161965114362,
          557.5383219971015,
          475.3192102175293,
          318.5717051349113,
          196.44104407968445,
          174.77743713972657,
          191.76470786116346
         ]
        }
       ],
       "layout": {
        "autosize": true,
        "template": {
         "data": {
          "bar": [
           {
            "error_x": {
             "color": "#2a3f5f"
            },
            "error_y": {
             "color": "#2a3f5f"
            },
            "marker": {
             "line": {
              "color": "#E5ECF6",
              "width": 0.5
             },
             "pattern": {
              "fillmode": "overlay",
              "size": 10,
              "solidity": 0.2
             }
            },
            "type": "bar"
           }
          ],
          "barpolar": [
           {
            "marker": {
             "line": {
              "color": "#E5ECF6",
              "width": 0.5
             },
             "pattern": {
              "fillmode": "overlay",
              "size": 10,
              "solidity": 0.2
             }
            },
            "type": "barpolar"
           }
          ],
          "carpet": [
           {
            "aaxis": {
             "endlinecolor": "#2a3f5f",
             "gridcolor": "white",
             "linecolor": "white",
             "minorgridcolor": "white",
             "startlinecolor": "#2a3f5f"
            },
            "baxis": {
             "endlinecolor": "#2a3f5f",
             "gridcolor": "white",
             "linecolor": "white",
             "minorgridcolor": "white",
             "startlinecolor": "#2a3f5f"
            },
            "type": "carpet"
           }
          ],
          "choropleth": [
           {
            "colorbar": {
             "outlinewidth": 0,
             "ticks": ""
            },
            "type": "choropleth"
           }
          ],
          "contour": [
           {
            "colorbar": {
             "outlinewidth": 0,
             "ticks": ""
            },
            "colorscale": [
             [
              0,
              "#0d0887"
             ],
             [
              0.1111111111111111,
              "#46039f"
             ],
             [
              0.2222222222222222,
              "#7201a8"
             ],
             [
              0.3333333333333333,
              "#9c179e"
             ],
             [
              0.4444444444444444,
              "#bd3786"
             ],
             [
              0.5555555555555556,
              "#d8576b"
             ],
             [
              0.6666666666666666,
              "#ed7953"
             ],
             [
              0.7777777777777778,
              "#fb9f3a"
             ],
             [
              0.8888888888888888,
              "#fdca26"
             ],
             [
              1,
              "#f0f921"
             ]
            ],
            "type": "contour"
           }
          ],
          "contourcarpet": [
           {
            "colorbar": {
             "outlinewidth": 0,
             "ticks": ""
            },
            "type": "contourcarpet"
           }
          ],
          "heatmap": [
           {
            "colorbar": {
             "outlinewidth": 0,
             "ticks": ""
            },
            "colorscale": [
             [
              0,
              "#0d0887"
             ],
             [
              0.1111111111111111,
              "#46039f"
             ],
             [
              0.2222222222222222,
              "#7201a8"
             ],
             [
              0.3333333333333333,
              "#9c179e"
             ],
             [
              0.4444444444444444,
              "#bd3786"
             ],
             [
              0.5555555555555556,
              "#d8576b"
             ],
             [
              0.6666666666666666,
              "#ed7953"
             ],
             [
              0.7777777777777778,
              "#fb9f3a"
             ],
             [
              0.8888888888888888,
              "#fdca26"
             ],
             [
              1,
              "#f0f921"
             ]
            ],
            "type": "heatmap"
           }
          ],
          "heatmapgl": [
           {
            "colorbar": {
             "outlinewidth": 0,
             "ticks": ""
            },
            "colorscale": [
             [
              0,
              "#0d0887"
             ],
             [
              0.1111111111111111,
              "#46039f"
             ],
             [
              0.2222222222222222,
              "#7201a8"
             ],
             [
              0.3333333333333333,
              "#9c179e"
             ],
             [
              0.4444444444444444,
              "#bd3786"
             ],
             [
              0.5555555555555556,
              "#d8576b"
             ],
             [
              0.6666666666666666,
              "#ed7953"
             ],
             [
              0.7777777777777778,
              "#fb9f3a"
             ],
             [
              0.8888888888888888,
              "#fdca26"
             ],
             [
              1,
              "#f0f921"
             ]
            ],
            "type": "heatmapgl"
           }
          ],
          "histogram": [
           {
            "marker": {
             "pattern": {
              "fillmode": "overlay",
              "size": 10,
              "solidity": 0.2
             }
            },
            "type": "histogram"
           }
          ],
          "histogram2d": [
           {
            "colorbar": {
             "outlinewidth": 0,
             "ticks": ""
            },
            "colorscale": [
             [
              0,
              "#0d0887"
             ],
             [
              0.1111111111111111,
              "#46039f"
             ],
             [
              0.2222222222222222,
              "#7201a8"
             ],
             [
              0.3333333333333333,
              "#9c179e"
             ],
             [
              0.4444444444444444,
              "#bd3786"
             ],
             [
              0.5555555555555556,
              "#d8576b"
             ],
             [
              0.6666666666666666,
              "#ed7953"
             ],
             [
              0.7777777777777778,
              "#fb9f3a"
             ],
             [
              0.8888888888888888,
              "#fdca26"
             ],
             [
              1,
              "#f0f921"
             ]
            ],
            "type": "histogram2d"
           }
          ],
          "histogram2dcontour": [
           {
            "colorbar": {
             "outlinewidth": 0,
             "ticks": ""
            },
            "colorscale": [
             [
              0,
              "#0d0887"
             ],
             [
              0.1111111111111111,
              "#46039f"
             ],
             [
              0.2222222222222222,
              "#7201a8"
             ],
             [
              0.3333333333333333,
              "#9c179e"
             ],
             [
              0.4444444444444444,
              "#bd3786"
             ],
             [
              0.5555555555555556,
              "#d8576b"
             ],
             [
              0.6666666666666666,
              "#ed7953"
             ],
             [
              0.7777777777777778,
              "#fb9f3a"
             ],
             [
              0.8888888888888888,
              "#fdca26"
             ],
             [
              1,
              "#f0f921"
             ]
            ],
            "type": "histogram2dcontour"
           }
          ],
          "mesh3d": [
           {
            "colorbar": {
             "outlinewidth": 0,
             "ticks": ""
            },
            "type": "mesh3d"
           }
          ],
          "parcoords": [
           {
            "line": {
             "colorbar": {
              "outlinewidth": 0,
              "ticks": ""
             }
            },
            "type": "parcoords"
           }
          ],
          "pie": [
           {
            "automargin": true,
            "type": "pie"
           }
          ],
          "scatter": [
           {
            "fillpattern": {
             "fillmode": "overlay",
             "size": 10,
             "solidity": 0.2
            },
            "type": "scatter"
           }
          ],
          "scatter3d": [
           {
            "line": {
             "colorbar": {
              "outlinewidth": 0,
              "ticks": ""
             }
            },
            "marker": {
             "colorbar": {
              "outlinewidth": 0,
              "ticks": ""
             }
            },
            "type": "scatter3d"
           }
          ],
          "scattercarpet": [
           {
            "marker": {
             "colorbar": {
              "outlinewidth": 0,
              "ticks": ""
             }
            },
            "type": "scattercarpet"
           }
          ],
          "scattergeo": [
           {
            "marker": {
             "colorbar": {
              "outlinewidth": 0,
              "ticks": ""
             }
            },
            "type": "scattergeo"
           }
          ],
          "scattergl": [
           {
            "marker": {
             "colorbar": {
              "outlinewidth": 0,
              "ticks": ""
             }
            },
            "type": "scattergl"
           }
          ],
          "scattermapbox": [
           {
            "marker": {
             "colorbar": {
              "outlinewidth": 0,
              "ticks": ""
             }
            },
            "type": "scattermapbox"
           }
          ],
          "scatterpolar": [
           {
            "marker": {
             "colorbar": {
              "outlinewidth": 0,
              "ticks": ""
             }
            },
            "type": "scatterpolar"
           }
          ],
          "scatterpolargl": [
           {
            "marker": {
             "colorbar": {
              "outlinewidth": 0,
              "ticks": ""
             }
            },
            "type": "scatterpolargl"
           }
          ],
          "scatterternary": [
           {
            "marker": {
             "colorbar": {
              "outlinewidth": 0,
              "ticks": ""
             }
            },
            "type": "scatterternary"
           }
          ],
          "surface": [
           {
            "colorbar": {
             "outlinewidth": 0,
             "ticks": ""
            },
            "colorscale": [
             [
              0,
              "#0d0887"
             ],
             [
              0.1111111111111111,
              "#46039f"
             ],
             [
              0.2222222222222222,
              "#7201a8"
             ],
             [
              0.3333333333333333,
              "#9c179e"
             ],
             [
              0.4444444444444444,
              "#bd3786"
             ],
             [
              0.5555555555555556,
              "#d8576b"
             ],
             [
              0.6666666666666666,
              "#ed7953"
             ],
             [
              0.7777777777777778,
              "#fb9f3a"
             ],
             [
              0.8888888888888888,
              "#fdca26"
             ],
             [
              1,
              "#f0f921"
             ]
            ],
            "type": "surface"
           }
          ],
          "table": [
           {
            "cells": {
             "fill": {
              "color": "#EBF0F8"
             },
             "line": {
              "color": "white"
             }
            },
            "header": {
             "fill": {
              "color": "#C8D4E3"
             },
             "line": {
              "color": "white"
             }
            },
            "type": "table"
           }
          ]
         },
         "layout": {
          "annotationdefaults": {
           "arrowcolor": "#2a3f5f",
           "arrowhead": 0,
           "arrowwidth": 1
          },
          "autotypenumbers": "strict",
          "coloraxis": {
           "colorbar": {
            "outlinewidth": 0,
            "ticks": ""
           }
          },
          "colorscale": {
           "diverging": [
            [
             0,
             "#8e0152"
            ],
            [
             0.1,
             "#c51b7d"
            ],
            [
             0.2,
             "#de77ae"
            ],
            [
             0.3,
             "#f1b6da"
            ],
            [
             0.4,
             "#fde0ef"
            ],
            [
             0.5,
             "#f7f7f7"
            ],
            [
             0.6,
             "#e6f5d0"
            ],
            [
             0.7,
             "#b8e186"
            ],
            [
             0.8,
             "#7fbc41"
            ],
            [
             0.9,
             "#4d9221"
            ],
            [
             1,
             "#276419"
            ]
           ],
           "sequential": [
            [
             0,
             "#0d0887"
            ],
            [
             0.1111111111111111,
             "#46039f"
            ],
            [
             0.2222222222222222,
             "#7201a8"
            ],
            [
             0.3333333333333333,
             "#9c179e"
            ],
            [
             0.4444444444444444,
             "#bd3786"
            ],
            [
             0.5555555555555556,
             "#d8576b"
            ],
            [
             0.6666666666666666,
             "#ed7953"
            ],
            [
             0.7777777777777778,
             "#fb9f3a"
            ],
            [
             0.8888888888888888,
             "#fdca26"
            ],
            [
             1,
             "#f0f921"
            ]
           ],
           "sequentialminus": [
            [
             0,
             "#0d0887"
            ],
            [
             0.1111111111111111,
             "#46039f"
            ],
            [
             0.2222222222222222,
             "#7201a8"
            ],
            [
             0.3333333333333333,
             "#9c179e"
            ],
            [
             0.4444444444444444,
             "#bd3786"
            ],
            [
             0.5555555555555556,
             "#d8576b"
            ],
            [
             0.6666666666666666,
             "#ed7953"
            ],
            [
             0.7777777777777778,
             "#fb9f3a"
            ],
            [
             0.8888888888888888,
             "#fdca26"
            ],
            [
             1,
             "#f0f921"
            ]
           ]
          },
          "colorway": [
           "#636efa",
           "#EF553B",
           "#00cc96",
           "#ab63fa",
           "#FFA15A",
           "#19d3f3",
           "#FF6692",
           "#B6E880",
           "#FF97FF",
           "#FECB52"
          ],
          "font": {
           "color": "#2a3f5f"
          },
          "geo": {
           "bgcolor": "white",
           "lakecolor": "white",
           "landcolor": "#E5ECF6",
           "showlakes": true,
           "showland": true,
           "subunitcolor": "white"
          },
          "hoverlabel": {
           "align": "left"
          },
          "hovermode": "closest",
          "mapbox": {
           "style": "light"
          },
          "paper_bgcolor": "white",
          "plot_bgcolor": "#E5ECF6",
          "polar": {
           "angularaxis": {
            "gridcolor": "white",
            "linecolor": "white",
            "ticks": ""
           },
           "bgcolor": "#E5ECF6",
           "radialaxis": {
            "gridcolor": "white",
            "linecolor": "white",
            "ticks": ""
           }
          },
          "scene": {
           "xaxis": {
            "backgroundcolor": "#E5ECF6",
            "gridcolor": "white",
            "gridwidth": 2,
            "linecolor": "white",
            "showbackground": true,
            "ticks": "",
            "zerolinecolor": "white"
           },
           "yaxis": {
            "backgroundcolor": "#E5ECF6",
            "gridcolor": "white",
            "gridwidth": 2,
            "linecolor": "white",
            "showbackground": true,
            "ticks": "",
            "zerolinecolor": "white"
           },
           "zaxis": {
            "backgroundcolor": "#E5ECF6",
            "gridcolor": "white",
            "gridwidth": 2,
            "linecolor": "white",
            "showbackground": true,
            "ticks": "",
            "zerolinecolor": "white"
           }
          },
          "shapedefaults": {
           "line": {
            "color": "#2a3f5f"
           }
          },
          "ternary": {
           "aaxis": {
            "gridcolor": "white",
            "linecolor": "white",
            "ticks": ""
           },
           "baxis": {
            "gridcolor": "white",
            "linecolor": "white",
            "ticks": ""
           },
           "bgcolor": "#E5ECF6",
           "caxis": {
            "gridcolor": "white",
            "linecolor": "white",
            "ticks": ""
           }
          },
          "title": {
           "x": 0.05
          },
          "xaxis": {
           "automargin": true,
           "gridcolor": "white",
           "linecolor": "white",
           "ticks": "",
           "title": {
            "standoff": 15
           },
           "zerolinecolor": "white",
           "zerolinewidth": 2
          },
          "yaxis": {
           "automargin": true,
           "gridcolor": "white",
           "linecolor": "white",
           "ticks": "",
           "title": {
            "standoff": 15
           },
           "zerolinecolor": "white",
           "zerolinewidth": 2
          }
         }
        },
        "xaxis": {
         "autorange": true,
         "range": [
          0.5215893382354835,
          5.761522248526955
         ],
         "type": "linear"
        },
        "yaxis": {
         "autorange": true,
         "range": [
          -210.46914532606453,
          4034.235218175056
         ],
         "type": "linear"
        }
       }
      },
      "image/png": "[encoded data removed]",
      "text/html": [
       "<div>                            <div id=\"234b3bfc-8026-4268-9780-bc04438c16d2\" class=\"plotly-graph-div\" style=\"height:525px; width:100%;\"></div>            <script type=\"text/javascript\">                require([\"plotly\"], function(Plotly) {                    window.PLOTLYENV=window.PLOTLYENV || {};                                    if (document.getElementById(\"234b3bfc-8026-4268-9780-bc04438c16d2\")) {                    Plotly.newPlot(                        \"234b3bfc-8026-4268-9780-bc04438c16d2\",                        [{\"x\":[0.5215893382354835,0.566632412808235,0.6155652880694553,0.6687238769100725,0.726473100769094,0.7892093947350318,0.8573634289812551,0.931403065217296,1.0118365684514652,1.0992160961127837,1.19414148848425,1.297264386467891,1.4092927049491002,1.5309954924688824,1.6632082105645276,1.8068384690201709,1.9628722563984093,2.132380708624137,2.316527462085363,2.516576641728351,2.7339015389835133,2.9699940390940087,3.2264748625634905,3.505104691028164,3.807796253929711,4.136627458961293,4.493855656424109,4.881933135416032,5.303523958230077,5.761522248526955],\"y\":[53.0,80.0,98.0,133.0,168.0,205.0,268.0,370.0,460.0,549.0,702.0,846.0,910.0,1217.0,1396.0,1786.0,2181.0,2459.0,2834.0,3286.0,3818.0,3822.0,3704.0,3372.0,2523.0,1613.0,867.0,446.0,343.0,335.0],\"type\":\"scatter\"},{\"x\":[0.5215893382354835,0.566632412808235,0.6155652880694553,0.6687238769100725,0.726473100769094,0.7892093947350318,0.8573634289812551,0.931403065217296,1.0118365684514652,1.0992160961127837,1.19414148848425,1.297264386467891,1.4092927049491002,1.5309954924688824,1.6632082105645276,1.8068384690201709,1.9628722563984093,2.132380708624137,2.316527462085363,2.516576641728351,2.7339015389835133,2.9699940390940087,3.2264748625634905,3.505104691028164,3.807796253929711,4.136627458961293,4.493855656424109,4.881933135416032,5.303523958230077,5.761522248526955],\"y\":[1.7660728489915216,26.812864399038602,81.84421077887528,127.57775289525011,107.5954325245346,47.98275149250929,4.9096082140301345,35.36293691406752,173.96398401692676,373.94826737014057,635.944375729492,839.666918988249,859.5104074861208,975.0840349813728,852.6725184456305,747.7138561450292,544.0480235679642,303.78004219142184,118.74485513112754,17.89762962000383,23.219624891634663,136.60913506622927,318.06877840524385,504.161965114362,557.5383219971015,475.3192102175293,318.5717051349113,196.44104407968445,174.77743713972657,191.76470786116346],\"type\":\"scatter\"}],                        {\"template\":{\"data\":{\"histogram2dcontour\":[{\"type\":\"histogram2dcontour\",\"colorbar\":{\"outlinewidth\":0,\"ticks\":\"\"},\"colorscale\":[[0.0,\"#0d0887\"],[0.1111111111111111,\"#46039f\"],[0.2222222222222222,\"#7201a8\"],[0.3333333333333333,\"#9c179e\"],[0.4444444444444444,\"#bd3786\"],[0.5555555555555556,\"#d8576b\"],[0.6666666666666666,\"#ed7953\"],[0.7777777777777778,\"#fb9f3a\"],[0.8888888888888888,\"#fdca26\"],[1.0,\"#f0f921\"]]}],\"choropleth\":[{\"type\":\"choropleth\",\"colorbar\":{\"outlinewidth\":0,\"ticks\":\"\"}}],\"histogram2d\":[{\"type\":\"histogram2d\",\"colorbar\":{\"outlinewidth\":0,\"ticks\":\"\"},\"colorscale\":[[0.0,\"#0d0887\"],[0.1111111111111111,\"#46039f\"],[0.2222222222222222,\"#7201a8\"],[0.3333333333333333,\"#9c179e\"],[0.4444444444444444,\"#bd3786\"],[0.5555555555555556,\"#d8576b\"],[0.6666666666666666,\"#ed7953\"],[0.7777777777777778,\"#fb9f3a\"],[0.8888888888888888,\"#fdca26\"],[1.0,\"#f0f921\"]]}],\"heatmap\":[{\"type\":\"heatmap\",\"colorbar\":{\"outlinewidth\":0,\"ticks\":\"\"},\"colorscale\":[[0.0,\"#0d0887\"],[0.1111111111111111,\"#46039f\"],[0.2222222222222222,\"#7201a8\"],[0.3333333333333333,\"#9c179e\"],[0.4444444444444444,\"#bd3786\"],[0.5555555555555556,\"#d8576b\"],[0.6666666666666666,\"#ed7953\"],[0.7777777777777778,\"#fb9f3a\"],[0.8888888888888888,\"#fdca26\"],[1.0,\"#f0f921\"]]}],\"heatmapgl\":[{\"type\":\"heatmapgl\",\"colorbar\":{\"outlinewidth\":0,\"ticks\":\"\"},\"colorscale\":[[0.0,\"#0d0887\"],[0.1111111111111111,\"#46039f\"],[0.2222222222222222,\"#7201a8\"],[0.3333333333333333,\"#9c179e\"],[0.4444444444444444,\"#bd3786\"],[0.5555555555555556,\"#d8576b\"],[0.6666666666666666,\"#ed7953\"],[0.7777777777777778,\"#fb9f3a\"],[0.8888888888888888,\"#fdca26\"],[1.0,\"#f0f921\"]]}],\"contourcarpet\":[{\"type\":\"contourcarpet\",\"colorbar\":{\"outlinewidth\":0,\"ticks\":\"\"}}],\"contour\":[{\"type\":\"contour\",\"colorbar\":{\"outlinewidth\":0,\"ticks\":\"\"},\"colorscale\":[[0.0,\"#0d0887\"],[0.1111111111111111,\"#46039f\"],[0.2222222222222222,\"#7201a8\"],[0.3333333333333333,\"#9c179e\"],[0.4444444444444444,\"#bd3786\"],[0.5555555555555556,\"#d8576b\"],[0.6666666666666666,\"#ed7953\"],[0.7777777777777778,\"#fb9f3a\"],[0.8888888888888888,\"#fdca26\"],[1.0,\"#f0f921\"]]}],\"surface\":[{\"type\":\"surface\",\"colorbar\":{\"outlinewidth\":0,\"ticks\":\"\"},\"colorscale\":[[0.0,\"#0d0887\"],[0.1111111111111111,\"#46039f\"],[0.2222222222222222,\"#7201a8\"],[0.3333333333333333,\"#9c179e\"],[0.4444444444444444,\"#bd3786\"],[0.5555555555555556,\"#d8576b\"],[0.6666666666666666,\"#ed7953\"],[0.7777777777777778,\"#fb9f3a\"],[0.8888888888888888,\"#fdca26\"],[1.0,\"#f0f921\"]]}],\"mesh3d\":[{\"type\":\"mesh3d\",\"colorbar\":{\"outlinewidth\":0,\"ticks\":\"\"}}],\"scatter\":[{\"fillpattern\":{\"fillmode\":\"overlay\",\"size\":10,\"solidity\":0.2},\"type\":\"scatter\"}],\"parcoords\":[{\"type\":\"parcoords\",\"line\":{\"colorbar\":{\"outlinewidth\":0,\"ticks\":\"\"}}}],\"scatterpolargl\":[{\"type\":\"scatterpolargl\",\"marker\":{\"colorbar\":{\"outlinewidth\":0,\"ticks\":\"\"}}}],\"bar\":[{\"error_x\":{\"color\":\"#2a3f5f\"},\"error_y\":{\"color\":\"#2a3f5f\"},\"marker\":{\"line\":{\"color\":\"#E5ECF6\",\"width\":0.5},\"pattern\":{\"fillmode\":\"overlay\",\"size\":10,\"solidity\":0.2}},\"type\":\"bar\"}],\"scattergeo\":[{\"type\":\"scattergeo\",\"marker\":{\"colorbar\":{\"outlinewidth\":0,\"ticks\":\"\"}}}],\"scatterpolar\":[{\"type\":\"scatterpolar\",\"marker\":{\"colorbar\":{\"outlinewidth\":0,\"ticks\":\"\"}}}],\"histogram\":[{\"marker\":{\"pattern\":{\"fillmode\":\"overlay\",\"size\":10,\"solidity\":0.2}},\"type\":\"histogram\"}],\"scattergl\":[{\"type\":\"scattergl\",\"marker\":{\"colorbar\":{\"outlinewidth\":0,\"ticks\":\"\"}}}],\"scatter3d\":[{\"type\":\"scatter3d\",\"line\":{\"colorbar\":{\"outlinewidth\":0,\"ticks\":\"\"}},\"marker\":{\"colorbar\":{\"outlinewidth\":0,\"ticks\":\"\"}}}],\"scattermapbox\":[{\"type\":\"scattermapbox\",\"marker\":{\"colorbar\":{\"outlinewidth\":0,\"ticks\":\"\"}}}],\"scatterternary\":[{\"type\":\"scatterternary\",\"marker\":{\"colorbar\":{\"outlinewidth\":0,\"ticks\":\"\"}}}],\"scattercarpet\":[{\"type\":\"scattercarpet\",\"marker\":{\"colorbar\":{\"outlinewidth\":0,\"ticks\":\"\"}}}],\"carpet\":[{\"aaxis\":{\"endlinecolor\":\"#2a3f5f\",\"gridcolor\":\"white\",\"linecolor\":\"white\",\"minorgridcolor\":\"white\",\"startlinecolor\":\"#2a3f5f\"},\"baxis\":{\"endlinecolor\":\"#2a3f5f\",\"gridcolor\":\"white\",\"linecolor\":\"white\",\"minorgridcolor\":\"white\",\"startlinecolor\":\"#2a3f5f\"},\"type\":\"carpet\"}],\"table\":[{\"cells\":{\"fill\":{\"color\":\"#EBF0F8\"},\"line\":{\"color\":\"white\"}},\"header\":{\"fill\":{\"color\":\"#C8D4E3\"},\"line\":{\"color\":\"white\"}},\"type\":\"table\"}],\"barpolar\":[{\"marker\":{\"line\":{\"color\":\"#E5ECF6\",\"width\":0.5},\"pattern\":{\"fillmode\":\"overlay\",\"size\":10,\"solidity\":0.2}},\"type\":\"barpolar\"}],\"pie\":[{\"automargin\":true,\"type\":\"pie\"}]},\"layout\":{\"autotypenumbers\":\"strict\",\"colorway\":[\"#636efa\",\"#EF553B\",\"#00cc96\",\"#ab63fa\",\"#FFA15A\",\"#19d3f3\",\"#FF6692\",\"#B6E880\",\"#FF97FF\",\"#FECB52\"],\"font\":{\"color\":\"#2a3f5f\"},\"hovermode\":\"closest\",\"hoverlabel\":{\"align\":\"left\"},\"paper_bgcolor\":\"white\",\"plot_bgcolor\":\"#E5ECF6\",\"polar\":{\"bgcolor\":\"#E5ECF6\",\"angularaxis\":{\"gridcolor\":\"white\",\"linecolor\":\"white\",\"ticks\":\"\"},\"radialaxis\":{\"gridcolor\":\"white\",\"linecolor\":\"white\",\"ticks\":\"\"}},\"ternary\":{\"bgcolor\":\"#E5ECF6\",\"aaxis\":{\"gridcolor\":\"white\",\"linecolor\":\"white\",\"ticks\":\"\"},\"baxis\":{\"gridcolor\":\"white\",\"linecolor\":\"white\",\"ticks\":\"\"},\"caxis\":{\"gridcolor\":\"white\",\"linecolor\":\"white\",\"ticks\":\"\"}},\"coloraxis\":{\"colorbar\":{\"outlinewidth\":0,\"ticks\":\"\"}},\"colorscale\":{\"sequential\":[[0.0,\"#0d0887\"],[0.1111111111111111,\"#46039f\"],[0.2222222222222222,\"#7201a8\"],[0.3333333333333333,\"#9c179e\"],[0.4444444444444444,\"#bd3786\"],[0.5555555555555556,\"#d8576b\"],[0.6666666666666666,\"#ed7953\"],[0.7777777777777778,\"#fb9f3a\"],[0.8888888888888888,\"#fdca26\"],[1.0,\"#f0f921\"]],\"sequentialminus\":[[0.0,\"#0d0887\"],[0.1111111111111111,\"#46039f\"],[0.2222222222222222,\"#7201a8\"],[0.3333333333333333,\"#9c179e\"],[0.4444444444444444,\"#bd3786\"],[0.5555555555555556,\"#d8576b\"],[0.6666666666666666,\"#ed7953\"],[0.7777777777777778,\"#fb9f3a\"],[0.8888888888888888,\"#fdca26\"],[1.0,\"#f0f921\"]],\"diverging\":[[0,\"#8e0152\"],[0.1,\"#c51b7d\"],[0.2,\"#de77ae\"],[0.3,\"#f1b6da\"],[0.4,\"#fde0ef\"],[0.5,\"#f7f7f7\"],[0.6,\"#e6f5d0\"],[0.7,\"#b8e186\"],[0.8,\"#7fbc41\"],[0.9,\"#4d9221\"],[1,\"#276419\"]]},\"xaxis\":{\"gridcolor\":\"white\",\"linecolor\":\"white\",\"ticks\":\"\",\"title\":{\"standoff\":15},\"zerolinecolor\":\"white\",\"automargin\":true,\"zerolinewidth\":2},\"yaxis\":{\"gridcolor\":\"white\",\"linecolor\":\"white\",\"ticks\":\"\",\"title\":{\"standoff\":15},\"zerolinecolor\":\"white\",\"automargin\":true,\"zerolinewidth\":2},\"scene\":{\"xaxis\":{\"backgroundcolor\":\"#E5ECF6\",\"gridcolor\":\"white\",\"linecolor\":\"white\",\"showbackground\":true,\"ticks\":\"\",\"zerolinecolor\":\"white\",\"gridwidth\":2},\"yaxis\":{\"backgroundcolor\":\"#E5ECF6\",\"gridcolor\":\"white\",\"linecolor\":\"white\",\"showbackground\":true,\"ticks\":\"\",\"zerolinecolor\":\"white\",\"gridwidth\":2},\"zaxis\":{\"backgroundcolor\":\"#E5ECF6\",\"gridcolor\":\"white\",\"linecolor\":\"white\",\"showbackground\":true,\"ticks\":\"\",\"zerolinecolor\":\"white\",\"gridwidth\":2}},\"shapedefaults\":{\"line\":{\"color\":\"#2a3f5f\"}},\"annotationdefaults\":{\"arrowcolor\":\"#2a3f5f\",\"arrowhead\":0,\"arrowwidth\":1},\"geo\":{\"bgcolor\":\"white\",\"landcolor\":\"#E5ECF6\",\"subunitcolor\":\"white\",\"showland\":true,\"showlakes\":true,\"lakecolor\":\"white\"},\"title\":{\"x\":0.05},\"mapbox\":{\"style\":\"light\"}}}},                        {\"responsive\": true}                    ).then(function(){\n",
       "                            \n",
       "var gd = document.getElementById('234b3bfc-8026-4268-9780-bc04438c16d2');\n",
       "var x = new MutationObserver(function (mutations, observer) {{\n",
       "        var display = window.getComputedStyle(gd).display;\n",
       "        if (!display || display === 'none') {{\n",
       "            console.log([gd, 'removed!']);\n",
       "            Plotly.purge(gd);\n",
       "            observer.disconnect();\n",
       "        }}\n",
       "}});\n",
       "\n",
       "// Listen for the removal of the full notebook cells\n",
       "var notebookContainer = gd.closest('#notebook-container');\n",
       "if (notebookContainer) {{\n",
       "    x.observe(notebookContainer, {childList: true});\n",
       "}}\n",
       "\n",
       "// Listen for the clearing of the current output cell\n",
       "var outputEl = gd.closest('.output');\n",
       "if (outputEl) {{\n",
       "    x.observe(outputEl, {childList: true});\n",
       "}}\n",
       "\n",
       "                        })                };                });            </script>        </div>"
      ]
     },
     "metadata": {},
     "output_type": "display_data"
    }
   ],
   "source": [
    "import plotly.io as pi\n",
    "j = pn.plotly1D(enu_hf)\n",
    "fig = pi.from_json(j)\n",
    "fig.show()"
   ]
  },
  {
   "cell_type": "code",
   "execution_count": 22,
   "id": "8fa02c22-ec6f-4790-a251-7d92cdfb38e7",
   "metadata": {},
   "outputs": [],
   "source": [
    "import math\n",
    "\n",
    "ptheta_hf = pn.HistFrame(pn.Binning.lin_spaceND([[20,0,5],[20,0,math.pi]],[\"plep [GeV]\",\"theta [rad]\"]))\n",
    "for r in df.table:\n",
    "    ptheta_hf.fill([r[4],r[5]],r[1])\n",
    "# print(ptheta_hf)"
   ]
  },
  {
   "cell_type": "code",
   "execution_count": 23,
   "id": "583eaabf-e446-44d2-8953-515cb8b59b80",
   "metadata": {},
   "outputs": [
    {
     "data": {
      "application/vnd.plotly.v1+json": {
       "config": {
        "plotlyServerURL": "https://plot.ly"
       },
       "data": [
        {
         "hoverongaps": false,
         "type": "heatmap",
         "x": [
          0.125,
          0.375,
          0.625,
          0.875,
          1.125,
          1.375,
          1.625,
          1.875,
          2.125,
          2.375,
          2.625,
          2.875,
          3.125,
          3.375,
          3.625,
          3.875,
          4.125,
          4.375,
          4.625,
          4.875,
          0.125,
          0.375,
          0.625,
          0.875,
          1.125,
          1.375,
          1.625,
          1.875,
          2.125,
          2.375,
          2.625,
          2.875,
          3.125,
          3.375,
          3.625,
          3.875,
          4.125,
          4.375,
          4.625,
          4.875,
          0.125,
          0.375,
          0.625,
          0.875,
          1.125,
          1.375,
          1.625,
          1.875,
          2.125,
          2.375,
          2.625,
          2.875,
          3.125,
          3.375,
          3.625,
          3.875,
          4.125,
          4.375,
          4.625,
          4.875,
          0.125,
          0.375,
          0.625,
          0.875,
          1.125,
          1.375,
          1.625,
          1.875,
          2.125,
          2.375,
          2.625,
          2.875,
          3.125,
          3.375,
          3.625,
          3.875,
          4.125,
          4.375,
          4.625,
          4.875,
          0.125,
          0.375,
          0.625,
          0.875,
          1.125,
          1.375,
          1.625,
          1.875,
          2.125,
          2.375,
          2.625,
          2.875,
          3.125,
          3.375,
          3.625,
          3.875,
          4.125,
          4.375,
          4.625,
          4.875,
          0.125,
          0.375,
          0.625,
          0.875,
          1.125,
          1.375,
          1.625,
          1.875,
          2.125,
          2.375,
          2.625,
          2.875,
          3.125,
          3.375,
          3.625,
          3.875,
          4.125,
          4.375,
          4.625,
          4.875,
          0.125,
          0.375,
          0.625,
          0.875,
          1.125,
          1.375,
          1.625,
          1.875,
          2.125,
          2.375,
          2.625,
          2.875,
          3.125,
          3.375,
          3.625,
          3.875,
          4.125,
          4.375,
          4.625,
          4.875,
          0.125,
          0.375,
          0.625,
          0.875,
          1.125,
          1.375,
          1.625,
          1.875,
          2.125,
          2.375,
          2.625,
          2.875,
          3.125,
          3.375,
          3.625,
          3.875,
          4.125,
          4.375,
          4.625,
          4.875,
          0.125,
          0.375,
          0.625,
          0.875,
          1.125,
          1.375,
          1.625,
          1.875,
          2.125,
          2.375,
          2.625,
          2.875,
          3.125,
          3.375,
          3.625,
          3.875,
          4.125,
          4.375,
          4.625,
          4.875,
          0.125,
          0.375,
          0.625,
          0.875,
          1.125,
          1.375,
          1.625,
          1.875,
          2.125,
          2.375,
          2.625,
          2.875,
          3.125,
          3.375,
          3.625,
          3.875,
          4.125,
          4.375,
          4.625,
          4.875,
          0.125,
          0.375,
          0.625,
          0.875,
          1.125,
          1.375,
          1.625,
          1.875,
          2.125,
          2.375,
          2.625,
          2.875,
          3.125,
          3.375,
          3.625,
          3.875,
          4.125,
          4.375,
          4.625,
          4.875,
          0.125,
          0.375,
          0.625,
          0.875,
          1.125,
          1.375,
          1.625,
          1.875,
          2.125,
          2.375,
          2.625,
          2.875,
          3.125,
          3.375,
          3.625,
          3.875,
          4.125,
          4.375,
          4.625,
          4.875,
          0.125,
          0.375,
          0.625,
          0.875,
          1.125,
          1.375,
          1.625,
          1.875,
          2.125,
          2.375,
          2.625,
          2.875,
          3.125,
          3.375,
          3.625,
          3.875,
          4.125,
          4.375,
          4.625,
          4.875,
          0.125,
          0.375,
          0.625,
          0.875,
          1.125,
          1.375,
          1.625,
          1.875,
          2.125,
          2.375,
          2.625,
          2.875,
          3.125,
          3.375,
          3.625,
          3.875,
          4.125,
          4.375,
          4.625,
          4.875,
          0.125,
          0.375,
          0.625,
          0.875,
          1.125,
          1.375,
          1.625,
          1.875,
          2.125,
          2.375,
          2.625,
          2.875,
          3.125,
          3.375,
          3.625,
          3.875,
          4.125,
          4.375,
          4.625,
          4.875,
          0.125,
          0.375,
          0.625,
          0.875,
          1.125,
          1.375,
          1.625,
          1.875,
          2.125,
          2.375,
          2.625,
          2.875,
          3.125,
          3.375,
          3.625,
          3.875,
          4.125,
          4.375,
          4.625,
          4.875,
          0.125,
          0.375,
          0.625,
          0.875,
          1.125,
          1.375,
          1.625,
          1.875,
          2.125,
          2.375,
          2.625,
          2.875,
          3.125,
          3.375,
          3.625,
          3.875,
          4.125,
          4.375,
          4.625,
          4.875,
          0.125,
          0.375,
          0.625,
          0.875,
          1.125,
          1.375,
          1.625,
          1.875,
          2.125,
          2.375,
          2.625,
          2.875,
          3.125,
          3.375,
          3.625,
          3.875,
          4.125,
          4.375,
          4.625,
          4.875,
          0.125,
          0.375,
          0.625,
          0.875,
          1.125,
          1.375,
          1.625,
          1.875,
          2.125,
          2.375,
          2.625,
          2.875,
          3.125,
          3.375,
          3.625,
          3.875,
          4.125,
          4.375,
          4.625,
          4.875,
          0.125,
          0.375,
          0.625,
          0.875,
          1.125,
          1.375,
          1.625,
          1.875,
          2.125,
          2.375,
          2.625,
          2.875,
          3.125,
          3.375,
          3.625,
          3.875,
          4.125,
          4.375,
          4.625,
          4.875
         ],
         "y": [
          0.07853981633974483,
          0.07853981633974483,
          0.07853981633974483,
          0.07853981633974483,
          0.07853981633974483,
          0.07853981633974483,
          0.07853981633974483,
          0.07853981633974483,
          0.07853981633974483,
          0.07853981633974483,
          0.07853981633974483,
          0.07853981633974483,
          0.07853981633974483,
          0.07853981633974483,
          0.07853981633974483,
          0.07853981633974483,
          0.07853981633974483,
          0.07853981633974483,
          0.07853981633974483,
          0.07853981633974483,
          0.23561944901923448,
          0.23561944901923448,
          0.23561944901923448,
          0.23561944901923448,
          0.23561944901923448,
          0.23561944901923448,
          0.23561944901923448,
          0.23561944901923448,
          0.23561944901923448,
          0.23561944901923448,
          0.23561944901923448,
          0.23561944901923448,
          0.23561944901923448,
          0.23561944901923448,
          0.23561944901923448,
          0.23561944901923448,
          0.23561944901923448,
          0.23561944901923448,
          0.23561944901923448,
          0.23561944901923448,
          0.39269908169872414,
          0.39269908169872414,
          0.39269908169872414,
          0.39269908169872414,
          0.39269908169872414,
          0.39269908169872414,
          0.39269908169872414,
          0.39269908169872414,
          0.39269908169872414,
          0.39269908169872414,
          0.39269908169872414,
          0.39269908169872414,
          0.39269908169872414,
          0.39269908169872414,
          0.39269908169872414,
          0.39269908169872414,
          0.39269908169872414,
          0.39269908169872414,
          0.39269908169872414,
          0.39269908169872414,
          0.5497787143782138,
          0.5497787143782138,
          0.5497787143782138,
          0.5497787143782138,
          0.5497787143782138,
          0.5497787143782138,
          0.5497787143782138,
          0.5497787143782138,
          0.5497787143782138,
          0.5497787143782138,
          0.5497787143782138,
          0.5497787143782138,
          0.5497787143782138,
          0.5497787143782138,
          0.5497787143782138,
          0.5497787143782138,
          0.5497787143782138,
          0.5497787143782138,
          0.5497787143782138,
          0.5497787143782138,
          0.7068583470577035,
          0.7068583470577035,
          0.7068583470577035,
          0.7068583470577035,
          0.7068583470577035,
          0.7068583470577035,
          0.7068583470577035,
          0.7068583470577035,
          0.7068583470577035,
          0.7068583470577035,
          0.7068583470577035,
          0.7068583470577035,
          0.7068583470577035,
          0.7068583470577035,
          0.7068583470577035,
          0.7068583470577035,
          0.7068583470577035,
          0.7068583470577035,
          0.7068583470577035,
          0.7068583470577035,
          0.8639379797371931,
          0.8639379797371931,
          0.8639379797371931,
          0.8639379797371931,
          0.8639379797371931,
          0.8639379797371931,
          0.8639379797371931,
          0.8639379797371931,
          0.8639379797371931,
          0.8639379797371931,
          0.8639379797371931,
          0.8639379797371931,
          0.8639379797371931,
          0.8639379797371931,
          0.8639379797371931,
          0.8639379797371931,
          0.8639379797371931,
          0.8639379797371931,
          0.8639379797371931,
          0.8639379797371931,
          1.0210176124166828,
          1.0210176124166828,
          1.0210176124166828,
          1.0210176124166828,
          1.0210176124166828,
          1.0210176124166828,
          1.0210176124166828,
          1.0210176124166828,
          1.0210176124166828,
          1.0210176124166828,
          1.0210176124166828,
          1.0210176124166828,
          1.0210176124166828,
          1.0210176124166828,
          1.0210176124166828,
          1.0210176124166828,
          1.0210176124166828,
          1.0210176124166828,
          1.0210176124166828,
          1.0210176124166828,
          1.1780972450961724,
          1.1780972450961724,
          1.1780972450961724,
          1.1780972450961724,
          1.1780972450961724,
          1.1780972450961724,
          1.1780972450961724,
          1.1780972450961724,
          1.1780972450961724,
          1.1780972450961724,
          1.1780972450961724,
          1.1780972450961724,
          1.1780972450961724,
          1.1780972450961724,
          1.1780972450961724,
          1.1780972450961724,
          1.1780972450961724,
          1.1780972450961724,
          1.1780972450961724,
          1.1780972450961724,
          1.335176877775662,
          1.335176877775662,
          1.335176877775662,
          1.335176877775662,
          1.335176877775662,
          1.335176877775662,
          1.335176877775662,
          1.335176877775662,
          1.335176877775662,
          1.335176877775662,
          1.335176877775662,
          1.335176877775662,
          1.335176877775662,
          1.335176877775662,
          1.335176877775662,
          1.335176877775662,
          1.335176877775662,
          1.335176877775662,
          1.335176877775662,
          1.335176877775662,
          1.4922565104551517,
          1.4922565104551517,
          1.4922565104551517,
          1.4922565104551517,
          1.4922565104551517,
          1.4922565104551517,
          1.4922565104551517,
          1.4922565104551517,
          1.4922565104551517,
          1.4922565104551517,
          1.4922565104551517,
          1.4922565104551517,
          1.4922565104551517,
          1.4922565104551517,
          1.4922565104551517,
          1.4922565104551517,
          1.4922565104551517,
          1.4922565104551517,
          1.4922565104551517,
          1.4922565104551517,
          1.6493361431346414,
          1.6493361431346414,
          1.6493361431346414,
          1.6493361431346414,
          1.6493361431346414,
          1.6493361431346414,
          1.6493361431346414,
          1.6493361431346414,
          1.6493361431346414,
          1.6493361431346414,
          1.6493361431346414,
          1.6493361431346414,
          1.6493361431346414,
          1.6493361431346414,
          1.6493361431346414,
          1.6493361431346414,
          1.6493361431346414,
          1.6493361431346414,
          1.6493361431346414,
          1.6493361431346414,
          1.806415775814131,
          1.806415775814131,
          1.806415775814131,
          1.806415775814131,
          1.806415775814131,
          1.806415775814131,
          1.806415775814131,
          1.806415775814131,
          1.806415775814131,
          1.806415775814131,
          1.806415775814131,
          1.806415775814131,
          1.806415775814131,
          1.806415775814131,
          1.806415775814131,
          1.806415775814131,
          1.806415775814131,
          1.806415775814131,
          1.806415775814131,
          1.806415775814131,
          1.9634954084936207,
          1.9634954084936207,
          1.9634954084936207,
          1.9634954084936207,
          1.9634954084936207,
          1.9634954084936207,
          1.9634954084936207,
          1.9634954084936207,
          1.9634954084936207,
          1.9634954084936207,
          1.9634954084936207,
          1.9634954084936207,
          1.9634954084936207,
          1.9634954084936207,
          1.9634954084936207,
          1.9634954084936207,
          1.9634954084936207,
          1.9634954084936207,
          1.9634954084936207,
          1.9634954084936207,
          2.1205750411731104,
          2.1205750411731104,
          2.1205750411731104,
          2.1205750411731104,
          2.1205750411731104,
          2.1205750411731104,
          2.1205750411731104,
          2.1205750411731104,
          2.1205750411731104,
          2.1205750411731104,
          2.1205750411731104,
          2.1205750411731104,
          2.1205750411731104,
          2.1205750411731104,
          2.1205750411731104,
          2.1205750411731104,
          2.1205750411731104,
          2.1205750411731104,
          2.1205750411731104,
          2.1205750411731104,
          2.2776546738526,
          2.2776546738526,
          2.2776546738526,
          2.2776546738526,
          2.2776546738526,
          2.2776546738526,
          2.2776546738526,
          2.2776546738526,
          2.2776546738526,
          2.2776546738526,
          2.2776546738526,
          2.2776546738526,
          2.2776546738526,
          2.2776546738526,
          2.2776546738526,
          2.2776546738526,
          2.2776546738526,
          2.2776546738526,
          2.2776546738526,
          2.2776546738526,
          2.4347343065320897,
          2.4347343065320897,
          2.4347343065320897,
          2.4347343065320897,
          2.4347343065320897,
          2.4347343065320897,
          2.4347343065320897,
          2.4347343065320897,
          2.4347343065320897,
          2.4347343065320897,
          2.4347343065320897,
          2.4347343065320897,
          2.4347343065320897,
          2.4347343065320897,
          2.4347343065320897,
          2.4347343065320897,
          2.4347343065320897,
          2.4347343065320897,
          2.4347343065320897,
          2.4347343065320897,
          2.5918139392115793,
          2.5918139392115793,
          2.5918139392115793,
          2.5918139392115793,
          2.5918139392115793,
          2.5918139392115793,
          2.5918139392115793,
          2.5918139392115793,
          2.5918139392115793,
          2.5918139392115793,
          2.5918139392115793,
          2.5918139392115793,
          2.5918139392115793,
          2.5918139392115793,
          2.5918139392115793,
          2.5918139392115793,
          2.5918139392115793,
          2.5918139392115793,
          2.5918139392115793,
          2.5918139392115793,
          2.748893571891069,
          2.748893571891069,
          2.748893571891069,
          2.748893571891069,
          2.748893571891069,
          2.748893571891069,
          2.748893571891069,
          2.748893571891069,
          2.748893571891069,
          2.748893571891069,
          2.748893571891069,
          2.748893571891069,
          2.748893571891069,
          2.748893571891069,
          2.748893571891069,
          2.748893571891069,
          2.748893571891069,
          2.748893571891069,
          2.748893571891069,
          2.748893571891069,
          2.9059732045705586,
          2.9059732045705586,
          2.9059732045705586,
          2.9059732045705586,
          2.9059732045705586,
          2.9059732045705586,
          2.9059732045705586,
          2.9059732045705586,
          2.9059732045705586,
          2.9059732045705586,
          2.9059732045705586,
          2.9059732045705586,
          2.9059732045705586,
          2.9059732045705586,
          2.9059732045705586,
          2.9059732045705586,
          2.9059732045705586,
          2.9059732045705586,
          2.9059732045705586,
          2.9059732045705586,
          3.0630528372500483,
          3.0630528372500483,
          3.0630528372500483,
          3.0630528372500483,
          3.0630528372500483,
          3.0630528372500483,
          3.0630528372500483,
          3.0630528372500483,
          3.0630528372500483,
          3.0630528372500483,
          3.0630528372500483,
          3.0630528372500483,
          3.0630528372500483,
          3.0630528372500483,
          3.0630528372500483,
          3.0630528372500483,
          3.0630528372500483,
          3.0630528372500483,
          3.0630528372500483,
          3.0630528372500483
         ],
         "z": [
          4,
          26,
          42,
          111,
          181,
          270,
          376,
          473,
          546,
          687,
          633,
          618,
          572,
          459,
          345,
          255,
          174,
          123,
          102,
          101,
          15,
          91,
          187,
          414,
          627,
          883,
          1113,
          1331,
          1314,
          1262,
          1140,
          838,
          557,
          389,
          270,
          173,
          137,
          122,
          129,
          121,
          27,
          172,
          366,
          728,
          1092,
          1262,
          1292,
          1147,
          852,
          583,
          309,
          196,
          136,
          103,
          77,
          75,
          56,
          29,
          27,
          21,
          46,
          231,
          630,
          1006,
          1149,
          977,
          710,
          392,
          191,
          78,
          61,
          32,
          12,
          8,
          6,
          3,
          2,
          0,
          0,
          1,
          47,
          367,
          735,
          949,
          759,
          446,
          214,
          57,
          17,
          9,
          2,
          2,
          0,
          0,
          0,
          0,
          0,
          0,
          0,
          0,
          67,
          455,
          805,
          724,
          364,
          107,
          28,
          9,
          0,
          0,
          0,
          0,
          0,
          0,
          0,
          0,
          0,
          0,
          0,
          0,
          94,
          508,
          677,
          371,
          96,
          18,
          0,
          0,
          0,
          0,
          0,
          0,
          0,
          0,
          0,
          0,
          0,
          0,
          0,
          0,
          117,
          469,
          505,
          168,
          16,
          1,
          0,
          0,
          0,
          0,
          0,
          0,
          0,
          0,
          0,
          0,
          0,
          0,
          0,
          0,
          115,
          471,
          299,
          43,
          2,
          0,
          0,
          0,
          0,
          0,
          0,
          0,
          0,
          0,
          0,
          0,
          0,
          0,
          0,
          0,
          93,
          376,
          161,
          8,
          0,
          0,
          0,
          0,
          0,
          0,
          0,
          0,
          0,
          0,
          0,
          0,
          0,
          0,
          0,
          0,
          124,
          313,
          58,
          0,
          0,
          0,
          0,
          0,
          0,
          0,
          0,
          0,
          0,
          0,
          0,
          0,
          0,
          0,
          0,
          0,
          108,
          236,
          33,
          0,
          0,
          0,
          0,
          0,
          0,
          0,
          0,
          0,
          0,
          0,
          0,
          0,
          0,
          0,
          0,
          0,
          110,
          204,
          10,
          0,
          0,
          0,
          0,
          0,
          0,
          0,
          0,
          0,
          0,
          0,
          0,
          0,
          0,
          0,
          0,
          0,
          84,
          137,
          5,
          0,
          0,
          0,
          0,
          0,
          0,
          0,
          0,
          0,
          0,
          0,
          0,
          0,
          0,
          0,
          0,
          0,
          84,
          81,
          1,
          0,
          0,
          0,
          0,
          0,
          0,
          0,
          0,
          0,
          0,
          0,
          0,
          0,
          0,
          0,
          0,
          0,
          80,
          50,
          2,
          0,
          0,
          0,
          0,
          0,
          0,
          0,
          0,
          0,
          0,
          0,
          0,
          0,
          0,
          0,
          0,
          0,
          52,
          43,
          0,
          0,
          0,
          0,
          0,
          0,
          0,
          0,
          0,
          0,
          0,
          0,
          0,
          0,
          0,
          0,
          0,
          0,
          41,
          31,
          0,
          0,
          0,
          0,
          0,
          0,
          0,
          0,
          0,
          0,
          0,
          0,
          0,
          0,
          0,
          0,
          0,
          0,
          23,
          11,
          0,
          0,
          0,
          0,
          0,
          0,
          0,
          0,
          0,
          0,
          0,
          0,
          0,
          0,
          0,
          0,
          0,
          0,
          7,
          5,
          0,
          0,
          0,
          0,
          0,
          0,
          0,
          0,
          0,
          0,
          0,
          0,
          0,
          0,
          0,
          0,
          0,
          0
         ]
        }
       ],
       "layout": {
        "autosize": true,
        "template": {
         "data": {
          "bar": [
           {
            "error_x": {
             "color": "#2a3f5f"
            },
            "error_y": {
             "color": "#2a3f5f"
            },
            "marker": {
             "line": {
              "color": "#E5ECF6",
              "width": 0.5
             },
             "pattern": {
              "fillmode": "overlay",
              "size": 10,
              "solidity": 0.2
             }
            },
            "type": "bar"
           }
          ],
          "barpolar": [
           {
            "marker": {
             "line": {
              "color": "#E5ECF6",
              "width": 0.5
             },
             "pattern": {
              "fillmode": "overlay",
              "size": 10,
              "solidity": 0.2
             }
            },
            "type": "barpolar"
           }
          ],
          "carpet": [
           {
            "aaxis": {
             "endlinecolor": "#2a3f5f",
             "gridcolor": "white",
             "linecolor": "white",
             "minorgridcolor": "white",
             "startlinecolor": "#2a3f5f"
            },
            "baxis": {
             "endlinecolor": "#2a3f5f",
             "gridcolor": "white",
             "linecolor": "white",
             "minorgridcolor": "white",
             "startlinecolor": "#2a3f5f"
            },
            "type": "carpet"
           }
          ],
          "choropleth": [
           {
            "colorbar": {
             "outlinewidth": 0,
             "ticks": ""
            },
            "type": "choropleth"
           }
          ],
          "contour": [
           {
            "colorbar": {
             "outlinewidth": 0,
             "ticks": ""
            },
            "colorscale": [
             [
              0,
              "#0d0887"
             ],
             [
              0.1111111111111111,
              "#46039f"
             ],
             [
              0.2222222222222222,
              "#7201a8"
             ],
             [
              0.3333333333333333,
              "#9c179e"
             ],
             [
              0.4444444444444444,
              "#bd3786"
             ],
             [
              0.5555555555555556,
              "#d8576b"
             ],
             [
              0.6666666666666666,
              "#ed7953"
             ],
             [
              0.7777777777777778,
              "#fb9f3a"
             ],
             [
              0.8888888888888888,
              "#fdca26"
             ],
             [
              1,
              "#f0f921"
             ]
            ],
            "type": "contour"
           }
          ],
          "contourcarpet": [
           {
            "colorbar": {
             "outlinewidth": 0,
             "ticks": ""
            },
            "type": "contourcarpet"
           }
          ],
          "heatmap": [
           {
            "colorbar": {
             "outlinewidth": 0,
             "ticks": ""
            },
            "colorscale": [
             [
              0,
              "#0d0887"
             ],
             [
              0.1111111111111111,
              "#46039f"
             ],
             [
              0.2222222222222222,
              "#7201a8"
             ],
             [
              0.3333333333333333,
              "#9c179e"
             ],
             [
              0.4444444444444444,
              "#bd3786"
             ],
             [
              0.5555555555555556,
              "#d8576b"
             ],
             [
              0.6666666666666666,
              "#ed7953"
             ],
             [
              0.7777777777777778,
              "#fb9f3a"
             ],
             [
              0.8888888888888888,
              "#fdca26"
             ],
             [
              1,
              "#f0f921"
             ]
            ],
            "type": "heatmap"
           }
          ],
          "heatmapgl": [
           {
            "colorbar": {
             "outlinewidth": 0,
             "ticks": ""
            },
            "colorscale": [
             [
              0,
              "#0d0887"
             ],
             [
              0.1111111111111111,
              "#46039f"
             ],
             [
              0.2222222222222222,
              "#7201a8"
             ],
             [
              0.3333333333333333,
              "#9c179e"
             ],
             [
              0.4444444444444444,
              "#bd3786"
             ],
             [
              0.5555555555555556,
              "#d8576b"
             ],
             [
              0.6666666666666666,
              "#ed7953"
             ],
             [
              0.7777777777777778,
              "#fb9f3a"
             ],
             [
              0.8888888888888888,
              "#fdca26"
             ],
             [
              1,
              "#f0f921"
             ]
            ],
            "type": "heatmapgl"
           }
          ],
          "histogram": [
           {
            "marker": {
             "pattern": {
              "fillmode": "overlay",
              "size": 10,
              "solidity": 0.2
             }
            },
            "type": "histogram"
           }
          ],
          "histogram2d": [
           {
            "colorbar": {
             "outlinewidth": 0,
             "ticks": ""
            },
            "colorscale": [
             [
              0,
              "#0d0887"
             ],
             [
              0.1111111111111111,
              "#46039f"
             ],
             [
              0.2222222222222222,
              "#7201a8"
             ],
             [
              0.3333333333333333,
              "#9c179e"
             ],
             [
              0.4444444444444444,
              "#bd3786"
             ],
             [
              0.5555555555555556,
              "#d8576b"
             ],
             [
              0.6666666666666666,
              "#ed7953"
             ],
             [
              0.7777777777777778,
              "#fb9f3a"
             ],
             [
              0.8888888888888888,
              "#fdca26"
             ],
             [
              1,
              "#f0f921"
             ]
            ],
            "type": "histogram2d"
           }
          ],
          "histogram2dcontour": [
           {
            "colorbar": {
             "outlinewidth": 0,
             "ticks": ""
            },
            "colorscale": [
             [
              0,
              "#0d0887"
             ],
             [
              0.1111111111111111,
              "#46039f"
             ],
             [
              0.2222222222222222,
              "#7201a8"
             ],
             [
              0.3333333333333333,
              "#9c179e"
             ],
             [
              0.4444444444444444,
              "#bd3786"
             ],
             [
              0.5555555555555556,
              "#d8576b"
             ],
             [
              0.6666666666666666,
              "#ed7953"
             ],
             [
              0.7777777777777778,
              "#fb9f3a"
             ],
             [
              0.8888888888888888,
              "#fdca26"
             ],
             [
              1,
              "#f0f921"
             ]
            ],
            "type": "histogram2dcontour"
           }
          ],
          "mesh3d": [
           {
            "colorbar": {
             "outlinewidth": 0,
             "ticks": ""
            },
            "type": "mesh3d"
           }
          ],
          "parcoords": [
           {
            "line": {
             "colorbar": {
              "outlinewidth": 0,
              "ticks": ""
             }
            },
            "type": "parcoords"
           }
          ],
          "pie": [
           {
            "automargin": true,
            "type": "pie"
           }
          ],
          "scatter": [
           {
            "fillpattern": {
             "fillmode": "overlay",
             "size": 10,
             "solidity": 0.2
            },
            "type": "scatter"
           }
          ],
          "scatter3d": [
           {
            "line": {
             "colorbar": {
              "outlinewidth": 0,
              "ticks": ""
             }
            },
            "marker": {
             "colorbar": {
              "outlinewidth": 0,
              "ticks": ""
             }
            },
            "type": "scatter3d"
           }
          ],
          "scattercarpet": [
           {
            "marker": {
             "colorbar": {
              "outlinewidth": 0,
              "ticks": ""
             }
            },
            "type": "scattercarpet"
           }
          ],
          "scattergeo": [
           {
            "marker": {
             "colorbar": {
              "outlinewidth": 0,
              "ticks": ""
             }
            },
            "type": "scattergeo"
           }
          ],
          "scattergl": [
           {
            "marker": {
             "colorbar": {
              "outlinewidth": 0,
              "ticks": ""
             }
            },
            "type": "scattergl"
           }
          ],
          "scattermapbox": [
           {
            "marker": {
             "colorbar": {
              "outlinewidth": 0,
              "ticks": ""
             }
            },
            "type": "scattermapbox"
           }
          ],
          "scatterpolar": [
           {
            "marker": {
             "colorbar": {
              "outlinewidth": 0,
              "ticks": ""
             }
            },
            "type": "scatterpolar"
           }
          ],
          "scatterpolargl": [
           {
            "marker": {
             "colorbar": {
              "outlinewidth": 0,
              "ticks": ""
             }
            },
            "type": "scatterpolargl"
           }
          ],
          "scatterternary": [
           {
            "marker": {
             "colorbar": {
              "outlinewidth": 0,
              "ticks": ""
             }
            },
            "type": "scatterternary"
           }
          ],
          "surface": [
           {
            "colorbar": {
             "outlinewidth": 0,
             "ticks": ""
            },
            "colorscale": [
             [
              0,
              "#0d0887"
             ],
             [
              0.1111111111111111,
              "#46039f"
             ],
             [
              0.2222222222222222,
              "#7201a8"
             ],
             [
              0.3333333333333333,
              "#9c179e"
             ],
             [
              0.4444444444444444,
              "#bd3786"
             ],
             [
              0.5555555555555556,
              "#d8576b"
             ],
             [
              0.6666666666666666,
              "#ed7953"
             ],
             [
              0.7777777777777778,
              "#fb9f3a"
             ],
             [
              0.8888888888888888,
              "#fdca26"
             ],
             [
              1,
              "#f0f921"
             ]
            ],
            "type": "surface"
           }
          ],
          "table": [
           {
            "cells": {
             "fill": {
              "color": "#EBF0F8"
             },
             "line": {
              "color": "white"
             }
            },
            "header": {
             "fill": {
              "color": "#C8D4E3"
             },
             "line": {
              "color": "white"
             }
            },
            "type": "table"
           }
          ]
         },
         "layout": {
          "annotationdefaults": {
           "arrowcolor": "#2a3f5f",
           "arrowhead": 0,
           "arrowwidth": 1
          },
          "autotypenumbers": "strict",
          "coloraxis": {
           "colorbar": {
            "outlinewidth": 0,
            "ticks": ""
           }
          },
          "colorscale": {
           "diverging": [
            [
             0,
             "#8e0152"
            ],
            [
             0.1,
             "#c51b7d"
            ],
            [
             0.2,
             "#de77ae"
            ],
            [
             0.3,
             "#f1b6da"
            ],
            [
             0.4,
             "#fde0ef"
            ],
            [
             0.5,
             "#f7f7f7"
            ],
            [
             0.6,
             "#e6f5d0"
            ],
            [
             0.7,
             "#b8e186"
            ],
            [
             0.8,
             "#7fbc41"
            ],
            [
             0.9,
             "#4d9221"
            ],
            [
             1,
             "#276419"
            ]
           ],
           "sequential": [
            [
             0,
             "#0d0887"
            ],
            [
             0.1111111111111111,
             "#46039f"
            ],
            [
             0.2222222222222222,
             "#7201a8"
            ],
            [
             0.3333333333333333,
             "#9c179e"
            ],
            [
             0.4444444444444444,
             "#bd3786"
            ],
            [
             0.5555555555555556,
             "#d8576b"
            ],
            [
             0.6666666666666666,
             "#ed7953"
            ],
            [
             0.7777777777777778,
             "#fb9f3a"
            ],
            [
             0.8888888888888888,
             "#fdca26"
            ],
            [
             1,
             "#f0f921"
            ]
           ],
           "sequentialminus": [
            [
             0,
             "#0d0887"
            ],
            [
             0.1111111111111111,
             "#46039f"
            ],
            [
             0.2222222222222222,
             "#7201a8"
            ],
            [
             0.3333333333333333,
             "#9c179e"
            ],
            [
             0.4444444444444444,
             "#bd3786"
            ],
            [
             0.5555555555555556,
             "#d8576b"
            ],
            [
             0.6666666666666666,
             "#ed7953"
            ],
            [
             0.7777777777777778,
             "#fb9f3a"
            ],
            [
             0.8888888888888888,
             "#fdca26"
            ],
            [
             1,
             "#f0f921"
            ]
           ]
          },
          "colorway": [
           "#636efa",
           "#EF553B",
           "#00cc96",
           "#ab63fa",
           "#FFA15A",
           "#19d3f3",
           "#FF6692",
           "#B6E880",
           "#FF97FF",
           "#FECB52"
          ],
          "font": {
           "color": "#2a3f5f"
          },
          "geo": {
           "bgcolor": "white",
           "lakecolor": "white",
           "landcolor": "#E5ECF6",
           "showlakes": true,
           "showland": true,
           "subunitcolor": "white"
          },
          "hoverlabel": {
           "align": "left"
          },
          "hovermode": "closest",
          "mapbox": {
           "style": "light"
          },
          "paper_bgcolor": "white",
          "plot_bgcolor": "#E5ECF6",
          "polar": {
           "angularaxis": {
            "gridcolor": "white",
            "linecolor": "white",
            "ticks": ""
           },
           "bgcolor": "#E5ECF6",
           "radialaxis": {
            "gridcolor": "white",
            "linecolor": "white",
            "ticks": ""
           }
          },
          "scene": {
           "xaxis": {
            "backgroundcolor": "#E5ECF6",
            "gridcolor": "white",
            "gridwidth": 2,
            "linecolor": "white",
            "showbackground": true,
            "ticks": "",
            "zerolinecolor": "white"
           },
           "yaxis": {
            "backgroundcolor": "#E5ECF6",
            "gridcolor": "white",
            "gridwidth": 2,
            "linecolor": "white",
            "showbackground": true,
            "ticks": "",
            "zerolinecolor": "white"
           },
           "zaxis": {
            "backgroundcolor": "#E5ECF6",
            "gridcolor": "white",
            "gridwidth": 2,
            "linecolor": "white",
            "showbackground": true,
            "ticks": "",
            "zerolinecolor": "white"
           }
          },
          "shapedefaults": {
           "line": {
            "color": "#2a3f5f"
           }
          },
          "ternary": {
           "aaxis": {
            "gridcolor": "white",
            "linecolor": "white",
            "ticks": ""
           },
           "baxis": {
            "gridcolor": "white",
            "linecolor": "white",
            "ticks": ""
           },
           "bgcolor": "#E5ECF6",
           "caxis": {
            "gridcolor": "white",
            "linecolor": "white",
            "ticks": ""
           }
          },
          "title": {
           "x": 0.05
          },
          "xaxis": {
           "automargin": true,
           "gridcolor": "white",
           "linecolor": "white",
           "ticks": "",
           "title": {
            "standoff": 15
           },
           "zerolinecolor": "white",
           "zerolinewidth": 2
          },
          "yaxis": {
           "automargin": true,
           "gridcolor": "white",
           "linecolor": "white",
           "ticks": "",
           "title": {
            "standoff": 15
           },
           "zerolinecolor": "white",
           "zerolinewidth": 2
          }
         }
        },
        "xaxis": {
         "autorange": true,
         "range": [
          0,
          5
         ],
         "type": "linear"
        },
        "yaxis": {
         "autorange": true,
         "range": [
          0,
          3.141592653589793
         ],
         "type": "linear"
        }
       }
      },
      "image/png": "[encoded data removed]",
      "text/html": [
       "<div>                            <div id=\"48762436-a265-4424-88bb-d32d6ee265f4\" class=\"plotly-graph-div\" style=\"height:525px; width:100%;\"></div>            <script type=\"text/javascript\">                require([\"plotly\"], function(Plotly) {                    window.PLOTLYENV=window.PLOTLYENV || {};                                    if (document.getElementById(\"48762436-a265-4424-88bb-d32d6ee265f4\")) {                    Plotly.newPlot(                        \"48762436-a265-4424-88bb-d32d6ee265f4\",                        [{\"hoverongaps\":false,\"x\":[0.125,0.375,0.625,0.875,1.125,1.375,1.625,1.875,2.125,2.375,2.625,2.875,3.125,3.375,3.625,3.875,4.125,4.375,4.625,4.875,0.125,0.375,0.625,0.875,1.125,1.375,1.625,1.875,2.125,2.375,2.625,2.875,3.125,3.375,3.625,3.875,4.125,4.375,4.625,4.875,0.125,0.375,0.625,0.875,1.125,1.375,1.625,1.875,2.125,2.375,2.625,2.875,3.125,3.375,3.625,3.875,4.125,4.375,4.625,4.875,0.125,0.375,0.625,0.875,1.125,1.375,1.625,1.875,2.125,2.375,2.625,2.875,3.125,3.375,3.625,3.875,4.125,4.375,4.625,4.875,0.125,0.375,0.625,0.875,1.125,1.375,1.625,1.875,2.125,2.375,2.625,2.875,3.125,3.375,3.625,3.875,4.125,4.375,4.625,4.875,0.125,0.375,0.625,0.875,1.125,1.375,1.625,1.875,2.125,2.375,2.625,2.875,3.125,3.375,3.625,3.875,4.125,4.375,4.625,4.875,0.125,0.375,0.625,0.875,1.125,1.375,1.625,1.875,2.125,2.375,2.625,2.875,3.125,3.375,3.625,3.875,4.125,4.375,4.625,4.875,0.125,0.375,0.625,0.875,1.125,1.375,1.625,1.875,2.125,2.375,2.625,2.875,3.125,3.375,3.625,3.875,4.125,4.375,4.625,4.875,0.125,0.375,0.625,0.875,1.125,1.375,1.625,1.875,2.125,2.375,2.625,2.875,3.125,3.375,3.625,3.875,4.125,4.375,4.625,4.875,0.125,0.375,0.625,0.875,1.125,1.375,1.625,1.875,2.125,2.375,2.625,2.875,3.125,3.375,3.625,3.875,4.125,4.375,4.625,4.875,0.125,0.375,0.625,0.875,1.125,1.375,1.625,1.875,2.125,2.375,2.625,2.875,3.125,3.375,3.625,3.875,4.125,4.375,4.625,4.875,0.125,0.375,0.625,0.875,1.125,1.375,1.625,1.875,2.125,2.375,2.625,2.875,3.125,3.375,3.625,3.875,4.125,4.375,4.625,4.875,0.125,0.375,0.625,0.875,1.125,1.375,1.625,1.875,2.125,2.375,2.625,2.875,3.125,3.375,3.625,3.875,4.125,4.375,4.625,4.875,0.125,0.375,0.625,0.875,1.125,1.375,1.625,1.875,2.125,2.375,2.625,2.875,3.125,3.375,3.625,3.875,4.125,4.375,4.625,4.875,0.125,0.375,0.625,0.875,1.125,1.375,1.625,1.875,2.125,2.375,2.625,2.875,3.125,3.375,3.625,3.875,4.125,4.375,4.625,4.875,0.125,0.375,0.625,0.875,1.125,1.375,1.625,1.875,2.125,2.375,2.625,2.875,3.125,3.375,3.625,3.875,4.125,4.375,4.625,4.875,0.125,0.375,0.625,0.875,1.125,1.375,1.625,1.875,2.125,2.375,2.625,2.875,3.125,3.375,3.625,3.875,4.125,4.375,4.625,4.875,0.125,0.375,0.625,0.875,1.125,1.375,1.625,1.875,2.125,2.375,2.625,2.875,3.125,3.375,3.625,3.875,4.125,4.375,4.625,4.875,0.125,0.375,0.625,0.875,1.125,1.375,1.625,1.875,2.125,2.375,2.625,2.875,3.125,3.375,3.625,3.875,4.125,4.375,4.625,4.875,0.125,0.375,0.625,0.875,1.125,1.375,1.625,1.875,2.125,2.375,2.625,2.875,3.125,3.375,3.625,3.875,4.125,4.375,4.625,4.875],\"y\":[0.07853981633974483,0.07853981633974483,0.07853981633974483,0.07853981633974483,0.07853981633974483,0.07853981633974483,0.07853981633974483,0.07853981633974483,0.07853981633974483,0.07853981633974483,0.07853981633974483,0.07853981633974483,0.07853981633974483,0.07853981633974483,0.07853981633974483,0.07853981633974483,0.07853981633974483,0.07853981633974483,0.07853981633974483,0.07853981633974483,0.23561944901923448,0.23561944901923448,0.23561944901923448,0.23561944901923448,0.23561944901923448,0.23561944901923448,0.23561944901923448,0.23561944901923448,0.23561944901923448,0.23561944901923448,0.23561944901923448,0.23561944901923448,0.23561944901923448,0.23561944901923448,0.23561944901923448,0.23561944901923448,0.23561944901923448,0.23561944901923448,0.23561944901923448,0.23561944901923448,0.39269908169872414,0.39269908169872414,0.39269908169872414,0.39269908169872414,0.39269908169872414,0.39269908169872414,0.39269908169872414,0.39269908169872414,0.39269908169872414,0.39269908169872414,0.39269908169872414,0.39269908169872414,0.39269908169872414,0.39269908169872414,0.39269908169872414,0.39269908169872414,0.39269908169872414,0.39269908169872414,0.39269908169872414,0.39269908169872414,0.5497787143782138,0.5497787143782138,0.5497787143782138,0.5497787143782138,0.5497787143782138,0.5497787143782138,0.5497787143782138,0.5497787143782138,0.5497787143782138,0.5497787143782138,0.5497787143782138,0.5497787143782138,0.5497787143782138,0.5497787143782138,0.5497787143782138,0.5497787143782138,0.5497787143782138,0.5497787143782138,0.5497787143782138,0.5497787143782138,0.7068583470577035,0.7068583470577035,0.7068583470577035,0.7068583470577035,0.7068583470577035,0.7068583470577035,0.7068583470577035,0.7068583470577035,0.7068583470577035,0.7068583470577035,0.7068583470577035,0.7068583470577035,0.7068583470577035,0.7068583470577035,0.7068583470577035,0.7068583470577035,0.7068583470577035,0.7068583470577035,0.7068583470577035,0.7068583470577035,0.8639379797371931,0.8639379797371931,0.8639379797371931,0.8639379797371931,0.8639379797371931,0.8639379797371931,0.8639379797371931,0.8639379797371931,0.8639379797371931,0.8639379797371931,0.8639379797371931,0.8639379797371931,0.8639379797371931,0.8639379797371931,0.8639379797371931,0.8639379797371931,0.8639379797371931,0.8639379797371931,0.8639379797371931,0.8639379797371931,1.0210176124166828,1.0210176124166828,1.0210176124166828,1.0210176124166828,1.0210176124166828,1.0210176124166828,1.0210176124166828,1.0210176124166828,1.0210176124166828,1.0210176124166828,1.0210176124166828,1.0210176124166828,1.0210176124166828,1.0210176124166828,1.0210176124166828,1.0210176124166828,1.0210176124166828,1.0210176124166828,1.0210176124166828,1.0210176124166828,1.1780972450961724,1.1780972450961724,1.1780972450961724,1.1780972450961724,1.1780972450961724,1.1780972450961724,1.1780972450961724,1.1780972450961724,1.1780972450961724,1.1780972450961724,1.1780972450961724,1.1780972450961724,1.1780972450961724,1.1780972450961724,1.1780972450961724,1.1780972450961724,1.1780972450961724,1.1780972450961724,1.1780972450961724,1.1780972450961724,1.335176877775662,1.335176877775662,1.335176877775662,1.335176877775662,1.335176877775662,1.335176877775662,1.335176877775662,1.335176877775662,1.335176877775662,1.335176877775662,1.335176877775662,1.335176877775662,1.335176877775662,1.335176877775662,1.335176877775662,1.335176877775662,1.335176877775662,1.335176877775662,1.335176877775662,1.335176877775662,1.4922565104551517,1.4922565104551517,1.4922565104551517,1.4922565104551517,1.4922565104551517,1.4922565104551517,1.4922565104551517,1.4922565104551517,1.4922565104551517,1.4922565104551517,1.4922565104551517,1.4922565104551517,1.4922565104551517,1.4922565104551517,1.4922565104551517,1.4922565104551517,1.4922565104551517,1.4922565104551517,1.4922565104551517,1.4922565104551517,1.6493361431346414,1.6493361431346414,1.6493361431346414,1.6493361431346414,1.6493361431346414,1.6493361431346414,1.6493361431346414,1.6493361431346414,1.6493361431346414,1.6493361431346414,1.6493361431346414,1.6493361431346414,1.6493361431346414,1.6493361431346414,1.6493361431346414,1.6493361431346414,1.6493361431346414,1.6493361431346414,1.6493361431346414,1.6493361431346414,1.806415775814131,1.806415775814131,1.806415775814131,1.806415775814131,1.806415775814131,1.806415775814131,1.806415775814131,1.806415775814131,1.806415775814131,1.806415775814131,1.806415775814131,1.806415775814131,1.806415775814131,1.806415775814131,1.806415775814131,1.806415775814131,1.806415775814131,1.806415775814131,1.806415775814131,1.806415775814131,1.9634954084936207,1.9634954084936207,1.9634954084936207,1.9634954084936207,1.9634954084936207,1.9634954084936207,1.9634954084936207,1.9634954084936207,1.9634954084936207,1.9634954084936207,1.9634954084936207,1.9634954084936207,1.9634954084936207,1.9634954084936207,1.9634954084936207,1.9634954084936207,1.9634954084936207,1.9634954084936207,1.9634954084936207,1.9634954084936207,2.1205750411731104,2.1205750411731104,2.1205750411731104,2.1205750411731104,2.1205750411731104,2.1205750411731104,2.1205750411731104,2.1205750411731104,2.1205750411731104,2.1205750411731104,2.1205750411731104,2.1205750411731104,2.1205750411731104,2.1205750411731104,2.1205750411731104,2.1205750411731104,2.1205750411731104,2.1205750411731104,2.1205750411731104,2.1205750411731104,2.2776546738526,2.2776546738526,2.2776546738526,2.2776546738526,2.2776546738526,2.2776546738526,2.2776546738526,2.2776546738526,2.2776546738526,2.2776546738526,2.2776546738526,2.2776546738526,2.2776546738526,2.2776546738526,2.2776546738526,2.2776546738526,2.2776546738526,2.2776546738526,2.2776546738526,2.2776546738526,2.4347343065320897,2.4347343065320897,2.4347343065320897,2.4347343065320897,2.4347343065320897,2.4347343065320897,2.4347343065320897,2.4347343065320897,2.4347343065320897,2.4347343065320897,2.4347343065320897,2.4347343065320897,2.4347343065320897,2.4347343065320897,2.4347343065320897,2.4347343065320897,2.4347343065320897,2.4347343065320897,2.4347343065320897,2.4347343065320897,2.5918139392115793,2.5918139392115793,2.5918139392115793,2.5918139392115793,2.5918139392115793,2.5918139392115793,2.5918139392115793,2.5918139392115793,2.5918139392115793,2.5918139392115793,2.5918139392115793,2.5918139392115793,2.5918139392115793,2.5918139392115793,2.5918139392115793,2.5918139392115793,2.5918139392115793,2.5918139392115793,2.5918139392115793,2.5918139392115793,2.748893571891069,2.748893571891069,2.748893571891069,2.748893571891069,2.748893571891069,2.748893571891069,2.748893571891069,2.748893571891069,2.748893571891069,2.748893571891069,2.748893571891069,2.748893571891069,2.748893571891069,2.748893571891069,2.748893571891069,2.748893571891069,2.748893571891069,2.748893571891069,2.748893571891069,2.748893571891069,2.9059732045705586,2.9059732045705586,2.9059732045705586,2.9059732045705586,2.9059732045705586,2.9059732045705586,2.9059732045705586,2.9059732045705586,2.9059732045705586,2.9059732045705586,2.9059732045705586,2.9059732045705586,2.9059732045705586,2.9059732045705586,2.9059732045705586,2.9059732045705586,2.9059732045705586,2.9059732045705586,2.9059732045705586,2.9059732045705586,3.0630528372500483,3.0630528372500483,3.0630528372500483,3.0630528372500483,3.0630528372500483,3.0630528372500483,3.0630528372500483,3.0630528372500483,3.0630528372500483,3.0630528372500483,3.0630528372500483,3.0630528372500483,3.0630528372500483,3.0630528372500483,3.0630528372500483,3.0630528372500483,3.0630528372500483,3.0630528372500483,3.0630528372500483,3.0630528372500483],\"z\":[4.0,26.0,42.0,111.0,181.0,270.0,376.0,473.0,546.0,687.0,633.0,618.0,572.0,459.0,345.0,255.0,174.0,123.0,102.0,101.0,15.0,91.0,187.0,414.0,627.0,883.0,1113.0,1331.0,1314.0,1262.0,1140.0,838.0,557.0,389.0,270.0,173.0,137.0,122.0,129.0,121.0,27.0,172.0,366.0,728.0,1092.0,1262.0,1292.0,1147.0,852.0,583.0,309.0,196.0,136.0,103.0,77.0,75.0,56.0,29.0,27.0,21.0,46.0,231.0,630.0,1006.0,1149.0,977.0,710.0,392.0,191.0,78.0,61.0,32.0,12.0,8.0,6.0,3.0,2.0,0.0,0.0,1.0,47.0,367.0,735.0,949.0,759.0,446.0,214.0,57.0,17.0,9.0,2.0,2.0,0.0,0.0,0.0,0.0,0.0,0.0,0.0,0.0,67.0,455.0,805.0,724.0,364.0,107.0,28.0,9.0,0.0,0.0,0.0,0.0,0.0,0.0,0.0,0.0,0.0,0.0,0.0,0.0,94.0,508.0,677.0,371.0,96.0,18.0,0.0,0.0,0.0,0.0,0.0,0.0,0.0,0.0,0.0,0.0,0.0,0.0,0.0,0.0,117.0,469.0,505.0,168.0,16.0,1.0,0.0,0.0,0.0,0.0,0.0,0.0,0.0,0.0,0.0,0.0,0.0,0.0,0.0,0.0,115.0,471.0,299.0,43.0,2.0,0.0,0.0,0.0,0.0,0.0,0.0,0.0,0.0,0.0,0.0,0.0,0.0,0.0,0.0,0.0,93.0,376.0,161.0,8.0,0.0,0.0,0.0,0.0,0.0,0.0,0.0,0.0,0.0,0.0,0.0,0.0,0.0,0.0,0.0,0.0,124.0,313.0,58.0,0.0,0.0,0.0,0.0,0.0,0.0,0.0,0.0,0.0,0.0,0.0,0.0,0.0,0.0,0.0,0.0,0.0,108.0,236.0,33.0,0.0,0.0,0.0,0.0,0.0,0.0,0.0,0.0,0.0,0.0,0.0,0.0,0.0,0.0,0.0,0.0,0.0,110.0,204.0,10.0,0.0,0.0,0.0,0.0,0.0,0.0,0.0,0.0,0.0,0.0,0.0,0.0,0.0,0.0,0.0,0.0,0.0,84.0,137.0,5.0,0.0,0.0,0.0,0.0,0.0,0.0,0.0,0.0,0.0,0.0,0.0,0.0,0.0,0.0,0.0,0.0,0.0,84.0,81.0,1.0,0.0,0.0,0.0,0.0,0.0,0.0,0.0,0.0,0.0,0.0,0.0,0.0,0.0,0.0,0.0,0.0,0.0,80.0,50.0,2.0,0.0,0.0,0.0,0.0,0.0,0.0,0.0,0.0,0.0,0.0,0.0,0.0,0.0,0.0,0.0,0.0,0.0,52.0,43.0,0.0,0.0,0.0,0.0,0.0,0.0,0.0,0.0,0.0,0.0,0.0,0.0,0.0,0.0,0.0,0.0,0.0,0.0,41.0,31.0,0.0,0.0,0.0,0.0,0.0,0.0,0.0,0.0,0.0,0.0,0.0,0.0,0.0,0.0,0.0,0.0,0.0,0.0,23.0,11.0,0.0,0.0,0.0,0.0,0.0,0.0,0.0,0.0,0.0,0.0,0.0,0.0,0.0,0.0,0.0,0.0,0.0,0.0,7.0,5.0,0.0,0.0,0.0,0.0,0.0,0.0,0.0,0.0,0.0,0.0,0.0,0.0,0.0,0.0,0.0,0.0,0.0,0.0],\"type\":\"heatmap\"}],                        {\"template\":{\"data\":{\"histogram2dcontour\":[{\"type\":\"histogram2dcontour\",\"colorbar\":{\"outlinewidth\":0,\"ticks\":\"\"},\"colorscale\":[[0.0,\"#0d0887\"],[0.1111111111111111,\"#46039f\"],[0.2222222222222222,\"#7201a8\"],[0.3333333333333333,\"#9c179e\"],[0.4444444444444444,\"#bd3786\"],[0.5555555555555556,\"#d8576b\"],[0.6666666666666666,\"#ed7953\"],[0.7777777777777778,\"#fb9f3a\"],[0.8888888888888888,\"#fdca26\"],[1.0,\"#f0f921\"]]}],\"choropleth\":[{\"type\":\"choropleth\",\"colorbar\":{\"outlinewidth\":0,\"ticks\":\"\"}}],\"histogram2d\":[{\"type\":\"histogram2d\",\"colorbar\":{\"outlinewidth\":0,\"ticks\":\"\"},\"colorscale\":[[0.0,\"#0d0887\"],[0.1111111111111111,\"#46039f\"],[0.2222222222222222,\"#7201a8\"],[0.3333333333333333,\"#9c179e\"],[0.4444444444444444,\"#bd3786\"],[0.5555555555555556,\"#d8576b\"],[0.6666666666666666,\"#ed7953\"],[0.7777777777777778,\"#fb9f3a\"],[0.8888888888888888,\"#fdca26\"],[1.0,\"#f0f921\"]]}],\"heatmap\":[{\"type\":\"heatmap\",\"colorbar\":{\"outlinewidth\":0,\"ticks\":\"\"},\"colorscale\":[[0.0,\"#0d0887\"],[0.1111111111111111,\"#46039f\"],[0.2222222222222222,\"#7201a8\"],[0.3333333333333333,\"#9c179e\"],[0.4444444444444444,\"#bd3786\"],[0.5555555555555556,\"#d8576b\"],[0.6666666666666666,\"#ed7953\"],[0.7777777777777778,\"#fb9f3a\"],[0.8888888888888888,\"#fdca26\"],[1.0,\"#f0f921\"]]}],\"heatmapgl\":[{\"type\":\"heatmapgl\",\"colorbar\":{\"outlinewidth\":0,\"ticks\":\"\"},\"colorscale\":[[0.0,\"#0d0887\"],[0.1111111111111111,\"#46039f\"],[0.2222222222222222,\"#7201a8\"],[0.3333333333333333,\"#9c179e\"],[0.4444444444444444,\"#bd3786\"],[0.5555555555555556,\"#d8576b\"],[0.6666666666666666,\"#ed7953\"],[0.7777777777777778,\"#fb9f3a\"],[0.8888888888888888,\"#fdca26\"],[1.0,\"#f0f921\"]]}],\"contourcarpet\":[{\"type\":\"contourcarpet\",\"colorbar\":{\"outlinewidth\":0,\"ticks\":\"\"}}],\"contour\":[{\"type\":\"contour\",\"colorbar\":{\"outlinewidth\":0,\"ticks\":\"\"},\"colorscale\":[[0.0,\"#0d0887\"],[0.1111111111111111,\"#46039f\"],[0.2222222222222222,\"#7201a8\"],[0.3333333333333333,\"#9c179e\"],[0.4444444444444444,\"#bd3786\"],[0.5555555555555556,\"#d8576b\"],[0.6666666666666666,\"#ed7953\"],[0.7777777777777778,\"#fb9f3a\"],[0.8888888888888888,\"#fdca26\"],[1.0,\"#f0f921\"]]}],\"surface\":[{\"type\":\"surface\",\"colorbar\":{\"outlinewidth\":0,\"ticks\":\"\"},\"colorscale\":[[0.0,\"#0d0887\"],[0.1111111111111111,\"#46039f\"],[0.2222222222222222,\"#7201a8\"],[0.3333333333333333,\"#9c179e\"],[0.4444444444444444,\"#bd3786\"],[0.5555555555555556,\"#d8576b\"],[0.6666666666666666,\"#ed7953\"],[0.7777777777777778,\"#fb9f3a\"],[0.8888888888888888,\"#fdca26\"],[1.0,\"#f0f921\"]]}],\"mesh3d\":[{\"type\":\"mesh3d\",\"colorbar\":{\"outlinewidth\":0,\"ticks\":\"\"}}],\"scatter\":[{\"fillpattern\":{\"fillmode\":\"overlay\",\"size\":10,\"solidity\":0.2},\"type\":\"scatter\"}],\"parcoords\":[{\"type\":\"parcoords\",\"line\":{\"colorbar\":{\"outlinewidth\":0,\"ticks\":\"\"}}}],\"scatterpolargl\":[{\"type\":\"scatterpolargl\",\"marker\":{\"colorbar\":{\"outlinewidth\":0,\"ticks\":\"\"}}}],\"bar\":[{\"error_x\":{\"color\":\"#2a3f5f\"},\"error_y\":{\"color\":\"#2a3f5f\"},\"marker\":{\"line\":{\"color\":\"#E5ECF6\",\"width\":0.5},\"pattern\":{\"fillmode\":\"overlay\",\"size\":10,\"solidity\":0.2}},\"type\":\"bar\"}],\"scattergeo\":[{\"type\":\"scattergeo\",\"marker\":{\"colorbar\":{\"outlinewidth\":0,\"ticks\":\"\"}}}],\"scatterpolar\":[{\"type\":\"scatterpolar\",\"marker\":{\"colorbar\":{\"outlinewidth\":0,\"ticks\":\"\"}}}],\"histogram\":[{\"marker\":{\"pattern\":{\"fillmode\":\"overlay\",\"size\":10,\"solidity\":0.2}},\"type\":\"histogram\"}],\"scattergl\":[{\"type\":\"scattergl\",\"marker\":{\"colorbar\":{\"outlinewidth\":0,\"ticks\":\"\"}}}],\"scatter3d\":[{\"type\":\"scatter3d\",\"line\":{\"colorbar\":{\"outlinewidth\":0,\"ticks\":\"\"}},\"marker\":{\"colorbar\":{\"outlinewidth\":0,\"ticks\":\"\"}}}],\"scattermapbox\":[{\"type\":\"scattermapbox\",\"marker\":{\"colorbar\":{\"outlinewidth\":0,\"ticks\":\"\"}}}],\"scatterternary\":[{\"type\":\"scatterternary\",\"marker\":{\"colorbar\":{\"outlinewidth\":0,\"ticks\":\"\"}}}],\"scattercarpet\":[{\"type\":\"scattercarpet\",\"marker\":{\"colorbar\":{\"outlinewidth\":0,\"ticks\":\"\"}}}],\"carpet\":[{\"aaxis\":{\"endlinecolor\":\"#2a3f5f\",\"gridcolor\":\"white\",\"linecolor\":\"white\",\"minorgridcolor\":\"white\",\"startlinecolor\":\"#2a3f5f\"},\"baxis\":{\"endlinecolor\":\"#2a3f5f\",\"gridcolor\":\"white\",\"linecolor\":\"white\",\"minorgridcolor\":\"white\",\"startlinecolor\":\"#2a3f5f\"},\"type\":\"carpet\"}],\"table\":[{\"cells\":{\"fill\":{\"color\":\"#EBF0F8\"},\"line\":{\"color\":\"white\"}},\"header\":{\"fill\":{\"color\":\"#C8D4E3\"},\"line\":{\"color\":\"white\"}},\"type\":\"table\"}],\"barpolar\":[{\"marker\":{\"line\":{\"color\":\"#E5ECF6\",\"width\":0.5},\"pattern\":{\"fillmode\":\"overlay\",\"size\":10,\"solidity\":0.2}},\"type\":\"barpolar\"}],\"pie\":[{\"automargin\":true,\"type\":\"pie\"}]},\"layout\":{\"autotypenumbers\":\"strict\",\"colorway\":[\"#636efa\",\"#EF553B\",\"#00cc96\",\"#ab63fa\",\"#FFA15A\",\"#19d3f3\",\"#FF6692\",\"#B6E880\",\"#FF97FF\",\"#FECB52\"],\"font\":{\"color\":\"#2a3f5f\"},\"hovermode\":\"closest\",\"hoverlabel\":{\"align\":\"left\"},\"paper_bgcolor\":\"white\",\"plot_bgcolor\":\"#E5ECF6\",\"polar\":{\"bgcolor\":\"#E5ECF6\",\"angularaxis\":{\"gridcolor\":\"white\",\"linecolor\":\"white\",\"ticks\":\"\"},\"radialaxis\":{\"gridcolor\":\"white\",\"linecolor\":\"white\",\"ticks\":\"\"}},\"ternary\":{\"bgcolor\":\"#E5ECF6\",\"aaxis\":{\"gridcolor\":\"white\",\"linecolor\":\"white\",\"ticks\":\"\"},\"baxis\":{\"gridcolor\":\"white\",\"linecolor\":\"white\",\"ticks\":\"\"},\"caxis\":{\"gridcolor\":\"white\",\"linecolor\":\"white\",\"ticks\":\"\"}},\"coloraxis\":{\"colorbar\":{\"outlinewidth\":0,\"ticks\":\"\"}},\"colorscale\":{\"sequential\":[[0.0,\"#0d0887\"],[0.1111111111111111,\"#46039f\"],[0.2222222222222222,\"#7201a8\"],[0.3333333333333333,\"#9c179e\"],[0.4444444444444444,\"#bd3786\"],[0.5555555555555556,\"#d8576b\"],[0.6666666666666666,\"#ed7953\"],[0.7777777777777778,\"#fb9f3a\"],[0.8888888888888888,\"#fdca26\"],[1.0,\"#f0f921\"]],\"sequentialminus\":[[0.0,\"#0d0887\"],[0.1111111111111111,\"#46039f\"],[0.2222222222222222,\"#7201a8\"],[0.3333333333333333,\"#9c179e\"],[0.4444444444444444,\"#bd3786\"],[0.5555555555555556,\"#d8576b\"],[0.6666666666666666,\"#ed7953\"],[0.7777777777777778,\"#fb9f3a\"],[0.8888888888888888,\"#fdca26\"],[1.0,\"#f0f921\"]],\"diverging\":[[0,\"#8e0152\"],[0.1,\"#c51b7d\"],[0.2,\"#de77ae\"],[0.3,\"#f1b6da\"],[0.4,\"#fde0ef\"],[0.5,\"#f7f7f7\"],[0.6,\"#e6f5d0\"],[0.7,\"#b8e186\"],[0.8,\"#7fbc41\"],[0.9,\"#4d9221\"],[1,\"#276419\"]]},\"xaxis\":{\"gridcolor\":\"white\",\"linecolor\":\"white\",\"ticks\":\"\",\"title\":{\"standoff\":15},\"zerolinecolor\":\"white\",\"automargin\":true,\"zerolinewidth\":2},\"yaxis\":{\"gridcolor\":\"white\",\"linecolor\":\"white\",\"ticks\":\"\",\"title\":{\"standoff\":15},\"zerolinecolor\":\"white\",\"automargin\":true,\"zerolinewidth\":2},\"scene\":{\"xaxis\":{\"backgroundcolor\":\"#E5ECF6\",\"gridcolor\":\"white\",\"linecolor\":\"white\",\"showbackground\":true,\"ticks\":\"\",\"zerolinecolor\":\"white\",\"gridwidth\":2},\"yaxis\":{\"backgroundcolor\":\"#E5ECF6\",\"gridcolor\":\"white\",\"linecolor\":\"white\",\"showbackground\":true,\"ticks\":\"\",\"zerolinecolor\":\"white\",\"gridwidth\":2},\"zaxis\":{\"backgroundcolor\":\"#E5ECF6\",\"gridcolor\":\"white\",\"linecolor\":\"white\",\"showbackground\":true,\"ticks\":\"\",\"zerolinecolor\":\"white\",\"gridwidth\":2}},\"shapedefaults\":{\"line\":{\"color\":\"#2a3f5f\"}},\"annotationdefaults\":{\"arrowcolor\":\"#2a3f5f\",\"arrowhead\":0,\"arrowwidth\":1},\"geo\":{\"bgcolor\":\"white\",\"landcolor\":\"#E5ECF6\",\"subunitcolor\":\"white\",\"showland\":true,\"showlakes\":true,\"lakecolor\":\"white\"},\"title\":{\"x\":0.05},\"mapbox\":{\"style\":\"light\"}}}},                        {\"responsive\": true}                    ).then(function(){\n",
       "                            \n",
       "var gd = document.getElementById('48762436-a265-4424-88bb-d32d6ee265f4');\n",
       "var x = new MutationObserver(function (mutations, observer) {{\n",
       "        var display = window.getComputedStyle(gd).display;\n",
       "        if (!display || display === 'none') {{\n",
       "            console.log([gd, 'removed!']);\n",
       "            Plotly.purge(gd);\n",
       "            observer.disconnect();\n",
       "        }}\n",
       "}});\n",
       "\n",
       "// Listen for the removal of the full notebook cells\n",
       "var notebookContainer = gd.closest('#notebook-container');\n",
       "if (notebookContainer) {{\n",
       "    x.observe(notebookContainer, {childList: true});\n",
       "}}\n",
       "\n",
       "// Listen for the clearing of the current output cell\n",
       "var outputEl = gd.closest('.output');\n",
       "if (outputEl) {{\n",
       "    x.observe(outputEl, {childList: true});\n",
       "}}\n",
       "\n",
       "                        })                };                });            </script>        </div>"
      ]
     },
     "metadata": {},
     "output_type": "display_data"
    }
   ],
   "source": [
    "j = pn.plotly2D(ptheta_hf)\n",
    "fig2 = pi.from_json(j)\n",
    "fig2.show()"
   ]
  },
  {
   "cell_type": "code",
   "execution_count": 38,
   "id": "72c5338c-b3a3-4ac3-8472-6b1993651682",
   "metadata": {},
   "outputs": [
    {
     "name": "stdout",
     "output_type": "stream",
     "text": [
      "(50000, 8)\n"
     ]
    }
   ],
   "source": [
    "pipi_hf = pn.HistFrame(pn.Binning.lin_spaceND([[30,0,0.5],[30,0,0.5]]))\n",
    "print(df.table.shape)\n",
    "for r in df.table:\n",
    "    if r[7] > 0:\n",
    "        pipi_hf.fill([r[6],r[7]],r[1])"
   ]
  },
  {
   "cell_type": "code",
   "execution_count": 33,
   "id": "35aeec55-d8a1-43b1-8b9c-2d99af7eb62f",
   "metadata": {},
   "outputs": [
    {
     "data": {
      "application/vnd.plotly.v1+json": {
       "config": {
        "plotlyServerURL": "https://plot.ly"
       },
       "data": [
        {
         "hoverongaps": false,
         "type": "heatmap",
         "x": [
          0.008333333333333333,
          0.025,
          0.04166666666666667,
          0.058333333333333334,
          0.075,
          0.09166666666666667,
          0.10833333333333334,
          0.125,
          0.14166666666666666,
          0.15833333333333333,
          0.175,
          0.19166666666666665,
          0.20833333333333334,
          0.225,
          0.24166666666666667,
          0.2583333333333333,
          0.275,
          0.29166666666666663,
          0.30833333333333335,
          0.32499999999999996,
          0.3416666666666667,
          0.3583333333333333,
          0.375,
          0.39166666666666666,
          0.4083333333333333,
          0.42500000000000004,
          0.44166666666666665,
          0.45833333333333337,
          0.475,
          0.4916666666666667,
          0.008333333333333333,
          0.025,
          0.04166666666666667,
          0.058333333333333334,
          0.075,
          0.09166666666666667,
          0.10833333333333334,
          0.125,
          0.14166666666666666,
          0.15833333333333333,
          0.175,
          0.19166666666666665,
          0.20833333333333334,
          0.225,
          0.24166666666666667,
          0.2583333333333333,
          0.275,
          0.29166666666666663,
          0.30833333333333335,
          0.32499999999999996,
          0.3416666666666667,
          0.3583333333333333,
          0.375,
          0.39166666666666666,
          0.4083333333333333,
          0.42500000000000004,
          0.44166666666666665,
          0.45833333333333337,
          0.475,
          0.4916666666666667,
          0.008333333333333333,
          0.025,
          0.04166666666666667,
          0.058333333333333334,
          0.075,
          0.09166666666666667,
          0.10833333333333334,
          0.125,
          0.14166666666666666,
          0.15833333333333333,
          0.175,
          0.19166666666666665,
          0.20833333333333334,
          0.225,
          0.24166666666666667,
          0.2583333333333333,
          0.275,
          0.29166666666666663,
          0.30833333333333335,
          0.32499999999999996,
          0.3416666666666667,
          0.3583333333333333,
          0.375,
          0.39166666666666666,
          0.4083333333333333,
          0.42500000000000004,
          0.44166666666666665,
          0.45833333333333337,
          0.475,
          0.4916666666666667,
          0.008333333333333333,
          0.025,
          0.04166666666666667,
          0.058333333333333334,
          0.075,
          0.09166666666666667,
          0.10833333333333334,
          0.125,
          0.14166666666666666,
          0.15833333333333333,
          0.175,
          0.19166666666666665,
          0.20833333333333334,
          0.225,
          0.24166666666666667,
          0.2583333333333333,
          0.275,
          0.29166666666666663,
          0.30833333333333335,
          0.32499999999999996,
          0.3416666666666667,
          0.3583333333333333,
          0.375,
          0.39166666666666666,
          0.4083333333333333,
          0.42500000000000004,
          0.44166666666666665,
          0.45833333333333337,
          0.475,
          0.4916666666666667,
          0.008333333333333333,
          0.025,
          0.04166666666666667,
          0.058333333333333334,
          0.075,
          0.09166666666666667,
          0.10833333333333334,
          0.125,
          0.14166666666666666,
          0.15833333333333333,
          0.175,
          0.19166666666666665,
          0.20833333333333334,
          0.225,
          0.24166666666666667,
          0.2583333333333333,
          0.275,
          0.29166666666666663,
          0.30833333333333335,
          0.32499999999999996,
          0.3416666666666667,
          0.3583333333333333,
          0.375,
          0.39166666666666666,
          0.4083333333333333,
          0.42500000000000004,
          0.44166666666666665,
          0.45833333333333337,
          0.475,
          0.4916666666666667,
          0.008333333333333333,
          0.025,
          0.04166666666666667,
          0.058333333333333334,
          0.075,
          0.09166666666666667,
          0.10833333333333334,
          0.125,
          0.14166666666666666,
          0.15833333333333333,
          0.175,
          0.19166666666666665,
          0.20833333333333334,
          0.225,
          0.24166666666666667,
          0.2583333333333333,
          0.275,
          0.29166666666666663,
          0.30833333333333335,
          0.32499999999999996,
          0.3416666666666667,
          0.3583333333333333,
          0.375,
          0.39166666666666666,
          0.4083333333333333,
          0.42500000000000004,
          0.44166666666666665,
          0.45833333333333337,
          0.475,
          0.4916666666666667,
          0.008333333333333333,
          0.025,
          0.04166666666666667,
          0.058333333333333334,
          0.075,
          0.09166666666666667,
          0.10833333333333334,
          0.125,
          0.14166666666666666,
          0.15833333333333333,
          0.175,
          0.19166666666666665,
          0.20833333333333334,
          0.225,
          0.24166666666666667,
          0.2583333333333333,
          0.275,
          0.29166666666666663,
          0.30833333333333335,
          0.32499999999999996,
          0.3416666666666667,
          0.3583333333333333,
          0.375,
          0.39166666666666666,
          0.4083333333333333,
          0.42500000000000004,
          0.44166666666666665,
          0.45833333333333337,
          0.475,
          0.4916666666666667,
          0.008333333333333333,
          0.025,
          0.04166666666666667,
          0.058333333333333334,
          0.075,
          0.09166666666666667,
          0.10833333333333334,
          0.125,
          0.14166666666666666,
          0.15833333333333333,
          0.175,
          0.19166666666666665,
          0.20833333333333334,
          0.225,
          0.24166666666666667,
          0.2583333333333333,
          0.275,
          0.29166666666666663,
          0.30833333333333335,
          0.32499999999999996,
          0.3416666666666667,
          0.3583333333333333,
          0.375,
          0.39166666666666666,
          0.4083333333333333,
          0.42500000000000004,
          0.44166666666666665,
          0.45833333333333337,
          0.475,
          0.4916666666666667,
          0.008333333333333333,
          0.025,
          0.04166666666666667,
          0.058333333333333334,
          0.075,
          0.09166666666666667,
          0.10833333333333334,
          0.125,
          0.14166666666666666,
          0.15833333333333333,
          0.175,
          0.19166666666666665,
          0.20833333333333334,
          0.225,
          0.24166666666666667,
          0.2583333333333333,
          0.275,
          0.29166666666666663,
          0.30833333333333335,
          0.32499999999999996,
          0.3416666666666667,
          0.3583333333333333,
          0.375,
          0.39166666666666666,
          0.4083333333333333,
          0.42500000000000004,
          0.44166666666666665,
          0.45833333333333337,
          0.475,
          0.4916666666666667,
          0.008333333333333333,
          0.025,
          0.04166666666666667,
          0.058333333333333334,
          0.075,
          0.09166666666666667,
          0.10833333333333334,
          0.125,
          0.14166666666666666,
          0.15833333333333333,
          0.175,
          0.19166666666666665,
          0.20833333333333334,
          0.225,
          0.24166666666666667,
          0.2583333333333333,
          0.275,
          0.29166666666666663,
          0.30833333333333335,
          0.32499999999999996,
          0.3416666666666667,
          0.3583333333333333,
          0.375,
          0.39166666666666666,
          0.4083333333333333,
          0.42500000000000004,
          0.44166666666666665,
          0.45833333333333337,
          0.475,
          0.4916666666666667,
          0.008333333333333333,
          0.025,
          0.04166666666666667,
          0.058333333333333334,
          0.075,
          0.09166666666666667,
          0.10833333333333334,
          0.125,
          0.14166666666666666,
          0.15833333333333333,
          0.175,
          0.19166666666666665,
          0.20833333333333334,
          0.225,
          0.24166666666666667,
          0.2583333333333333,
          0.275,
          0.29166666666666663,
          0.30833333333333335,
          0.32499999999999996,
          0.3416666666666667,
          0.3583333333333333,
          0.375,
          0.39166666666666666,
          0.4083333333333333,
          0.42500000000000004,
          0.44166666666666665,
          0.45833333333333337,
          0.475,
          0.4916666666666667,
          0.008333333333333333,
          0.025,
          0.04166666666666667,
          0.058333333333333334,
          0.075,
          0.09166666666666667,
          0.10833333333333334,
          0.125,
          0.14166666666666666,
          0.15833333333333333,
          0.175,
          0.19166666666666665,
          0.20833333333333334,
          0.225,
          0.24166666666666667,
          0.2583333333333333,
          0.275,
          0.29166666666666663,
          0.30833333333333335,
          0.32499999999999996,
          0.3416666666666667,
          0.3583333333333333,
          0.375,
          0.39166666666666666,
          0.4083333333333333,
          0.42500000000000004,
          0.44166666666666665,
          0.45833333333333337,
          0.475,
          0.4916666666666667,
          0.008333333333333333,
          0.025,
          0.04166666666666667,
          0.058333333333333334,
          0.075,
          0.09166666666666667,
          0.10833333333333334,
          0.125,
          0.14166666666666666,
          0.15833333333333333,
          0.175,
          0.19166666666666665,
          0.20833333333333334,
          0.225,
          0.24166666666666667,
          0.2583333333333333,
          0.275,
          0.29166666666666663,
          0.30833333333333335,
          0.32499999999999996,
          0.3416666666666667,
          0.3583333333333333,
          0.375,
          0.39166666666666666,
          0.4083333333333333,
          0.42500000000000004,
          0.44166666666666665,
          0.45833333333333337,
          0.475,
          0.4916666666666667,
          0.008333333333333333,
          0.025,
          0.04166666666666667,
          0.058333333333333334,
          0.075,
          0.09166666666666667,
          0.10833333333333334,
          0.125,
          0.14166666666666666,
          0.15833333333333333,
          0.175,
          0.19166666666666665,
          0.20833333333333334,
          0.225,
          0.24166666666666667,
          0.2583333333333333,
          0.275,
          0.29166666666666663,
          0.30833333333333335,
          0.32499999999999996,
          0.3416666666666667,
          0.3583333333333333,
          0.375,
          0.39166666666666666,
          0.4083333333333333,
          0.42500000000000004,
          0.44166666666666665,
          0.45833333333333337,
          0.475,
          0.4916666666666667,
          0.008333333333333333,
          0.025,
          0.04166666666666667,
          0.058333333333333334,
          0.075,
          0.09166666666666667,
          0.10833333333333334,
          0.125,
          0.14166666666666666,
          0.15833333333333333,
          0.175,
          0.19166666666666665,
          0.20833333333333334,
          0.225,
          0.24166666666666667,
          0.2583333333333333,
          0.275,
          0.29166666666666663,
          0.30833333333333335,
          0.32499999999999996,
          0.3416666666666667,
          0.3583333333333333,
          0.375,
          0.39166666666666666,
          0.4083333333333333,
          0.42500000000000004,
          0.44166666666666665,
          0.45833333333333337,
          0.475,
          0.4916666666666667,
          0.008333333333333333,
          0.025,
          0.04166666666666667,
          0.058333333333333334,
          0.075,
          0.09166666666666667,
          0.10833333333333334,
          0.125,
          0.14166666666666666,
          0.15833333333333333,
          0.175,
          0.19166666666666665,
          0.20833333333333334,
          0.225,
          0.24166666666666667,
          0.2583333333333333,
          0.275,
          0.29166666666666663,
          0.30833333333333335,
          0.32499999999999996,
          0.3416666666666667,
          0.3583333333333333,
          0.375,
          0.39166666666666666,
          0.4083333333333333,
          0.42500000000000004,
          0.44166666666666665,
          0.45833333333333337,
          0.475,
          0.4916666666666667,
          0.008333333333333333,
          0.025,
          0.04166666666666667,
          0.058333333333333334,
          0.075,
          0.09166666666666667,
          0.10833333333333334,
          0.125,
          0.14166666666666666,
          0.15833333333333333,
          0.175,
          0.19166666666666665,
          0.20833333333333334,
          0.225,
          0.24166666666666667,
          0.2583333333333333,
          0.275,
          0.29166666666666663,
          0.30833333333333335,
          0.32499999999999996,
          0.3416666666666667,
          0.3583333333333333,
          0.375,
          0.39166666666666666,
          0.4083333333333333,
          0.42500000000000004,
          0.44166666666666665,
          0.45833333333333337,
          0.475,
          0.4916666666666667,
          0.008333333333333333,
          0.025,
          0.04166666666666667,
          0.058333333333333334,
          0.075,
          0.09166666666666667,
          0.10833333333333334,
          0.125,
          0.14166666666666666,
          0.15833333333333333,
          0.175,
          0.19166666666666665,
          0.20833333333333334,
          0.225,
          0.24166666666666667,
          0.2583333333333333,
          0.275,
          0.29166666666666663,
          0.30833333333333335,
          0.32499999999999996,
          0.3416666666666667,
          0.3583333333333333,
          0.375,
          0.39166666666666666,
          0.4083333333333333,
          0.42500000000000004,
          0.44166666666666665,
          0.45833333333333337,
          0.475,
          0.4916666666666667,
          0.008333333333333333,
          0.025,
          0.04166666666666667,
          0.058333333333333334,
          0.075,
          0.09166666666666667,
          0.10833333333333334,
          0.125,
          0.14166666666666666,
          0.15833333333333333,
          0.175,
          0.19166666666666665,
          0.20833333333333334,
          0.225,
          0.24166666666666667,
          0.2583333333333333,
          0.275,
          0.29166666666666663,
          0.30833333333333335,
          0.32499999999999996,
          0.3416666666666667,
          0.3583333333333333,
          0.375,
          0.39166666666666666,
          0.4083333333333333,
          0.42500000000000004,
          0.44166666666666665,
          0.45833333333333337,
          0.475,
          0.4916666666666667,
          0.008333333333333333,
          0.025,
          0.04166666666666667,
          0.058333333333333334,
          0.075,
          0.09166666666666667,
          0.10833333333333334,
          0.125,
          0.14166666666666666,
          0.15833333333333333,
          0.175,
          0.19166666666666665,
          0.20833333333333334,
          0.225,
          0.24166666666666667,
          0.2583333333333333,
          0.275,
          0.29166666666666663,
          0.30833333333333335,
          0.32499999999999996,
          0.3416666666666667,
          0.3583333333333333,
          0.375,
          0.39166666666666666,
          0.4083333333333333,
          0.42500000000000004,
          0.44166666666666665,
          0.45833333333333337,
          0.475,
          0.4916666666666667,
          0.008333333333333333,
          0.025,
          0.04166666666666667,
          0.058333333333333334,
          0.075,
          0.09166666666666667,
          0.10833333333333334,
          0.125,
          0.14166666666666666,
          0.15833333333333333,
          0.175,
          0.19166666666666665,
          0.20833333333333334,
          0.225,
          0.24166666666666667,
          0.2583333333333333,
          0.275,
          0.29166666666666663,
          0.30833333333333335,
          0.32499999999999996,
          0.3416666666666667,
          0.3583333333333333,
          0.375,
          0.39166666666666666,
          0.4083333333333333,
          0.42500000000000004,
          0.44166666666666665,
          0.45833333333333337,
          0.475,
          0.4916666666666667,
          0.008333333333333333,
          0.025,
          0.04166666666666667,
          0.058333333333333334,
          0.075,
          0.09166666666666667,
          0.10833333333333334,
          0.125,
          0.14166666666666666,
          0.15833333333333333,
          0.175,
          0.19166666666666665,
          0.20833333333333334,
          0.225,
          0.24166666666666667,
          0.2583333333333333,
          0.275,
          0.29166666666666663,
          0.30833333333333335,
          0.32499999999999996,
          0.3416666666666667,
          0.3583333333333333,
          0.375,
          0.39166666666666666,
          0.4083333333333333,
          0.42500000000000004,
          0.44166666666666665,
          0.45833333333333337,
          0.475,
          0.4916666666666667,
          0.008333333333333333,
          0.025,
          0.04166666666666667,
          0.058333333333333334,
          0.075,
          0.09166666666666667,
          0.10833333333333334,
          0.125,
          0.14166666666666666,
          0.15833333333333333,
          0.175,
          0.19166666666666665,
          0.20833333333333334,
          0.225,
          0.24166666666666667,
          0.2583333333333333,
          0.275,
          0.29166666666666663,
          0.30833333333333335,
          0.32499999999999996,
          0.3416666666666667,
          0.3583333333333333,
          0.375,
          0.39166666666666666,
          0.4083333333333333,
          0.42500000000000004,
          0.44166666666666665,
          0.45833333333333337,
          0.475,
          0.4916666666666667,
          0.008333333333333333,
          0.025,
          0.04166666666666667,
          0.058333333333333334,
          0.075,
          0.09166666666666667,
          0.10833333333333334,
          0.125,
          0.14166666666666666,
          0.15833333333333333,
          0.175,
          0.19166666666666665,
          0.20833333333333334,
          0.225,
          0.24166666666666667,
          0.2583333333333333,
          0.275,
          0.29166666666666663,
          0.30833333333333335,
          0.32499999999999996,
          0.3416666666666667,
          0.3583333333333333,
          0.375,
          0.39166666666666666,
          0.4083333333333333,
          0.42500000000000004,
          0.44166666666666665,
          0.45833333333333337,
          0.475,
          0.4916666666666667,
          0.008333333333333333,
          0.025,
          0.04166666666666667,
          0.058333333333333334,
          0.075,
          0.09166666666666667,
          0.10833333333333334,
          0.125,
          0.14166666666666666,
          0.15833333333333333,
          0.175,
          0.19166666666666665,
          0.20833333333333334,
          0.225,
          0.24166666666666667,
          0.2583333333333333,
          0.275,
          0.29166666666666663,
          0.30833333333333335,
          0.32499999999999996,
          0.3416666666666667,
          0.3583333333333333,
          0.375,
          0.39166666666666666,
          0.4083333333333333,
          0.42500000000000004,
          0.44166666666666665,
          0.45833333333333337,
          0.475,
          0.4916666666666667,
          0.008333333333333333,
          0.025,
          0.04166666666666667,
          0.058333333333333334,
          0.075,
          0.09166666666666667,
          0.10833333333333334,
          0.125,
          0.14166666666666666,
          0.15833333333333333,
          0.175,
          0.19166666666666665,
          0.20833333333333334,
          0.225,
          0.24166666666666667,
          0.2583333333333333,
          0.275,
          0.29166666666666663,
          0.30833333333333335,
          0.32499999999999996,
          0.3416666666666667,
          0.3583333333333333,
          0.375,
          0.39166666666666666,
          0.4083333333333333,
          0.42500000000000004,
          0.44166666666666665,
          0.45833333333333337,
          0.475,
          0.4916666666666667,
          0.008333333333333333,
          0.025,
          0.04166666666666667,
          0.058333333333333334,
          0.075,
          0.09166666666666667,
          0.10833333333333334,
          0.125,
          0.14166666666666666,
          0.15833333333333333,
          0.175,
          0.19166666666666665,
          0.20833333333333334,
          0.225,
          0.24166666666666667,
          0.2583333333333333,
          0.275,
          0.29166666666666663,
          0.30833333333333335,
          0.32499999999999996,
          0.3416666666666667,
          0.3583333333333333,
          0.375,
          0.39166666666666666,
          0.4083333333333333,
          0.42500000000000004,
          0.44166666666666665,
          0.45833333333333337,
          0.475,
          0.4916666666666667,
          0.008333333333333333,
          0.025,
          0.04166666666666667,
          0.058333333333333334,
          0.075,
          0.09166666666666667,
          0.10833333333333334,
          0.125,
          0.14166666666666666,
          0.15833333333333333,
          0.175,
          0.19166666666666665,
          0.20833333333333334,
          0.225,
          0.24166666666666667,
          0.2583333333333333,
          0.275,
          0.29166666666666663,
          0.30833333333333335,
          0.32499999999999996,
          0.3416666666666667,
          0.3583333333333333,
          0.375,
          0.39166666666666666,
          0.4083333333333333,
          0.42500000000000004,
          0.44166666666666665,
          0.45833333333333337,
          0.475,
          0.4916666666666667,
          0.008333333333333333,
          0.025,
          0.04166666666666667,
          0.058333333333333334,
          0.075,
          0.09166666666666667,
          0.10833333333333334,
          0.125,
          0.14166666666666666,
          0.15833333333333333,
          0.175,
          0.19166666666666665,
          0.20833333333333334,
          0.225,
          0.24166666666666667,
          0.2583333333333333,
          0.275,
          0.29166666666666663,
          0.30833333333333335,
          0.32499999999999996,
          0.3416666666666667,
          0.3583333333333333,
          0.375,
          0.39166666666666666,
          0.4083333333333333,
          0.42500000000000004,
          0.44166666666666665,
          0.45833333333333337,
          0.475,
          0.4916666666666667,
          0.008333333333333333,
          0.025,
          0.04166666666666667,
          0.058333333333333334,
          0.075,
          0.09166666666666667,
          0.10833333333333334,
          0.125,
          0.14166666666666666,
          0.15833333333333333,
          0.175,
          0.19166666666666665,
          0.20833333333333334,
          0.225,
          0.24166666666666667,
          0.2583333333333333,
          0.275,
          0.29166666666666663,
          0.30833333333333335,
          0.32499999999999996,
          0.3416666666666667,
          0.3583333333333333,
          0.375,
          0.39166666666666666,
          0.4083333333333333,
          0.42500000000000004,
          0.44166666666666665,
          0.45833333333333337,
          0.475,
          0.4916666666666667
         ],
         "y": [
          0.008333333333333333,
          0.008333333333333333,
          0.008333333333333333,
          0.008333333333333333,
          0.008333333333333333,
          0.008333333333333333,
          0.008333333333333333,
          0.008333333333333333,
          0.008333333333333333,
          0.008333333333333333,
          0.008333333333333333,
          0.008333333333333333,
          0.008333333333333333,
          0.008333333333333333,
          0.008333333333333333,
          0.008333333333333333,
          0.008333333333333333,
          0.008333333333333333,
          0.008333333333333333,
          0.008333333333333333,
          0.008333333333333333,
          0.008333333333333333,
          0.008333333333333333,
          0.008333333333333333,
          0.008333333333333333,
          0.008333333333333333,
          0.008333333333333333,
          0.008333333333333333,
          0.008333333333333333,
          0.008333333333333333,
          0.025,
          0.025,
          0.025,
          0.025,
          0.025,
          0.025,
          0.025,
          0.025,
          0.025,
          0.025,
          0.025,
          0.025,
          0.025,
          0.025,
          0.025,
          0.025,
          0.025,
          0.025,
          0.025,
          0.025,
          0.025,
          0.025,
          0.025,
          0.025,
          0.025,
          0.025,
          0.025,
          0.025,
          0.025,
          0.025,
          0.04166666666666667,
          0.04166666666666667,
          0.04166666666666667,
          0.04166666666666667,
          0.04166666666666667,
          0.04166666666666667,
          0.04166666666666667,
          0.04166666666666667,
          0.04166666666666667,
          0.04166666666666667,
          0.04166666666666667,
          0.04166666666666667,
          0.04166666666666667,
          0.04166666666666667,
          0.04166666666666667,
          0.04166666666666667,
          0.04166666666666667,
          0.04166666666666667,
          0.04166666666666667,
          0.04166666666666667,
          0.04166666666666667,
          0.04166666666666667,
          0.04166666666666667,
          0.04166666666666667,
          0.04166666666666667,
          0.04166666666666667,
          0.04166666666666667,
          0.04166666666666667,
          0.04166666666666667,
          0.04166666666666667,
          0.058333333333333334,
          0.058333333333333334,
          0.058333333333333334,
          0.058333333333333334,
          0.058333333333333334,
          0.058333333333333334,
          0.058333333333333334,
          0.058333333333333334,
          0.058333333333333334,
          0.058333333333333334,
          0.058333333333333334,
          0.058333333333333334,
          0.058333333333333334,
          0.058333333333333334,
          0.058333333333333334,
          0.058333333333333334,
          0.058333333333333334,
          0.058333333333333334,
          0.058333333333333334,
          0.058333333333333334,
          0.058333333333333334,
          0.058333333333333334,
          0.058333333333333334,
          0.058333333333333334,
          0.058333333333333334,
          0.058333333333333334,
          0.058333333333333334,
          0.058333333333333334,
          0.058333333333333334,
          0.058333333333333334,
          0.075,
          0.075,
          0.075,
          0.075,
          0.075,
          0.075,
          0.075,
          0.075,
          0.075,
          0.075,
          0.075,
          0.075,
          0.075,
          0.075,
          0.075,
          0.075,
          0.075,
          0.075,
          0.075,
          0.075,
          0.075,
          0.075,
          0.075,
          0.075,
          0.075,
          0.075,
          0.075,
          0.075,
          0.075,
          0.075,
          0.09166666666666667,
          0.09166666666666667,
          0.09166666666666667,
          0.09166666666666667,
          0.09166666666666667,
          0.09166666666666667,
          0.09166666666666667,
          0.09166666666666667,
          0.09166666666666667,
          0.09166666666666667,
          0.09166666666666667,
          0.09166666666666667,
          0.09166666666666667,
          0.09166666666666667,
          0.09166666666666667,
          0.09166666666666667,
          0.09166666666666667,
          0.09166666666666667,
          0.09166666666666667,
          0.09166666666666667,
          0.09166666666666667,
          0.09166666666666667,
          0.09166666666666667,
          0.09166666666666667,
          0.09166666666666667,
          0.09166666666666667,
          0.09166666666666667,
          0.09166666666666667,
          0.09166666666666667,
          0.09166666666666667,
          0.10833333333333334,
          0.10833333333333334,
          0.10833333333333334,
          0.10833333333333334,
          0.10833333333333334,
          0.10833333333333334,
          0.10833333333333334,
          0.10833333333333334,
          0.10833333333333334,
          0.10833333333333334,
          0.10833333333333334,
          0.10833333333333334,
          0.10833333333333334,
          0.10833333333333334,
          0.10833333333333334,
          0.10833333333333334,
          0.10833333333333334,
          0.10833333333333334,
          0.10833333333333334,
          0.10833333333333334,
          0.10833333333333334,
          0.10833333333333334,
          0.10833333333333334,
          0.10833333333333334,
          0.10833333333333334,
          0.10833333333333334,
          0.10833333333333334,
          0.10833333333333334,
          0.10833333333333334,
          0.10833333333333334,
          0.125,
          0.125,
          0.125,
          0.125,
          0.125,
          0.125,
          0.125,
          0.125,
          0.125,
          0.125,
          0.125,
          0.125,
          0.125,
          0.125,
          0.125,
          0.125,
          0.125,
          0.125,
          0.125,
          0.125,
          0.125,
          0.125,
          0.125,
          0.125,
          0.125,
          0.125,
          0.125,
          0.125,
          0.125,
          0.125,
          0.14166666666666666,
          0.14166666666666666,
          0.14166666666666666,
          0.14166666666666666,
          0.14166666666666666,
          0.14166666666666666,
          0.14166666666666666,
          0.14166666666666666,
          0.14166666666666666,
          0.14166666666666666,
          0.14166666666666666,
          0.14166666666666666,
          0.14166666666666666,
          0.14166666666666666,
          0.14166666666666666,
          0.14166666666666666,
          0.14166666666666666,
          0.14166666666666666,
          0.14166666666666666,
          0.14166666666666666,
          0.14166666666666666,
          0.14166666666666666,
          0.14166666666666666,
          0.14166666666666666,
          0.14166666666666666,
          0.14166666666666666,
          0.14166666666666666,
          0.14166666666666666,
          0.14166666666666666,
          0.14166666666666666,
          0.15833333333333333,
          0.15833333333333333,
          0.15833333333333333,
          0.15833333333333333,
          0.15833333333333333,
          0.15833333333333333,
          0.15833333333333333,
          0.15833333333333333,
          0.15833333333333333,
          0.15833333333333333,
          0.15833333333333333,
          0.15833333333333333,
          0.15833333333333333,
          0.15833333333333333,
          0.15833333333333333,
          0.15833333333333333,
          0.15833333333333333,
          0.15833333333333333,
          0.15833333333333333,
          0.15833333333333333,
          0.15833333333333333,
          0.15833333333333333,
          0.15833333333333333,
          0.15833333333333333,
          0.15833333333333333,
          0.15833333333333333,
          0.15833333333333333,
          0.15833333333333333,
          0.15833333333333333,
          0.15833333333333333,
          0.175,
          0.175,
          0.175,
          0.175,
          0.175,
          0.175,
          0.175,
          0.175,
          0.175,
          0.175,
          0.175,
          0.175,
          0.175,
          0.175,
          0.175,
          0.175,
          0.175,
          0.175,
          0.175,
          0.175,
          0.175,
          0.175,
          0.175,
          0.175,
          0.175,
          0.175,
          0.175,
          0.175,
          0.175,
          0.175,
          0.19166666666666665,
          0.19166666666666665,
          0.19166666666666665,
          0.19166666666666665,
          0.19166666666666665,
          0.19166666666666665,
          0.19166666666666665,
          0.19166666666666665,
          0.19166666666666665,
          0.19166666666666665,
          0.19166666666666665,
          0.19166666666666665,
          0.19166666666666665,
          0.19166666666666665,
          0.19166666666666665,
          0.19166666666666665,
          0.19166666666666665,
          0.19166666666666665,
          0.19166666666666665,
          0.19166666666666665,
          0.19166666666666665,
          0.19166666666666665,
          0.19166666666666665,
          0.19166666666666665,
          0.19166666666666665,
          0.19166666666666665,
          0.19166666666666665,
          0.19166666666666665,
          0.19166666666666665,
          0.19166666666666665,
          0.20833333333333334,
          0.20833333333333334,
          0.20833333333333334,
          0.20833333333333334,
          0.20833333333333334,
          0.20833333333333334,
          0.20833333333333334,
          0.20833333333333334,
          0.20833333333333334,
          0.20833333333333334,
          0.20833333333333334,
          0.20833333333333334,
          0.20833333333333334,
          0.20833333333333334,
          0.20833333333333334,
          0.20833333333333334,
          0.20833333333333334,
          0.20833333333333334,
          0.20833333333333334,
          0.20833333333333334,
          0.20833333333333334,
          0.20833333333333334,
          0.20833333333333334,
          0.20833333333333334,
          0.20833333333333334,
          0.20833333333333334,
          0.20833333333333334,
          0.20833333333333334,
          0.20833333333333334,
          0.20833333333333334,
          0.225,
          0.225,
          0.225,
          0.225,
          0.225,
          0.225,
          0.225,
          0.225,
          0.225,
          0.225,
          0.225,
          0.225,
          0.225,
          0.225,
          0.225,
          0.225,
          0.225,
          0.225,
          0.225,
          0.225,
          0.225,
          0.225,
          0.225,
          0.225,
          0.225,
          0.225,
          0.225,
          0.225,
          0.225,
          0.225,
          0.24166666666666667,
          0.24166666666666667,
          0.24166666666666667,
          0.24166666666666667,
          0.24166666666666667,
          0.24166666666666667,
          0.24166666666666667,
          0.24166666666666667,
          0.24166666666666667,
          0.24166666666666667,
          0.24166666666666667,
          0.24166666666666667,
          0.24166666666666667,
          0.24166666666666667,
          0.24166666666666667,
          0.24166666666666667,
          0.24166666666666667,
          0.24166666666666667,
          0.24166666666666667,
          0.24166666666666667,
          0.24166666666666667,
          0.24166666666666667,
          0.24166666666666667,
          0.24166666666666667,
          0.24166666666666667,
          0.24166666666666667,
          0.24166666666666667,
          0.24166666666666667,
          0.24166666666666667,
          0.24166666666666667,
          0.2583333333333333,
          0.2583333333333333,
          0.2583333333333333,
          0.2583333333333333,
          0.2583333333333333,
          0.2583333333333333,
          0.2583333333333333,
          0.2583333333333333,
          0.2583333333333333,
          0.2583333333333333,
          0.2583333333333333,
          0.2583333333333333,
          0.2583333333333333,
          0.2583333333333333,
          0.2583333333333333,
          0.2583333333333333,
          0.2583333333333333,
          0.2583333333333333,
          0.2583333333333333,
          0.2583333333333333,
          0.2583333333333333,
          0.2583333333333333,
          0.2583333333333333,
          0.2583333333333333,
          0.2583333333333333,
          0.2583333333333333,
          0.2583333333333333,
          0.2583333333333333,
          0.2583333333333333,
          0.2583333333333333,
          0.275,
          0.275,
          0.275,
          0.275,
          0.275,
          0.275,
          0.275,
          0.275,
          0.275,
          0.275,
          0.275,
          0.275,
          0.275,
          0.275,
          0.275,
          0.275,
          0.275,
          0.275,
          0.275,
          0.275,
          0.275,
          0.275,
          0.275,
          0.275,
          0.275,
          0.275,
          0.275,
          0.275,
          0.275,
          0.275,
          0.29166666666666663,
          0.29166666666666663,
          0.29166666666666663,
          0.29166666666666663,
          0.29166666666666663,
          0.29166666666666663,
          0.29166666666666663,
          0.29166666666666663,
          0.29166666666666663,
          0.29166666666666663,
          0.29166666666666663,
          0.29166666666666663,
          0.29166666666666663,
          0.29166666666666663,
          0.29166666666666663,
          0.29166666666666663,
          0.29166666666666663,
          0.29166666666666663,
          0.29166666666666663,
          0.29166666666666663,
          0.29166666666666663,
          0.29166666666666663,
          0.29166666666666663,
          0.29166666666666663,
          0.29166666666666663,
          0.29166666666666663,
          0.29166666666666663,
          0.29166666666666663,
          0.29166666666666663,
          0.29166666666666663,
          0.30833333333333335,
          0.30833333333333335,
          0.30833333333333335,
          0.30833333333333335,
          0.30833333333333335,
          0.30833333333333335,
          0.30833333333333335,
          0.30833333333333335,
          0.30833333333333335,
          0.30833333333333335,
          0.30833333333333335,
          0.30833333333333335,
          0.30833333333333335,
          0.30833333333333335,
          0.30833333333333335,
          0.30833333333333335,
          0.30833333333333335,
          0.30833333333333335,
          0.30833333333333335,
          0.30833333333333335,
          0.30833333333333335,
          0.30833333333333335,
          0.30833333333333335,
          0.30833333333333335,
          0.30833333333333335,
          0.30833333333333335,
          0.30833333333333335,
          0.30833333333333335,
          0.30833333333333335,
          0.30833333333333335,
          0.32499999999999996,
          0.32499999999999996,
          0.32499999999999996,
          0.32499999999999996,
          0.32499999999999996,
          0.32499999999999996,
          0.32499999999999996,
          0.32499999999999996,
          0.32499999999999996,
          0.32499999999999996,
          0.32499999999999996,
          0.32499999999999996,
          0.32499999999999996,
          0.32499999999999996,
          0.32499999999999996,
          0.32499999999999996,
          0.32499999999999996,
          0.32499999999999996,
          0.32499999999999996,
          0.32499999999999996,
          0.32499999999999996,
          0.32499999999999996,
          0.32499999999999996,
          0.32499999999999996,
          0.32499999999999996,
          0.32499999999999996,
          0.32499999999999996,
          0.32499999999999996,
          0.32499999999999996,
          0.32499999999999996,
          0.3416666666666667,
          0.3416666666666667,
          0.3416666666666667,
          0.3416666666666667,
          0.3416666666666667,
          0.3416666666666667,
          0.3416666666666667,
          0.3416666666666667,
          0.3416666666666667,
          0.3416666666666667,
          0.3416666666666667,
          0.3416666666666667,
          0.3416666666666667,
          0.3416666666666667,
          0.3416666666666667,
          0.3416666666666667,
          0.3416666666666667,
          0.3416666666666667,
          0.3416666666666667,
          0.3416666666666667,
          0.3416666666666667,
          0.3416666666666667,
          0.3416666666666667,
          0.3416666666666667,
          0.3416666666666667,
          0.3416666666666667,
          0.3416666666666667,
          0.3416666666666667,
          0.3416666666666667,
          0.3416666666666667,
          0.3583333333333333,
          0.3583333333333333,
          0.3583333333333333,
          0.3583333333333333,
          0.3583333333333333,
          0.3583333333333333,
          0.3583333333333333,
          0.3583333333333333,
          0.3583333333333333,
          0.3583333333333333,
          0.3583333333333333,
          0.3583333333333333,
          0.3583333333333333,
          0.3583333333333333,
          0.3583333333333333,
          0.3583333333333333,
          0.3583333333333333,
          0.3583333333333333,
          0.3583333333333333,
          0.3583333333333333,
          0.3583333333333333,
          0.3583333333333333,
          0.3583333333333333,
          0.3583333333333333,
          0.3583333333333333,
          0.3583333333333333,
          0.3583333333333333,
          0.3583333333333333,
          0.3583333333333333,
          0.3583333333333333,
          0.375,
          0.375,
          0.375,
          0.375,
          0.375,
          0.375,
          0.375,
          0.375,
          0.375,
          0.375,
          0.375,
          0.375,
          0.375,
          0.375,
          0.375,
          0.375,
          0.375,
          0.375,
          0.375,
          0.375,
          0.375,
          0.375,
          0.375,
          0.375,
          0.375,
          0.375,
          0.375,
          0.375,
          0.375,
          0.375,
          0.39166666666666666,
          0.39166666666666666,
          0.39166666666666666,
          0.39166666666666666,
          0.39166666666666666,
          0.39166666666666666,
          0.39166666666666666,
          0.39166666666666666,
          0.39166666666666666,
          0.39166666666666666,
          0.39166666666666666,
          0.39166666666666666,
          0.39166666666666666,
          0.39166666666666666,
          0.39166666666666666,
          0.39166666666666666,
          0.39166666666666666,
          0.39166666666666666,
          0.39166666666666666,
          0.39166666666666666,
          0.39166666666666666,
          0.39166666666666666,
          0.39166666666666666,
          0.39166666666666666,
          0.39166666666666666,
          0.39166666666666666,
          0.39166666666666666,
          0.39166666666666666,
          0.39166666666666666,
          0.39166666666666666,
          0.4083333333333333,
          0.4083333333333333,
          0.4083333333333333,
          0.4083333333333333,
          0.4083333333333333,
          0.4083333333333333,
          0.4083333333333333,
          0.4083333333333333,
          0.4083333333333333,
          0.4083333333333333,
          0.4083333333333333,
          0.4083333333333333,
          0.4083333333333333,
          0.4083333333333333,
          0.4083333333333333,
          0.4083333333333333,
          0.4083333333333333,
          0.4083333333333333,
          0.4083333333333333,
          0.4083333333333333,
          0.4083333333333333,
          0.4083333333333333,
          0.4083333333333333,
          0.4083333333333333,
          0.4083333333333333,
          0.4083333333333333,
          0.4083333333333333,
          0.4083333333333333,
          0.4083333333333333,
          0.4083333333333333,
          0.42500000000000004,
          0.42500000000000004,
          0.42500000000000004,
          0.42500000000000004,
          0.42500000000000004,
          0.42500000000000004,
          0.42500000000000004,
          0.42500000000000004,
          0.42500000000000004,
          0.42500000000000004,
          0.42500000000000004,
          0.42500000000000004,
          0.42500000000000004,
          0.42500000000000004,
          0.42500000000000004,
          0.42500000000000004,
          0.42500000000000004,
          0.42500000000000004,
          0.42500000000000004,
          0.42500000000000004,
          0.42500000000000004,
          0.42500000000000004,
          0.42500000000000004,
          0.42500000000000004,
          0.42500000000000004,
          0.42500000000000004,
          0.42500000000000004,
          0.42500000000000004,
          0.42500000000000004,
          0.42500000000000004,
          0.44166666666666665,
          0.44166666666666665,
          0.44166666666666665,
          0.44166666666666665,
          0.44166666666666665,
          0.44166666666666665,
          0.44166666666666665,
          0.44166666666666665,
          0.44166666666666665,
          0.44166666666666665,
          0.44166666666666665,
          0.44166666666666665,
          0.44166666666666665,
          0.44166666666666665,
          0.44166666666666665,
          0.44166666666666665,
          0.44166666666666665,
          0.44166666666666665,
          0.44166666666666665,
          0.44166666666666665,
          0.44166666666666665,
          0.44166666666666665,
          0.44166666666666665,
          0.44166666666666665,
          0.44166666666666665,
          0.44166666666666665,
          0.44166666666666665,
          0.44166666666666665,
          0.44166666666666665,
          0.44166666666666665,
          0.45833333333333337,
          0.45833333333333337,
          0.45833333333333337,
          0.45833333333333337,
          0.45833333333333337,
          0.45833333333333337,
          0.45833333333333337,
          0.45833333333333337,
          0.45833333333333337,
          0.45833333333333337,
          0.45833333333333337,
          0.45833333333333337,
          0.45833333333333337,
          0.45833333333333337,
          0.45833333333333337,
          0.45833333333333337,
          0.45833333333333337,
          0.45833333333333337,
          0.45833333333333337,
          0.45833333333333337,
          0.45833333333333337,
          0.45833333333333337,
          0.45833333333333337,
          0.45833333333333337,
          0.45833333333333337,
          0.45833333333333337,
          0.45833333333333337,
          0.45833333333333337,
          0.45833333333333337,
          0.45833333333333337,
          0.475,
          0.475,
          0.475,
          0.475,
          0.475,
          0.475,
          0.475,
          0.475,
          0.475,
          0.475,
          0.475,
          0.475,
          0.475,
          0.475,
          0.475,
          0.475,
          0.475,
          0.475,
          0.475,
          0.475,
          0.475,
          0.475,
          0.475,
          0.475,
          0.475,
          0.475,
          0.475,
          0.475,
          0.475,
          0.475,
          0.4916666666666667,
          0.4916666666666667,
          0.4916666666666667,
          0.4916666666666667,
          0.4916666666666667,
          0.4916666666666667,
          0.4916666666666667,
          0.4916666666666667,
          0.4916666666666667,
          0.4916666666666667,
          0.4916666666666667,
          0.4916666666666667,
          0.4916666666666667,
          0.4916666666666667,
          0.4916666666666667,
          0.4916666666666667,
          0.4916666666666667,
          0.4916666666666667,
          0.4916666666666667,
          0.4916666666666667,
          0.4916666666666667,
          0.4916666666666667,
          0.4916666666666667,
          0.4916666666666667,
          0.4916666666666667,
          0.4916666666666667,
          0.4916666666666667,
          0.4916666666666667,
          0.4916666666666667,
          0.4916666666666667
         ],
         "z": [
          0,
          0,
          0,
          0,
          0,
          0,
          0,
          0,
          0,
          0,
          0,
          0,
          0,
          0,
          1,
          0,
          0,
          0,
          0,
          0,
          0,
          1,
          0,
          0,
          0,
          0,
          0,
          0,
          0,
          0,
          0,
          0,
          0,
          0,
          1,
          0,
          1,
          1,
          2,
          0,
          0,
          2,
          0,
          0,
          0,
          0,
          1,
          0,
          2,
          1,
          0,
          0,
          0,
          0,
          1,
          0,
          0,
          1,
          1,
          0,
          0,
          0,
          0,
          0,
          3,
          2,
          2,
          4,
          8,
          3,
          3,
          1,
          0,
          0,
          2,
          1,
          0,
          1,
          0,
          0,
          1,
          2,
          1,
          0,
          0,
          0,
          1,
          0,
          0,
          0,
          0,
          0,
          0,
          0,
          2,
          4,
          1,
          4,
          0,
          4,
          3,
          2,
          4,
          1,
          2,
          4,
          3,
          2,
          0,
          0,
          1,
          1,
          1,
          0,
          3,
          0,
          4,
          0,
          1,
          2,
          0,
          0,
          0,
          0,
          3,
          8,
          5,
          2,
          5,
          0,
          3,
          5,
          7,
          5,
          6,
          2,
          1,
          3,
          0,
          2,
          3,
          2,
          2,
          2,
          1,
          3,
          3,
          0,
          2,
          2,
          0,
          0,
          0,
          0,
          0,
          1,
          8,
          7,
          11,
          9,
          9,
          3,
          3,
          2,
          2,
          1,
          2,
          6,
          1,
          6,
          4,
          2,
          4,
          3,
          4,
          4,
          4,
          2,
          3,
          1,
          0,
          0,
          0,
          0,
          0,
          0,
          2,
          4,
          8,
          10,
          12,
          7,
          6,
          4,
          5,
          4,
          10,
          4,
          3,
          2,
          5,
          3,
          5,
          4,
          4,
          3,
          4,
          3,
          4,
          4,
          0,
          0,
          0,
          0,
          0,
          0,
          0,
          5,
          6,
          11,
          11,
          6,
          4,
          7,
          5,
          5,
          4,
          1,
          5,
          6,
          5,
          0,
          7,
          2,
          3,
          5,
          3,
          1,
          2,
          2,
          0,
          0,
          0,
          0,
          0,
          0,
          0,
          0,
          2,
          10,
          7,
          7,
          10,
          6,
          8,
          5,
          8,
          6,
          7,
          7,
          5,
          15,
          5,
          3,
          8,
          4,
          9,
          3,
          9,
          5,
          0,
          0,
          0,
          0,
          0,
          0,
          0,
          0,
          0,
          8,
          18,
          12,
          10,
          11,
          7,
          8,
          6,
          11,
          10,
          11,
          8,
          4,
          5,
          9,
          4,
          4,
          4,
          5,
          6,
          4,
          0,
          0,
          0,
          0,
          0,
          0,
          0,
          0,
          0,
          0,
          4,
          11,
          8,
          7,
          7,
          8,
          10,
          2,
          7,
          7,
          5,
          6,
          9,
          3,
          8,
          5,
          8,
          7,
          2,
          3,
          0,
          0,
          0,
          0,
          0,
          0,
          0,
          0,
          0,
          0,
          0,
          6,
          9,
          11,
          6,
          5,
          6,
          3,
          7,
          4,
          4,
          4,
          7,
          4,
          10,
          11,
          9,
          6,
          3,
          6,
          0,
          0,
          0,
          0,
          0,
          0,
          0,
          0,
          0,
          0,
          0,
          0,
          4,
          9,
          9,
          5,
          7,
          3,
          4,
          6,
          9,
          4,
          5,
          6,
          4,
          5,
          5,
          8,
          3,
          5,
          0,
          0,
          0,
          0,
          0,
          0,
          0,
          0,
          0,
          0,
          0,
          0,
          0,
          5,
          5,
          7,
          2,
          8,
          8,
          6,
          2,
          5,
          4,
          7,
          3,
          7,
          9,
          8,
          4,
          3,
          0,
          0,
          0,
          0,
          0,
          0,
          0,
          0,
          0,
          0,
          0,
          0,
          0,
          0,
          3,
          7,
          7,
          7,
          1,
          5,
          6,
          9,
          4,
          3,
          2,
          3,
          5,
          4,
          3,
          3,
          0,
          0,
          0,
          0,
          0,
          0,
          0,
          0,
          0,
          0,
          0,
          0,
          0,
          0,
          0,
          3,
          7,
          9,
          4,
          8,
          6,
          3,
          1,
          5,
          6,
          2,
          5,
          5,
          4,
          4,
          0,
          0,
          0,
          0,
          0,
          0,
          0,
          0,
          0,
          0,
          0,
          0,
          0,
          0,
          0,
          0,
          3,
          5,
          4,
          4,
          1,
          3,
          8,
          7,
          4,
          3,
          10,
          0,
          1,
          7,
          0,
          0,
          0,
          0,
          0,
          0,
          0,
          0,
          0,
          0,
          0,
          0,
          0,
          0,
          0,
          0,
          0,
          0,
          4,
          4,
          5,
          7,
          1,
          4,
          8,
          5,
          3,
          7,
          6,
          4,
          0,
          0,
          0,
          0,
          0,
          0,
          0,
          0,
          0,
          0,
          0,
          0,
          0,
          0,
          0,
          0,
          0,
          0,
          5,
          2,
          7,
          5,
          4,
          2,
          3,
          4,
          7,
          2,
          4,
          4,
          0,
          0,
          0,
          0,
          0,
          0,
          0,
          0,
          0,
          0,
          0,
          0,
          0,
          0,
          0,
          0,
          0,
          0,
          0,
          1,
          3,
          4,
          2,
          5,
          2,
          5,
          2,
          7,
          6,
          6,
          0,
          0,
          0,
          0,
          0,
          0,
          0,
          0,
          0,
          0,
          0,
          0,
          0,
          0,
          0,
          0,
          0,
          0,
          0,
          0,
          1,
          3,
          2,
          5,
          3,
          5,
          2,
          2,
          5,
          6,
          0,
          0,
          0,
          0,
          0,
          0,
          0,
          0,
          0,
          0,
          0,
          0,
          0,
          0,
          0,
          0,
          0,
          0,
          0,
          0,
          0,
          3,
          6,
          3,
          4,
          2,
          6,
          3,
          4,
          2,
          0,
          0,
          0,
          0,
          0,
          0,
          0,
          0,
          0,
          0,
          0,
          0,
          0,
          0,
          0,
          0,
          0,
          0,
          0,
          0,
          0,
          0,
          6,
          4,
          2,
          4,
          8,
          7,
          7,
          4,
          0,
          0,
          0,
          0,
          0,
          0,
          0,
          0,
          0,
          0,
          0,
          0,
          0,
          0,
          0,
          0,
          0,
          0,
          0,
          0,
          0,
          0,
          0,
          1,
          6,
          9,
          5,
          4,
          7,
          3,
          0,
          0,
          0,
          0,
          0,
          0,
          0,
          0,
          0,
          0,
          0,
          0,
          0,
          0,
          0,
          0,
          0,
          0,
          0,
          0,
          0,
          0,
          0,
          0,
          2,
          2,
          2,
          4,
          4,
          5,
          0,
          0,
          0,
          0,
          0,
          0,
          0,
          0,
          0,
          0,
          0,
          0,
          0,
          0,
          0,
          0,
          0,
          0,
          0,
          0,
          0,
          0,
          0,
          0,
          0,
          1,
          3,
          4,
          5,
          4,
          0,
          0,
          0,
          0,
          0,
          0,
          0,
          0,
          0,
          0,
          0,
          0,
          0,
          0,
          0,
          0,
          0,
          0,
          0,
          0,
          0,
          0,
          0,
          0,
          0,
          0,
          3,
          4,
          3,
          3,
          0,
          0,
          0,
          0,
          0,
          0,
          0,
          0,
          0,
          0,
          0,
          0,
          0,
          0,
          0,
          0,
          0,
          0,
          0,
          0,
          0,
          0,
          0,
          0,
          0,
          0,
          0,
          4,
          6,
          2,
          0,
          0,
          0,
          0,
          0,
          0,
          0,
          0,
          0,
          0,
          0,
          0,
          0,
          0,
          0,
          0,
          0,
          0,
          0,
          0,
          0,
          0,
          0,
          0,
          0,
          0,
          0,
          0,
          1,
          7,
          0,
          0,
          0,
          0,
          0,
          0,
          0,
          0,
          0,
          0,
          0,
          0,
          0,
          0,
          0,
          0,
          0,
          0,
          0,
          0,
          0,
          0,
          0,
          0,
          0,
          0,
          0,
          0,
          0,
          1
         ]
        }
       ],
       "layout": {
        "autosize": true,
        "template": {
         "data": {
          "bar": [
           {
            "error_x": {
             "color": "#2a3f5f"
            },
            "error_y": {
             "color": "#2a3f5f"
            },
            "marker": {
             "line": {
              "color": "#E5ECF6",
              "width": 0.5
             },
             "pattern": {
              "fillmode": "overlay",
              "size": 10,
              "solidity": 0.2
             }
            },
            "type": "bar"
           }
          ],
          "barpolar": [
           {
            "marker": {
             "line": {
              "color": "#E5ECF6",
              "width": 0.5
             },
             "pattern": {
              "fillmode": "overlay",
              "size": 10,
              "solidity": 0.2
             }
            },
            "type": "barpolar"
           }
          ],
          "carpet": [
           {
            "aaxis": {
             "endlinecolor": "#2a3f5f",
             "gridcolor": "white",
             "linecolor": "white",
             "minorgridcolor": "white",
             "startlinecolor": "#2a3f5f"
            },
            "baxis": {
             "endlinecolor": "#2a3f5f",
             "gridcolor": "white",
             "linecolor": "white",
             "minorgridcolor": "white",
             "startlinecolor": "#2a3f5f"
            },
            "type": "carpet"
           }
          ],
          "choropleth": [
           {
            "colorbar": {
             "outlinewidth": 0,
             "ticks": ""
            },
            "type": "choropleth"
           }
          ],
          "contour": [
           {
            "colorbar": {
             "outlinewidth": 0,
             "ticks": ""
            },
            "colorscale": [
             [
              0,
              "#0d0887"
             ],
             [
              0.1111111111111111,
              "#46039f"
             ],
             [
              0.2222222222222222,
              "#7201a8"
             ],
             [
              0.3333333333333333,
              "#9c179e"
             ],
             [
              0.4444444444444444,
              "#bd3786"
             ],
             [
              0.5555555555555556,
              "#d8576b"
             ],
             [
              0.6666666666666666,
              "#ed7953"
             ],
             [
              0.7777777777777778,
              "#fb9f3a"
             ],
             [
              0.8888888888888888,
              "#fdca26"
             ],
             [
              1,
              "#f0f921"
             ]
            ],
            "type": "contour"
           }
          ],
          "contourcarpet": [
           {
            "colorbar": {
             "outlinewidth": 0,
             "ticks": ""
            },
            "type": "contourcarpet"
           }
          ],
          "heatmap": [
           {
            "colorbar": {
             "outlinewidth": 0,
             "ticks": ""
            },
            "colorscale": [
             [
              0,
              "#0d0887"
             ],
             [
              0.1111111111111111,
              "#46039f"
             ],
             [
              0.2222222222222222,
              "#7201a8"
             ],
             [
              0.3333333333333333,
              "#9c179e"
             ],
             [
              0.4444444444444444,
              "#bd3786"
             ],
             [
              0.5555555555555556,
              "#d8576b"
             ],
             [
              0.6666666666666666,
              "#ed7953"
             ],
             [
              0.7777777777777778,
              "#fb9f3a"
             ],
             [
              0.8888888888888888,
              "#fdca26"
             ],
             [
              1,
              "#f0f921"
             ]
            ],
            "type": "heatmap"
           }
          ],
          "heatmapgl": [
           {
            "colorbar": {
             "outlinewidth": 0,
             "ticks": ""
            },
            "colorscale": [
             [
              0,
              "#0d0887"
             ],
             [
              0.1111111111111111,
              "#46039f"
             ],
             [
              0.2222222222222222,
              "#7201a8"
             ],
             [
              0.3333333333333333,
              "#9c179e"
             ],
             [
              0.4444444444444444,
              "#bd3786"
             ],
             [
              0.5555555555555556,
              "#d8576b"
             ],
             [
              0.6666666666666666,
              "#ed7953"
             ],
             [
              0.7777777777777778,
              "#fb9f3a"
             ],
             [
              0.8888888888888888,
              "#fdca26"
             ],
             [
              1,
              "#f0f921"
             ]
            ],
            "type": "heatmapgl"
           }
          ],
          "histogram": [
           {
            "marker": {
             "pattern": {
              "fillmode": "overlay",
              "size": 10,
              "solidity": 0.2
             }
            },
            "type": "histogram"
           }
          ],
          "histogram2d": [
           {
            "colorbar": {
             "outlinewidth": 0,
             "ticks": ""
            },
            "colorscale": [
             [
              0,
              "#0d0887"
             ],
             [
              0.1111111111111111,
              "#46039f"
             ],
             [
              0.2222222222222222,
              "#7201a8"
             ],
             [
              0.3333333333333333,
              "#9c179e"
             ],
             [
              0.4444444444444444,
              "#bd3786"
             ],
             [
              0.5555555555555556,
              "#d8576b"
             ],
             [
              0.6666666666666666,
              "#ed7953"
             ],
             [
              0.7777777777777778,
              "#fb9f3a"
             ],
             [
              0.8888888888888888,
              "#fdca26"
             ],
             [
              1,
              "#f0f921"
             ]
            ],
            "type": "histogram2d"
           }
          ],
          "histogram2dcontour": [
           {
            "colorbar": {
             "outlinewidth": 0,
             "ticks": ""
            },
            "colorscale": [
             [
              0,
              "#0d0887"
             ],
             [
              0.1111111111111111,
              "#46039f"
             ],
             [
              0.2222222222222222,
              "#7201a8"
             ],
             [
              0.3333333333333333,
              "#9c179e"
             ],
             [
              0.4444444444444444,
              "#bd3786"
             ],
             [
              0.5555555555555556,
              "#d8576b"
             ],
             [
              0.6666666666666666,
              "#ed7953"
             ],
             [
              0.7777777777777778,
              "#fb9f3a"
             ],
             [
              0.8888888888888888,
              "#fdca26"
             ],
             [
              1,
              "#f0f921"
             ]
            ],
            "type": "histogram2dcontour"
           }
          ],
          "mesh3d": [
           {
            "colorbar": {
             "outlinewidth": 0,
             "ticks": ""
            },
            "type": "mesh3d"
           }
          ],
          "parcoords": [
           {
            "line": {
             "colorbar": {
              "outlinewidth": 0,
              "ticks": ""
             }
            },
            "type": "parcoords"
           }
          ],
          "pie": [
           {
            "automargin": true,
            "type": "pie"
           }
          ],
          "scatter": [
           {
            "fillpattern": {
             "fillmode": "overlay",
             "size": 10,
             "solidity": 0.2
            },
            "type": "scatter"
           }
          ],
          "scatter3d": [
           {
            "line": {
             "colorbar": {
              "outlinewidth": 0,
              "ticks": ""
             }
            },
            "marker": {
             "colorbar": {
              "outlinewidth": 0,
              "ticks": ""
             }
            },
            "type": "scatter3d"
           }
          ],
          "scattercarpet": [
           {
            "marker": {
             "colorbar": {
              "outlinewidth": 0,
              "ticks": ""
             }
            },
            "type": "scattercarpet"
           }
          ],
          "scattergeo": [
           {
            "marker": {
             "colorbar": {
              "outlinewidth": 0,
              "ticks": ""
             }
            },
            "type": "scattergeo"
           }
          ],
          "scattergl": [
           {
            "marker": {
             "colorbar": {
              "outlinewidth": 0,
              "ticks": ""
             }
            },
            "type": "scattergl"
           }
          ],
          "scattermapbox": [
           {
            "marker": {
             "colorbar": {
              "outlinewidth": 0,
              "ticks": ""
             }
            },
            "type": "scattermapbox"
           }
          ],
          "scatterpolar": [
           {
            "marker": {
             "colorbar": {
              "outlinewidth": 0,
              "ticks": ""
             }
            },
            "type": "scatterpolar"
           }
          ],
          "scatterpolargl": [
           {
            "marker": {
             "colorbar": {
              "outlinewidth": 0,
              "ticks": ""
             }
            },
            "type": "scatterpolargl"
           }
          ],
          "scatterternary": [
           {
            "marker": {
             "colorbar": {
              "outlinewidth": 0,
              "ticks": ""
             }
            },
            "type": "scatterternary"
           }
          ],
          "surface": [
           {
            "colorbar": {
             "outlinewidth": 0,
             "ticks": ""
            },
            "colorscale": [
             [
              0,
              "#0d0887"
             ],
             [
              0.1111111111111111,
              "#46039f"
             ],
             [
              0.2222222222222222,
              "#7201a8"
             ],
             [
              0.3333333333333333,
              "#9c179e"
             ],
             [
              0.4444444444444444,
              "#bd3786"
             ],
             [
              0.5555555555555556,
              "#d8576b"
             ],
             [
              0.6666666666666666,
              "#ed7953"
             ],
             [
              0.7777777777777778,
              "#fb9f3a"
             ],
             [
              0.8888888888888888,
              "#fdca26"
             ],
             [
              1,
              "#f0f921"
             ]
            ],
            "type": "surface"
           }
          ],
          "table": [
           {
            "cells": {
             "fill": {
              "color": "#EBF0F8"
             },
             "line": {
              "color": "white"
             }
            },
            "header": {
             "fill": {
              "color": "#C8D4E3"
             },
             "line": {
              "color": "white"
             }
            },
            "type": "table"
           }
          ]
         },
         "layout": {
          "annotationdefaults": {
           "arrowcolor": "#2a3f5f",
           "arrowhead": 0,
           "arrowwidth": 1
          },
          "autotypenumbers": "strict",
          "coloraxis": {
           "colorbar": {
            "outlinewidth": 0,
            "ticks": ""
           }
          },
          "colorscale": {
           "diverging": [
            [
             0,
             "#8e0152"
            ],
            [
             0.1,
             "#c51b7d"
            ],
            [
             0.2,
             "#de77ae"
            ],
            [
             0.3,
             "#f1b6da"
            ],
            [
             0.4,
             "#fde0ef"
            ],
            [
             0.5,
             "#f7f7f7"
            ],
            [
             0.6,
             "#e6f5d0"
            ],
            [
             0.7,
             "#b8e186"
            ],
            [
             0.8,
             "#7fbc41"
            ],
            [
             0.9,
             "#4d9221"
            ],
            [
             1,
             "#276419"
            ]
           ],
           "sequential": [
            [
             0,
             "#0d0887"
            ],
            [
             0.1111111111111111,
             "#46039f"
            ],
            [
             0.2222222222222222,
             "#7201a8"
            ],
            [
             0.3333333333333333,
             "#9c179e"
            ],
            [
             0.4444444444444444,
             "#bd3786"
            ],
            [
             0.5555555555555556,
             "#d8576b"
            ],
            [
             0.6666666666666666,
             "#ed7953"
            ],
            [
             0.7777777777777778,
             "#fb9f3a"
            ],
            [
             0.8888888888888888,
             "#fdca26"
            ],
            [
             1,
             "#f0f921"
            ]
           ],
           "sequentialminus": [
            [
             0,
             "#0d0887"
            ],
            [
             0.1111111111111111,
             "#46039f"
            ],
            [
             0.2222222222222222,
             "#7201a8"
            ],
            [
             0.3333333333333333,
             "#9c179e"
            ],
            [
             0.4444444444444444,
             "#bd3786"
            ],
            [
             0.5555555555555556,
             "#d8576b"
            ],
            [
             0.6666666666666666,
             "#ed7953"
            ],
            [
             0.7777777777777778,
             "#fb9f3a"
            ],
            [
             0.8888888888888888,
             "#fdca26"
            ],
            [
             1,
             "#f0f921"
            ]
           ]
          },
          "colorway": [
           "#636efa",
           "#EF553B",
           "#00cc96",
           "#ab63fa",
           "#FFA15A",
           "#19d3f3",
           "#FF6692",
           "#B6E880",
           "#FF97FF",
           "#FECB52"
          ],
          "font": {
           "color": "#2a3f5f"
          },
          "geo": {
           "bgcolor": "white",
           "lakecolor": "white",
           "landcolor": "#E5ECF6",
           "showlakes": true,
           "showland": true,
           "subunitcolor": "white"
          },
          "hoverlabel": {
           "align": "left"
          },
          "hovermode": "closest",
          "mapbox": {
           "style": "light"
          },
          "paper_bgcolor": "white",
          "plot_bgcolor": "#E5ECF6",
          "polar": {
           "angularaxis": {
            "gridcolor": "white",
            "linecolor": "white",
            "ticks": ""
           },
           "bgcolor": "#E5ECF6",
           "radialaxis": {
            "gridcolor": "white",
            "linecolor": "white",
            "ticks": ""
           }
          },
          "scene": {
           "xaxis": {
            "backgroundcolor": "#E5ECF6",
            "gridcolor": "white",
            "gridwidth": 2,
            "linecolor": "white",
            "showbackground": true,
            "ticks": "",
            "zerolinecolor": "white"
           },
           "yaxis": {
            "backgroundcolor": "#E5ECF6",
            "gridcolor": "white",
            "gridwidth": 2,
            "linecolor": "white",
            "showbackground": true,
            "ticks": "",
            "zerolinecolor": "white"
           },
           "zaxis": {
            "backgroundcolor": "#E5ECF6",
            "gridcolor": "white",
            "gridwidth": 2,
            "linecolor": "white",
            "showbackground": true,
            "ticks": "",
            "zerolinecolor": "white"
           }
          },
          "shapedefaults": {
           "line": {
            "color": "#2a3f5f"
           }
          },
          "ternary": {
           "aaxis": {
            "gridcolor": "white",
            "linecolor": "white",
            "ticks": ""
           },
           "baxis": {
            "gridcolor": "white",
            "linecolor": "white",
            "ticks": ""
           },
           "bgcolor": "#E5ECF6",
           "caxis": {
            "gridcolor": "white",
            "linecolor": "white",
            "ticks": ""
           }
          },
          "title": {
           "x": 0.05
          },
          "xaxis": {
           "automargin": true,
           "gridcolor": "white",
           "linecolor": "white",
           "ticks": "",
           "title": {
            "standoff": 15
           },
           "zerolinecolor": "white",
           "zerolinewidth": 2
          },
          "yaxis": {
           "automargin": true,
           "gridcolor": "white",
           "linecolor": "white",
           "ticks": "",
           "title": {
            "standoff": 15
           },
           "zerolinecolor": "white",
           "zerolinewidth": 2
          }
         }
        },
        "xaxis": {
         "autorange": true,
         "range": [
          0,
          0.5
         ],
         "type": "linear"
        },
        "yaxis": {
         "autorange": true,
         "range": [
          0,
          0.5
         ],
         "type": "linear"
        }
       }
      },
      "image/png": "[encoded data removed]",
      "text/html": [
       "<div>                            <div id=\"ad58cf80-43ec-49fb-9fbb-da86dbabb111\" class=\"plotly-graph-div\" style=\"height:525px; width:100%;\"></div>            <script type=\"text/javascript\">                require([\"plotly\"], function(Plotly) {                    window.PLOTLYENV=window.PLOTLYENV || {};                                    if (document.getElementById(\"ad58cf80-43ec-49fb-9fbb-da86dbabb111\")) {                    Plotly.newPlot(                        \"ad58cf80-43ec-49fb-9fbb-da86dbabb111\",                        [{\"hoverongaps\":false,\"x\":[0.008333333333333333,0.025,0.04166666666666667,0.058333333333333334,0.075,0.09166666666666667,0.10833333333333334,0.125,0.14166666666666666,0.15833333333333333,0.175,0.19166666666666665,0.20833333333333334,0.225,0.24166666666666667,0.2583333333333333,0.275,0.29166666666666663,0.30833333333333335,0.32499999999999996,0.3416666666666667,0.3583333333333333,0.375,0.39166666666666666,0.4083333333333333,0.42500000000000004,0.44166666666666665,0.45833333333333337,0.475,0.4916666666666667,0.008333333333333333,0.025,0.04166666666666667,0.058333333333333334,0.075,0.09166666666666667,0.10833333333333334,0.125,0.14166666666666666,0.15833333333333333,0.175,0.19166666666666665,0.20833333333333334,0.225,0.24166666666666667,0.2583333333333333,0.275,0.29166666666666663,0.30833333333333335,0.32499999999999996,0.3416666666666667,0.3583333333333333,0.375,0.39166666666666666,0.4083333333333333,0.42500000000000004,0.44166666666666665,0.45833333333333337,0.475,0.4916666666666667,0.008333333333333333,0.025,0.04166666666666667,0.058333333333333334,0.075,0.09166666666666667,0.10833333333333334,0.125,0.14166666666666666,0.15833333333333333,0.175,0.19166666666666665,0.20833333333333334,0.225,0.24166666666666667,0.2583333333333333,0.275,0.29166666666666663,0.30833333333333335,0.32499999999999996,0.3416666666666667,0.3583333333333333,0.375,0.39166666666666666,0.4083333333333333,0.42500000000000004,0.44166666666666665,0.45833333333333337,0.475,0.4916666666666667,0.008333333333333333,0.025,0.04166666666666667,0.058333333333333334,0.075,0.09166666666666667,0.10833333333333334,0.125,0.14166666666666666,0.15833333333333333,0.175,0.19166666666666665,0.20833333333333334,0.225,0.24166666666666667,0.2583333333333333,0.275,0.29166666666666663,0.30833333333333335,0.32499999999999996,0.3416666666666667,0.3583333333333333,0.375,0.39166666666666666,0.4083333333333333,0.42500000000000004,0.44166666666666665,0.45833333333333337,0.475,0.4916666666666667,0.008333333333333333,0.025,0.04166666666666667,0.058333333333333334,0.075,0.09166666666666667,0.10833333333333334,0.125,0.14166666666666666,0.15833333333333333,0.175,0.19166666666666665,0.20833333333333334,0.225,0.24166666666666667,0.2583333333333333,0.275,0.29166666666666663,0.30833333333333335,0.32499999999999996,0.3416666666666667,0.3583333333333333,0.375,0.39166666666666666,0.4083333333333333,0.42500000000000004,0.44166666666666665,0.45833333333333337,0.475,0.4916666666666667,0.008333333333333333,0.025,0.04166666666666667,0.058333333333333334,0.075,0.09166666666666667,0.10833333333333334,0.125,0.14166666666666666,0.15833333333333333,0.175,0.19166666666666665,0.20833333333333334,0.225,0.24166666666666667,0.2583333333333333,0.275,0.29166666666666663,0.30833333333333335,0.32499999999999996,0.3416666666666667,0.3583333333333333,0.375,0.39166666666666666,0.4083333333333333,0.42500000000000004,0.44166666666666665,0.45833333333333337,0.475,0.4916666666666667,0.008333333333333333,0.025,0.04166666666666667,0.058333333333333334,0.075,0.09166666666666667,0.10833333333333334,0.125,0.14166666666666666,0.15833333333333333,0.175,0.19166666666666665,0.20833333333333334,0.225,0.24166666666666667,0.2583333333333333,0.275,0.29166666666666663,0.30833333333333335,0.32499999999999996,0.3416666666666667,0.3583333333333333,0.375,0.39166666666666666,0.4083333333333333,0.42500000000000004,0.44166666666666665,0.45833333333333337,0.475,0.4916666666666667,0.008333333333333333,0.025,0.04166666666666667,0.058333333333333334,0.075,0.09166666666666667,0.10833333333333334,0.125,0.14166666666666666,0.15833333333333333,0.175,0.19166666666666665,0.20833333333333334,0.225,0.24166666666666667,0.2583333333333333,0.275,0.29166666666666663,0.30833333333333335,0.32499999999999996,0.3416666666666667,0.3583333333333333,0.375,0.39166666666666666,0.4083333333333333,0.42500000000000004,0.44166666666666665,0.45833333333333337,0.475,0.4916666666666667,0.008333333333333333,0.025,0.04166666666666667,0.058333333333333334,0.075,0.09166666666666667,0.10833333333333334,0.125,0.14166666666666666,0.15833333333333333,0.175,0.19166666666666665,0.20833333333333334,0.225,0.24166666666666667,0.2583333333333333,0.275,0.29166666666666663,0.30833333333333335,0.32499999999999996,0.3416666666666667,0.3583333333333333,0.375,0.39166666666666666,0.4083333333333333,0.42500000000000004,0.44166666666666665,0.45833333333333337,0.475,0.4916666666666667,0.008333333333333333,0.025,0.04166666666666667,0.058333333333333334,0.075,0.09166666666666667,0.10833333333333334,0.125,0.14166666666666666,0.15833333333333333,0.175,0.19166666666666665,0.20833333333333334,0.225,0.24166666666666667,0.2583333333333333,0.275,0.29166666666666663,0.30833333333333335,0.32499999999999996,0.3416666666666667,0.3583333333333333,0.375,0.39166666666666666,0.4083333333333333,0.42500000000000004,0.44166666666666665,0.45833333333333337,0.475,0.4916666666666667,0.008333333333333333,0.025,0.04166666666666667,0.058333333333333334,0.075,0.09166666666666667,0.10833333333333334,0.125,0.14166666666666666,0.15833333333333333,0.175,0.19166666666666665,0.20833333333333334,0.225,0.24166666666666667,0.2583333333333333,0.275,0.29166666666666663,0.30833333333333335,0.32499999999999996,0.3416666666666667,0.3583333333333333,0.375,0.39166666666666666,0.4083333333333333,0.42500000000000004,0.44166666666666665,0.45833333333333337,0.475,0.4916666666666667,0.008333333333333333,0.025,0.04166666666666667,0.058333333333333334,0.075,0.09166666666666667,0.10833333333333334,0.125,0.14166666666666666,0.15833333333333333,0.175,0.19166666666666665,0.20833333333333334,0.225,0.24166666666666667,0.2583333333333333,0.275,0.29166666666666663,0.30833333333333335,0.32499999999999996,0.3416666666666667,0.3583333333333333,0.375,0.39166666666666666,0.4083333333333333,0.42500000000000004,0.44166666666666665,0.45833333333333337,0.475,0.4916666666666667,0.008333333333333333,0.025,0.04166666666666667,0.058333333333333334,0.075,0.09166666666666667,0.10833333333333334,0.125,0.14166666666666666,0.15833333333333333,0.175,0.19166666666666665,0.20833333333333334,0.225,0.24166666666666667,0.2583333333333333,0.275,0.29166666666666663,0.30833333333333335,0.32499999999999996,0.3416666666666667,0.3583333333333333,0.375,0.39166666666666666,0.4083333333333333,0.42500000000000004,0.44166666666666665,0.45833333333333337,0.475,0.4916666666666667,0.008333333333333333,0.025,0.04166666666666667,0.058333333333333334,0.075,0.09166666666666667,0.10833333333333334,0.125,0.14166666666666666,0.15833333333333333,0.175,0.19166666666666665,0.20833333333333334,0.225,0.24166666666666667,0.2583333333333333,0.275,0.29166666666666663,0.30833333333333335,0.32499999999999996,0.3416666666666667,0.3583333333333333,0.375,0.39166666666666666,0.4083333333333333,0.42500000000000004,0.44166666666666665,0.45833333333333337,0.475,0.4916666666666667,0.008333333333333333,0.025,0.04166666666666667,0.058333333333333334,0.075,0.09166666666666667,0.10833333333333334,0.125,0.14166666666666666,0.15833333333333333,0.175,0.19166666666666665,0.20833333333333334,0.225,0.24166666666666667,0.2583333333333333,0.275,0.29166666666666663,0.30833333333333335,0.32499999999999996,0.3416666666666667,0.3583333333333333,0.375,0.39166666666666666,0.4083333333333333,0.42500000000000004,0.44166666666666665,0.45833333333333337,0.475,0.4916666666666667,0.008333333333333333,0.025,0.04166666666666667,0.058333333333333334,0.075,0.09166666666666667,0.10833333333333334,0.125,0.14166666666666666,0.15833333333333333,0.175,0.19166666666666665,0.20833333333333334,0.225,0.24166666666666667,0.2583333333333333,0.275,0.29166666666666663,0.30833333333333335,0.32499999999999996,0.3416666666666667,0.3583333333333333,0.375,0.39166666666666666,0.4083333333333333,0.42500000000000004,0.44166666666666665,0.45833333333333337,0.475,0.4916666666666667,0.008333333333333333,0.025,0.04166666666666667,0.058333333333333334,0.075,0.09166666666666667,0.10833333333333334,0.125,0.14166666666666666,0.15833333333333333,0.175,0.19166666666666665,0.20833333333333334,0.225,0.24166666666666667,0.2583333333333333,0.275,0.29166666666666663,0.30833333333333335,0.32499999999999996,0.3416666666666667,0.3583333333333333,0.375,0.39166666666666666,0.4083333333333333,0.42500000000000004,0.44166666666666665,0.45833333333333337,0.475,0.4916666666666667,0.008333333333333333,0.025,0.04166666666666667,0.058333333333333334,0.075,0.09166666666666667,0.10833333333333334,0.125,0.14166666666666666,0.15833333333333333,0.175,0.19166666666666665,0.20833333333333334,0.225,0.24166666666666667,0.2583333333333333,0.275,0.29166666666666663,0.30833333333333335,0.32499999999999996,0.3416666666666667,0.3583333333333333,0.375,0.39166666666666666,0.4083333333333333,0.42500000000000004,0.44166666666666665,0.45833333333333337,0.475,0.4916666666666667,0.008333333333333333,0.025,0.04166666666666667,0.058333333333333334,0.075,0.09166666666666667,0.10833333333333334,0.125,0.14166666666666666,0.15833333333333333,0.175,0.19166666666666665,0.20833333333333334,0.225,0.24166666666666667,0.2583333333333333,0.275,0.29166666666666663,0.30833333333333335,0.32499999999999996,0.3416666666666667,0.3583333333333333,0.375,0.39166666666666666,0.4083333333333333,0.42500000000000004,0.44166666666666665,0.45833333333333337,0.475,0.4916666666666667,0.008333333333333333,0.025,0.04166666666666667,0.058333333333333334,0.075,0.09166666666666667,0.10833333333333334,0.125,0.14166666666666666,0.15833333333333333,0.175,0.19166666666666665,0.20833333333333334,0.225,0.24166666666666667,0.2583333333333333,0.275,0.29166666666666663,0.30833333333333335,0.32499999999999996,0.3416666666666667,0.3583333333333333,0.375,0.39166666666666666,0.4083333333333333,0.42500000000000004,0.44166666666666665,0.45833333333333337,0.475,0.4916666666666667,0.008333333333333333,0.025,0.04166666666666667,0.058333333333333334,0.075,0.09166666666666667,0.10833333333333334,0.125,0.14166666666666666,0.15833333333333333,0.175,0.19166666666666665,0.20833333333333334,0.225,0.24166666666666667,0.2583333333333333,0.275,0.29166666666666663,0.30833333333333335,0.32499999999999996,0.3416666666666667,0.3583333333333333,0.375,0.39166666666666666,0.4083333333333333,0.42500000000000004,0.44166666666666665,0.45833333333333337,0.475,0.4916666666666667,0.008333333333333333,0.025,0.04166666666666667,0.058333333333333334,0.075,0.09166666666666667,0.10833333333333334,0.125,0.14166666666666666,0.15833333333333333,0.175,0.19166666666666665,0.20833333333333334,0.225,0.24166666666666667,0.2583333333333333,0.275,0.29166666666666663,0.30833333333333335,0.32499999999999996,0.3416666666666667,0.3583333333333333,0.375,0.39166666666666666,0.4083333333333333,0.42500000000000004,0.44166666666666665,0.45833333333333337,0.475,0.4916666666666667,0.008333333333333333,0.025,0.04166666666666667,0.058333333333333334,0.075,0.09166666666666667,0.10833333333333334,0.125,0.14166666666666666,0.15833333333333333,0.175,0.19166666666666665,0.20833333333333334,0.225,0.24166666666666667,0.2583333333333333,0.275,0.29166666666666663,0.30833333333333335,0.32499999999999996,0.3416666666666667,0.3583333333333333,0.375,0.39166666666666666,0.4083333333333333,0.42500000000000004,0.44166666666666665,0.45833333333333337,0.475,0.4916666666666667,0.008333333333333333,0.025,0.04166666666666667,0.058333333333333334,0.075,0.09166666666666667,0.10833333333333334,0.125,0.14166666666666666,0.15833333333333333,0.175,0.19166666666666665,0.20833333333333334,0.225,0.24166666666666667,0.2583333333333333,0.275,0.29166666666666663,0.30833333333333335,0.32499999999999996,0.3416666666666667,0.3583333333333333,0.375,0.39166666666666666,0.4083333333333333,0.42500000000000004,0.44166666666666665,0.45833333333333337,0.475,0.4916666666666667,0.008333333333333333,0.025,0.04166666666666667,0.058333333333333334,0.075,0.09166666666666667,0.10833333333333334,0.125,0.14166666666666666,0.15833333333333333,0.175,0.19166666666666665,0.20833333333333334,0.225,0.24166666666666667,0.2583333333333333,0.275,0.29166666666666663,0.30833333333333335,0.32499999999999996,0.3416666666666667,0.3583333333333333,0.375,0.39166666666666666,0.4083333333333333,0.42500000000000004,0.44166666666666665,0.45833333333333337,0.475,0.4916666666666667,0.008333333333333333,0.025,0.04166666666666667,0.058333333333333334,0.075,0.09166666666666667,0.10833333333333334,0.125,0.14166666666666666,0.15833333333333333,0.175,0.19166666666666665,0.20833333333333334,0.225,0.24166666666666667,0.2583333333333333,0.275,0.29166666666666663,0.30833333333333335,0.32499999999999996,0.3416666666666667,0.3583333333333333,0.375,0.39166666666666666,0.4083333333333333,0.42500000000000004,0.44166666666666665,0.45833333333333337,0.475,0.4916666666666667,0.008333333333333333,0.025,0.04166666666666667,0.058333333333333334,0.075,0.09166666666666667,0.10833333333333334,0.125,0.14166666666666666,0.15833333333333333,0.175,0.19166666666666665,0.20833333333333334,0.225,0.24166666666666667,0.2583333333333333,0.275,0.29166666666666663,0.30833333333333335,0.32499999999999996,0.3416666666666667,0.3583333333333333,0.375,0.39166666666666666,0.4083333333333333,0.42500000000000004,0.44166666666666665,0.45833333333333337,0.475,0.4916666666666667,0.008333333333333333,0.025,0.04166666666666667,0.058333333333333334,0.075,0.09166666666666667,0.10833333333333334,0.125,0.14166666666666666,0.15833333333333333,0.175,0.19166666666666665,0.20833333333333334,0.225,0.24166666666666667,0.2583333333333333,0.275,0.29166666666666663,0.30833333333333335,0.32499999999999996,0.3416666666666667,0.3583333333333333,0.375,0.39166666666666666,0.4083333333333333,0.42500000000000004,0.44166666666666665,0.45833333333333337,0.475,0.4916666666666667,0.008333333333333333,0.025,0.04166666666666667,0.058333333333333334,0.075,0.09166666666666667,0.10833333333333334,0.125,0.14166666666666666,0.15833333333333333,0.175,0.19166666666666665,0.20833333333333334,0.225,0.24166666666666667,0.2583333333333333,0.275,0.29166666666666663,0.30833333333333335,0.32499999999999996,0.3416666666666667,0.3583333333333333,0.375,0.39166666666666666,0.4083333333333333,0.42500000000000004,0.44166666666666665,0.45833333333333337,0.475,0.4916666666666667,0.008333333333333333,0.025,0.04166666666666667,0.058333333333333334,0.075,0.09166666666666667,0.10833333333333334,0.125,0.14166666666666666,0.15833333333333333,0.175,0.19166666666666665,0.20833333333333334,0.225,0.24166666666666667,0.2583333333333333,0.275,0.29166666666666663,0.30833333333333335,0.32499999999999996,0.3416666666666667,0.3583333333333333,0.375,0.39166666666666666,0.4083333333333333,0.42500000000000004,0.44166666666666665,0.45833333333333337,0.475,0.4916666666666667],\"y\":[0.008333333333333333,0.008333333333333333,0.008333333333333333,0.008333333333333333,0.008333333333333333,0.008333333333333333,0.008333333333333333,0.008333333333333333,0.008333333333333333,0.008333333333333333,0.008333333333333333,0.008333333333333333,0.008333333333333333,0.008333333333333333,0.008333333333333333,0.008333333333333333,0.008333333333333333,0.008333333333333333,0.008333333333333333,0.008333333333333333,0.008333333333333333,0.008333333333333333,0.008333333333333333,0.008333333333333333,0.008333333333333333,0.008333333333333333,0.008333333333333333,0.008333333333333333,0.008333333333333333,0.008333333333333333,0.025,0.025,0.025,0.025,0.025,0.025,0.025,0.025,0.025,0.025,0.025,0.025,0.025,0.025,0.025,0.025,0.025,0.025,0.025,0.025,0.025,0.025,0.025,0.025,0.025,0.025,0.025,0.025,0.025,0.025,0.04166666666666667,0.04166666666666667,0.04166666666666667,0.04166666666666667,0.04166666666666667,0.04166666666666667,0.04166666666666667,0.04166666666666667,0.04166666666666667,0.04166666666666667,0.04166666666666667,0.04166666666666667,0.04166666666666667,0.04166666666666667,0.04166666666666667,0.04166666666666667,0.04166666666666667,0.04166666666666667,0.04166666666666667,0.04166666666666667,0.04166666666666667,0.04166666666666667,0.04166666666666667,0.04166666666666667,0.04166666666666667,0.04166666666666667,0.04166666666666667,0.04166666666666667,0.04166666666666667,0.04166666666666667,0.058333333333333334,0.058333333333333334,0.058333333333333334,0.058333333333333334,0.058333333333333334,0.058333333333333334,0.058333333333333334,0.058333333333333334,0.058333333333333334,0.058333333333333334,0.058333333333333334,0.058333333333333334,0.058333333333333334,0.058333333333333334,0.058333333333333334,0.058333333333333334,0.058333333333333334,0.058333333333333334,0.058333333333333334,0.058333333333333334,0.058333333333333334,0.058333333333333334,0.058333333333333334,0.058333333333333334,0.058333333333333334,0.058333333333333334,0.058333333333333334,0.058333333333333334,0.058333333333333334,0.058333333333333334,0.075,0.075,0.075,0.075,0.075,0.075,0.075,0.075,0.075,0.075,0.075,0.075,0.075,0.075,0.075,0.075,0.075,0.075,0.075,0.075,0.075,0.075,0.075,0.075,0.075,0.075,0.075,0.075,0.075,0.075,0.09166666666666667,0.09166666666666667,0.09166666666666667,0.09166666666666667,0.09166666666666667,0.09166666666666667,0.09166666666666667,0.09166666666666667,0.09166666666666667,0.09166666666666667,0.09166666666666667,0.09166666666666667,0.09166666666666667,0.09166666666666667,0.09166666666666667,0.09166666666666667,0.09166666666666667,0.09166666666666667,0.09166666666666667,0.09166666666666667,0.09166666666666667,0.09166666666666667,0.09166666666666667,0.09166666666666667,0.09166666666666667,0.09166666666666667,0.09166666666666667,0.09166666666666667,0.09166666666666667,0.09166666666666667,0.10833333333333334,0.10833333333333334,0.10833333333333334,0.10833333333333334,0.10833333333333334,0.10833333333333334,0.10833333333333334,0.10833333333333334,0.10833333333333334,0.10833333333333334,0.10833333333333334,0.10833333333333334,0.10833333333333334,0.10833333333333334,0.10833333333333334,0.10833333333333334,0.10833333333333334,0.10833333333333334,0.10833333333333334,0.10833333333333334,0.10833333333333334,0.10833333333333334,0.10833333333333334,0.10833333333333334,0.10833333333333334,0.10833333333333334,0.10833333333333334,0.10833333333333334,0.10833333333333334,0.10833333333333334,0.125,0.125,0.125,0.125,0.125,0.125,0.125,0.125,0.125,0.125,0.125,0.125,0.125,0.125,0.125,0.125,0.125,0.125,0.125,0.125,0.125,0.125,0.125,0.125,0.125,0.125,0.125,0.125,0.125,0.125,0.14166666666666666,0.14166666666666666,0.14166666666666666,0.14166666666666666,0.14166666666666666,0.14166666666666666,0.14166666666666666,0.14166666666666666,0.14166666666666666,0.14166666666666666,0.14166666666666666,0.14166666666666666,0.14166666666666666,0.14166666666666666,0.14166666666666666,0.14166666666666666,0.14166666666666666,0.14166666666666666,0.14166666666666666,0.14166666666666666,0.14166666666666666,0.14166666666666666,0.14166666666666666,0.14166666666666666,0.14166666666666666,0.14166666666666666,0.14166666666666666,0.14166666666666666,0.14166666666666666,0.14166666666666666,0.15833333333333333,0.15833333333333333,0.15833333333333333,0.15833333333333333,0.15833333333333333,0.15833333333333333,0.15833333333333333,0.15833333333333333,0.15833333333333333,0.15833333333333333,0.15833333333333333,0.15833333333333333,0.15833333333333333,0.15833333333333333,0.15833333333333333,0.15833333333333333,0.15833333333333333,0.15833333333333333,0.15833333333333333,0.15833333333333333,0.15833333333333333,0.15833333333333333,0.15833333333333333,0.15833333333333333,0.15833333333333333,0.15833333333333333,0.15833333333333333,0.15833333333333333,0.15833333333333333,0.15833333333333333,0.175,0.175,0.175,0.175,0.175,0.175,0.175,0.175,0.175,0.175,0.175,0.175,0.175,0.175,0.175,0.175,0.175,0.175,0.175,0.175,0.175,0.175,0.175,0.175,0.175,0.175,0.175,0.175,0.175,0.175,0.19166666666666665,0.19166666666666665,0.19166666666666665,0.19166666666666665,0.19166666666666665,0.19166666666666665,0.19166666666666665,0.19166666666666665,0.19166666666666665,0.19166666666666665,0.19166666666666665,0.19166666666666665,0.19166666666666665,0.19166666666666665,0.19166666666666665,0.19166666666666665,0.19166666666666665,0.19166666666666665,0.19166666666666665,0.19166666666666665,0.19166666666666665,0.19166666666666665,0.19166666666666665,0.19166666666666665,0.19166666666666665,0.19166666666666665,0.19166666666666665,0.19166666666666665,0.19166666666666665,0.19166666666666665,0.20833333333333334,0.20833333333333334,0.20833333333333334,0.20833333333333334,0.20833333333333334,0.20833333333333334,0.20833333333333334,0.20833333333333334,0.20833333333333334,0.20833333333333334,0.20833333333333334,0.20833333333333334,0.20833333333333334,0.20833333333333334,0.20833333333333334,0.20833333333333334,0.20833333333333334,0.20833333333333334,0.20833333333333334,0.20833333333333334,0.20833333333333334,0.20833333333333334,0.20833333333333334,0.20833333333333334,0.20833333333333334,0.20833333333333334,0.20833333333333334,0.20833333333333334,0.20833333333333334,0.20833333333333334,0.225,0.225,0.225,0.225,0.225,0.225,0.225,0.225,0.225,0.225,0.225,0.225,0.225,0.225,0.225,0.225,0.225,0.225,0.225,0.225,0.225,0.225,0.225,0.225,0.225,0.225,0.225,0.225,0.225,0.225,0.24166666666666667,0.24166666666666667,0.24166666666666667,0.24166666666666667,0.24166666666666667,0.24166666666666667,0.24166666666666667,0.24166666666666667,0.24166666666666667,0.24166666666666667,0.24166666666666667,0.24166666666666667,0.24166666666666667,0.24166666666666667,0.24166666666666667,0.24166666666666667,0.24166666666666667,0.24166666666666667,0.24166666666666667,0.24166666666666667,0.24166666666666667,0.24166666666666667,0.24166666666666667,0.24166666666666667,0.24166666666666667,0.24166666666666667,0.24166666666666667,0.24166666666666667,0.24166666666666667,0.24166666666666667,0.2583333333333333,0.2583333333333333,0.2583333333333333,0.2583333333333333,0.2583333333333333,0.2583333333333333,0.2583333333333333,0.2583333333333333,0.2583333333333333,0.2583333333333333,0.2583333333333333,0.2583333333333333,0.2583333333333333,0.2583333333333333,0.2583333333333333,0.2583333333333333,0.2583333333333333,0.2583333333333333,0.2583333333333333,0.2583333333333333,0.2583333333333333,0.2583333333333333,0.2583333333333333,0.2583333333333333,0.2583333333333333,0.2583333333333333,0.2583333333333333,0.2583333333333333,0.2583333333333333,0.2583333333333333,0.275,0.275,0.275,0.275,0.275,0.275,0.275,0.275,0.275,0.275,0.275,0.275,0.275,0.275,0.275,0.275,0.275,0.275,0.275,0.275,0.275,0.275,0.275,0.275,0.275,0.275,0.275,0.275,0.275,0.275,0.29166666666666663,0.29166666666666663,0.29166666666666663,0.29166666666666663,0.29166666666666663,0.29166666666666663,0.29166666666666663,0.29166666666666663,0.29166666666666663,0.29166666666666663,0.29166666666666663,0.29166666666666663,0.29166666666666663,0.29166666666666663,0.29166666666666663,0.29166666666666663,0.29166666666666663,0.29166666666666663,0.29166666666666663,0.29166666666666663,0.29166666666666663,0.29166666666666663,0.29166666666666663,0.29166666666666663,0.29166666666666663,0.29166666666666663,0.29166666666666663,0.29166666666666663,0.29166666666666663,0.29166666666666663,0.30833333333333335,0.30833333333333335,0.30833333333333335,0.30833333333333335,0.30833333333333335,0.30833333333333335,0.30833333333333335,0.30833333333333335,0.30833333333333335,0.30833333333333335,0.30833333333333335,0.30833333333333335,0.30833333333333335,0.30833333333333335,0.30833333333333335,0.30833333333333335,0.30833333333333335,0.30833333333333335,0.30833333333333335,0.30833333333333335,0.30833333333333335,0.30833333333333335,0.30833333333333335,0.30833333333333335,0.30833333333333335,0.30833333333333335,0.30833333333333335,0.30833333333333335,0.30833333333333335,0.30833333333333335,0.32499999999999996,0.32499999999999996,0.32499999999999996,0.32499999999999996,0.32499999999999996,0.32499999999999996,0.32499999999999996,0.32499999999999996,0.32499999999999996,0.32499999999999996,0.32499999999999996,0.32499999999999996,0.32499999999999996,0.32499999999999996,0.32499999999999996,0.32499999999999996,0.32499999999999996,0.32499999999999996,0.32499999999999996,0.32499999999999996,0.32499999999999996,0.32499999999999996,0.32499999999999996,0.32499999999999996,0.32499999999999996,0.32499999999999996,0.32499999999999996,0.32499999999999996,0.32499999999999996,0.32499999999999996,0.3416666666666667,0.3416666666666667,0.3416666666666667,0.3416666666666667,0.3416666666666667,0.3416666666666667,0.3416666666666667,0.3416666666666667,0.3416666666666667,0.3416666666666667,0.3416666666666667,0.3416666666666667,0.3416666666666667,0.3416666666666667,0.3416666666666667,0.3416666666666667,0.3416666666666667,0.3416666666666667,0.3416666666666667,0.3416666666666667,0.3416666666666667,0.3416666666666667,0.3416666666666667,0.3416666666666667,0.3416666666666667,0.3416666666666667,0.3416666666666667,0.3416666666666667,0.3416666666666667,0.3416666666666667,0.3583333333333333,0.3583333333333333,0.3583333333333333,0.3583333333333333,0.3583333333333333,0.3583333333333333,0.3583333333333333,0.3583333333333333,0.3583333333333333,0.3583333333333333,0.3583333333333333,0.3583333333333333,0.3583333333333333,0.3583333333333333,0.3583333333333333,0.3583333333333333,0.3583333333333333,0.3583333333333333,0.3583333333333333,0.3583333333333333,0.3583333333333333,0.3583333333333333,0.3583333333333333,0.3583333333333333,0.3583333333333333,0.3583333333333333,0.3583333333333333,0.3583333333333333,0.3583333333333333,0.3583333333333333,0.375,0.375,0.375,0.375,0.375,0.375,0.375,0.375,0.375,0.375,0.375,0.375,0.375,0.375,0.375,0.375,0.375,0.375,0.375,0.375,0.375,0.375,0.375,0.375,0.375,0.375,0.375,0.375,0.375,0.375,0.39166666666666666,0.39166666666666666,0.39166666666666666,0.39166666666666666,0.39166666666666666,0.39166666666666666,0.39166666666666666,0.39166666666666666,0.39166666666666666,0.39166666666666666,0.39166666666666666,0.39166666666666666,0.39166666666666666,0.39166666666666666,0.39166666666666666,0.39166666666666666,0.39166666666666666,0.39166666666666666,0.39166666666666666,0.39166666666666666,0.39166666666666666,0.39166666666666666,0.39166666666666666,0.39166666666666666,0.39166666666666666,0.39166666666666666,0.39166666666666666,0.39166666666666666,0.39166666666666666,0.39166666666666666,0.4083333333333333,0.4083333333333333,0.4083333333333333,0.4083333333333333,0.4083333333333333,0.4083333333333333,0.4083333333333333,0.4083333333333333,0.4083333333333333,0.4083333333333333,0.4083333333333333,0.4083333333333333,0.4083333333333333,0.4083333333333333,0.4083333333333333,0.4083333333333333,0.4083333333333333,0.4083333333333333,0.4083333333333333,0.4083333333333333,0.4083333333333333,0.4083333333333333,0.4083333333333333,0.4083333333333333,0.4083333333333333,0.4083333333333333,0.4083333333333333,0.4083333333333333,0.4083333333333333,0.4083333333333333,0.42500000000000004,0.42500000000000004,0.42500000000000004,0.42500000000000004,0.42500000000000004,0.42500000000000004,0.42500000000000004,0.42500000000000004,0.42500000000000004,0.42500000000000004,0.42500000000000004,0.42500000000000004,0.42500000000000004,0.42500000000000004,0.42500000000000004,0.42500000000000004,0.42500000000000004,0.42500000000000004,0.42500000000000004,0.42500000000000004,0.42500000000000004,0.42500000000000004,0.42500000000000004,0.42500000000000004,0.42500000000000004,0.42500000000000004,0.42500000000000004,0.42500000000000004,0.42500000000000004,0.42500000000000004,0.44166666666666665,0.44166666666666665,0.44166666666666665,0.44166666666666665,0.44166666666666665,0.44166666666666665,0.44166666666666665,0.44166666666666665,0.44166666666666665,0.44166666666666665,0.44166666666666665,0.44166666666666665,0.44166666666666665,0.44166666666666665,0.44166666666666665,0.44166666666666665,0.44166666666666665,0.44166666666666665,0.44166666666666665,0.44166666666666665,0.44166666666666665,0.44166666666666665,0.44166666666666665,0.44166666666666665,0.44166666666666665,0.44166666666666665,0.44166666666666665,0.44166666666666665,0.44166666666666665,0.44166666666666665,0.45833333333333337,0.45833333333333337,0.45833333333333337,0.45833333333333337,0.45833333333333337,0.45833333333333337,0.45833333333333337,0.45833333333333337,0.45833333333333337,0.45833333333333337,0.45833333333333337,0.45833333333333337,0.45833333333333337,0.45833333333333337,0.45833333333333337,0.45833333333333337,0.45833333333333337,0.45833333333333337,0.45833333333333337,0.45833333333333337,0.45833333333333337,0.45833333333333337,0.45833333333333337,0.45833333333333337,0.45833333333333337,0.45833333333333337,0.45833333333333337,0.45833333333333337,0.45833333333333337,0.45833333333333337,0.475,0.475,0.475,0.475,0.475,0.475,0.475,0.475,0.475,0.475,0.475,0.475,0.475,0.475,0.475,0.475,0.475,0.475,0.475,0.475,0.475,0.475,0.475,0.475,0.475,0.475,0.475,0.475,0.475,0.475,0.4916666666666667,0.4916666666666667,0.4916666666666667,0.4916666666666667,0.4916666666666667,0.4916666666666667,0.4916666666666667,0.4916666666666667,0.4916666666666667,0.4916666666666667,0.4916666666666667,0.4916666666666667,0.4916666666666667,0.4916666666666667,0.4916666666666667,0.4916666666666667,0.4916666666666667,0.4916666666666667,0.4916666666666667,0.4916666666666667,0.4916666666666667,0.4916666666666667,0.4916666666666667,0.4916666666666667,0.4916666666666667,0.4916666666666667,0.4916666666666667,0.4916666666666667,0.4916666666666667,0.4916666666666667],\"z\":[0.0,0.0,0.0,0.0,0.0,0.0,0.0,0.0,0.0,0.0,0.0,0.0,0.0,0.0,1.0,0.0,0.0,0.0,0.0,0.0,0.0,1.0,0.0,0.0,0.0,0.0,0.0,0.0,0.0,0.0,0.0,0.0,0.0,0.0,1.0,0.0,1.0,1.0,2.0,0.0,0.0,2.0,0.0,0.0,0.0,0.0,1.0,0.0,2.0,1.0,0.0,0.0,0.0,0.0,1.0,0.0,0.0,1.0,1.0,0.0,0.0,0.0,0.0,0.0,3.0,2.0,2.0,4.0,8.0,3.0,3.0,1.0,0.0,0.0,2.0,1.0,0.0,1.0,0.0,0.0,1.0,2.0,1.0,0.0,0.0,0.0,1.0,0.0,0.0,0.0,0.0,0.0,0.0,0.0,2.0,4.0,1.0,4.0,0.0,4.0,3.0,2.0,4.0,1.0,2.0,4.0,3.0,2.0,0.0,0.0,1.0,1.0,1.0,0.0,3.0,0.0,4.0,0.0,1.0,2.0,0.0,0.0,0.0,0.0,3.0,8.0,5.0,2.0,5.0,0.0,3.0,5.0,7.0,5.0,6.0,2.0,1.0,3.0,0.0,2.0,3.0,2.0,2.0,2.0,1.0,3.0,3.0,0.0,2.0,2.0,0.0,0.0,0.0,0.0,0.0,1.0,8.0,7.0,11.0,9.0,9.0,3.0,3.0,2.0,2.0,1.0,2.0,6.0,1.0,6.0,4.0,2.0,4.0,3.0,4.0,4.0,4.0,2.0,3.0,1.0,0.0,0.0,0.0,0.0,0.0,0.0,2.0,4.0,8.0,10.0,12.0,7.0,6.0,4.0,5.0,4.0,10.0,4.0,3.0,2.0,5.0,3.0,5.0,4.0,4.0,3.0,4.0,3.0,4.0,4.0,0.0,0.0,0.0,0.0,0.0,0.0,0.0,5.0,6.0,11.0,11.0,6.0,4.0,7.0,5.0,5.0,4.0,1.0,5.0,6.0,5.0,0.0,7.0,2.0,3.0,5.0,3.0,1.0,2.0,2.0,0.0,0.0,0.0,0.0,0.0,0.0,0.0,0.0,2.0,10.0,7.0,7.0,10.0,6.0,8.0,5.0,8.0,6.0,7.0,7.0,5.0,15.0,5.0,3.0,8.0,4.0,9.0,3.0,9.0,5.0,0.0,0.0,0.0,0.0,0.0,0.0,0.0,0.0,0.0,8.0,18.0,12.0,10.0,11.0,7.0,8.0,6.0,11.0,10.0,11.0,8.0,4.0,5.0,9.0,4.0,4.0,4.0,5.0,6.0,4.0,0.0,0.0,0.0,0.0,0.0,0.0,0.0,0.0,0.0,0.0,4.0,11.0,8.0,7.0,7.0,8.0,10.0,2.0,7.0,7.0,5.0,6.0,9.0,3.0,8.0,5.0,8.0,7.0,2.0,3.0,0.0,0.0,0.0,0.0,0.0,0.0,0.0,0.0,0.0,0.0,0.0,6.0,9.0,11.0,6.0,5.0,6.0,3.0,7.0,4.0,4.0,4.0,7.0,4.0,10.0,11.0,9.0,6.0,3.0,6.0,0.0,0.0,0.0,0.0,0.0,0.0,0.0,0.0,0.0,0.0,0.0,0.0,4.0,9.0,9.0,5.0,7.0,3.0,4.0,6.0,9.0,4.0,5.0,6.0,4.0,5.0,5.0,8.0,3.0,5.0,0.0,0.0,0.0,0.0,0.0,0.0,0.0,0.0,0.0,0.0,0.0,0.0,0.0,5.0,5.0,7.0,2.0,8.0,8.0,6.0,2.0,5.0,4.0,7.0,3.0,7.0,9.0,8.0,4.0,3.0,0.0,0.0,0.0,0.0,0.0,0.0,0.0,0.0,0.0,0.0,0.0,0.0,0.0,0.0,3.0,7.0,7.0,7.0,1.0,5.0,6.0,9.0,4.0,3.0,2.0,3.0,5.0,4.0,3.0,3.0,0.0,0.0,0.0,0.0,0.0,0.0,0.0,0.0,0.0,0.0,0.0,0.0,0.0,0.0,0.0,3.0,7.0,9.0,4.0,8.0,6.0,3.0,1.0,5.0,6.0,2.0,5.0,5.0,4.0,4.0,0.0,0.0,0.0,0.0,0.0,0.0,0.0,0.0,0.0,0.0,0.0,0.0,0.0,0.0,0.0,0.0,3.0,5.0,4.0,4.0,1.0,3.0,8.0,7.0,4.0,3.0,10.0,0.0,1.0,7.0,0.0,0.0,0.0,0.0,0.0,0.0,0.0,0.0,0.0,0.0,0.0,0.0,0.0,0.0,0.0,0.0,0.0,0.0,4.0,4.0,5.0,7.0,1.0,4.0,8.0,5.0,3.0,7.0,6.0,4.0,0.0,0.0,0.0,0.0,0.0,0.0,0.0,0.0,0.0,0.0,0.0,0.0,0.0,0.0,0.0,0.0,0.0,0.0,5.0,2.0,7.0,5.0,4.0,2.0,3.0,4.0,7.0,2.0,4.0,4.0,0.0,0.0,0.0,0.0,0.0,0.0,0.0,0.0,0.0,0.0,0.0,0.0,0.0,0.0,0.0,0.0,0.0,0.0,0.0,1.0,3.0,4.0,2.0,5.0,2.0,5.0,2.0,7.0,6.0,6.0,0.0,0.0,0.0,0.0,0.0,0.0,0.0,0.0,0.0,0.0,0.0,0.0,0.0,0.0,0.0,0.0,0.0,0.0,0.0,0.0,1.0,3.0,2.0,5.0,3.0,5.0,2.0,2.0,5.0,6.0,0.0,0.0,0.0,0.0,0.0,0.0,0.0,0.0,0.0,0.0,0.0,0.0,0.0,0.0,0.0,0.0,0.0,0.0,0.0,0.0,0.0,3.0,6.0,3.0,4.0,2.0,6.0,3.0,4.0,2.0,0.0,0.0,0.0,0.0,0.0,0.0,0.0,0.0,0.0,0.0,0.0,0.0,0.0,0.0,0.0,0.0,0.0,0.0,0.0,0.0,0.0,0.0,6.0,4.0,2.0,4.0,8.0,7.0,7.0,4.0,0.0,0.0,0.0,0.0,0.0,0.0,0.0,0.0,0.0,0.0,0.0,0.0,0.0,0.0,0.0,0.0,0.0,0.0,0.0,0.0,0.0,0.0,0.0,1.0,6.0,9.0,5.0,4.0,7.0,3.0,0.0,0.0,0.0,0.0,0.0,0.0,0.0,0.0,0.0,0.0,0.0,0.0,0.0,0.0,0.0,0.0,0.0,0.0,0.0,0.0,0.0,0.0,0.0,0.0,2.0,2.0,2.0,4.0,4.0,5.0,0.0,0.0,0.0,0.0,0.0,0.0,0.0,0.0,0.0,0.0,0.0,0.0,0.0,0.0,0.0,0.0,0.0,0.0,0.0,0.0,0.0,0.0,0.0,0.0,0.0,1.0,3.0,4.0,5.0,4.0,0.0,0.0,0.0,0.0,0.0,0.0,0.0,0.0,0.0,0.0,0.0,0.0,0.0,0.0,0.0,0.0,0.0,0.0,0.0,0.0,0.0,0.0,0.0,0.0,0.0,0.0,3.0,4.0,3.0,3.0,0.0,0.0,0.0,0.0,0.0,0.0,0.0,0.0,0.0,0.0,0.0,0.0,0.0,0.0,0.0,0.0,0.0,0.0,0.0,0.0,0.0,0.0,0.0,0.0,0.0,0.0,0.0,4.0,6.0,2.0,0.0,0.0,0.0,0.0,0.0,0.0,0.0,0.0,0.0,0.0,0.0,0.0,0.0,0.0,0.0,0.0,0.0,0.0,0.0,0.0,0.0,0.0,0.0,0.0,0.0,0.0,0.0,0.0,1.0,7.0,0.0,0.0,0.0,0.0,0.0,0.0,0.0,0.0,0.0,0.0,0.0,0.0,0.0,0.0,0.0,0.0,0.0,0.0,0.0,0.0,0.0,0.0,0.0,0.0,0.0,0.0,0.0,0.0,0.0,1.0],\"type\":\"heatmap\"}],                        {\"template\":{\"data\":{\"histogram2dcontour\":[{\"type\":\"histogram2dcontour\",\"colorbar\":{\"outlinewidth\":0,\"ticks\":\"\"},\"colorscale\":[[0.0,\"#0d0887\"],[0.1111111111111111,\"#46039f\"],[0.2222222222222222,\"#7201a8\"],[0.3333333333333333,\"#9c179e\"],[0.4444444444444444,\"#bd3786\"],[0.5555555555555556,\"#d8576b\"],[0.6666666666666666,\"#ed7953\"],[0.7777777777777778,\"#fb9f3a\"],[0.8888888888888888,\"#fdca26\"],[1.0,\"#f0f921\"]]}],\"choropleth\":[{\"type\":\"choropleth\",\"colorbar\":{\"outlinewidth\":0,\"ticks\":\"\"}}],\"histogram2d\":[{\"type\":\"histogram2d\",\"colorbar\":{\"outlinewidth\":0,\"ticks\":\"\"},\"colorscale\":[[0.0,\"#0d0887\"],[0.1111111111111111,\"#46039f\"],[0.2222222222222222,\"#7201a8\"],[0.3333333333333333,\"#9c179e\"],[0.4444444444444444,\"#bd3786\"],[0.5555555555555556,\"#d8576b\"],[0.6666666666666666,\"#ed7953\"],[0.7777777777777778,\"#fb9f3a\"],[0.8888888888888888,\"#fdca26\"],[1.0,\"#f0f921\"]]}],\"heatmap\":[{\"type\":\"heatmap\",\"colorbar\":{\"outlinewidth\":0,\"ticks\":\"\"},\"colorscale\":[[0.0,\"#0d0887\"],[0.1111111111111111,\"#46039f\"],[0.2222222222222222,\"#7201a8\"],[0.3333333333333333,\"#9c179e\"],[0.4444444444444444,\"#bd3786\"],[0.5555555555555556,\"#d8576b\"],[0.6666666666666666,\"#ed7953\"],[0.7777777777777778,\"#fb9f3a\"],[0.8888888888888888,\"#fdca26\"],[1.0,\"#f0f921\"]]}],\"heatmapgl\":[{\"type\":\"heatmapgl\",\"colorbar\":{\"outlinewidth\":0,\"ticks\":\"\"},\"colorscale\":[[0.0,\"#0d0887\"],[0.1111111111111111,\"#46039f\"],[0.2222222222222222,\"#7201a8\"],[0.3333333333333333,\"#9c179e\"],[0.4444444444444444,\"#bd3786\"],[0.5555555555555556,\"#d8576b\"],[0.6666666666666666,\"#ed7953\"],[0.7777777777777778,\"#fb9f3a\"],[0.8888888888888888,\"#fdca26\"],[1.0,\"#f0f921\"]]}],\"contourcarpet\":[{\"type\":\"contourcarpet\",\"colorbar\":{\"outlinewidth\":0,\"ticks\":\"\"}}],\"contour\":[{\"type\":\"contour\",\"colorbar\":{\"outlinewidth\":0,\"ticks\":\"\"},\"colorscale\":[[0.0,\"#0d0887\"],[0.1111111111111111,\"#46039f\"],[0.2222222222222222,\"#7201a8\"],[0.3333333333333333,\"#9c179e\"],[0.4444444444444444,\"#bd3786\"],[0.5555555555555556,\"#d8576b\"],[0.6666666666666666,\"#ed7953\"],[0.7777777777777778,\"#fb9f3a\"],[0.8888888888888888,\"#fdca26\"],[1.0,\"#f0f921\"]]}],\"surface\":[{\"type\":\"surface\",\"colorbar\":{\"outlinewidth\":0,\"ticks\":\"\"},\"colorscale\":[[0.0,\"#0d0887\"],[0.1111111111111111,\"#46039f\"],[0.2222222222222222,\"#7201a8\"],[0.3333333333333333,\"#9c179e\"],[0.4444444444444444,\"#bd3786\"],[0.5555555555555556,\"#d8576b\"],[0.6666666666666666,\"#ed7953\"],[0.7777777777777778,\"#fb9f3a\"],[0.8888888888888888,\"#fdca26\"],[1.0,\"#f0f921\"]]}],\"mesh3d\":[{\"type\":\"mesh3d\",\"colorbar\":{\"outlinewidth\":0,\"ticks\":\"\"}}],\"scatter\":[{\"fillpattern\":{\"fillmode\":\"overlay\",\"size\":10,\"solidity\":0.2},\"type\":\"scatter\"}],\"parcoords\":[{\"type\":\"parcoords\",\"line\":{\"colorbar\":{\"outlinewidth\":0,\"ticks\":\"\"}}}],\"scatterpolargl\":[{\"type\":\"scatterpolargl\",\"marker\":{\"colorbar\":{\"outlinewidth\":0,\"ticks\":\"\"}}}],\"bar\":[{\"error_x\":{\"color\":\"#2a3f5f\"},\"error_y\":{\"color\":\"#2a3f5f\"},\"marker\":{\"line\":{\"color\":\"#E5ECF6\",\"width\":0.5},\"pattern\":{\"fillmode\":\"overlay\",\"size\":10,\"solidity\":0.2}},\"type\":\"bar\"}],\"scattergeo\":[{\"type\":\"scattergeo\",\"marker\":{\"colorbar\":{\"outlinewidth\":0,\"ticks\":\"\"}}}],\"scatterpolar\":[{\"type\":\"scatterpolar\",\"marker\":{\"colorbar\":{\"outlinewidth\":0,\"ticks\":\"\"}}}],\"histogram\":[{\"marker\":{\"pattern\":{\"fillmode\":\"overlay\",\"size\":10,\"solidity\":0.2}},\"type\":\"histogram\"}],\"scattergl\":[{\"type\":\"scattergl\",\"marker\":{\"colorbar\":{\"outlinewidth\":0,\"ticks\":\"\"}}}],\"scatter3d\":[{\"type\":\"scatter3d\",\"line\":{\"colorbar\":{\"outlinewidth\":0,\"ticks\":\"\"}},\"marker\":{\"colorbar\":{\"outlinewidth\":0,\"ticks\":\"\"}}}],\"scattermapbox\":[{\"type\":\"scattermapbox\",\"marker\":{\"colorbar\":{\"outlinewidth\":0,\"ticks\":\"\"}}}],\"scatterternary\":[{\"type\":\"scatterternary\",\"marker\":{\"colorbar\":{\"outlinewidth\":0,\"ticks\":\"\"}}}],\"scattercarpet\":[{\"type\":\"scattercarpet\",\"marker\":{\"colorbar\":{\"outlinewidth\":0,\"ticks\":\"\"}}}],\"carpet\":[{\"aaxis\":{\"endlinecolor\":\"#2a3f5f\",\"gridcolor\":\"white\",\"linecolor\":\"white\",\"minorgridcolor\":\"white\",\"startlinecolor\":\"#2a3f5f\"},\"baxis\":{\"endlinecolor\":\"#2a3f5f\",\"gridcolor\":\"white\",\"linecolor\":\"white\",\"minorgridcolor\":\"white\",\"startlinecolor\":\"#2a3f5f\"},\"type\":\"carpet\"}],\"table\":[{\"cells\":{\"fill\":{\"color\":\"#EBF0F8\"},\"line\":{\"color\":\"white\"}},\"header\":{\"fill\":{\"color\":\"#C8D4E3\"},\"line\":{\"color\":\"white\"}},\"type\":\"table\"}],\"barpolar\":[{\"marker\":{\"line\":{\"color\":\"#E5ECF6\",\"width\":0.5},\"pattern\":{\"fillmode\":\"overlay\",\"size\":10,\"solidity\":0.2}},\"type\":\"barpolar\"}],\"pie\":[{\"automargin\":true,\"type\":\"pie\"}]},\"layout\":{\"autotypenumbers\":\"strict\",\"colorway\":[\"#636efa\",\"#EF553B\",\"#00cc96\",\"#ab63fa\",\"#FFA15A\",\"#19d3f3\",\"#FF6692\",\"#B6E880\",\"#FF97FF\",\"#FECB52\"],\"font\":{\"color\":\"#2a3f5f\"},\"hovermode\":\"closest\",\"hoverlabel\":{\"align\":\"left\"},\"paper_bgcolor\":\"white\",\"plot_bgcolor\":\"#E5ECF6\",\"polar\":{\"bgcolor\":\"#E5ECF6\",\"angularaxis\":{\"gridcolor\":\"white\",\"linecolor\":\"white\",\"ticks\":\"\"},\"radialaxis\":{\"gridcolor\":\"white\",\"linecolor\":\"white\",\"ticks\":\"\"}},\"ternary\":{\"bgcolor\":\"#E5ECF6\",\"aaxis\":{\"gridcolor\":\"white\",\"linecolor\":\"white\",\"ticks\":\"\"},\"baxis\":{\"gridcolor\":\"white\",\"linecolor\":\"white\",\"ticks\":\"\"},\"caxis\":{\"gridcolor\":\"white\",\"linecolor\":\"white\",\"ticks\":\"\"}},\"coloraxis\":{\"colorbar\":{\"outlinewidth\":0,\"ticks\":\"\"}},\"colorscale\":{\"sequential\":[[0.0,\"#0d0887\"],[0.1111111111111111,\"#46039f\"],[0.2222222222222222,\"#7201a8\"],[0.3333333333333333,\"#9c179e\"],[0.4444444444444444,\"#bd3786\"],[0.5555555555555556,\"#d8576b\"],[0.6666666666666666,\"#ed7953\"],[0.7777777777777778,\"#fb9f3a\"],[0.8888888888888888,\"#fdca26\"],[1.0,\"#f0f921\"]],\"sequentialminus\":[[0.0,\"#0d0887\"],[0.1111111111111111,\"#46039f\"],[0.2222222222222222,\"#7201a8\"],[0.3333333333333333,\"#9c179e\"],[0.4444444444444444,\"#bd3786\"],[0.5555555555555556,\"#d8576b\"],[0.6666666666666666,\"#ed7953\"],[0.7777777777777778,\"#fb9f3a\"],[0.8888888888888888,\"#fdca26\"],[1.0,\"#f0f921\"]],\"diverging\":[[0,\"#8e0152\"],[0.1,\"#c51b7d\"],[0.2,\"#de77ae\"],[0.3,\"#f1b6da\"],[0.4,\"#fde0ef\"],[0.5,\"#f7f7f7\"],[0.6,\"#e6f5d0\"],[0.7,\"#b8e186\"],[0.8,\"#7fbc41\"],[0.9,\"#4d9221\"],[1,\"#276419\"]]},\"xaxis\":{\"gridcolor\":\"white\",\"linecolor\":\"white\",\"ticks\":\"\",\"title\":{\"standoff\":15},\"zerolinecolor\":\"white\",\"automargin\":true,\"zerolinewidth\":2},\"yaxis\":{\"gridcolor\":\"white\",\"linecolor\":\"white\",\"ticks\":\"\",\"title\":{\"standoff\":15},\"zerolinecolor\":\"white\",\"automargin\":true,\"zerolinewidth\":2},\"scene\":{\"xaxis\":{\"backgroundcolor\":\"#E5ECF6\",\"gridcolor\":\"white\",\"linecolor\":\"white\",\"showbackground\":true,\"ticks\":\"\",\"zerolinecolor\":\"white\",\"gridwidth\":2},\"yaxis\":{\"backgroundcolor\":\"#E5ECF6\",\"gridcolor\":\"white\",\"linecolor\":\"white\",\"showbackground\":true,\"ticks\":\"\",\"zerolinecolor\":\"white\",\"gridwidth\":2},\"zaxis\":{\"backgroundcolor\":\"#E5ECF6\",\"gridcolor\":\"white\",\"linecolor\":\"white\",\"showbackground\":true,\"ticks\":\"\",\"zerolinecolor\":\"white\",\"gridwidth\":2}},\"shapedefaults\":{\"line\":{\"color\":\"#2a3f5f\"}},\"annotationdefaults\":{\"arrowcolor\":\"#2a3f5f\",\"arrowhead\":0,\"arrowwidth\":1},\"geo\":{\"bgcolor\":\"white\",\"landcolor\":\"#E5ECF6\",\"subunitcolor\":\"white\",\"showland\":true,\"showlakes\":true,\"lakecolor\":\"white\"},\"title\":{\"x\":0.05},\"mapbox\":{\"style\":\"light\"}}}},                        {\"responsive\": true}                    ).then(function(){\n",
       "                            \n",
       "var gd = document.getElementById('ad58cf80-43ec-49fb-9fbb-da86dbabb111');\n",
       "var x = new MutationObserver(function (mutations, observer) {{\n",
       "        var display = window.getComputedStyle(gd).display;\n",
       "        if (!display || display === 'none') {{\n",
       "            console.log([gd, 'removed!']);\n",
       "            Plotly.purge(gd);\n",
       "            observer.disconnect();\n",
       "        }}\n",
       "}});\n",
       "\n",
       "// Listen for the removal of the full notebook cells\n",
       "var notebookContainer = gd.closest('#notebook-container');\n",
       "if (notebookContainer) {{\n",
       "    x.observe(notebookContainer, {childList: true});\n",
       "}}\n",
       "\n",
       "// Listen for the clearing of the current output cell\n",
       "var outputEl = gd.closest('.output');\n",
       "if (outputEl) {{\n",
       "    x.observe(outputEl, {childList: true});\n",
       "}}\n",
       "\n",
       "                        })                };                });            </script>        </div>"
      ]
     },
     "metadata": {},
     "output_type": "display_data"
    }
   ],
   "source": [
    "j = pn.plotly2D(pipi_hf)\n",
    "fig2 = pi.from_json(j)\n",
    "fig2.show()"
   ]
  },
  {
   "cell_type": "code",
   "execution_count": null,
   "id": "570ce630-c5af-4f38-a977-b9881b235e83",
   "metadata": {},
   "outputs": [],
   "source": []
  }
 ],
 "metadata": {
  "kernelspec": {
   "display_name": "Python 3 (ipykernel)",
   "language": "python",
   "name": "python3"
  },
  "language_info": {
   "codemirror_mode": {
    "name": "ipython",
    "version": 3
   },
   "file_extension": ".py",
   "mimetype": "text/x-python",
   "name": "python",
   "nbconvert_exporter": "python",
   "pygments_lexer": "ipython3",
   "version": "3.9.18"
  }
 },
 "nbformat": 4,
 "nbformat_minor": 5
}
