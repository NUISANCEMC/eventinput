{
 "cells": [
  {
   "cell_type": "markdown",
   "id": "1ed3347a-a56e-4bb2-9b8c-235e9ce9a7c0",
   "metadata": {},
   "source": [
    "# Basic Event Loops\n",
    "\n",
    "We can loop directly on an event source object. This loop will always start the file again from the very first event."
   ]
  },
  {
   "cell_type": "code",
   "execution_count": 1,
   "id": "154eab17-8eee-4526-bc6a-3a6f24b5b21b",
   "metadata": {},
   "outputs": [
    {
     "name": "stdout",
     "output_type": "stream",
     "text": [
      "[2024-02-28 23:34:56.678] [info] Found eventinput plugin: /root/software/NUISANCEMC/eventinput/build/Linux/lib/plugins/nuisplugin-eventinput-GHEP3.so\n",
      "0 <pyHepMC3.pyHepMC3.HepMC3.GenEvent object at 0xffff7a647fb0>\n",
      "1 <pyHepMC3.pyHepMC3.HepMC3.GenEvent object at 0xffff7a5d63f0>\n",
      "2 <pyHepMC3.pyHepMC3.HepMC3.GenEvent object at 0xffff7a5d6130>\n",
      "3 <pyHepMC3.pyHepMC3.HepMC3.GenEvent object at 0xffff9dfbf6f0>\n",
      "4 <pyHepMC3.pyHepMC3.HepMC3.GenEvent object at 0xffff9c746730>\n",
      "5 <pyHepMC3.pyHepMC3.HepMC3.GenEvent object at 0xffff7a62bcb0>\n",
      "6 <pyHepMC3.pyHepMC3.HepMC3.GenEvent object at 0xffff7a62bf30>\n",
      "7 <pyHepMC3.pyHepMC3.HepMC3.GenEvent object at 0xffff7a62b870>\n",
      "8 <pyHepMC3.pyHepMC3.HepMC3.GenEvent object at 0xffff9c7055b0>\n",
      "9 <pyHepMC3.pyHepMC3.HepMC3.GenEvent object at 0xffff9c7117b0>\n",
      "[2024-02-28 23:34:56.738] [info] Found eventinput plugin: /root/software/NUISANCEMC/eventinput/build/Linux/lib/plugins/nuisplugin-eventinput-NuWroevent1.so\n",
      "[2024-02-28 23:34:56.750] [info] Found eventinput plugin: /root/software/NUISANCEMC/eventinput/build/Linux/lib/plugins/nuisplugin-eventinput-neutvect.so\n",
      "[2024-02-28 23:34:56.752] [info] EventSourceFactory: PathResolver::resolve filepath: nuwro.event1.dune_argon_sf_10mega.root, exists: true\n",
      "[2024-02-28 23:34:57.583] [info] Reading file nuwro.event1.dune_argon_sf_10mega.root with plugin /root/software/NUISANCEMC/eventinput/build/Linux/lib/plugins/nuisplugin-eventinput-NuWroevent1.so\n"
     ]
    }
   ],
   "source": [
    "import pyNUISANCE as pn\n",
    "\n",
    "evs = pn.EventSource(\"nuwro.event1.dune_argon_sf_10mega.root\")\n",
    "if not evs:\n",
    "    print(\"Error: failed to open input file\")\n",
    "    \n",
    "i = 0\n",
    "for ev, _ in evs:\n",
    "    # we can use the HepMC3 python bindings to help prettyprint events\n",
    "    print(i,ev)\n",
    "    if i == 9: # this stops this cell running forever\n",
    "        break\n",
    "    i += 1"
   ]
  },
  {
   "cell_type": "markdown",
   "id": "d94a09bb-b41b-4b20-904d-c6331f629836",
   "metadata": {},
   "source": [
    "## Event weights\n",
    "You might be wondering what the `_` is for? When iterating `EventSource`s, each iteration produces an event (`HepMC3::GenEvent`) and the corresponding central value weight for that event. For many input types, the CV weight for every event will be `1`, but this is not true for some inputs and so when writing input-agnostic code, we must always track the CV weights. NUISANCE makes it easy by never letting you proceed without explicitly ignoring them, which we've now told you is incorrect. Don't ignore them."
   ]
  },
  {
   "cell_type": "code",
   "execution_count": 2,
   "id": "088bad03-b032-4773-bc61-7eb489a0ebe7",
   "metadata": {},
   "outputs": [
    {
     "name": "stdout",
     "output_type": "stream",
     "text": [
      "0 1.0\n",
      "1 1.0\n",
      "2 1.0\n",
      "3 1.0\n",
      "4 1.0\n",
      "5 1.0\n"
     ]
    }
   ],
   "source": [
    "for i, (ev, cvw) in enumerate(evs):\n",
    "    print(ev.event_number(), cvw)\n",
    "    if i == 5:\n",
    "        break"
   ]
  },
  {
   "cell_type": "code",
   "execution_count": null,
   "id": "b7f7f139-fe7f-4511-835b-04c95ba8a0c9",
   "metadata": {},
   "outputs": [],
   "source": []
  }
 ],
 "metadata": {
  "kernelspec": {
   "display_name": "Python 3 (ipykernel)",
   "language": "python",
   "name": "python3"
  },
  "language_info": {
   "codemirror_mode": {
    "name": "ipython",
    "version": 3
   },
   "file_extension": ".py",
   "mimetype": "text/x-python",
   "name": "python",
   "nbconvert_exporter": "python",
   "pygments_lexer": "ipython3",
   "version": "3.9.18"
  }
 },
 "nbformat": 4,
 "nbformat_minor": 5
}
