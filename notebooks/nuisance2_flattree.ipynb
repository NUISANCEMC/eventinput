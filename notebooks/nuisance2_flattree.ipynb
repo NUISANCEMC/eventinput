{
 "cells": [
  {
   "cell_type": "code",
   "execution_count": 1,
   "id": "8d2342a9-1fd0-4365-b3f0-021f66b6d123",
   "metadata": {},
   "outputs": [],
   "source": [
    "import pyNUISANCE as pn"
   ]
  },
  {
   "cell_type": "code",
   "execution_count": 2,
   "id": "cbb8511a-434c-443f-b8ab-d6e6e4f20251",
   "metadata": {},
   "outputs": [],
   "source": [
    "pn.log.set_level(\"EventInput\",pn.log.level.trace)"
   ]
  },
  {
   "cell_type": "code",
   "execution_count": 3,
   "id": "75733e4f-0849-47db-a4d5-f22bf9c8b827",
   "metadata": {},
   "outputs": [
    {
     "name": "stdout",
     "output_type": "stream",
     "text": [
      "Error: failed to open input file\n",
      "[EventInput:debug]: Found eventinput plugin: /root/software/NUISANCEMC/eventinput/build/Linux/lib/plugins/nuisplugin-eventinput-GHEP3.so\n",
      "[EventInput:debug]: Found eventinput plugin: /root/software/NUISANCEMC/eventinput/build/Linux/lib/plugins/nuisplugin-eventinput-NUISANCE2FlatTree.so\n",
      "[EventInput:debug]: Found eventinput plugin: /root/software/NUISANCEMC/eventinput/build/Linux/lib/plugins/nuisplugin-eventinput-NuWroevent1.so\n",
      "[EventInput:debug]: Found eventinput plugin: /root/software/NUISANCEMC/eventinput/build/Linux/lib/plugins/nuisplugin-eventinput-neutvect.so\n",
      "[EventInput:debug]: [EventSourceFactory:PathResolver]::resolve filepath: https://portal.nersc.gov/project/nuisance/IOP_review_2023/GENIEv3_G18_10a_00_000/DUNEND_FHC_numu_Ar40_GENIEv3_G18_10a_00_000_1M_0000_NUISFLAT.root, exists: false\n",
      "[EventInput:warning]: EventSourceFactory::PathResolver did not resolve https://portal.nersc.gov/project/nuisance/IOP_review_2023/GENIEv3_G18_10a_00_000/DUNEND_FHC_numu_Ar40_GENIEv3_G18_10a_00_000_1M_0000_NUISFLAT.root to an existing filesystem path.\n",
      "[EventInput:trace]: Trying plugin /root/software/NUISANCEMC/eventinput/build/Linux/lib/plugins/nuisplugin-eventinput-GHEP3.so for file https://portal.nersc.gov/project/nuisance/IOP_review_2023/GENIEv3_G18_10a_00_000/DUNEND_FHC_numu_Ar40_GENIEv3_G18_10a_00_000_1M_0000_NUISFLAT.root\n",
      "[EventInput:trace]: Trying plugin /root/software/NUISANCEMC/eventinput/build/Linux/lib/plugins/nuisplugin-eventinput-NUISANCE2FlatTree.so for file https://portal.nersc.gov/project/nuisance/IOP_review_2023/GENIEv3_G18_10a_00_000/DUNEND_FHC_numu_Ar40_GENIEv3_G18_10a_00_000_1M_0000_NUISFLAT.root\n",
      "[EventInput:trace]: Trying plugin /root/software/NUISANCEMC/eventinput/build/Linux/lib/plugins/nuisplugin-eventinput-NuWroevent1.so for file https://portal.nersc.gov/project/nuisance/IOP_review_2023/GENIEv3_G18_10a_00_000/DUNEND_FHC_numu_Ar40_GENIEv3_G18_10a_00_000_1M_0000_NUISFLAT.root\n",
      "[EventInput:trace]: Trying plugin /root/software/NUISANCEMC/eventinput/build/Linux/lib/plugins/nuisplugin-eventinput-neutvect.so for file https://portal.nersc.gov/project/nuisance/IOP_review_2023/GENIEv3_G18_10a_00_000/DUNEND_FHC_numu_Ar40_GENIEv3_G18_10a_00_000_1M_0000_NUISFLAT.root\n",
      "[EventInput:warning]: HepMC3EventSource ignoring non-existant path https://portal.nersc.gov/project/nuisance/IOP_review_2023/GENIEv3_G18_10a_00_000/DUNEND_FHC_numu_Ar40_GENIEv3_G18_10a_00_000_1M_0000_NUISFLAT.root\n",
      "[EventInput:warning]: Failed to find plugin capable of reading input file: https://portal.nersc.gov/project/nuisance/IOP_review_2023/GENIEv3_G18_10a_00_000/DUNEND_FHC_numu_Ar40_GENIEv3_G18_10a_00_000_1M_0000_NUISFLAT.root.\n"
     ]
    }
   ],
   "source": [
    "evs = pn.EventSource(\"https://portal.nersc.gov/project/nuisance/IOP_review_2023/GENIEv3_G18_10a_00_000/DUNEND_FHC_numu_Ar40_GENIEv3_G18_10a_00_000_1M_0000_NUISFLAT.root\")\n",
    "if not evs:\n",
    "    print(\"Error: failed to open input file\")"
   ]
  },
  {
   "cell_type": "code",
   "execution_count": null,
   "id": "e48a19d7-e2b9-4626-bef4-ba0b2bec4a2a",
   "metadata": {},
   "outputs": [],
   "source": [
    "import pyProSelecta as pps\n",
    "fg = pn.EventFrameGen(evs,20).add_column(\"enu\",pps.project.enu)"
   ]
  },
  {
   "cell_type": "code",
   "execution_count": null,
   "id": "4fda58cf-c40d-4142-a75a-690957afc90e",
   "metadata": {},
   "outputs": [],
   "source": [
    "print(fg.first())"
   ]
  },
  {
   "cell_type": "code",
   "execution_count": null,
   "id": "6d9c4aed-3a8c-4074-adca-6e0733564e4c",
   "metadata": {},
   "outputs": [],
   "source": []
  }
 ],
 "metadata": {
  "kernelspec": {
   "display_name": "Python 3 (ipykernel)",
   "language": "python",
   "name": "python3"
  },
  "language_info": {
   "codemirror_mode": {
    "name": "ipython",
    "version": 3
   },
   "file_extension": ".py",
   "mimetype": "text/x-python",
   "name": "python",
   "nbconvert_exporter": "python",
   "pygments_lexer": "ipython3",
   "version": "3.9.18"
  }
 },
 "nbformat": 4,
 "nbformat_minor": 5
}
