{
 "cells": [
  {
   "cell_type": "code",
   "execution_count": 2,
   "id": "8d2342a9-1fd0-4365-b3f0-021f66b6d123",
   "metadata": {},
   "outputs": [],
   "source": [
    "import pyNUISANCE as pn"
   ]
  },
  {
   "cell_type": "code",
   "execution_count": 3,
   "id": "cbb8511a-434c-443f-b8ab-d6e6e4f20251",
   "metadata": {},
   "outputs": [],
   "source": [
    "pn.log.set_level(\"EventInput\",pn.log.level.trace)"
   ]
  },
  {
   "cell_type": "code",
   "execution_count": 4,
   "id": "75733e4f-0849-47db-a4d5-f22bf9c8b827",
   "metadata": {},
   "outputs": [
    {
     "name": "stdout",
     "output_type": "stream",
     "text": [
      "[EventInput:debug]: Found eventinput plugin: /root/software/NUISANCEMC/eventinput/build/Linux/lib/plugins/nuisplugin-eventinput-GHEP3.so\n",
      "[EventInput:debug]: Found eventinput plugin: /root/software/NUISANCEMC/eventinput/build/Linux/lib/plugins/nuisplugin-eventinput-NUISANCE2FlatTree.so\n",
      "[EventInput:debug]: Found eventinput plugin: /root/software/NUISANCEMC/eventinput/build/Linux/lib/plugins/nuisplugin-eventinput-NuWroevent1.so\n",
      "[EventInput:debug]: Found eventinput plugin: /root/software/NUISANCEMC/eventinput/build/Linux/lib/plugins/nuisplugin-eventinput-neutvect.so\n",
      "[EventInput:debug]: [EventSourceFactory:PathResolver]::resolve filepath: https://portal.nersc.gov/project/nuisance/IOP_review_2023/GENIEv3_G18_10a_00_000/DUNEND_FHC_numu_Ar40_GENIEv3_G18_10a_00_000_1M_0000_NUISFLAT.root, exists: false\n",
      "[EventInput:warning]: EventSourceFactory::PathResolver did not resolve https://portal.nersc.gov/project/nuisance/IOP_review_2023/GENIEv3_G18_10a_00_000/DUNEND_FHC_numu_Ar40_GENIEv3_G18_10a_00_000_1M_0000_NUISFLAT.root to an existing filesystem path.\n",
      "[EventInput:trace]: Trying plugin /root/software/NUISANCEMC/eventinput/build/Linux/lib/plugins/nuisplugin-eventinput-GHEP3.so for file https://portal.nersc.gov/project/nuisance/IOP_review_2023/GENIEv3_G18_10a_00_000/DUNEND_FHC_numu_Ar40_GENIEv3_G18_10a_00_000_1M_0000_NUISFLAT.root\n",
      "[EventInput:trace]: [NUISANCE2FlattTreeEventSource]: cfg[\"filepath\"]? true = https://portal.nersc.gov/project/nuisance/IOP_review_2023/GENIEv3_G18_10a_00_000/DUNEND_FHC_numu_Ar40_GENIEv3_G18_10a_00_000_1M_0000_NUISFLAT.root, HasTTree ? true\n",
      "[EventInput:trace]: Trying plugin /root/software/NUISANCEMC/eventinput/build/Linux/lib/plugins/nuisplugin-eventinput-NUISANCE2FlatTree.so for file https://portal.nersc.gov/project/nuisance/IOP_review_2023/GENIEv3_G18_10a_00_000/DUNEND_FHC_numu_Ar40_GENIEv3_G18_10a_00_000_1M_0000_NUISFLAT.root\n",
      "[EventInput:debug]: Reading file https://portal.nersc.gov/project/nuisance/IOP_review_2023/GENIEv3_G18_10a_00_000/DUNEND_FHC_numu_Ar40_GENIEv3_G18_10a_00_000_1M_0000_NUISFLAT.root with plugin /root/software/NUISANCEMC/eventinput/build/Linux/lib/plugins/nuisplugin-eventinput-NUISANCE2FlatTree.so\n"
     ]
    }
   ],
   "source": [
    "evs = pn.EventSource(\"https://portal.nersc.gov/project/nuisance/IOP_review_2023/GENIEv3_G18_10a_00_000/DUNEND_FHC_numu_Ar40_GENIEv3_G18_10a_00_000_1M_0000_NUISFLAT.root\")\n",
    "if not evs:\n",
    "    print(\"Error: failed to open input file\")"
   ]
  },
  {
   "cell_type": "code",
   "execution_count": 5,
   "id": "e48a19d7-e2b9-4626-bef4-ba0b2bec4a2a",
   "metadata": {},
   "outputs": [],
   "source": [
    "import pyProSelecta as pps\n",
    "fg = pn.EventFrameGen(evs,20).add_column(\"enu\",pps.project.enu)"
   ]
  },
  {
   "cell_type": "code",
   "execution_count": 6,
   "id": "4fda58cf-c40d-4142-a75a-690957afc90e",
   "metadata": {},
   "outputs": [
    {
     "name": "stdout",
     "output_type": "stream",
     "text": [
      " -----------------------------------------------------\n",
      " | event.number | weight.cv | process.id |       enu |\n",
      " -----------------------------------------------------\n",
      " |            0 |         1 |         26 | 2.153e+04 |\n",
      " |            1 |         1 |         26 | 2.945e+04 |\n",
      " |            2 |         1 |         32 |      2012 |\n",
      " |            3 |         1 |         21 |      3622 |\n",
      " |            4 |         1 |         26 | 2.717e+04 |\n",
      " |            5 |         1 |          1 |      2594 |\n",
      " |            6 |         1 |         26 | 1.041e+04 |\n",
      " |            7 |         1 |         12 |      2229 |\n",
      " |            8 |         1 |         21 |      2739 |\n",
      " |            9 |         1 |         51 |      2571 |\n",
      " |           10 |         1 |         13 |      2997 |\n",
      " |           11 |         1 |         13 |      2575 |\n",
      " |           12 |         1 |          1 |      2611 |\n",
      " |           13 |         1 |         26 |      4049 |\n",
      " |           14 |         1 |         11 |      3093 |\n",
      " |           15 |         1 |         21 |      3216 |\n",
      " |           16 |         1 |         46 |      3577 |\n",
      " |           17 |         1 |          1 |      2993 |\n",
      " |           18 |         1 |         26 | 1.578e+04 |\n",
      " |           19 |         1 |          1 |      1758 |\n",
      " -----------------------------------------------------\n"
     ]
    }
   ],
   "source": [
    "print(fg.first())"
   ]
  },
  {
   "cell_type": "code",
   "execution_count": null,
   "id": "6d9c4aed-3a8c-4074-adca-6e0733564e4c",
   "metadata": {},
   "outputs": [],
   "source": []
  }
 ],
 "metadata": {
  "kernelspec": {
   "display_name": "Python 3 (ipykernel)",
   "language": "python",
   "name": "python3"
  },
  "language_info": {
   "codemirror_mode": {
    "name": "ipython",
    "version": 3
   },
   "file_extension": ".py",
   "mimetype": "text/x-python",
   "name": "python",
   "nbconvert_exporter": "python",
   "pygments_lexer": "ipython3",
   "version": "3.9.18"
  }
 },
 "nbformat": 4,
 "nbformat_minor": 5
}
