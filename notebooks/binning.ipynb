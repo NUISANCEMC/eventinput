{
 "cells": [
  {
   "cell_type": "markdown",
   "id": "56a3e5d0-1c02-49b8-98de-eb2af3513e3e",
   "metadata": {},
   "source": [
    "# Binning and Projections of Histograms\n",
    "\n",
    "NUISANCE provides some simple binning primitives and compositors to support `HistFrame` functionality.\n",
    "\n",
    "Starting with a simple contiguous linear binning"
   ]
  },
  {
   "cell_type": "code",
   "execution_count": 1,
   "id": "cdac3e63-0ae5-43d5-ad0a-b2a2fe8d8238",
   "metadata": {},
   "outputs": [],
   "source": [
    "import pyNUISANCE as pn"
   ]
  },
  {
   "cell_type": "code",
   "execution_count": 2,
   "id": "5cc5e501-b3b6-41da-9e29-bf00589dfd9e",
   "metadata": {
    "editable": true,
    "slideshow": {
     "slide_type": ""
    },
    "tags": []
   },
   "outputs": [
    {
     "name": "stdout",
     "output_type": "stream",
     "text": [
      "level.trace\n"
     ]
    }
   ],
   "source": [
    "#if you would like to follow the binning operations in this notebook\n",
    "#  uncomment the below and execute the cell\n",
    "#  this will only produce output if NUISANCEv3 was built with the \n",
    "#  log macro level set to trace. \n",
    "#  Which happens for Debug builds by default.\n",
    "print(pn.log.get_macro_level())\n",
    "pn.log.set_level(\"Binning\",pn.log.level.trace)"
   ]
  },
  {
   "cell_type": "code",
   "execution_count": 3,
   "id": "67648fcc-9c81-4764-b3f3-96d7da8b408c",
   "metadata": {},
   "outputs": [
    {
     "name": "stdout",
     "output_type": "stream",
     "text": [
      "Axis lables: [\"\"]\n",
      "Bins: [\n",
      "  0: [(0.00 - 1.00)]\n",
      "  1: [(1.00 - 2.00)]\n",
      "  2: [(2.00 - 3.00)]\n",
      "  3: [(3.00 - 4.00)]\n",
      "  4: [(4.00 - 5.00)]\n",
      "]\n",
      "\n",
      "first bin: 0\n",
      "can also use find_bin: first bin: 0\n",
      "second bin: 1\n",
      "semi-open range: 1\n",
      "out of range signified by a magic number: 4294967295\n",
      "out of range: 4294967295 =? 4294967295\n",
      "out of range: 4294967295 =? 4294967295\n",
      "out of range: 4294967295 =? 4294967295\n",
      "[Binning:trace]: [lin_space(0,5,5).find_bin] x.size() = 1, x[0] = 0\n",
      "[Binning:trace]: [lin_space(0,5,5).find_bin] Found bin: 0, (0 -- 1)\n",
      "[Binning:trace]: [lin_space(0,5,5).find_bin] x.size() = 1, x[0] = 0\n",
      "[Binning:trace]: [lin_space(0,5,5).find_bin] Found bin: 0, (0 -- 1)\n",
      "[Binning:trace]: [lin_space(0,5,5).find_bin] x.size() = 1, x[0] = 1.5\n",
      "[Binning:trace]: [lin_space(0,5,5).find_bin] Found bin: 1, (1 -- 2)\n",
      "[Binning:trace]: [lin_space(0,5,5).find_bin] x.size() = 1, x[0] = 1\n",
      "[Binning:trace]: [lin_space(0,5,5).find_bin] Found bin: 1, (1 -- 2)\n",
      "[Binning:trace]: [lin_space(0,5,5).find_bin] x.size() = 1, x[0] = -1\n",
      "[Binning:trace]: [lin_space(0,5,5).find_bin] Found bin: npos\n",
      "[Binning:trace]: [lin_space(0,5,5).find_bin] x.size() = 1, x[0] = 5\n",
      "[Binning:trace]: [lin_space(0,5,5).find_bin] Found bin: npos\n",
      "[Binning:trace]: [lin_space(0,5,5).find_bin] x.size() = 1, x[0] = 1000\n",
      "[Binning:trace]: [lin_space(0,5,5).find_bin] Found bin: npos\n"
     ]
    }
   ],
   "source": [
    "nd = pn.Binning.lin_space(0,5,5)\n",
    "print(nd)\n",
    "print(\"first bin: %s\" % nd(0))\n",
    "print(\"can also use find_bin: first bin: %s\" % nd.find_bin(0))\n",
    "print(\"second bin: %s\" % nd(1.5))\n",
    "print(\"semi-open range: %s\" % nd(1))\n",
    "print(\"out of range signified by a magic number: %s\" % pn.Binning.npos)\n",
    "print(\"out of range: %s =? %s\" % (nd(-1), pn.Binning.npos))\n",
    "print(\"out of range: %s =? %s\" % (nd(5), pn.Binning.npos))\n",
    "print(\"out of range: %s =? %s\" % (nd(1E3), pn.Binning.npos))"
   ]
  },
  {
   "cell_type": "markdown",
   "id": "1ca91d91-ae51-475d-afb4-539028ded820",
   "metadata": {},
   "source": [
    "This can be extended to a N dimensional, hyper-rectangular, uniform binning, each bin gets a global bin number which maps to an N dimensional extent:"
   ]
  },
  {
   "cell_type": "code",
   "execution_count": 4,
   "id": "b13e787c-4580-4be2-a202-5fccf29f4f33",
   "metadata": {},
   "outputs": [
    {
     "name": "stdout",
     "output_type": "stream",
     "text": [
      "Axis lables: [\"x\", \"y\", \"z\"]\n",
      "Bins: [\n",
      "  0: [(0.00 - 1.00), (3.00 - 4.00), (6.00 - 7.00)]\n",
      "  1: [(1.00 - 2.00), (3.00 - 4.00), (6.00 - 7.00)]\n",
      "  2: [(2.00 - 3.00), (3.00 - 4.00), (6.00 - 7.00)]\n",
      "  3: [(0.00 - 1.00), (4.00 - 5.00), (6.00 - 7.00)]\n",
      "  4: [(1.00 - 2.00), (4.00 - 5.00), (6.00 - 7.00)]\n",
      "  5: [(2.00 - 3.00), (4.00 - 5.00), (6.00 - 7.00)]\n",
      "  6: [(0.00 - 1.00), (5.00 - 6.00), (6.00 - 7.00)]\n",
      "  7: [(1.00 - 2.00), (5.00 - 6.00), (6.00 - 7.00)]\n",
      "  8: [(2.00 - 3.00), (5.00 - 6.00), (6.00 - 7.00)]\n",
      "  9: [(0.00 - 1.00), (3.00 - 4.00), (7.00 - 8.00)]\n",
      "  10: [(1.00 - 2.00), (3.00 - 4.00), (7.00 - 8.00)]\n",
      "  11: [(2.00 - 3.00), (3.00 - 4.00), (7.00 - 8.00)]\n",
      "  12: [(0.00 - 1.00), (4.00 - 5.00), (7.00 - 8.00)]\n",
      "  13: [(1.00 - 2.00), (4.00 - 5.00), (7.00 - 8.00)]\n",
      "  14: [(2.00 - 3.00), (4.00 - 5.00), (7.00 - 8.00)]\n",
      "  15: [(0.00 - 1.00), (5.00 - 6.00), (7.00 - 8.00)]\n",
      "  16: [(1.00 - 2.00), (5.00 - 6.00), (7.00 - 8.00)]\n",
      "  17: [(2.00 - 3.00), (5.00 - 6.00), (7.00 - 8.00)]\n",
      "  18: [(0.00 - 1.00), (3.00 - 4.00), (8.00 - 9.00)]\n",
      "  19: [(1.00 - 2.00), (3.00 - 4.00), (8.00 - 9.00)]\n",
      "  20: [(2.00 - 3.00), (3.00 - 4.00), (8.00 - 9.00)]\n",
      "  21: [(0.00 - 1.00), (4.00 - 5.00), (8.00 - 9.00)]\n",
      "  22: [(1.00 - 2.00), (4.00 - 5.00), (8.00 - 9.00)]\n",
      "  23: [(2.00 - 3.00), (4.00 - 5.00), (8.00 - 9.00)]\n",
      "  24: [(0.00 - 1.00), (5.00 - 6.00), (8.00 - 9.00)]\n",
      "  25: [(1.00 - 2.00), (5.00 - 6.00), (8.00 - 9.00)]\n",
      "  26: [(2.00 - 3.00), (5.00 - 6.00), (8.00 - 9.00)]\n",
      "]\n",
      "\n"
     ]
    }
   ],
   "source": [
    "nd3 = pn.Binning.lin_spaceND([[0,3,3],[3,6,3],[6,9,3]],[\"x\",\"y\",\"z\"])\n",
    "print(nd3)"
   ]
  },
  {
   "cell_type": "markdown",
   "id": "3d59b9c0-0b7a-41ba-a6f3-f132c53dc7dd",
   "metadata": {},
   "source": [
    "We can apply the binning function, which takes an N dimensional vector of doubles from the binning operation:"
   ]
  },
  {
   "cell_type": "code",
   "execution_count": 5,
   "id": "07d5daa6-e90b-4a36-9d6f-1a173dcaef1d",
   "metadata": {},
   "outputs": [
    {
     "name": "stdout",
     "output_type": "stream",
     "text": [
      "first bin 0: \n",
      "second bin along x 1: \n",
      "second bin along y 3: \n",
      "second bin along z 12: \n",
      "[Binning:trace]: [lin_spaceND([(0, 3, 3), (3, 6, 3), (6, 9, 3)]).find_bin] x.size() = 3/3 axes, x = [0, 3, 6]\n",
      "[Binning:trace]: [lin_spaceND([(0, 3, 3), (3, 6, 3), (6, 9, 3)]).find_bin] Found bin[0]: 0, (0 -- 1)\n",
      "[Binning:trace]: [lin_spaceND([(0, 3, 3), (3, 6, 3), (6, 9, 3)]).find_bin] gbin after 0 axes: 0\n",
      "[Binning:trace]: [lin_spaceND([(0, 3, 3), (3, 6, 3), (6, 9, 3)]).find_bin] Found bin[1]: 0, (3 -- 4)\n",
      "[Binning:trace]: [lin_spaceND([(0, 3, 3), (3, 6, 3), (6, 9, 3)]).find_bin] gbin after 1 axes: 0\n",
      "[Binning:trace]: [lin_spaceND([(0, 3, 3), (3, 6, 3), (6, 9, 3)]).find_bin] Found bin[2]: 0, (6 -- 7)\n",
      "[Binning:trace]: [lin_spaceND([(0, 3, 3), (3, 6, 3), (6, 9, 3)]).find_bin] gbin after 2 axes: 0\n",
      "[Binning:trace]: [lin_spaceND([(0, 3, 3), (3, 6, 3), (6, 9, 3)]).find_bin] returning gbin 0 for x = [0, 3, 6]\n",
      "[Binning:trace]: [lin_spaceND([(0, 3, 3), (3, 6, 3), (6, 9, 3)]).find_bin] x.size() = 3/3 axes, x = [1, 3, 6]\n",
      "[Binning:trace]: [lin_spaceND([(0, 3, 3), (3, 6, 3), (6, 9, 3)]).find_bin] Found bin[0]: 1, (1 -- 2)\n",
      "[Binning:trace]: [lin_spaceND([(0, 3, 3), (3, 6, 3), (6, 9, 3)]).find_bin] gbin after 0 axes: 1\n",
      "[Binning:trace]: [lin_spaceND([(0, 3, 3), (3, 6, 3), (6, 9, 3)]).find_bin] Found bin[1]: 0, (3 -- 4)\n",
      "[Binning:trace]: [lin_spaceND([(0, 3, 3), (3, 6, 3), (6, 9, 3)]).find_bin] gbin after 1 axes: 1\n",
      "[Binning:trace]: [lin_spaceND([(0, 3, 3), (3, 6, 3), (6, 9, 3)]).find_bin] Found bin[2]: 0, (6 -- 7)\n",
      "[Binning:trace]: [lin_spaceND([(0, 3, 3), (3, 6, 3), (6, 9, 3)]).find_bin] gbin after 2 axes: 1\n",
      "[Binning:trace]: [lin_spaceND([(0, 3, 3), (3, 6, 3), (6, 9, 3)]).find_bin] returning gbin 1 for x = [1, 3, 6]\n",
      "[Binning:trace]: [lin_spaceND([(0, 3, 3), (3, 6, 3), (6, 9, 3)]).find_bin] x.size() = 3/3 axes, x = [0, 4, 6]\n",
      "[Binning:trace]: [lin_spaceND([(0, 3, 3), (3, 6, 3), (6, 9, 3)]).find_bin] Found bin[0]: 0, (0 -- 1)\n",
      "[Binning:trace]: [lin_spaceND([(0, 3, 3), (3, 6, 3), (6, 9, 3)]).find_bin] gbin after 0 axes: 0\n",
      "[Binning:trace]: [lin_spaceND([(0, 3, 3), (3, 6, 3), (6, 9, 3)]).find_bin] Found bin[1]: 1, (3 -- 4)\n",
      "[Binning:trace]: [lin_spaceND([(0, 3, 3), (3, 6, 3), (6, 9, 3)]).find_bin] gbin after 1 axes: 3\n",
      "[Binning:trace]: [lin_spaceND([(0, 3, 3), (3, 6, 3), (6, 9, 3)]).find_bin] Found bin[2]: 0, (6 -- 7)\n",
      "[Binning:trace]: [lin_spaceND([(0, 3, 3), (3, 6, 3), (6, 9, 3)]).find_bin] gbin after 2 axes: 3\n",
      "[Binning:trace]: [lin_spaceND([(0, 3, 3), (3, 6, 3), (6, 9, 3)]).find_bin] returning gbin 3 for x = [0, 4, 6]\n",
      "[Binning:trace]: [lin_spaceND([(0, 3, 3), (3, 6, 3), (6, 9, 3)]).find_bin] x.size() = 3/3 axes, x = [0, 4, 7]\n",
      "[Binning:trace]: [lin_spaceND([(0, 3, 3), (3, 6, 3), (6, 9, 3)]).find_bin] Found bin[0]: 0, (0 -- 1)\n",
      "[Binning:trace]: [lin_spaceND([(0, 3, 3), (3, 6, 3), (6, 9, 3)]).find_bin] gbin after 0 axes: 0\n",
      "[Binning:trace]: [lin_spaceND([(0, 3, 3), (3, 6, 3), (6, 9, 3)]).find_bin] Found bin[1]: 1, (3 -- 4)\n",
      "[Binning:trace]: [lin_spaceND([(0, 3, 3), (3, 6, 3), (6, 9, 3)]).find_bin] gbin after 1 axes: 3\n",
      "[Binning:trace]: [lin_spaceND([(0, 3, 3), (3, 6, 3), (6, 9, 3)]).find_bin] Found bin[2]: 1, (6 -- 7)\n",
      "[Binning:trace]: [lin_spaceND([(0, 3, 3), (3, 6, 3), (6, 9, 3)]).find_bin] gbin after 2 axes: 12\n",
      "[Binning:trace]: [lin_spaceND([(0, 3, 3), (3, 6, 3), (6, 9, 3)]).find_bin] returning gbin 12 for x = [0, 4, 7]\n"
     ]
    }
   ],
   "source": [
    "print(\"first bin %s: \" % nd3([0,3,6]))\n",
    "print(\"second bin along x %s: \" % nd3([1,3,6]))\n",
    "print(\"second bin along y %s: \" % nd3([0,4,6]))\n",
    "print(\"second bin along z %s: \" % nd3([0,4,7]))"
   ]
  },
  {
   "cell_type": "markdown",
   "id": "0a4fb6b4-3bbf-470e-a47b-249c6f90e6b6",
   "metadata": {},
   "source": [
    "We can also do logarithmic binning"
   ]
  },
  {
   "cell_type": "code",
   "execution_count": 6,
   "id": "3581d8fa-3652-48a2-9b50-330f3e30b78f",
   "metadata": {},
   "outputs": [
    {
     "name": "stdout",
     "output_type": "stream",
     "text": [
      "Axis lables: [\"x\"]\n",
      "Bins: [\n",
      "  0: [(0.01 - 0.02)]\n",
      "  1: [(0.02 - 0.04)]\n",
      "  2: [(0.04 - 0.08)]\n",
      "  3: [(0.08 - 0.16)]\n",
      "  4: [(0.16 - 0.32)]\n",
      "  5: [(0.32 - 0.63)]\n",
      "  6: [(0.63 - 1.26)]\n",
      "  7: [(1.26 - 2.51)]\n",
      "  8: [(2.51 - 5.01)]\n",
      "  9: [(5.01 - 10.00)]\n",
      "]\n",
      "\n",
      "bin: 6\n",
      "bin out of range: 4294967295\n",
      "bin out of range: 4294967295\n",
      "[Binning:trace]: [log10_space(0.01,10,10).find_bin] x.size() = 1, x[0] = 1\n",
      "[Binning:trace]: [log10_space(0.01,10,10).find_bin] x.size() = 1, x[0] = 10\n",
      "[Binning:trace]: [log10_space(0.01,10,10).find_bin] x.size() = 1, x[0] = 0.001\n"
     ]
    }
   ],
   "source": [
    "from math import log\n",
    "ndl = pn.Binning.log10_space(1E-2,10,10, \"x\")\n",
    "print(ndl)\n",
    "\n",
    "print(\"bin: %s\" % ndl(1))\n",
    "print(\"bin out of range: %s\" % ndl(10))\n",
    "print(\"bin out of range: %s\" % ndl(0.001))"
   ]
  },
  {
   "cell_type": "markdown",
   "id": "747df017-b632-409e-9e94-8b1529d933d4",
   "metadata": {},
   "source": [
    "## Combining binnings\n",
    "Binnings of initially different types can be composited to allow, for example, a 2D log/linear binning"
   ]
  },
  {
   "cell_type": "code",
   "execution_count": 7,
   "id": "4c6606ad-3263-4ea8-9e7d-ca1712c288b5",
   "metadata": {},
   "outputs": [
    {
     "name": "stdout",
     "output_type": "stream",
     "text": [
      "Axis lables: [\"enu\", \"erec\"]\n",
      "Bins: [\n",
      "  0: [(0.10 - 0.37), (0.00 - 1.00)]\n",
      "  1: [(0.37 - 1.36), (0.00 - 1.00)]\n",
      "  2: [(1.36 - 5.00), (0.00 - 1.00)]\n",
      "  3: [(0.10 - 0.37), (1.00 - 2.00)]\n",
      "  4: [(0.37 - 1.36), (1.00 - 2.00)]\n",
      "  5: [(1.36 - 5.00), (1.00 - 2.00)]\n",
      "  6: [(0.10 - 0.37), (2.00 - 3.00)]\n",
      "  7: [(0.37 - 1.36), (2.00 - 3.00)]\n",
      "  8: [(1.36 - 5.00), (2.00 - 3.00)]\n",
      "  9: [(0.10 - 0.37), (3.00 - 4.00)]\n",
      "  10: [(0.37 - 1.36), (3.00 - 4.00)]\n",
      "  11: [(1.36 - 5.00), (3.00 - 4.00)]\n",
      "  12: [(0.10 - 0.37), (4.00 - 5.00)]\n",
      "  13: [(0.37 - 1.36), (4.00 - 5.00)]\n",
      "  14: [(1.36 - 5.00), (4.00 - 5.00)]\n",
      "]\n",
      "\n"
     ]
    }
   ],
   "source": [
    "etrue_ax = pn.Binning.log10_space(0.1,5,3, \"enu\")\n",
    "erec_ax = pn.Binning.lin_space(0,5,5, \"erec\")\n",
    "etrue_erec = pn.Binning.product([etrue_ax,erec_ax])\n",
    "print(etrue_erec)"
   ]
  },
  {
   "cell_type": "code",
   "execution_count": 8,
   "id": "232ba82b-a6be-4387-909c-6742a4348605",
   "metadata": {},
   "outputs": [
    {
     "name": "stdout",
     "output_type": "stream",
     "text": [
      " ------------------\n",
      " | bin | mc | err |\n",
      " ------------------\n",
      " |   0 |  0 |   0 |\n",
      " |   1 |  0 |   0 |\n",
      " |   2 |  0 |   0 |\n",
      " |   3 |  1 |   1 |\n",
      " |   4 |  1 |   1 |\n",
      " |   5 |  0 |   0 |\n",
      " |   6 |  0 |   0 |\n",
      " |   7 |  1 |   1 |\n",
      " |   8 |  0 |   0 |\n",
      " |   9 |  0 |   0 |\n",
      " |  10 |  0 |   0 |\n",
      " |  11 |  0 |   0 |\n",
      " |  12 |  0 |   0 |\n",
      " |  13 |  0 |   0 |\n",
      " |  14 |  0 |   0 |\n",
      " ------------------\n",
      "Axis lables: [\"enu\", \"erec\"]\n",
      "Bins: [\n",
      "  0: [(0.10 - 0.37), (0.00 - 1.00)]\n",
      "  1: [(0.37 - 1.36), (0.00 - 1.00)]\n",
      "  2: [(1.36 - 5.00), (0.00 - 1.00)]\n",
      "  3: [(0.10 - 0.37), (1.00 - 2.00)]\n",
      "  4: [(0.37 - 1.36), (1.00 - 2.00)]\n",
      "  5: [(1.36 - 5.00), (1.00 - 2.00)]\n",
      "  6: [(0.10 - 0.37), (2.00 - 3.00)]\n",
      "  7: [(0.37 - 1.36), (2.00 - 3.00)]\n",
      "  8: [(1.36 - 5.00), (2.00 - 3.00)]\n",
      "  9: [(0.10 - 0.37), (3.00 - 4.00)]\n",
      "  10: [(0.37 - 1.36), (3.00 - 4.00)]\n",
      "  11: [(1.36 - 5.00), (3.00 - 4.00)]\n",
      "  12: [(0.10 - 0.37), (4.00 - 5.00)]\n",
      "  13: [(0.37 - 1.36), (4.00 - 5.00)]\n",
      "  14: [(1.36 - 5.00), (4.00 - 5.00)]\n",
      "]\n",
      "\n",
      "[Binning:trace]: [log10_space(0.1,5,3).find_bin] x.size() = 1, x[0] = 0.1\n",
      "[Binning:trace]: [lin_space(0,5,5).find_bin] x.size() = 1, x[0] = 1\n",
      "[Binning:trace]: [lin_space(0,5,5).find_bin] Found bin: 1, (1 -- 2)\n",
      "[Binning:trace]: [log10_space(0.1,5,3).find_bin] x.size() = 1, x[0] = 0.4\n",
      "[Binning:trace]: [lin_space(0,5,5).find_bin] x.size() = 1, x[0] = 2\n",
      "[Binning:trace]: [lin_space(0,5,5).find_bin] Found bin: 2, (2 -- 3)\n",
      "[Binning:trace]: [log10_space(0.1,5,3).find_bin] x.size() = 1, x[0] = 1\n",
      "[Binning:trace]: [lin_space(0,5,5).find_bin] x.size() = 1, x[0] = 1\n",
      "[Binning:trace]: [lin_space(0,5,5).find_bin] Found bin: 1, (1 -- 2)\n"
     ]
    }
   ],
   "source": [
    "hf_a = pn.HistFrame(etrue_erec)\n",
    "hf_a.fill([0.1,1],1)\n",
    "hf_a.fill([0.4,2],1)\n",
    "hf_a.fill([1,1],1)\n",
    "print(hf_a)\n",
    "print(hf_a.binning)"
   ]
  },
  {
   "cell_type": "markdown",
   "id": "00a654de-7233-426d-8c93-166133d802a9",
   "metadata": {},
   "source": [
    "## Projections\n",
    "For rectangular binnings where projections onto lower dimensions are well defined, we can make histogram projections"
   ]
  },
  {
   "cell_type": "code",
   "execution_count": 9,
   "id": "29bd8754-7883-41e6-9891-59092df29bb5",
   "metadata": {},
   "outputs": [
    {
     "name": "stdout",
     "output_type": "stream",
     "text": [
      "Axis lables: [\"erec\"]\n",
      "Bins: [\n",
      "  0: [(0.00 - 1.00)]\n",
      "  1: [(1.00 - 2.00)]\n",
      "  2: [(2.00 - 3.00)]\n",
      "  3: [(3.00 - 4.00)]\n",
      "  4: [(4.00 - 5.00)]\n",
      "]\n",
      "\n",
      " --------------------\n",
      " | bin | mc |   err |\n",
      " --------------------\n",
      " |   0 |  0 |     0 |\n",
      " |   1 |  2 | 1.414 |\n",
      " |   2 |  1 |     1 |\n",
      " |   3 |  0 |     0 |\n",
      " |   4 |  0 |     0 |\n",
      " --------------------\n",
      "nfills: 3\n"
     ]
    }
   ],
   "source": [
    "hf_a_erec = pn.Binning.project(hf_a,1)\n",
    "print(hf_a_erec.binning)\n",
    "print(hf_a_erec)\n",
    "print(\"nfills: %s\" % hf_a_erec.nfills)"
   ]
  },
  {
   "cell_type": "markdown",
   "id": "5a9d5787-5021-4d48-ad8d-5606457066fd",
   "metadata": {},
   "source": [
    "While it is unlikely that we would want to continue calling fill on a projection histogram, it is supported."
   ]
  },
  {
   "cell_type": "code",
   "execution_count": 10,
   "id": "da4dda6e-2ae9-486e-9bb1-8f3e510b55b3",
   "metadata": {},
   "outputs": [
    {
     "name": "stdout",
     "output_type": "stream",
     "text": [
      " --------------------\n",
      " | bin | mc |   err |\n",
      " --------------------\n",
      " |   0 |  0 |     0 |\n",
      " |   1 |  3 | 1.732 |\n",
      " |   2 |  1 |     1 |\n",
      " |   3 |  1 |     1 |\n",
      " |   4 |  0 |     0 |\n",
      " --------------------\n",
      "nfills: 5\n"
     ]
    }
   ],
   "source": [
    "hf_a_erec.fill(1,1)\n",
    "hf_a_erec.fill(3,1)\n",
    "print(hf_a_erec)\n",
    "print(\"nfills: %s\" % hf_a_erec.nfills)"
   ]
  },
  {
   "cell_type": "code",
   "execution_count": null,
   "id": "38ed1231-0749-4510-8f45-d8ce8320e07e",
   "metadata": {},
   "outputs": [],
   "source": []
  }
 ],
 "metadata": {
  "kernelspec": {
   "display_name": "Python 3 (ipykernel)",
   "language": "python",
   "name": "python3"
  },
  "language_info": {
   "codemirror_mode": {
    "name": "ipython",
    "version": 3
   },
   "file_extension": ".py",
   "mimetype": "text/x-python",
   "name": "python",
   "nbconvert_exporter": "python",
   "pygments_lexer": "ipython3",
   "version": "3.9.18"
  }
 },
 "nbformat": 4,
 "nbformat_minor": 5
}
