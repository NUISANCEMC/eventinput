{
 "cells": [
  {
   "cell_type": "code",
   "execution_count": 1,
   "id": "67648fcc-9c81-4764-b3f3-96d7da8b408c",
   "metadata": {},
   "outputs": [
    {
     "name": "stdout",
     "output_type": "stream",
     "text": [
      "Axis lables: [\"\"]\n",
      "Bins: [\n",
      "  0: [(0.00 - 1.00)]\n",
      "  1: [(1.00 - 2.00)]\n",
      "  2: [(2.00 - 3.00)]\n",
      "  3: [(3.00 - 4.00)]\n",
      "  4: [(4.00 - 5.00)]\n",
      "]\n",
      "\n"
     ]
    }
   ],
   "source": [
    "import pyNUISANCE as pn\n",
    "nd = pn.binning.lin_space(5,0,5)\n",
    "print(nd.bin_info)"
   ]
  },
  {
   "cell_type": "code",
   "execution_count": 2,
   "id": "b13e787c-4580-4be2-a202-5fccf29f4f33",
   "metadata": {},
   "outputs": [
    {
     "name": "stdout",
     "output_type": "stream",
     "text": [
      "Axis lables: [\"x\", \"y\"]\n",
      "Bins: [\n",
      "  0: [(0.00 - 1.00), (5.00 - 6.00)]\n",
      "  1: [(1.00 - 2.00), (5.00 - 6.00)]\n",
      "  2: [(2.00 - 3.00), (5.00 - 6.00)]\n",
      "  3: [(3.00 - 4.00), (5.00 - 6.00)]\n",
      "  4: [(4.00 - 5.00), (5.00 - 6.00)]\n",
      "  5: [(0.00 - 1.00), (6.00 - 7.00)]\n",
      "  6: [(1.00 - 2.00), (6.00 - 7.00)]\n",
      "  7: [(2.00 - 3.00), (6.00 - 7.00)]\n",
      "  8: [(3.00 - 4.00), (6.00 - 7.00)]\n",
      "  9: [(4.00 - 5.00), (6.00 - 7.00)]\n",
      "  10: [(0.00 - 1.00), (7.00 - 8.00)]\n",
      "  11: [(1.00 - 2.00), (7.00 - 8.00)]\n",
      "  12: [(2.00 - 3.00), (7.00 - 8.00)]\n",
      "  13: [(3.00 - 4.00), (7.00 - 8.00)]\n",
      "  14: [(4.00 - 5.00), (7.00 - 8.00)]\n",
      "  15: [(0.00 - 1.00), (8.00 - 9.00)]\n",
      "  16: [(1.00 - 2.00), (8.00 - 9.00)]\n",
      "  17: [(2.00 - 3.00), (8.00 - 9.00)]\n",
      "  18: [(3.00 - 4.00), (8.00 - 9.00)]\n",
      "  19: [(4.00 - 5.00), (8.00 - 9.00)]\n",
      "  20: [(0.00 - 1.00), (9.00 - 10.00)]\n",
      "  21: [(1.00 - 2.00), (9.00 - 10.00)]\n",
      "  22: [(2.00 - 3.00), (9.00 - 10.00)]\n",
      "  23: [(3.00 - 4.00), (9.00 - 10.00)]\n",
      "  24: [(4.00 - 5.00), (9.00 - 10.00)]\n",
      "]\n",
      "\n",
      "[2024-02-29 17:13:25.565] [info] [lin_spaceND]: ax[0].nbins_in_slice = [1, 5]\n",
      "[2024-02-29 17:13:25.565] [info] [lin_spaceND]: ax[1].nbins_in_slice = [1, 5, 25]\n"
     ]
    }
   ],
   "source": [
    "nd2 = pn.binning.lin_spaceND([[5,0,5],[5,5,10]],[\"x\",\"y\"])\n",
    "print(nd2.bin_info)"
   ]
  },
  {
   "cell_type": "code",
   "execution_count": 3,
   "id": "07d5daa6-e90b-4a36-9d6f-1a173dcaef1d",
   "metadata": {},
   "outputs": [
    {
     "name": "stdout",
     "output_type": "stream",
     "text": [
      "bin 0: \n",
      "bin 1: \n",
      "bin 5: \n",
      "bin 4294967295: \n"
     ]
    }
   ],
   "source": [
    "print(\"bin %s: \" % nd2.bin_func(pn.Vector_double([0,5])))\n",
    "print(\"bin %s: \" % nd2.bin_func(pn.Vector_double([1,5])))\n",
    "print(\"bin %s: \" % nd2.bin_func(pn.Vector_double([0,6])))\n",
    "print(\"bin %s: \" % nd2.bin_func(pn.Vector_double([0,10.0000001])))"
   ]
  },
  {
   "cell_type": "code",
   "execution_count": 4,
   "id": "3581d8fa-3652-48a2-9b50-330f3e30b78f",
   "metadata": {},
   "outputs": [
    {
     "name": "stdout",
     "output_type": "stream",
     "text": [
      "Axis lables: [\"x\"]\n",
      "Bins: [\n",
      "  0: [(0.01 - 0.02)]\n",
      "  1: [(0.02 - 0.04)]\n",
      "  2: [(0.04 - 0.07)]\n",
      "  3: [(0.07 - 0.14)]\n",
      "  4: [(0.14 - 0.28)]\n",
      "  5: [(0.28 - 0.55)]\n",
      "  6: [(0.55 - 1.08)]\n",
      "  7: [(1.08 - 2.10)]\n",
      "  8: [(2.10 - 4.10)]\n",
      "  9: [(4.10 - 8.00)]\n",
      "]\n",
      "\n"
     ]
    }
   ],
   "source": [
    "from math import log\n",
    "ndl = pn.binning.log10_space(10,log(0.01)/log(10),log(8)/log(10), \"x\")\n",
    "print(ndl.bin_info)"
   ]
  },
  {
   "cell_type": "code",
   "execution_count": 5,
   "id": "4c6606ad-3263-4ea8-9e7d-ca1712c288b5",
   "metadata": {},
   "outputs": [],
   "source": [
    "nda = pn.binning.lin_space(5,0,5, \"x\")\n",
    "ndb = pn.binning.lin_space(5,5,10, \"y\")"
   ]
  },
  {
   "cell_type": "code",
   "execution_count": 6,
   "id": "d6006773-5b35-4bd0-81de-9691348ea767",
   "metadata": {},
   "outputs": [],
   "source": [
    "x = pn.binning.combine([nda,ndb])"
   ]
  },
  {
   "cell_type": "code",
   "execution_count": 7,
   "id": "12f8bf8d-2fe5-4480-be31-53717a45c55e",
   "metadata": {},
   "outputs": [
    {
     "name": "stdout",
     "output_type": "stream",
     "text": [
      "Axis lables: [\"x\", \"y\"]\n",
      "Bins: [\n",
      "  0: [(0.00 - 1.00), (5.00 - 6.00)]\n",
      "  1: [(1.00 - 2.00), (5.00 - 6.00)]\n",
      "  2: [(2.00 - 3.00), (5.00 - 6.00)]\n",
      "  3: [(3.00 - 4.00), (5.00 - 6.00)]\n",
      "  4: [(4.00 - 5.00), (5.00 - 6.00)]\n",
      "  5: [(0.00 - 1.00), (6.00 - 7.00)]\n",
      "  6: [(1.00 - 2.00), (6.00 - 7.00)]\n",
      "  7: [(2.00 - 3.00), (6.00 - 7.00)]\n",
      "  8: [(3.00 - 4.00), (6.00 - 7.00)]\n",
      "  9: [(4.00 - 5.00), (6.00 - 7.00)]\n",
      "  10: [(0.00 - 1.00), (7.00 - 8.00)]\n",
      "  11: [(1.00 - 2.00), (7.00 - 8.00)]\n",
      "  12: [(2.00 - 3.00), (7.00 - 8.00)]\n",
      "  13: [(3.00 - 4.00), (7.00 - 8.00)]\n",
      "  14: [(4.00 - 5.00), (7.00 - 8.00)]\n",
      "  15: [(0.00 - 1.00), (8.00 - 9.00)]\n",
      "  16: [(1.00 - 2.00), (8.00 - 9.00)]\n",
      "  17: [(2.00 - 3.00), (8.00 - 9.00)]\n",
      "  18: [(3.00 - 4.00), (8.00 - 9.00)]\n",
      "  19: [(4.00 - 5.00), (8.00 - 9.00)]\n",
      "  20: [(0.00 - 1.00), (9.00 - 10.00)]\n",
      "  21: [(1.00 - 2.00), (9.00 - 10.00)]\n",
      "  22: [(2.00 - 3.00), (9.00 - 10.00)]\n",
      "  23: [(3.00 - 4.00), (9.00 - 10.00)]\n",
      "  24: [(4.00 - 5.00), (9.00 - 10.00)]\n",
      "]\n",
      "\n"
     ]
    }
   ],
   "source": [
    "print(x.bin_info)"
   ]
  },
  {
   "cell_type": "code",
   "execution_count": null,
   "id": "b2b1b2de-a809-4e19-b9c6-97e02a28d00d",
   "metadata": {},
   "outputs": [],
   "source": []
  }
 ],
 "metadata": {
  "kernelspec": {
   "display_name": "Python 3 (ipykernel)",
   "language": "python",
   "name": "python3"
  },
  "language_info": {
   "codemirror_mode": {
    "name": "ipython",
    "version": 3
   },
   "file_extension": ".py",
   "mimetype": "text/x-python",
   "name": "python",
   "nbconvert_exporter": "python",
   "pygments_lexer": "ipython3",
   "version": "3.9.18"
  }
 },
 "nbformat": 4,
 "nbformat_minor": 5
}
