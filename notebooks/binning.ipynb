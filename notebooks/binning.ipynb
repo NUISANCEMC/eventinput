{
 "cells": [
  {
   "cell_type": "markdown",
   "id": "56a3e5d0-1c02-49b8-98de-eb2af3513e3e",
   "metadata": {},
   "source": [
    "# Binnings\n",
    "\n",
    "NUISANCE provides some simple binning primitives and compositors to support the `HistFrame` functionality.\n",
    "\n",
    "Starting with a simple , one dimensional, contiguous, linearly-spaced binning\n",
    "\n",
    "## `Binning::lin_space`"
   ]
  },
  {
   "cell_type": "code",
   "execution_count": 1,
   "id": "cdac3e63-0ae5-43d5-ad0a-b2a2fe8d8238",
   "metadata": {},
   "outputs": [],
   "source": [
    "import pyNUISANCE as pn"
   ]
  },
  {
   "cell_type": "code",
   "execution_count": 2,
   "id": "5cc5e501-b3b6-41da-9e29-bf00589dfd9e",
   "metadata": {
    "editable": true,
    "slideshow": {
     "slide_type": ""
    },
    "tags": []
   },
   "outputs": [
    {
     "name": "stdout",
     "output_type": "stream",
     "text": [
      "level.trace\n"
     ]
    }
   ],
   "source": [
    "#if you would like to follow the binning operations in this notebook\n",
    "#  uncomment the below and execute the cell\n",
    "#  this will only produce output if NUISANCEv3 was built with the \n",
    "#  log macro level set to trace. \n",
    "#  Which happens for Debug builds by default.\n",
    "print(pn.log.get_macro_level())\n",
    "#pn.log.set_level(\"Binning\",pn.log.level.trace)"
   ]
  },
  {
   "cell_type": "code",
   "execution_count": 3,
   "id": "67648fcc-9c81-4764-b3f3-96d7da8b408c",
   "metadata": {},
   "outputs": [
    {
     "name": "stdout",
     "output_type": "stream",
     "text": [
      "Axis lables: [\"\"]\n",
      "Bins: [\n",
      "  0: [(0.00 - 1.00)]\n",
      "  1: [(1.00 - 2.00)]\n",
      "  2: [(2.00 - 3.00)]\n",
      "  3: [(3.00 - 4.00)]\n",
      "  4: [(4.00 - 5.00)]\n",
      "]\n",
      "\n",
      "first bin: 0\n",
      "can also use find_bin: first bin: 0\n",
      "second bin: 1\n",
      "semi-open range: 1\n",
      "out of range signified by a magic number: 4294967295\n",
      "out of range: 4294967295 =? 4294967295\n",
      "out of range: 4294967295 =? 4294967295\n",
      "out of range: 4294967295 =? 4294967295\n"
     ]
    }
   ],
   "source": [
    "nd = pn.Binning.lin_space(0,5,5)\n",
    "print(nd)\n",
    "print(\"first bin: %s\" % nd(0))\n",
    "print(\"can also use find_bin: first bin: %s\" % nd.find_bin(0))\n",
    "print(\"second bin: %s\" % nd(1.5))\n",
    "print(\"semi-open range: %s\" % nd(1))\n",
    "print(\"out of range signified by a magic number: %s\" % pn.Binning.npos)\n",
    "print(\"out of range: %s =? %s\" % (nd(-1), pn.Binning.npos))\n",
    "print(\"out of range: %s =? %s\" % (nd(5), pn.Binning.npos))\n",
    "print(\"out of range: %s =? %s\" % (nd(1E3), pn.Binning.npos))"
   ]
  },
  {
   "cell_type": "markdown",
   "id": "e003fd25-3132-4625-94e6-9f7bd2218b05",
   "metadata": {},
   "source": [
    "When plotting, it is often useful to be able to get the bin centers instead of the bin extents"
   ]
  },
  {
   "cell_type": "code",
   "execution_count": 4,
   "id": "1d96a69b-b459-404c-9302-6b5532762681",
   "metadata": {
    "editable": true,
    "slideshow": {
     "slide_type": ""
    },
    "tags": []
   },
   "outputs": [
    {
     "name": "stdout",
     "output_type": "stream",
     "text": [
      "[Vector_double[0.5], Vector_double[1.5], Vector_double[2.5], Vector_double[3.5], Vector_double[4.5]]\n",
      "Vector_double[0.5, 1.5, 2.5, 3.5, 4.5]\n"
     ]
    }
   ],
   "source": [
    "# This generic function will get the bin centers for a generic multidimensional binning\n",
    "print(pn.Binning.get_bin_centers(nd.bins))\n",
    "# For 1D binnings, there is a convenience function for eliding the extra single-item array per bin\n",
    "print(pn.Binning.get_bin_centers1D(nd.bins))"
   ]
  },
  {
   "cell_type": "markdown",
   "id": "1ca91d91-ae51-475d-afb4-539028ded820",
   "metadata": {},
   "source": [
    "## `Binning::lin_spaceND`\n",
    "\n",
    "This can be extended to a N dimensional, hyper-rectangular, uniform binning, each bin gets a global bin number which maps to an N dimensional extent:"
   ]
  },
  {
   "cell_type": "code",
   "execution_count": 5,
   "id": "b13e787c-4580-4be2-a202-5fccf29f4f33",
   "metadata": {},
   "outputs": [
    {
     "name": "stdout",
     "output_type": "stream",
     "text": [
      "Axis lables: [\"x\", \"y\", \"z\"]\n",
      "Bins: [\n",
      "  0: [(0.00 - 1.00), (3.00 - 4.00), (6.00 - 7.00)]\n",
      "  1: [(1.00 - 2.00), (3.00 - 4.00), (6.00 - 7.00)]\n",
      "  2: [(2.00 - 3.00), (3.00 - 4.00), (6.00 - 7.00)]\n",
      "  3: [(0.00 - 1.00), (4.00 - 5.00), (6.00 - 7.00)]\n",
      "  4: [(1.00 - 2.00), (4.00 - 5.00), (6.00 - 7.00)]\n",
      "  5: [(2.00 - 3.00), (4.00 - 5.00), (6.00 - 7.00)]\n",
      "  6: [(0.00 - 1.00), (5.00 - 6.00), (6.00 - 7.00)]\n",
      "  7: [(1.00 - 2.00), (5.00 - 6.00), (6.00 - 7.00)]\n",
      "  8: [(2.00 - 3.00), (5.00 - 6.00), (6.00 - 7.00)]\n",
      "  9: [(0.00 - 1.00), (3.00 - 4.00), (7.00 - 8.00)]\n",
      "  10: [(1.00 - 2.00), (3.00 - 4.00), (7.00 - 8.00)]\n",
      "  11: [(2.00 - 3.00), (3.00 - 4.00), (7.00 - 8.00)]\n",
      "  12: [(0.00 - 1.00), (4.00 - 5.00), (7.00 - 8.00)]\n",
      "  13: [(1.00 - 2.00), (4.00 - 5.00), (7.00 - 8.00)]\n",
      "  14: [(2.00 - 3.00), (4.00 - 5.00), (7.00 - 8.00)]\n",
      "  15: [(0.00 - 1.00), (5.00 - 6.00), (7.00 - 8.00)]\n",
      "  16: [(1.00 - 2.00), (5.00 - 6.00), (7.00 - 8.00)]\n",
      "  17: [(2.00 - 3.00), (5.00 - 6.00), (7.00 - 8.00)]\n",
      "  18: [(0.00 - 1.00), (3.00 - 4.00), (8.00 - 9.00)]\n",
      "  19: [(1.00 - 2.00), (3.00 - 4.00), (8.00 - 9.00)]\n",
      "  20: [(2.00 - 3.00), (3.00 - 4.00), (8.00 - 9.00)]\n",
      "  21: [(0.00 - 1.00), (4.00 - 5.00), (8.00 - 9.00)]\n",
      "  22: [(1.00 - 2.00), (4.00 - 5.00), (8.00 - 9.00)]\n",
      "  23: [(2.00 - 3.00), (4.00 - 5.00), (8.00 - 9.00)]\n",
      "  24: [(0.00 - 1.00), (5.00 - 6.00), (8.00 - 9.00)]\n",
      "  25: [(1.00 - 2.00), (5.00 - 6.00), (8.00 - 9.00)]\n",
      "  26: [(2.00 - 3.00), (5.00 - 6.00), (8.00 - 9.00)]\n",
      "]\n",
      "\n",
      "[Vector_double[0.5, 3.5, 6.5], Vector_double[1.5, 3.5, 6.5], Vector_double[2.5, 3.5, 6.5], Vector_double[0.5, 4.5, 6.5], Vector_double[1.5, 4.5, 6.5], Vector_double[2.5, 4.5, 6.5], Vector_double[0.5, 5.5, 6.5], Vector_double[1.5, 5.5, 6.5], Vector_double[2.5, 5.5, 6.5], Vector_double[0.5, 3.5, 7.5], Vector_double[1.5, 3.5, 7.5], Vector_double[2.5, 3.5, 7.5], Vector_double[0.5, 4.5, 7.5], Vector_double[1.5, 4.5, 7.5], Vector_double[2.5, 4.5, 7.5], Vector_double[0.5, 5.5, 7.5], Vector_double[1.5, 5.5, 7.5], Vector_double[2.5, 5.5, 7.5], Vector_double[0.5, 3.5, 8.5], Vector_double[1.5, 3.5, 8.5], Vector_double[2.5, 3.5, 8.5], Vector_double[0.5, 4.5, 8.5], Vector_double[1.5, 4.5, 8.5], Vector_double[2.5, 4.5, 8.5], Vector_double[0.5, 5.5, 8.5], Vector_double[1.5, 5.5, 8.5], Vector_double[2.5, 5.5, 8.5]]\n"
     ]
    }
   ],
   "source": [
    "nd3 = pn.Binning.lin_spaceND([[0,3,3],[3,6,3],[6,9,3]],[\"x\",\"y\",\"z\"])\n",
    "print(nd3)\n",
    "print(pn.Binning.get_bin_centers(nd3.bins))"
   ]
  },
  {
   "cell_type": "markdown",
   "id": "3d59b9c0-0b7a-41ba-a6f3-f132c53dc7dd",
   "metadata": {},
   "source": [
    "We can apply the binning function directly, which takes an N dimensional vector of doubles from the binning operation:"
   ]
  },
  {
   "cell_type": "code",
   "execution_count": 6,
   "id": "07d5daa6-e90b-4a36-9d6f-1a173dcaef1d",
   "metadata": {},
   "outputs": [
    {
     "name": "stdout",
     "output_type": "stream",
     "text": [
      "first bin 0: \n",
      "second bin along x 1: \n",
      "second bin along y 3: \n",
      "second bin along z 12: \n"
     ]
    }
   ],
   "source": [
    "print(\"first bin %s: \" % nd3([0,3,6]))\n",
    "print(\"second bin along x %s: \" % nd3([1,3,6]))\n",
    "print(\"second bin along y %s: \" % nd3([0,4,6]))\n",
    "print(\"second bin along z %s: \" % nd3([0,4,7]))"
   ]
  },
  {
   "cell_type": "markdown",
   "id": "0a4fb6b4-3bbf-470e-a47b-249c6f90e6b6",
   "metadata": {},
   "source": [
    "## Logarithmic Binnings\n",
    "\n",
    "We can also do logarithmic binning, which can be useful. The arguments are the same as for `lin_space`, the bin sizes logarithmically increase from the min edge to the max edge."
   ]
  },
  {
   "cell_type": "code",
   "execution_count": 7,
   "id": "afe6171d-ce83-41b0-b465-746f4e9170ec",
   "metadata": {},
   "outputs": [
    {
     "name": "stdout",
     "output_type": "stream",
     "text": [
      "Axis lables: [\"x\"]\n",
      "Bins: [\n",
      "  0: [(0.01 - 0.02)]\n",
      "  1: [(0.02 - 0.04)]\n",
      "  2: [(0.04 - 0.08)]\n",
      "  3: [(0.08 - 0.16)]\n",
      "  4: [(0.16 - 0.32)]\n",
      "  5: [(0.32 - 0.63)]\n",
      "  6: [(0.63 - 1.26)]\n",
      "  7: [(1.26 - 2.51)]\n",
      "  8: [(2.51 - 5.01)]\n",
      "  9: [(5.01 - 10.00)]\n",
      "]\n",
      "\n",
      "Axis lables: [\"x\"]\n",
      "Bins: [\n",
      "  0: [(0.01 - 0.02)]\n",
      "  1: [(0.02 - 0.04)]\n",
      "  2: [(0.04 - 0.08)]\n",
      "  3: [(0.08 - 0.16)]\n",
      "  4: [(0.16 - 0.32)]\n",
      "  5: [(0.32 - 0.63)]\n",
      "  6: [(0.63 - 1.26)]\n",
      "  7: [(1.26 - 2.51)]\n",
      "  8: [(2.51 - 5.01)]\n",
      "  9: [(5.01 - 10.00)]\n",
      "]\n",
      "\n"
     ]
    }
   ],
   "source": [
    "ndl = pn.Binning.log10_space(1E-2,10,10, \"x\")\n",
    "ndle = pn.Binning.log_space(1E-2,10,10, \"x\")\n",
    "print(ndl)\n",
    "print(ndle)"
   ]
  },
  {
   "cell_type": "code",
   "execution_count": 8,
   "id": "83dfeaa1-c8d5-4a31-ae1c-128a1c5fc1c4",
   "metadata": {},
   "outputs": [
    {
     "name": "stdout",
     "output_type": "stream",
     "text": [
      "bin: 6\n",
      "bin out of range: 4294967295\n",
      "bin out of range: 4294967295\n"
     ]
    }
   ],
   "source": [
    "print(\"bin: %s\" % ndl(1))\n",
    "print(\"bin out of range: %s\" % ndl(10))\n",
    "print(\"bin out of range: %s\" % ndl(0.001))"
   ]
  },
  {
   "cell_type": "markdown",
   "id": "fe213f74-7827-4410-9944-e5adb4d3706b",
   "metadata": {},
   "source": [
    "If you pass a zero or negative number as one of the edges, you will know about it"
   ]
  },
  {
   "cell_type": "code",
   "execution_count": 9,
   "id": "b36615e9-9ae1-4651-8d78-68f0be013b6e",
   "metadata": {},
   "outputs": [
    {
     "name": "stdout",
     "output_type": "stream",
     "text": [
      "[critical]: log10_space(0,10,10) is invalid as min <= 0.\n"
     ]
    },
    {
     "ename": "RuntimeError",
     "evalue": "",
     "output_type": "error",
     "traceback": [
      "\u001b[0;31m---------------------------------------------------------------------------\u001b[0m",
      "\u001b[0;31mRuntimeError\u001b[0m                              Traceback (most recent call last)",
      "Cell \u001b[0;32mIn[9], line 1\u001b[0m\n\u001b[0;32m----> 1\u001b[0m ndlfail \u001b[38;5;241m=\u001b[39m \u001b[43mpn\u001b[49m\u001b[38;5;241;43m.\u001b[39;49m\u001b[43mBinning\u001b[49m\u001b[38;5;241;43m.\u001b[39;49m\u001b[43mlog10_space\u001b[49m\u001b[43m(\u001b[49m\u001b[38;5;241;43m0\u001b[39;49m\u001b[43m,\u001b[49m\u001b[38;5;241;43m10\u001b[39;49m\u001b[43m,\u001b[49m\u001b[38;5;241;43m10\u001b[39;49m\u001b[43m,\u001b[49m\u001b[43m \u001b[49m\u001b[38;5;124;43m\"\u001b[39;49m\u001b[38;5;124;43mx\u001b[39;49m\u001b[38;5;124;43m\"\u001b[39;49m\u001b[43m)\u001b[49m\n",
      "\u001b[0;31mRuntimeError\u001b[0m: "
     ]
    }
   ],
   "source": [
    "ndlfail = pn.Binning.log10_space(0,10,10, \"x\")"
   ]
  },
  {
   "cell_type": "markdown",
   "id": "3a286163-16d8-4e88-9638-d9a783ec944f",
   "metadata": {},
   "source": [
    "## Variable width, contiguous binnings\n",
    "\n",
    "Another common type of binning is a variable width, but contiguous binning"
   ]
  },
  {
   "cell_type": "code",
   "execution_count": 10,
   "id": "f7663cc1-1249-416c-b4d3-d85f0efbae47",
   "metadata": {},
   "outputs": [
    {
     "name": "stdout",
     "output_type": "stream",
     "text": [
      "Axis lables: [\"\"]\n",
      "Bins: [\n",
      "  0: [(0.00 - 0.10)]\n",
      "  1: [(0.10 - 0.20)]\n",
      "  2: [(0.20 - 0.30)]\n",
      "  3: [(0.30 - 0.40)]\n",
      "  4: [(0.40 - 0.50)]\n",
      "  5: [(0.50 - 0.60)]\n",
      "  6: [(0.60 - 0.70)]\n",
      "  7: [(0.70 - 0.80)]\n",
      "  8: [(0.80 - 0.90)]\n",
      "  9: [(0.90 - 1.00)]\n",
      "  10: [(1.00 - 1.20)]\n",
      "  11: [(1.20 - 1.40)]\n",
      "  12: [(1.40 - 1.60)]\n",
      "  13: [(1.60 - 1.80)]\n",
      "  14: [(1.80 - 2.00)]\n",
      "  15: [(2.00 - 2.20)]\n",
      "  16: [(2.20 - 2.40)]\n",
      "  17: [(2.40 - 2.60)]\n",
      "  18: [(2.60 - 2.80)]\n",
      "  19: [(2.80 - 3.00)]\n",
      "  20: [(3.00 - 3.20)]\n",
      "  21: [(3.20 - 3.40)]\n",
      "  22: [(3.40 - 3.60)]\n",
      "  23: [(3.60 - 3.80)]\n",
      "]\n",
      "\n"
     ]
    }
   ],
   "source": [
    "edges = [ 0 + i * 0.1 for i in range(10) ]\n",
    "edges.extend([ 1 + i * 0.2 for i in range(15) ])\n",
    "cbin = pn.Binning.contiguous(edges)\n",
    "print(cbin)"
   ]
  },
  {
   "cell_type": "markdown",
   "id": "747df017-b632-409e-9e94-8b1529d933d4",
   "metadata": {
    "editable": true,
    "slideshow": {
     "slide_type": ""
    },
    "tags": []
   },
   "source": [
    "## Combining binnings\n",
    "Binnings of initially different types can be composited to allow, for example, a 2D log/linear binning"
   ]
  },
  {
   "cell_type": "code",
   "execution_count": 11,
   "id": "4c6606ad-3263-4ea8-9e7d-ca1712c288b5",
   "metadata": {
    "editable": true,
    "slideshow": {
     "slide_type": ""
    },
    "tags": []
   },
   "outputs": [
    {
     "name": "stdout",
     "output_type": "stream",
     "text": [
      "Axis lables: [\"enu\", \"erec\"]\n",
      "Bins: [\n",
      "  0: [(0.10 - 0.37), (0.00 - 1.00)]\n",
      "  1: [(0.37 - 1.36), (0.00 - 1.00)]\n",
      "  2: [(1.36 - 5.00), (0.00 - 1.00)]\n",
      "  3: [(0.10 - 0.37), (1.00 - 2.00)]\n",
      "  4: [(0.37 - 1.36), (1.00 - 2.00)]\n",
      "  5: [(1.36 - 5.00), (1.00 - 2.00)]\n",
      "  6: [(0.10 - 0.37), (2.00 - 3.00)]\n",
      "  7: [(0.37 - 1.36), (2.00 - 3.00)]\n",
      "  8: [(1.36 - 5.00), (2.00 - 3.00)]\n",
      "  9: [(0.10 - 0.37), (3.00 - 4.00)]\n",
      "  10: [(0.37 - 1.36), (3.00 - 4.00)]\n",
      "  11: [(1.36 - 5.00), (3.00 - 4.00)]\n",
      "  12: [(0.10 - 0.37), (4.00 - 5.00)]\n",
      "  13: [(0.37 - 1.36), (4.00 - 5.00)]\n",
      "  14: [(1.36 - 5.00), (4.00 - 5.00)]\n",
      "]\n",
      "\n"
     ]
    }
   ],
   "source": [
    "etrue_ax = pn.Binning.log10_space(0.1,5,3, \"enu\")\n",
    "erec_ax = pn.Binning.lin_space(0,5,5, \"erec\")\n",
    "etrue_erec = pn.Binning.product([etrue_ax,erec_ax])\n",
    "print(etrue_erec)"
   ]
  }
 ],
 "metadata": {
  "kernelspec": {
   "display_name": "Python 3 (ipykernel)",
   "language": "python",
   "name": "python3"
  },
  "language_info": {
   "codemirror_mode": {
    "name": "ipython",
    "version": 3
   },
   "file_extension": ".py",
   "mimetype": "text/x-python",
   "name": "python",
   "nbconvert_exporter": "python",
   "pygments_lexer": "ipython3",
   "version": "3.9.18"
  }
 },
 "nbformat": 4,
 "nbformat_minor": 5
}
