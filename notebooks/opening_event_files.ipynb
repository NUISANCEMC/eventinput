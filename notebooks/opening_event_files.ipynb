{
 "cells": [
  {
   "cell_type": "markdown",
   "id": "2e47a83c-05f8-4797-abec-83d7dc2b13cc",
   "metadata": {},
   "source": [
    "# Opening an input file\n",
    "\n",
    "_example:_ Reading a NuHepMC-spec HepMC3 file in zipped protobuf format:"
   ]
  },
  {
   "cell_type": "code",
   "execution_count": 2,
   "id": "0c79f53d-0aeb-4eb6-80f1-654964f7e8a8",
   "metadata": {},
   "outputs": [
    {
     "name": "stdout",
     "output_type": "stream",
     "text": [
      "[2024-02-27 17:49:35.901] [info] Found eventinput plugin: /root/software/NUISANCEMC/eventinput/build/Linux/lib/plugins/nuisplugin-eventinput-GHEP3.so\n",
      "[2024-02-27 17:49:35.924] [info] Found eventinput plugin: /root/software/NUISANCEMC/eventinput/build/Linux/lib/plugins/nuisplugin-eventinput-NuWroevent1.so\n",
      "[2024-02-27 17:49:35.929] [info] Found eventinput plugin: /root/software/NUISANCEMC/eventinput/build/Linux/lib/plugins/nuisplugin-eventinput-neutvect.so\n",
      "[2024-02-27 17:49:35.930] [info] EventSourceFactory: PathResolver::resolve filepath: neut_DUNE_numu_BS1pi_LFG_1.21.pb.gz, exists: true\n",
      "[2024-02-27 17:49:36.099] [info] Reading file neut_DUNE_numu_BS1pi_LFG_1.21.pb.gz with native HepMC3EventSource\n"
     ]
    }
   ],
   "source": [
    "import pyNUISANCE as pn\n",
    "evs = pn.EventSource(\"neut_DUNE_numu_BS1pi_LFG_1.21.pb.gz\")\n",
    "if not evs:\n",
    "    print(\"Error: failed to open input file\")"
   ]
  },
  {
   "cell_type": "markdown",
   "id": "5e12fcb6-6678-4008-b12f-cd76db081b7c",
   "metadata": {},
   "source": [
    "## Other formats\n",
    "\n",
    "NUISANCE internally uses HepMC3 events, but we ship some plugins that let us read other event types, here is the same file but in the NEUT-native neutvect format."
   ]
  },
  {
   "cell_type": "code",
   "execution_count": 3,
   "id": "da59bc5d-18ba-43a4-9f67-a93dbcc6ca94",
   "metadata": {},
   "outputs": [
    {
     "name": "stdout",
     "output_type": "stream",
     "text": [
      "[2024-02-27 17:49:37.766] [info] Found eventinput plugin: /root/software/NUISANCEMC/eventinput/build/Linux/lib/plugins/nuisplugin-eventinput-GHEP3.so\n",
      "[2024-02-27 17:49:37.767] [info] Found eventinput plugin: /root/software/NUISANCEMC/eventinput/build/Linux/lib/plugins/nuisplugin-eventinput-NuWroevent1.so\n",
      "[2024-02-27 17:49:37.767] [info] Found eventinput plugin: /root/software/NUISANCEMC/eventinput/build/Linux/lib/plugins/nuisplugin-eventinput-neutvect.so\n",
      "[2024-02-27 17:49:37.767] [info] EventSourceFactory: PathResolver::resolve filepath: neut_DUNE_numu_BS1pi_LFG_1.21.2001.root, exists: true\n",
      "[2024-02-27 17:49:37.881] [info] Reading file neut_DUNE_numu_BS1pi_LFG_1.21.2001.root with plugin /root/software/NUISANCEMC/eventinput/build/Linux/lib/plugins/nuisplugin-eventinput-neutvect.so\n"
     ]
    }
   ],
   "source": [
    "evs_neutvect = pn.EventSource(\"neut_DUNE_numu_BS1pi_LFG_1.21.2001.root\")\n",
    "if not evs:\n",
    "    print(\"Error: failed to open input file\")"
   ]
  },
  {
   "cell_type": "markdown",
   "id": "e13723c6-bcb5-45b9-9df3-e2b8cc397305",
   "metadata": {},
   "source": [
    "You can also open NuWro and GENIE GHEPv3 files with builtin plugins."
   ]
  },
  {
   "cell_type": "code",
   "execution_count": 4,
   "id": "f1a5a524-8c8c-4434-b788-04c1967c4197",
   "metadata": {},
   "outputs": [
    {
     "name": "stdout",
     "output_type": "stream",
     "text": [
      "[2024-02-27 17:49:40.696] [info] Found eventinput plugin: /root/software/NUISANCEMC/eventinput/build/Linux/lib/plugins/nuisplugin-eventinput-GHEP3.so\n",
      "[2024-02-27 17:49:40.696] [info] Found eventinput plugin: /root/software/NUISANCEMC/eventinput/build/Linux/lib/plugins/nuisplugin-eventinput-NuWroevent1.so\n",
      "[2024-02-27 17:49:40.696] [info] Found eventinput plugin: /root/software/NUISANCEMC/eventinput/build/Linux/lib/plugins/nuisplugin-eventinput-neutvect.so\n",
      "[2024-02-27 17:49:40.697] [info] EventSourceFactory: PathResolver::resolve filepath: nuwro.event1.dune_argon_sf_10mega.root, exists: true\n",
      "[2024-02-27 17:49:40.814] [info] Reading file nuwro.event1.dune_argon_sf_10mega.root with plugin /root/software/NUISANCEMC/eventinput/build/Linux/lib/plugins/nuisplugin-eventinput-NuWroevent1.so\n"
     ]
    }
   ],
   "source": [
    "evs_nuwro = pn.EventSource(\"nuwro.event1.dune_argon_sf_10mega.root\")"
   ]
  },
  {
   "cell_type": "code",
   "execution_count": 5,
   "id": "3a2373bf-caeb-4269-a7bb-50b39cc135c3",
   "metadata": {},
   "outputs": [
    {
     "name": "stdout",
     "output_type": "stream",
     "text": [
      "[2024-02-27 17:49:43.806] [info] Found eventinput plugin: /root/software/NUISANCEMC/eventinput/build/Linux/lib/plugins/nuisplugin-eventinput-GHEP3.so\n",
      "[2024-02-27 17:49:43.806] [info] Found eventinput plugin: /root/software/NUISANCEMC/eventinput/build/Linux/lib/plugins/nuisplugin-eventinput-NuWroevent1.so\n",
      "[2024-02-27 17:49:43.806] [info] Found eventinput plugin: /root/software/NUISANCEMC/eventinput/build/Linux/lib/plugins/nuisplugin-eventinput-neutvect.so\n",
      "[2024-02-27 17:49:43.807] [info] EventSourceFactory: PathResolver::resolve filepath: genie.DUNE_ND.numu.merged.root, exists: true\n",
      "1709056183 NOTICE Messenger : [s] <SetPrioritiesFromXmlFile (136)> : Reading msg stream priorities from XML file: /opt/genie/3_04_00/config/Messenger.xml\n",
      "1709056183 INFO TuneId : [n] <TuneId.cxx::Build (132)> : AR23_20i_00_000 Tune configured \n",
      "1709056183 INFO RunOpt : [n] <RunOpt.cxx::BuildTune (94)> : Building tune AR23_20i_00_000\n",
      "1709056183 INFO TuneId : [n] <TuneId.cxx::Build (132)> : AR23_20i_00_000 Tune configured \n",
      "1709056185 INFO TransverseEnhancementFFModel : [n] <ConfigIsotopeMapUtils.cxx::LoadAllNucARangesForKey (61)> : For 0 < A < 12 -> using MagFF_RT_A = 0\n",
      "1709056185 INFO TransverseEnhancementFFModel : [n] <ConfigIsotopeMapUtils.cxx::LoadAllNucARangesForKey (61)> : For 11 < A < 420 -> using MagFF_RT_A = 5.19\n",
      "1709056185 INFO TransverseEnhancementFFModel : [n] <ConfigIsotopeMapUtils.cxx::LoadAllNucARangesForKey (61)> : For 0 < A < 12 -> using MagFF_RT_B = 1\n",
      "1709056185 INFO TransverseEnhancementFFModel : [n] <ConfigIsotopeMapUtils.cxx::LoadAllNucARangesForKey (61)> : For 11 < A < 420 -> using MagFF_RT_B = 0.376\n",
      "[2024-02-27 17:49:45.338] [info] Reading file genie.DUNE_ND.numu.merged.root with plugin /root/software/NUISANCEMC/eventinput/build/Linux/lib/plugins/nuisplugin-eventinput-GHEP3.so\n"
     ]
    }
   ],
   "source": [
    "evs_GHEP = pn.EventSource(\"genie.DUNE_ND.numu.merged.root\")"
   ]
  },
  {
   "cell_type": "code",
   "execution_count": null,
   "id": "4dfc8cbf-f533-40a1-a194-2d602eb5f2e8",
   "metadata": {},
   "outputs": [],
   "source": []
  }
 ],
 "metadata": {
  "kernelspec": {
   "display_name": "Python 3 (ipykernel)",
   "language": "python",
   "name": "python3"
  },
  "language_info": {
   "codemirror_mode": {
    "name": "ipython",
    "version": 3
   },
   "file_extension": ".py",
   "mimetype": "text/x-python",
   "name": "python",
   "nbconvert_exporter": "python",
   "pygments_lexer": "ipython3",
   "version": "3.9.18"
  }
 },
 "nbformat": 4,
 "nbformat_minor": 5
}
