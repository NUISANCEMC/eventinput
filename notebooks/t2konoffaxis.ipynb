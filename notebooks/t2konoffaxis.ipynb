{
 "cells": [
  {
   "cell_type": "code",
   "execution_count": 1,
   "id": "4af2808c-5aac-4663-b2c4-daae78a3e073",
   "metadata": {},
   "outputs": [],
   "source": [
    "import pyNUISANCE as pn\n",
    "import numpy as np\n",
    "import pyProSelecta as pps\n",
    "import pyNuHepMC as nhm\n",
    "import matplotlib.pyplot as plt\n",
    "import scipy"
   ]
  },
  {
   "cell_type": "markdown",
   "id": "acdce9fe-2eb8-41ae-9db8-60c6900d8674",
   "metadata": {},
   "source": [
    "# Fetch the HepData Submission YAML"
   ]
  },
  {
   "cell_type": "code",
   "execution_count": 2,
   "id": "b924aec6-4305-4b44-a980-d9c6f09712f8",
   "metadata": {},
   "outputs": [],
   "source": [
    "recordid=1713531371\n",
    "submission_path, resource_path, reference = pn.hpd.get_local_path_to_resource(reftype=\"hepdata-sandbox\", recordid=recordid)\n"
   ]
  },
  {
   "cell_type": "code",
   "execution_count": 3,
   "id": "f61d178d-af3a-4cde-81c1-9e81cbedbfa6",
   "metadata": {},
   "outputs": [
    {
     "name": "stdout",
     "output_type": "stream",
     "text": [
      "cross_section-offaxis\n",
      "cross_section-onaxis\n",
      "covariance-onoffaxis\n",
      "cross_section-onoffaxis\n",
      "flux-onaxis-nominal-fine\n",
      "flux-onaxis-nominal-coarse\n",
      "flux-onaxis-postfit-fine\n",
      "flux-onaxis-postfit-coarse\n",
      "flux-offaxis-nominal-fine\n",
      "flux-offaxis-nominal-coarse\n",
      "flux-offaxis-postfit-fine\n",
      "flux-offaxis-postfit-coarse\n"
     ]
    }
   ],
   "source": [
    "table_names = pn.hpd.get_table_names(**reference)\n",
    "\n",
    "for x in table_names:\n",
    "    print(x)"
   ]
  },
  {
   "cell_type": "code",
   "execution_count": 5,
   "id": "0c30aac7-4588-4987-8150-ca46265fccc6",
   "metadata": {},
   "outputs": [
    {
     "name": "stdout",
     "output_type": "stream",
     "text": [
      "Measurement: cross_section-onaxis\n",
      "  Target: CH\n",
      "  Probe Species: numu\n",
      "  Probe Spectrum: flux-onaxis-postfit-fine\n",
      "  Independent Variables: ['p_mu', 'cos_theta_mu']\n",
      "  Dependent Variables: ['cross_section', 'cross_section_neut-prediction']\n",
      "Measurement: cross_section-offaxis\n",
      "  Target: CH\n",
      "  Probe Species: numu\n",
      "  Probe Spectrum: flux-offaxis-postfit-fine\n",
      "  Independent Variables: ['p_mu', 'cos_theta_mu']\n",
      "  Dependent Variables: ['cross_section', 'cross_section_neut-prediction']\n"
     ]
    }
   ],
   "source": [
    "def measurement_details(ref):\n",
    "    quals = pn.hpd.get_qualifiers(**ref)\n",
    "    print(\"Measurement: %s\" % ref[\"resourcename\"])\n",
    "    print(\"  Target: %s\" % quals[\"target\"])\n",
    "    print(\"  Probe Species: %s\" % quals[\"probe_species\"])\n",
    "    print(\"  Probe Spectrum: %s\" % quals[\"probe_spectrum\"])\n",
    "    print(\"  Independent Variables: %s\" % pn.hpd.get_independent_variables(**ref))\n",
    "    print(\"  Dependent Variables: %s\" % pn.hpd.get_dependent_variables(**ref))\n",
    "    return quals\n",
    "\n",
    "reference[\"resourcename\"] = \"cross_section-onaxis\"\n",
    "onax_quals = measurement_details(reference)\n",
    "onax_doc = pn.hpd.get_table(**reference)\n",
    "\n",
    "reference[\"resourcename\"] = \"cross_section-offaxis\"\n",
    "offax_quals = measurement_details(reference)\n",
    "offax_doc = pn.hpd.get_table(**reference)\n"
   ]
  },
  {
   "cell_type": "markdown",
   "id": "9204d973-70ce-46db-96e4-df418771d8b0",
   "metadata": {},
   "source": [
    "# Fluxes"
   ]
  },
  {
   "cell_type": "code",
   "execution_count": 9,
   "id": "7e789277-aeb9-417d-a6b6-9feb61171d6e",
   "metadata": {},
   "outputs": [],
   "source": [
    "on_axis_flux_table = pn.hpd.get_table(onax_quals[\"probe_spectrum\"], **reference)\n",
    "off_axis_flux_table = pn.hpd.get_table(offax_quals[\"probe_spectrum\"], **reference)\n",
    "\n",
    "onax_flux = pn.convert.HistFrame.from_yaml_str(str(on_axis_flux_table))\n",
    "offax_flux = pn.convert.HistFrame.from_yaml_str(str(off_axis_flux_table))"
   ]
  },
  {
   "cell_type": "code",
   "execution_count": 10,
   "id": "f27a20e6-d6b9-4895-bf3d-9035ae9e4373",
   "metadata": {},
   "outputs": [
    {
     "data": {
      "image/png": "[encoded data removed]",
      "text/plain": [
       "<Figure size 640x480 with 1 Axes>"
      ]
     },
     "metadata": {},
     "output_type": "display_data"
    }
   ],
   "source": [
    "onax_flux.mpl().hist(label=\"On Axis (INGRID)\", histtype=\"step\")\n",
    "offax_flux.mpl().hist(label=\"Off Axis (ND280)\", histtype=\"step\")\n",
    "\n",
    "plt.xlim([0,5])\n",
    "\n",
    "plt.legend()\n",
    "plt.show()"
   ]
  },
  {
   "cell_type": "markdown",
   "id": "b2423d53-0a37-46cd-a4ef-dcd05a062762",
   "metadata": {},
   "source": [
    "# Generate some events\n",
    "\n",
    "Now you will have to generate some event files with these fluxes. Use `nuis flux` to get ROOT versions of these flux files in the right format for your generator of choice, for example for NEUT:\n",
    "\n",
    "```bash\n",
    "ONAX_FLUX_PATH=$(nuis flux get-local-uri hepdata-sandbox:1713531371v1/flux-onaxis-postfit-fine -r -c)\n",
    "OFFAX_FLUX_PATH=$(nuis flux get-local-uri hepdata-sandbox:1713531371v1/flux-offaxis-postfit-fine -r -c)\n",
    "```\n",
    "\n",
    "\n",
    "If you have access to the NUISANCE2 CLI (to be ported), you might run\n",
    "\n",
    "```bash\n",
    "nuis gen NEUT -f PRD108.fluxes.root,on_axis_flux -n 200000 -p numu -t CH -o onaxis.CH.neutvect.root\n",
    "nuis gen NEUT -f PRD108.fluxes.root,off_axis_flux -n 200000 -p numu -t CH -o offaxis.CH.neutvect.root\n",
    "```"
   ]
  },
  {
   "cell_type": "code",
   "execution_count": null,
   "id": "bf201f1c-bed2-47bc-a41f-307f590eaad4",
   "metadata": {},
   "outputs": [],
   "source": [
    "#get input streams for the NEUT files (this object transparently reads NEUT, GENIE, NuWro, NuHepMC, and NUISANCE2FlatTree inputs)\n",
    "evs_onax = pn.EventSource(\"onaxis.CH.neutvect.root\")\n",
    "if not evs_onax:\n",
    "    print(\"Error: failed to open input file\")\n",
    "\n",
    "evs_offax = pn.EventSource(\"offaxis.CH.neutvect.root\")\n",
    "if not evs_offax:\n",
    "    print(\"Error: failed to open input file\")"
   ]
  },
  {
   "cell_type": "markdown",
   "id": "9c17a8c5-4957-4bec-8122-c0a6f3b39abf",
   "metadata": {},
   "source": [
    "# Cross Sections"
   ]
  },
  {
   "cell_type": "code",
   "execution_count": null,
   "id": "0fd98285-a51a-4901-ab2f-df17c0900446",
   "metadata": {},
   "outputs": [],
   "source": [
    "analysis_path = pn.hepdata.get_local_path_to_resource(\"analysis.cxx\", **resource_context)\n",
    "pps.load_file(analysis_path)\n",
    "print(analysis_path)"
   ]
  },
  {
   "cell_type": "code",
   "execution_count": null,
   "id": "7b27904b-184e-42e5-b177-b2533c60045d",
   "metadata": {},
   "outputs": [],
   "source": [
    "onax_sel = pn.hepdata.get_selection_function(onax_doc)\n",
    "onax_proj_names, onax_proj_funcs = pn.hepdata.get_projection_functions(onax_doc)\n",
    "print(onax_proj_names)\n",
    "\n",
    "offax_sel = pn.hepdata.get_selection_function(offax_doc)\n",
    "offax_proj_names, offax_proj_funcs = pn.hepdata.get_projection_functions(offax_doc)\n",
    "print(offax_proj_names)"
   ]
  },
  {
   "cell_type": "code",
   "execution_count": null,
   "id": "efd479e5-9d94-4949-a537-cc922818fc0e",
   "metadata": {},
   "outputs": [],
   "source": [
    "# build data frames from the input files, events that fail the selection do not\n",
    "#  produce rows in the data frame. Columns are populated with the projection\n",
    "#  functions that we JIT'd from the analysis.cxx\n",
    "fg_onax = pn.EventFrameGen(evs_onax).filter(onax_sel[1])\n",
    "for fn,f in zip(onax_proj_names, onax_proj_funcs):\n",
    "    fg_onax.add_column(fn, f)\n",
    "\n",
    "fg_offax = pn.EventFrameGen(evs_offax).filter(offax_sel[1])\n",
    "for fn,f in zip(offax_proj_names, offax_proj_funcs):\n",
    "    fg_offax.add_column(fn, f)"
   ]
  },
  {
   "cell_type": "code",
   "execution_count": null,
   "id": "56cce1af-660f-4da1-967b-a2f18b831a27",
   "metadata": {},
   "outputs": [],
   "source": [
    "ef_onax = fg_onax.firstArrow(int(1E6))\n",
    "ef_offax = fg_offax.firstArrow(int(1E6))"
   ]
  },
  {
   "cell_type": "code",
   "execution_count": null,
   "id": "0c04fad2-db7f-457f-962c-52b0225e4b40",
   "metadata": {},
   "outputs": [],
   "source": [
    "ef_onax.to_pandas()"
   ]
  },
  {
   "cell_type": "code",
   "execution_count": null,
   "id": "c7dd1082-6d62-45cf-b0ef-9e6331289cc0",
   "metadata": {},
   "outputs": [],
   "source": [
    "import polars as pl\n",
    "pl_df = pl.from_arrow(ef_onax)\n",
    "pl_df"
   ]
  },
  {
   "cell_type": "code",
   "execution_count": null,
   "id": "355cee5c-bc72-4632-bf67-824aa202a8f3",
   "metadata": {},
   "outputs": [],
   "source": [
    "onax_data = pn.hepdata.make_BinnedValues(onax_doc)\n",
    "offax_data = pn.hepdata.make_BinnedValues(offax_doc)"
   ]
  },
  {
   "cell_type": "code",
   "execution_count": null,
   "id": "47503d30-9efc-41bc-85cc-b075d5efaea2",
   "metadata": {},
   "outputs": [],
   "source": [
    "ctheta_bins = onax_data.project(1).binning.bins\n",
    "\n",
    "#make a fillable histogram from the data\n",
    "onax_mc = onax_data.make_HistFrame()\n",
    "onax_mc.fill_from_Arrow(ef_onax, onax_proj_names)\n",
    "\n",
    "#fatx is in pb/A, -> 1pb is 10^-36 want /12 to take it back to the /N from the generator\n",
    "sf = fg_onax.norm_info().fatx_per_sumweights() * (1E-36) /12\n",
    "\n",
    "#scale it to the right units\n",
    "onax_mc.sumweights = onax_mc.sumweights * sf\n",
    "onax_mc.variances = onax_mc.variances * (sf**2)\n",
    "\n",
    "onax_pred = onax_mc.finalise(True)\n",
    "\n",
    "fig, axes = plt.subplots(1,3, figsize=(12,4))\n",
    "\n",
    "for i,ax in enumerate(axes):\n",
    "    xsl_pred = onax_pred.slice(1, ctheta_bins[i][0].low)\n",
    "    xsl_data = onax_data.slice(1, ctheta_bins[i][0].low)\n",
    "\n",
    "    #remove overflow bin if its not the only bin\n",
    "    xsl_pred = xsl_pred.slice(0,[0,1],True)\n",
    "    xsl_data = xsl_data.slice(0,[0,1],True)\n",
    "    \n",
    "    xsl_pred.mpl().hist(plot_axis=ax, color=\"#F00\", histtype=\"step\", linewidth=2, errorband_color=\"#F009\", label=\"MC\")\n",
    "    xsl_data.mpl().hist(plot_axis=ax, color=\"#00F\", label=\"data release NEUT prediction\", column=\"cross_section_neut-prediction\", histtype=\"step\")\n",
    "    xsl_data.mpl().errorbar(plot_axis=ax, marker=\".\", markersize=7.5, color=\"#000\", label=\"data\", linewidth=0, elinewidth=1, capsize=2.5)\n",
    "    \n",
    "ax.legend()\n",
    "fig.show()"
   ]
  },
  {
   "cell_type": "code",
   "execution_count": null,
   "id": "cf3c1c4d-dc86-406f-b16d-11a55e85a2ad",
   "metadata": {},
   "outputs": [],
   "source": [
    "ctheta_bins = offax_data.project(0).binning.bins\n",
    "\n",
    "#make a fillable histogram from the data\n",
    "offax_mc = offax_data.make_HistFrame()\n",
    "offax_mc.fill_from_Arrow(ef_offax, offax_proj_names)\n",
    "\n",
    "#fatx is in pb/A, -> 1pb is 10^-36 want /12 to take it back to the /N from the generator\n",
    "sf = fg_offax.norm_info().fatx_per_sumweights() * (1E-36) /12\n",
    "\n",
    "#scale it to the right units\n",
    "offax_mc.sumweights = offax_mc.sumweights * sf\n",
    "offax_mc.variances = offax_mc.variances * (sf**2)\n",
    "\n",
    "offax_pred = offax_mc.finalise(True)\n",
    "\n",
    "fig, axes = plt.subplots(3,3, figsize=(10,10), gridspec_kw={\"hspace\":0.4,\"wspace\":0.4})\n",
    "\n",
    "for i in range(len(ctheta_bins)):\n",
    "    ax = axes[i%3,i//3]\n",
    "    xsl_data = offax_data.slice(0, ctheta_bins[i][0].low)\n",
    "    xsl_pred = offax_pred.slice(0, ctheta_bins[i][0].low)\n",
    "\n",
    "    #remove overflow bin if its not the only bin\n",
    "    if len(xsl_data.binning.bins) > 1:\n",
    "        xsl_data = xsl_data.slice(0,[0,5],True)\n",
    "        xsl_pred = xsl_pred.slice(0,[0,5],True)\n",
    "        \n",
    "    xsl_pred.mpl().hist(plot_axis=ax, color=\"#F00\", histtype=\"step\", linewidth=2, errorband_color=\"#F009\", label=\"MC\")\n",
    "    xsl_data.mpl().hist(plot_axis=ax, color=\"#00F\", label=\"data release NEUT prediction\", column=\"cross_section_neut-prediction\", histtype=\"step\")\n",
    "    xsl_data.mpl().errorbar(plot_axis=ax, marker=\".\", markersize=7.5, color=\"#000\", label=\"data\", linewidth=0, elinewidth=1, capsize=2.5)\n",
    "    ax.set_xlabel(r\"$p_\\mu$ [GeV/$c$]\", loc=\"right\", fontsize=\"large\")\n",
    "    ax.set_ylabel(r\"$\\text{d}\\sigma/\\text{d}p_{\\mu}d\\text{cos}\\theta_\\mu\\ [\\text{cm}^{2}\\ c/\\text{GeV}\\ /\\text{Nucleon}]$\", fontsize=\"medium\")\n",
    "    ax.tick_params(axis='x', labelsize=\"medium\")\n",
    "    ax.tick_params(axis='y', labelsize=\"medium\")\n",
    "\n",
    "    ax.text(1, 1.03, r\"$%.2f < \\text{cos}(\\theta_\\mu) < %.2f$\" % (ctheta_bins[i][0].low,ctheta_bins[i][0].high), \n",
    "            horizontalalignment=\"right\", transform=ax.transAxes, fontsize=\"medium\")\n",
    "    \n",
    "plt.legend()\n",
    "plt.show()"
   ]
  },
  {
   "cell_type": "code",
   "execution_count": null,
   "id": "7aef82ee-235d-4155-9438-b5d567f985b2",
   "metadata": {},
   "outputs": [],
   "source": [
    "joint_doc = tables[\"cross_section-onoffaxis\"]\n",
    "#get sub measurements\n",
    "joint_measurements = pn.hepdata.get_sub_measurement_tables(joint_doc, **resource_context)\n",
    "joint_covar = pn.hepdata.get_covariance(joint_doc, **resource_context)"
   ]
  },
  {
   "cell_type": "code",
   "execution_count": null,
   "id": "0a8db06b-5a14-4bf8-871f-8e8fd4f2322b",
   "metadata": {},
   "outputs": [],
   "source": [
    "def calc_chisq(h_data, h_mc, h_invcov):\n",
    "\n",
    "    #Calculate the difference between data and MC and transform into a column vector\n",
    "    diff = (h_data - h_mc).reshape(1, -1)\n",
    "\n",
    "    #Use vector/matrix multiplication to calculate chi-square\n",
    "    chisq = diff @ h_invcov @ diff.T\n",
    "    return chisq.item()"
   ]
  },
  {
   "cell_type": "code",
   "execution_count": null,
   "id": "fe1e9eeb-7a8c-431f-9239-55793e8ccdff",
   "metadata": {},
   "outputs": [],
   "source": [
    "#combine the off/on axis predictions\n",
    "offonax_pred = np.append(offax_pred.values[:,0],onax_pred.values[:,0])\n",
    "offonax_data = np.append(offax_data.values[:,0],onax_data.values[:,0])\n",
    "offonax_neut_pred = np.append(offax_data.values[:,1],onax_data.values[:,1])"
   ]
  },
  {
   "cell_type": "code",
   "execution_count": null,
   "id": "eda642a7-84f3-4fc6-a1d1-8871a259bf4f",
   "metadata": {},
   "outputs": [],
   "source": [
    "print(\"chi2 = %s\" % calc_chisq(offonax_data, offonax_pred, np.linalg.inv(joint_covar) ))"
   ]
  },
  {
   "cell_type": "code",
   "execution_count": null,
   "id": "5d79ff7e-c4d0-4e63-b043-7b6c184905c8",
   "metadata": {},
   "outputs": [],
   "source": [
    "print(\"chi2 w/release pred = %s\" % calc_chisq(offonax_data, offonax_neut_pred, np.linalg.inv(joint_covar) ))"
   ]
  },
  {
   "cell_type": "code",
   "execution_count": null,
   "id": "cf9fed9b-a40f-4947-afc1-efbb9138faa6",
   "metadata": {},
   "outputs": [],
   "source": []
  }
 ],
 "metadata": {
  "kernelspec": {
   "display_name": "Python 3 (ipykernel)",
   "language": "python",
   "name": "python3"
  },
  "language_info": {
   "codemirror_mode": {
    "name": "ipython",
    "version": 3
   },
   "file_extension": ".py",
   "mimetype": "text/x-python",
   "name": "python",
   "nbconvert_exporter": "python",
   "pygments_lexer": "ipython3",
   "version": "3.9.18"
  }
 },
 "nbformat": 4,
 "nbformat_minor": 5
}
