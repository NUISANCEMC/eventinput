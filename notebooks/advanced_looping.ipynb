{
 "cells": [
  {
   "cell_type": "markdown",
   "id": "a556cb79-66cb-4654-8bef-47fcb57b3b1b",
   "metadata": {},
   "source": [
    "# Advanced Event 'Loops'\n",
    "\n",
    "Iterating in python is relatively slow, though it can be useful for prototyping.\n",
    "\n",
    "First, lets declare a projection function that takes an event and projects out the neutrino energy from it"
   ]
  },
  {
   "cell_type": "code",
   "execution_count": 1,
   "id": "4e8d13ee-10f5-43cc-9db5-fed7a99be0f3",
   "metadata": {},
   "outputs": [
    {
     "name": "stdout",
     "output_type": "stream",
     "text": [
      "[2024-02-27 18:48:21.873] [info] Found eventinput plugin: /root/software/NUISANCEMC/eventinput/build/Linux/lib/plugins/nuisplugin-eventinput-GHEP3.so\n",
      "Found muon neutrino beam particle with 2.27 GeV of energy\n",
      "[2024-02-27 18:48:21.910] [info] Found eventinput plugin: /root/software/NUISANCEMC/eventinput/build/Linux/lib/plugins/nuisplugin-eventinput-NuWroevent1.so\n",
      "[2024-02-27 18:48:21.917] [info] Found eventinput plugin: /root/software/NUISANCEMC/eventinput/build/Linux/lib/plugins/nuisplugin-eventinput-neutvect.so\n",
      "[2024-02-27 18:48:21.919] [info] EventSourceFactory: PathResolver::resolve filepath: dune_argon_sf_10mega.nuwro.pb.gz, exists: true\n",
      "[2024-02-27 18:48:22.188] [info] Reading file dune_argon_sf_10mega.nuwro.pb.gz with native HepMC3EventSource\n"
     ]
    }
   ],
   "source": [
    "import pyNUISANCE as pn\n",
    "\n",
    "evs = pn.EventSource(\"dune_argon_sf_10mega.nuwro.pb.gz\")\n",
    "if not evs:\n",
    "    print(\"Error: failed to open input file\")\n",
    "\n",
    "# just get the first event so that we can check the units\n",
    "ev,_ = evs.first()\n",
    "ToGeV = 1 if (ev.momentum_unit() == pn.hm.HepMC3.Units.GEV) else 1E-3\n",
    "\n",
    "def enu_GeV(ev):\n",
    "    bpart = pn.pps.sel.Beam(ev,14)\n",
    "    if bpart:\n",
    "        return bpart.momentum().e()*ToGeV\n",
    "    return -0\n",
    "\n",
    "print(\"Found muon neutrino beam particle with %.2f GeV of energy\" % enu_GeV(ev))"
   ]
  },
  {
   "cell_type": "markdown",
   "id": "e8642e3a-b18b-4a5a-b365-a74d66a8304d",
   "metadata": {},
   "source": [
    "## DataFrames\n",
    "\n",
    "NUISANCE provides the `FrameGen` facility for defining functional event loops and then executing them in batch. Lets see an example of how it works. We include the `limit` call to stop the internal loop running over the entire file."
   ]
  },
  {
   "cell_type": "code",
   "execution_count": 2,
   "id": "2d589e88-3ac5-4762-8843-609f2a3b6f34",
   "metadata": {},
   "outputs": [
    {
     "name": "stdout",
     "output_type": "stream",
     "text": [
      " --------------\n",
      " | evt# | cvw |\n",
      " --------------\n",
      " |    0 |   1 |\n",
      " |    1 |   1 |\n",
      " |    2 |   1 |\n",
      " |    3 |   1 |\n",
      " |    4 |   1 |\n",
      " |    5 |   1 |\n",
      " |    6 |   1 |\n",
      " |    7 |   1 |\n",
      " |    8 |   1 |\n",
      " |    9 |   1 |\n",
      " --------------\n"
     ]
    }
   ],
   "source": [
    "print(pn.FrameGen(evs).limit(10).evaluate())"
   ]
  },
  {
   "cell_type": "markdown",
   "id": "535baf75-e504-4d8d-8df2-f892fb9aae77",
   "metadata": {},
   "source": [
    "### New Columns\n",
    "The Frame returned from `FrameGen.evaluate` always contains the event number and the CV weight for all processed events. These are a useful start, but we can define a new column to hold the neutrino energy for each event."
   ]
  },
  {
   "cell_type": "code",
   "execution_count": 3,
   "id": "b58ca3ac-9757-47d4-a7ae-47328a1535a5",
   "metadata": {},
   "outputs": [
    {
     "name": "stdout",
     "output_type": "stream",
     "text": [
      " ------------------------\n",
      " | evt# | cvw | enu_GeV |\n",
      " ------------------------\n",
      " |    0 |   1 |   2.275 |\n",
      " |    1 |   1 |    14.3 |\n",
      " |    2 |   1 |    2.86 |\n",
      " |    3 |   1 |   3.728 |\n",
      " |    4 |   1 |    9.08 |\n",
      " |    5 |   1 |   3.237 |\n",
      " |    6 |   1 |   2.473 |\n",
      " |    7 |   1 |   1.916 |\n",
      " |    8 |   1 |   1.988 |\n",
      " |    9 |   1 |   3.671 |\n",
      " ------------------------\n"
     ]
    }
   ],
   "source": [
    "print(pn.FrameGen(evs).limit(10).add_column(\"enu_GeV\",enu_GeV).evaluate())"
   ]
  },
  {
   "cell_type": "markdown",
   "id": "c8363fcf-d8d2-4992-b5c3-21e4ce19cb1f",
   "metadata": {},
   "source": [
    "### A Short Race\n",
    "\n",
    "Lets see if there is any appreciable difference in the looping speed between a python loop and a C++ loop:"
   ]
  },
  {
   "cell_type": "code",
   "execution_count": 4,
   "id": "47cc4611-ff0a-4c31-b704-4c253a6b8243",
   "metadata": {},
   "outputs": [
    {
     "name": "stdout",
     "output_type": "stream",
     "text": [
      "event loop took 26.26s\n"
     ]
    }
   ],
   "source": [
    "import time\n",
    "\n",
    "time_start = time.perf_counter()\n",
    "for i, (ev, cvw) in enumerate(evs):\n",
    "    if i >= 1E6:\n",
    "        break\n",
    "    enu_GeV(ev)\n",
    "time_end = time.perf_counter()\n",
    "print(\"event loop took %.2fs\" % (time_end-time_start))"
   ]
  },
  {
   "cell_type": "code",
   "execution_count": 5,
   "id": "5a2efb89-0999-4e60-bda4-d215a777a923",
   "metadata": {},
   "outputs": [
    {
     "name": "stdout",
     "output_type": "stream",
     "text": [
      "FrameGen took 29.78s\n"
     ]
    }
   ],
   "source": [
    "time_start = time.perf_counter()\n",
    "pn.FrameGen(evs).limit(int(1E6)).add_column(\"enu_GeV\",enu_GeV).evaluate()\n",
    "time_end = time.perf_counter()\n",
    "print(\"FrameGen took %.2fs\" % (time_end-time_start))"
   ]
  },
  {
   "cell_type": "markdown",
   "id": "d64187bf-92f4-4a96-a341-8dda46b68b45",
   "metadata": {},
   "source": [
    "So that it actually slower than doing it directly in python! Probably due to the overheads of calling the python function from the C++ side.\n",
    "\n",
    "### ProSelecta\n",
    "\n",
    "We can use ProSelecta to write and JIT C++ functions and then use the JITted functions to create new columns"
   ]
  },
  {
   "cell_type": "code",
   "execution_count": 6,
   "id": "a4801f3a-b81e-4046-9300-9755f8bc30d3",
   "metadata": {},
   "outputs": [],
   "source": [
    "pn.pps.load_text(\"\"\"\n",
    "double enu_GeV(HepMC3::GenEvent const &ev){\n",
    "  auto bpart = ps::sel::Beam(ev,14);\n",
    "  if(bpart) return bpart->momentum().e()*%f;\n",
    "  return -0;\n",
    "}\n",
    "\"\"\" % ToGeV)\n",
    "enu_GeV_cpp = pn.pps.project.enu_GeV"
   ]
  },
  {
   "cell_type": "code",
   "execution_count": 7,
   "id": "44ed6f3e-07de-4dd2-9880-3858f2887c8e",
   "metadata": {},
   "outputs": [
    {
     "name": "stdout",
     "output_type": "stream",
     "text": [
      "FrameGen with ProSelecta took 24.32s\n"
     ]
    }
   ],
   "source": [
    "time_start = time.perf_counter()\n",
    "pn.FrameGen(evs).limit(int(1E6)).add_column(\"enu_GeV\",enu_GeV_cpp).evaluate()\n",
    "time_end = time.perf_counter()\n",
    "print(\"FrameGen with ProSelecta took %.2fs\" % (time_end-time_start))"
   ]
  },
  {
   "cell_type": "markdown",
   "id": "f675d170-41e9-4a72-bc98-5aa1793e95f4",
   "metadata": {},
   "source": [
    "Not much faster... probably could do with some profiling and optimization"
   ]
  },
  {
   "cell_type": "markdown",
   "id": "b766aec8-ede9-4de4-894f-1c45451b7ac3",
   "metadata": {},
   "source": [
    "## Progress\n",
    "We can ask FrameGen to report it's progress as it goes"
   ]
  },
  {
   "cell_type": "code",
   "execution_count": 9,
   "id": "dec41745-3746-410b-860e-9ee8a123a138",
   "metadata": {},
   "outputs": [
    {
     "name": "stdout",
     "output_type": "stream",
     "text": [
      "[2024-02-27 18:52:23.179] [info] GenFrame has selected 50000/1000000 processed events in 1.22919s, (40677.06 ev/s)\n",
      " ------------------------\n",
      " | evt# | cvw | enu_GeV |\n",
      " ------------------------\n",
      " |    0 |   1 |   2.275 |\n",
      " |    1 |   1 |    14.3 |\n",
      " |    2 |   1 |    2.86 |\n",
      " |    3 |   1 |   3.728 |\n",
      " |    4 |   1 |    9.08 |\n",
      " |    5 |   1 |   3.237 |\n",
      " |    6 |   1 |   2.473 |\n",
      " |    7 |   1 |   1.916 |\n",
      " |    8 |   1 |   1.988 |\n",
      " |    9 |   1 |   3.671 |\n",
      " |   10 |   1 |   2.506 |\n",
      " |   11 |   1 |    2.55 |\n",
      " |   12 |   1 |   2.242 |\n",
      " |   13 |   1 |    3.36 |\n",
      " |   14 |   1 |   2.785 |\n",
      " |   15 |   1 |   2.682 |\n",
      " |   16 |   1 |   1.237 |\n",
      " |   17 |   1 |   10.46 |\n",
      " |   18 |   1 |   3.034 |\n",
      " |   19 |   1 |   1.846 |\n",
      " |   20 |   1 |   1.528 |\n",
      " |  ... | ... |     ... |\n",
      " ------------------------\n",
      "[2024-02-27 18:52:24.458] [info] GenFrame has selected 100000/1000000 processed events in 2.50872s, (39860.96 ev/s)\n",
      "[2024-02-27 18:52:25.679] [info] GenFrame has selected 150000/1000000 processed events in 3.72997s, (40214.75 ev/s)\n",
      "[2024-02-27 18:52:26.934] [info] GenFrame has selected 200000/1000000 processed events in 4.98506s, (40119.90 ev/s)\n",
      "[2024-02-27 18:52:28.237] [info] GenFrame has selected 250000/1000000 processed events in 6.28749s, (39761.52 ev/s)\n",
      "[2024-02-27 18:52:29.627] [info] GenFrame has selected 300000/1000000 processed events in 7.67724s, (39076.57 ev/s)\n",
      "[2024-02-27 18:52:30.906] [info] GenFrame has selected 350000/1000000 processed events in 8.95712s, (39075.07 ev/s)\n",
      "[2024-02-27 18:52:32.135] [info] GenFrame has selected 400000/1000000 processed events in 10.1855s, (39271.71 ev/s)\n",
      "[2024-02-27 18:52:33.360] [info] GenFrame has selected 450000/1000000 processed events in 11.4111s, (39435.27 ev/s)\n",
      "[2024-02-27 18:52:34.591] [info] GenFrame has selected 500000/1000000 processed events in 12.6415s, (39552.41 ev/s)\n",
      "[2024-02-27 18:52:36.153] [info] GenFrame has selected 550000/1000000 processed events in 14.2038s, (38722.04 ev/s)\n",
      "[2024-02-27 18:52:37.695] [info] GenFrame has selected 600000/1000000 processed events in 15.746s, (38104.80 ev/s)\n",
      "[2024-02-27 18:52:38.935] [info] GenFrame has selected 650000/1000000 processed events in 16.9859s, (38267.00 ev/s)\n",
      "[2024-02-27 18:52:40.557] [info] GenFrame has selected 700000/1000000 processed events in 18.6072s, (37619.94 ev/s)\n",
      "[2024-02-27 18:52:41.849] [info] GenFrame has selected 750000/1000000 processed events in 19.8997s, (37689.02 ev/s)\n",
      "[2024-02-27 18:52:43.157] [info] GenFrame has selected 800000/1000000 processed events in 21.2072s, (37723.09 ev/s)\n",
      "[2024-02-27 18:52:44.369] [info] GenFrame has selected 850000/1000000 processed events in 22.4197s, (37913.13 ev/s)\n",
      "[2024-02-27 18:52:45.668] [info] GenFrame has selected 900000/1000000 processed events in 23.7183s, (37945.46 ev/s)\n",
      "[2024-02-27 18:52:47.220] [info] GenFrame has selected 950000/1000000 processed events in 25.2703s, (37593.57 ev/s)\n"
     ]
    }
   ],
   "source": [
    "print(pn.FrameGen(evs).limit(int(1E6)).progress(int(5E4)).add_column(\"enu_GeV\",enu_GeV_cpp).evaluate())"
   ]
  },
  {
   "cell_type": "code",
   "execution_count": null,
   "id": "82c4771f-7cdc-4f42-987c-67d49789fd7b",
   "metadata": {},
   "outputs": [],
   "source": []
  }
 ],
 "metadata": {
  "kernelspec": {
   "display_name": "Python 3 (ipykernel)",
   "language": "python",
   "name": "python3"
  },
  "language_info": {
   "codemirror_mode": {
    "name": "ipython",
    "version": 3
   },
   "file_extension": ".py",
   "mimetype": "text/x-python",
   "name": "python",
   "nbconvert_exporter": "python",
   "pygments_lexer": "ipython3",
   "version": "3.9.18"
  }
 },
 "nbformat": 4,
 "nbformat_minor": 5
}
