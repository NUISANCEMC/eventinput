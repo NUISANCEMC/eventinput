{
 "cells": [
  {
   "cell_type": "markdown",
   "id": "a556cb79-66cb-4654-8bef-47fcb57b3b1b",
   "metadata": {},
   "source": [
    "# Advanced Event 'Loops'\n",
    "\n",
    "Iterating in python is relatively slow, though it can be useful for prototyping.\n",
    "\n",
    "First, lets declare a projection function that takes an event and projects out the neutrino energy from it"
   ]
  },
  {
   "cell_type": "code",
   "execution_count": 1,
   "id": "4e8d13ee-10f5-43cc-9db5-fed7a99be0f3",
   "metadata": {
    "editable": true,
    "slideshow": {
     "slide_type": ""
    },
    "tags": []
   },
   "outputs": [
    {
     "name": "stdout",
     "output_type": "stream",
     "text": [
      "Found muon neutrino beam particle with 2.27 GeV of energy\n"
     ]
    }
   ],
   "source": [
    "import pyNUISANCE as pn\n",
    "import pyProSelecta as pps\n",
    "\n",
    "evs = pn.EventSource(\"dune_argon_sf_10mega.nuwro.pb.gz\")\n",
    "if not evs:\n",
    "    print(\"Error: failed to open input file\")\n",
    "\n",
    "def enu_GeV(ev):\n",
    "    bpart = pps.sel.Beam(ev,14)\n",
    "    if bpart:\n",
    "        return bpart.momentum().e() * 1E-3 # events are always with MeV momentum units\n",
    "    return -0\n",
    "\n",
    "print(\"Found muon neutrino beam particle with %.2f GeV of energy\" % enu_GeV(evs.first()[0]))"
   ]
  },
  {
   "cell_type": "markdown",
   "id": "e8642e3a-b18b-4a5a-b365-a74d66a8304d",
   "metadata": {},
   "source": [
    "## DataFrames\n",
    "\n",
    "NUISANCE provides the `FrameGen` facility for defining functional event loops and then executing them in batch. Lets see an example of how it works. We include the `limit` call to stop the internal loop running over the entire file."
   ]
  },
  {
   "cell_type": "code",
   "execution_count": 2,
   "id": "2d589e88-3ac5-4762-8843-609f2a3b6f34",
   "metadata": {},
   "outputs": [
    {
     "name": "stdout",
     "output_type": "stream",
     "text": [
      " --------------\n",
      " | evt# | cvw |\n",
      " --------------\n",
      " |    0 |   1 |\n",
      " |    1 |   1 |\n",
      " |    2 |   1 |\n",
      " |    3 |   1 |\n",
      " |    4 |   1 |\n",
      " |    5 |   1 |\n",
      " |    6 |   1 |\n",
      " |    7 |   1 |\n",
      " |    8 |   1 |\n",
      " |    9 |   1 |\n",
      " --------------\n"
     ]
    }
   ],
   "source": [
    "print(pn.FrameGen(evs).limit(10).all())"
   ]
  },
  {
   "cell_type": "markdown",
   "id": "535baf75-e504-4d8d-8df2-f892fb9aae77",
   "metadata": {},
   "source": [
    "### New Columns\n",
    "The Frame returned from `FrameGen.all` always contains the event number and the CV weight for all processed events. These are a useful start, but we can define a new column to hold the neutrino energy for each event."
   ]
  },
  {
   "cell_type": "code",
   "execution_count": 3,
   "id": "b58ca3ac-9757-47d4-a7ae-47328a1535a5",
   "metadata": {},
   "outputs": [
    {
     "name": "stdout",
     "output_type": "stream",
     "text": [
      " ------------------------\n",
      " | evt# | cvw | enu_GeV |\n",
      " ------------------------\n",
      " |    0 |   1 |   2.275 |\n",
      " |    1 |   1 |    14.3 |\n",
      " |    2 |   1 |    2.86 |\n",
      " |    3 |   1 |   3.728 |\n",
      " |    4 |   1 |    9.08 |\n",
      " |    5 |   1 |   3.237 |\n",
      " |    6 |   1 |   2.473 |\n",
      " |    7 |   1 |   1.916 |\n",
      " |    8 |   1 |   1.988 |\n",
      " |    9 |   1 |   3.671 |\n",
      " ------------------------\n"
     ]
    }
   ],
   "source": [
    "print(pn.FrameGen(evs).limit(10).add_column(\"enu_GeV\",enu_GeV).all())"
   ]
  },
  {
   "cell_type": "markdown",
   "id": "423a78d0-bb47-4a07-a3c5-a6d3de839b78",
   "metadata": {},
   "source": [
    "## Filters\n",
    "\n",
    "We can apply filters in a similar way to the batched loop"
   ]
  },
  {
   "cell_type": "code",
   "execution_count": 4,
   "id": "3547fee4-d63c-4fea-b4f8-7b05e8bc84e5",
   "metadata": {},
   "outputs": [
    {
     "name": "stdout",
     "output_type": "stream",
     "text": [
      " ------------------------\n",
      " | evt# | cvw | enu_GeV |\n",
      " ------------------------\n",
      " |    0 |   1 |   2.275 |\n",
      " |    5 |   1 |   3.237 |\n",
      " |   10 |   1 |   2.506 |\n",
      " |   15 |   1 |   2.682 |\n",
      " |   20 |   1 |   1.528 |\n",
      " |   25 |   1 |   3.214 |\n",
      " |   30 |   1 |   3.033 |\n",
      " |   35 |   1 |   2.014 |\n",
      " |   40 |   1 |   14.87 |\n",
      " |   45 |   1 |   1.661 |\n",
      " ------------------------\n"
     ]
    }
   ],
   "source": [
    "print(pn.FrameGen(evs).limit(50).filter(lambda x : not (x.event_number() % 5)).add_column(\"enu_GeV\",enu_GeV).all())"
   ]
  },
  {
   "cell_type": "markdown",
   "id": "9ba55cbb-83c1-4e69-9bb6-8d12713245e2",
   "metadata": {},
   "source": [
    "## Chunked Processing\n",
    "\n",
    "For long-running processes that would produce very large data frames it might be better to do secondary processing on chunks of the full data frame rather than waiting for the whole thing to be ready. Internally, `FrameGen::all` calls `FrameGen::first` and then `FrameGen::next` until there are no more events in the input event stream to process to new rows. We can steer this chunked processing loop manually in the python. \n",
    "\n",
    "The chunk size can be set with the second parameter to the FrameGen constructor and it defaults to 50,000."
   ]
  },
  {
   "cell_type": "code",
   "execution_count": 5,
   "id": "083dbd90-b7d7-47fe-ac7b-fea7b1b954ca",
   "metadata": {},
   "outputs": [
    {
     "name": "stdout",
     "output_type": "stream",
     "text": [
      "fetched 100 new rows, total fetched: 100\n",
      "fetched 100 new rows, total fetched: 200\n",
      "fetched 100 new rows, total fetched: 300\n",
      "fetched 100 new rows, total fetched: 400\n",
      "processed 400 rows in total\n"
     ]
    }
   ],
   "source": [
    "chunk_size = 100\n",
    "fg = pn.FrameGen(evs,chunk_size).limit(4*chunk_size)\n",
    "\n",
    "chunk = fg.first()\n",
    "nrows = 0\n",
    "while chunk.rows() > 0:\n",
    "    nrows += chunk.rows()\n",
    "    print(\"fetched %s new rows, total fetched: %s\" % (chunk.rows(), nrows))\n",
    "    chunk = fg.next()\n",
    "\n",
    "print(\"processed %s rows in total\" % nrows)"
   ]
  },
  {
   "cell_type": "markdown",
   "id": "befae28e-75b3-47b3-a9b2-85ded4feb8d7",
   "metadata": {},
   "source": [
    "**N.B.** `FrameGen::limit` limits the number of events read from the event stream, but the `chunk_size` limits the number of rows returned per call."
   ]
  },
  {
   "cell_type": "code",
   "execution_count": 6,
   "id": "02481c9e-3c2f-44b9-974a-bd691c8251a2",
   "metadata": {},
   "outputs": [
    {
     "name": "stdout",
     "output_type": "stream",
     "text": [
      "fetched 74 new rows, total fetched: 74\n",
      "fetched 74 new rows, total fetched: 148\n",
      "fetched 74 new rows, total fetched: 222\n",
      "fetched 25 new rows, total fetched: 247\n",
      "processed 247 rows in total, total events read 740\n"
     ]
    }
   ],
   "source": [
    "chunk_size = 74\n",
    "fg = pn.FrameGen(evs,chunk_size).filter(lambda x : not (x.event_number() % 3)).limit(10*chunk_size)\n",
    "\n",
    "chunk = fg.first()\n",
    "nrows = 0\n",
    "while chunk.rows() > 0:\n",
    "    nrows += chunk.rows()\n",
    "    print(\"fetched %s new rows, total fetched: %s\" % (chunk.rows(), nrows))\n",
    "    chunk = fg.next()\n",
    "\n",
    "print(\"processed %s rows in total, total events read %s\" % (nrows,chunk.nevents()))"
   ]
  },
  {
   "cell_type": "markdown",
   "id": "c3f76744-111a-4bc6-97c5-589b8c0fa2e1",
   "metadata": {},
   "source": [
    "**N.B.B** If you request a chunk, you must always process every row in the chunk before breaking out of your processing loop early, or the normalization information from the last chunk will not correspond to the number of rows that you processed."
   ]
  },
  {
   "cell_type": "markdown",
   "id": "c8363fcf-d8d2-4992-b5c3-21e4ce19cb1f",
   "metadata": {},
   "source": [
    "### A Short Race\n",
    "\n",
    "Lets see if there is any appreciable difference in the looping speed between a python loop and a C++ loop:"
   ]
  },
  {
   "cell_type": "code",
   "execution_count": 7,
   "id": "47cc4611-ff0a-4c31-b704-4c253a6b8243",
   "metadata": {},
   "outputs": [
    {
     "name": "stdout",
     "output_type": "stream",
     "text": [
      "pure python event loop took 145.62s\n"
     ]
    }
   ],
   "source": [
    "import time\n",
    "\n",
    "time_start = time.perf_counter()\n",
    "for i, (ev, cvw) in enumerate(evs):\n",
    "    enu_GeV(ev)\n",
    "time_end = time.perf_counter()\n",
    "pyloop_elapsed = (time_end-time_start)\n",
    "print(\"pure python event loop took %.2fs\" % pyloop_elapsed)"
   ]
  },
  {
   "cell_type": "code",
   "execution_count": 8,
   "id": "5a2efb89-0999-4e60-bda4-d215a777a923",
   "metadata": {},
   "outputs": [
    {
     "name": "stdout",
     "output_type": "stream",
     "text": [
      "FrameGen with a python function took 226.45s\n"
     ]
    }
   ],
   "source": [
    "time_start = time.perf_counter()\n",
    "pn.FrameGen(evs).add_column(\"enu_GeV\",enu_GeV).all()\n",
    "time_end = time.perf_counter()\n",
    "fg_pyfunc_elapsed = (time_end-time_start)\n",
    "print(\"FrameGen with a python function took %.2fs\" % fg_pyfunc_elapsed)"
   ]
  },
  {
   "cell_type": "markdown",
   "id": "d64187bf-92f4-4a96-a341-8dda46b68b45",
   "metadata": {},
   "source": [
    "So that it actually slower than doing the loop in pure python! This is most likely due to the overheads of calling the python function on every event from the C++ side.\n",
    "\n",
    "### ProSelecta\n",
    "\n",
    "We can use ProSelecta to write and JIT compile C++ functions and then use the JITted functions to create new columns"
   ]
  },
  {
   "cell_type": "code",
   "execution_count": 9,
   "id": "a4801f3a-b81e-4046-9300-9755f8bc30d3",
   "metadata": {},
   "outputs": [],
   "source": [
    "pps.load_text(\"\"\"\n",
    "double enu_GeV(HepMC3::GenEvent const &ev){\n",
    "  auto bpart = ps::sel::Beam(ev,14);\n",
    "  if(bpart) return bpart->momentum().e()*1E-3;\n",
    "  return -0;\n",
    "}\n",
    "\"\"\")\n",
    "enu_GeV_cpp = pps.project.enu_GeV"
   ]
  },
  {
   "cell_type": "code",
   "execution_count": 10,
   "id": "44ed6f3e-07de-4dd2-9880-3858f2887c8e",
   "metadata": {},
   "outputs": [
    {
     "name": "stdout",
     "output_type": "stream",
     "text": [
      "FrameGen with ProSelecta took 0.02s\n"
     ]
    }
   ],
   "source": [
    "time_start = time.perf_counter()\n",
    "pn.FrameGen(evs).add_column(\"enu_GeV\",enu_GeV_cpp).all()\n",
    "time_end = time.perf_counter()\n",
    "fg_ps_elapsed = (time_end-time_start)\n",
    "print(\"FrameGen with ProSelecta took %.2fs\" % fg_ps_elapsed)"
   ]
  },
  {
   "cell_type": "code",
   "execution_count": 11,
   "id": "225b7aa4-a590-4702-9dbb-ac234a58356d",
   "metadata": {},
   "outputs": [
    {
     "name": "stdout",
     "output_type": "stream",
     "text": [
      "FrameGen with no-op took 0.02s\n"
     ]
    }
   ],
   "source": [
    "time_start = time.perf_counter()\n",
    "pn.FrameGen(evs).all()\n",
    "time_end = time.perf_counter()\n",
    "fg_noop_elapsed = (time_end-time_start)\n",
    "print(\"FrameGen with no-op took %.2fs\" % fg_noop_elapsed)"
   ]
  },
  {
   "cell_type": "markdown",
   "id": "97f34cc3-db61-42ff-b8d8-554f2c75b2b0",
   "metadata": {},
   "source": [
    "So the majority of the time spent is reading the events off disk"
   ]
  },
  {
   "cell_type": "code",
   "execution_count": 12,
   "id": "6782e504-68ac-45d1-91b3-44fa58ac5609",
   "metadata": {
    "editable": true,
    "slideshow": {
     "slide_type": ""
    },
    "tags": []
   },
   "outputs": [
    {
     "name": "stdout",
     "output_type": "stream",
     "text": [
      "IO Corrected: Pure Python 145.60s\n",
      "IO Corrected: FrameGen with Python event processor 226.43s\n",
      "IO Corrected: FrameGen with ProSelecta JIT compiled function 0.00s\n"
     ]
    }
   ],
   "source": [
    "pyloop_elapsed -= fg_noop_elapsed\n",
    "fg_pyfunc_elapsed -= fg_noop_elapsed\n",
    "fg_ps_elapsed -= fg_noop_elapsed\n",
    "print(\"IO Corrected: Pure Python %.2fs\" % pyloop_elapsed)\n",
    "print(\"IO Corrected: FrameGen with Python event processor %.2fs\" % fg_pyfunc_elapsed)\n",
    "print(\"IO Corrected: FrameGen with ProSelecta JIT compiled function %.2fs\" % fg_ps_elapsed)"
   ]
  }
 ],
 "metadata": {
  "kernelspec": {
   "display_name": "Python 3 (ipykernel)",
   "language": "python",
   "name": "python3"
  },
  "language_info": {
   "codemirror_mode": {
    "name": "ipython",
    "version": 3
   },
   "file_extension": ".py",
   "mimetype": "text/x-python",
   "name": "python",
   "nbconvert_exporter": "python",
   "pygments_lexer": "ipython3",
   "version": "3.9.18"
  }
 },
 "nbformat": 4,
 "nbformat_minor": 5
}
