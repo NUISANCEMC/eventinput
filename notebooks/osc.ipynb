{
 "cells": [
  {
   "cell_type": "code",
   "execution_count": 1,
   "id": "422f7c15-c533-4e1e-9734-99a746bbde14",
   "metadata": {},
   "outputs": [],
   "source": [
    "import pyNUISANCE as pn\n",
    "import pyNuHepMC as nhm"
   ]
  },
  {
   "cell_type": "code",
   "execution_count": 2,
   "id": "411deb79-65ad-4e18-8468-671c97c8aa5b",
   "metadata": {},
   "outputs": [
    {
     "name": "stdout",
     "output_type": "stream",
     "text": [
      "[2024-02-29 00:10:32.955] [info] Found eventinput plugin: /root/software/NUISANCEMC/eventinput/build/Linux/lib/plugins/nuisplugin-eventinput-GHEP3.so\n",
      "[2024-02-29 00:10:33.002] [info] Found eventinput plugin: /root/software/NUISANCEMC/eventinput/build/Linux/lib/plugins/nuisplugin-eventinput-NuWroevent1.so\n",
      "[2024-02-29 00:10:33.010] [info] Found eventinput plugin: /root/software/NUISANCEMC/eventinput/build/Linux/lib/plugins/nuisplugin-eventinput-neutvect.so\n",
      "[2024-02-29 00:10:33.013] [info] EventSourceFactory: PathResolver::resolve filepath: dune_argon_sf_10mega.nuwro.pb.gz, exists: true\n",
      "[2024-02-29 00:10:33.300] [info] Reading file dune_argon_sf_10mega.nuwro.pb.gz with native HepMC3EventSource\n"
     ]
    }
   ],
   "source": [
    "evs = pn.EventSource(\"dune_argon_sf_10mega.nuwro.pb.gz\")\n",
    "if not evs:\n",
    "    print(\"Error: failed to open input file\")"
   ]
  },
  {
   "cell_type": "code",
   "execution_count": 3,
   "id": "030b1b46-0d55-4665-bdff-a593e368435b",
   "metadata": {},
   "outputs": [
    {
     "name": "stdout",
     "output_type": "stream",
     "text": [
      "2.2748704837946896\n"
     ]
    }
   ],
   "source": [
    "def enu_GeV(ev):\n",
    "    return nhm.EventUtils.GetBeamParticle(ev).momentum().e() * nhm.EventUtils.ToMeVFactor(ev) * 1E-3\n",
    "print(enu_GeV(evs.first()[0]))"
   ]
  },
  {
   "cell_type": "code",
   "execution_count": 50,
   "id": "ef354a00-2c71-4b68-bbac-3497e8ae3b3d",
   "metadata": {},
   "outputs": [
    {
     "name": "stdout",
     "output_type": "stream",
     "text": [
      "[2024-02-29 00:27:24.837] [info] Found weightcalc plugin: /root/software/NUISANCEMC/eventinput/build/Linux/lib/plugins/nuisplugin-weightcalc-GENIEReWeight.so\n",
      "[2024-02-29 00:27:24.839] [info] Found weightcalc plugin: /root/software/NUISANCEMC/eventinput/build/Linux/lib/plugins/nuisplugin-weightcalc-NReWeight.so\n",
      "[2024-02-29 00:27:24.839] [info] Found weightcalc plugin: /root/software/NUISANCEMC/eventinput/build/Linux/lib/plugins/nuisplugin-weightcalc-Prob3plusplus.so\n",
      "[2024-02-29 00:27:24.841] [info] [Prob3plusplusWeightCalc]: Set baseline_km = 295\n",
      "[2024-02-29 00:27:24.841] [info] [Prob3plusplusWeightCalc]: Set t2k baseline\n",
      "[2024-02-29 00:27:24.841] [info] [Prob3plusplusWeightCalc]: Set sinsq_th12 = 0.297\n",
      "[2024-02-29 00:27:24.841] [info] [Prob3plusplusWeightCalc]: Set sinsq_th13 = 0.0214\n",
      "[2024-02-29 00:27:24.841] [info] [Prob3plusplusWeightCalc]: Set sinsq_th23 = 0.526\n",
      "[2024-02-29 00:27:24.841] [info] [Prob3plusplusWeightCalc]: Set dmsq_21 = 7.37e-05\n",
      "[2024-02-29 00:27:24.841] [info] [Prob3plusplusWeightCalc]: Set dmsq_atm = 0.002463\n",
      "[2024-02-29 00:27:24.841] [info] [Prob3plusplusWeightCalc]: Set dcp_rad = 0\n",
      "[2024-02-29 00:27:24.841] [info] [Prob3plusplusWeightCalc]: Set T2K bestfit parameters\n",
      "[2024-02-29 00:27:24.841] [info] [Prob3plusplusWeightCalc]: Set sinsq_th12 = 0.303\n",
      "[2024-02-29 00:27:24.841] [info] [Prob3plusplusWeightCalc]: Set sinsq_th13 = 0.02203\n",
      "[2024-02-29 00:27:24.841] [info] [Prob3plusplusWeightCalc]: Set sinsq_th23 = 0.572\n",
      "[2024-02-29 00:27:24.841] [info] [Prob3plusplusWeightCalc]: Set dmsq_21 = 7.41e-05\n",
      "[2024-02-29 00:27:24.841] [info] [Prob3plusplusWeightCalc]: Set dmsq_atm = 0.00251\n",
      "[2024-02-29 00:27:24.841] [info] [Prob3plusplusWeightCalc]: Set baseline_km = 1300\n"
     ]
    }
   ],
   "source": [
    "wfact = pn.WeightCalcFactory()\n",
    "\n",
    "wt2k = wfact.make(evs,{\"plugin_name\":\"Prob3plusplus\"})\n",
    "wt2k.set_parameters({\"baseline:t2k\": 1, \"bestfit:t2k\": 1})\n",
    "\n",
    "wnufit = wfact.make(evs,{\"plugin_name\":\"Prob3plusplus\"})\n",
    "wnufit.set_parameters({\n",
    "    \"sinsq_th12\": 0.303, \n",
    "    \"sinsq_th23\": 0.572,\n",
    "    \"sinsq_th13\": 0.02203, \n",
    "    \"dmsq_21\":7.41E-5,\n",
    "    \"dmsq_atm\": 2.51E-3,\n",
    "    \"baseline_km\":1300})"
   ]
  },
  {
   "cell_type": "code",
   "execution_count": 51,
   "id": "24675ce2-dcf5-4c13-914d-f7fd814035ba",
   "metadata": {},
   "outputs": [
    {
     "name": "stdout",
     "output_type": "stream",
     "text": [
      " -------------------------------------------\n",
      " | evt# | cvw | enu_GeV |   pprob |  pprob |\n",
      " -------------------------------------------\n",
      " |    0 |   1 |   2.275 | 0.08036 | 0.8412 |\n",
      " |    1 |   1 |    14.3 |  0.9179 | 0.9958 |\n",
      " |    2 |   1 |    2.86 | 0.02232 | 0.8974 |\n",
      " |    3 |   1 |   3.728 |  0.1972 | 0.9387 |\n",
      " |    4 |   1 |    9.08 |  0.8047 | 0.9895 |\n",
      " |    5 |   1 |   3.237 | 0.08565 | 0.9193 |\n",
      " |    6 |   1 |   2.473 | 0.02523 | 0.8644 |\n",
      " |    7 |   1 |   1.916 |  0.3381 | 0.7813 |\n",
      " |    8 |   1 |   1.988 |  0.2673 | 0.7956 |\n",
      " |    9 |   1 |   3.671 |  0.1839 | 0.9369 |\n",
      " |   10 |   1 |   2.506 | 0.02038 | 0.8678 |\n",
      " |   11 |   1 |    2.55 | 0.01559 | 0.8721 |\n",
      " |   12 |   1 |   2.242 | 0.09475 | 0.8367 |\n",
      " |   13 |   1 |    3.36 |  0.1122 | 0.9249 |\n",
      " |   14 |   1 |   2.785 | 0.01546 |  0.892 |\n",
      " |   15 |   1 |   2.682 | 0.01091 | 0.8839 |\n",
      " |   16 |   1 |   1.237 |  0.9413 | 0.5317 |\n",
      " |   17 |   1 |   10.46 |  0.8503 | 0.9921 |\n",
      " |   18 |   1 |   3.034 | 0.04687 | 0.9085 |\n",
      " |   19 |   1 |   1.846 |  0.4175 | 0.7658 |\n",
      " -------------------------------------------\n"
     ]
    }
   ],
   "source": [
    "print(pn.FrameGen(evs).limit(20).add_column(\"enu_GeV\",enu_GeV).add_column(\"NuFit 5.2\",wnufit).add_column(\"T2K BF\",wt2k).all())"
   ]
  },
  {
   "cell_type": "code",
   "execution_count": 52,
   "id": "2136d848-386d-4bb9-a035-e417bda34ba8",
   "metadata": {},
   "outputs": [
    {
     "name": "stdout",
     "output_type": "stream",
     "text": [
      " ---------------------\n",
      " |        mc |   err |\n",
      " ---------------------\n",
      " |         0 |     0 |\n",
      " |        31 | 5.568 |\n",
      " |       281 | 16.76 |\n",
      " |       812 |  28.5 |\n",
      " |      1436 | 37.89 |\n",
      " |      2835 | 53.24 |\n",
      " |      4309 | 65.64 |\n",
      " |      5788 | 76.08 |\n",
      " |      7648 | 87.45 |\n",
      " |      9346 | 96.67 |\n",
      " | 1.113e+04 | 105.5 |\n",
      " | 1.304e+04 | 114.2 |\n",
      " | 1.418e+04 | 119.1 |\n",
      " | 1.551e+04 | 124.5 |\n",
      " | 1.634e+04 | 127.8 |\n",
      " | 1.823e+04 |   135 |\n",
      " | 2.018e+04 | 142.1 |\n",
      " | 2.227e+04 | 149.2 |\n",
      " | 2.364e+04 | 153.7 |\n",
      " | 2.594e+04 | 161.1 |\n",
      " |  2.74e+04 | 165.5 |\n",
      " |       ... |   ... |\n",
      " ---------------------\n"
     ]
    }
   ],
   "source": [
    "binning = pn.binning.lin_space(50,0,5, \"E_nu [GeV]\")\n",
    "hfo = pn.HistFrame(binning) #the default first column name is \"mc\"\n",
    "hf = pn.HistFrame(binning) #the default first column name is \"mc\"\n",
    "for i, (ev, cvw) in enumerate(evs):\n",
    "    hfo.fill(enu_GeV(ev),cvw*wnufit(ev))\n",
    "    hf.fill(enu_GeV(ev),cvw)\n",
    "    if i >= 1E6:\n",
    "        break\n",
    "print(hf)"
   ]
  },
  {
   "cell_type": "code",
   "execution_count": 54,
   "id": "7b2532ec-1e45-4716-8b6d-0351ee8f589a",
   "metadata": {},
   "outputs": [
    {
     "data": {
      "image/png": "[encoded data removed]",
      "text/plain": [
       "<Figure size 640x480 with 1 Axes>"
      ]
     },
     "metadata": {},
     "output_type": "display_data"
    }
   ],
   "source": [
    "import matplotlib.pyplot as plt\n",
    "import numpy as np\n",
    "\n",
    "bin_centers = [ ((x[0].min + x[0].max) / 2.0) for x in hf.binning.bin_info.extents ]\n",
    "bin_widths = [ (x[0].max - x[0].min) for x in hf.binning.bin_info.extents ]\n",
    "\n",
    "sf = evs.fatx()/evs.sumw()\n",
    "\n",
    "plt.errorbar(bin_centers,hf.contents[:,0]*sf,yerr=np.sqrt(hf.variance[:,0])*sf)\n",
    "plt.errorbar(bin_centers,hfo.contents[:,0]*sf,yerr=np.sqrt(hfo.variance[:,0])*sf)\n",
    "plt.show()"
   ]
  },
  {
   "cell_type": "code",
   "execution_count": null,
   "id": "c5d371ca-3e57-470b-a56c-a2655f79c72f",
   "metadata": {},
   "outputs": [],
   "source": []
  }
 ],
 "metadata": {
  "kernelspec": {
   "display_name": "Python 3 (ipykernel)",
   "language": "python",
   "name": "python3"
  },
  "language_info": {
   "codemirror_mode": {
    "name": "ipython",
    "version": 3
   },
   "file_extension": ".py",
   "mimetype": "text/x-python",
   "name": "python",
   "nbconvert_exporter": "python",
   "pygments_lexer": "ipython3",
   "version": "3.9.18"
  }
 },
 "nbformat": 4,
 "nbformat_minor": 5
}
