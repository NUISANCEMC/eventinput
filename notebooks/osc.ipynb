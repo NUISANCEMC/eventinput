{
 "cells": [
  {
   "cell_type": "code",
   "execution_count": 2,
   "id": "422f7c15-c533-4e1e-9734-99a746bbde14",
   "metadata": {},
   "outputs": [],
   "source": [
    "import pyNUISANCE as pn\n",
    "import pyNuHepMC as nhm"
   ]
  },
  {
   "cell_type": "code",
   "execution_count": 3,
   "id": "411deb79-65ad-4e18-8468-671c97c8aa5b",
   "metadata": {},
   "outputs": [
    {
     "name": "stdout",
     "output_type": "stream",
     "text": [
      "[2024-02-29 17:15:23.474] [info] Found eventinput plugin: /root/software/NUISANCEMC/eventinput/build/Linux/lib/plugins/nuisplugin-eventinput-GHEP3.so\n",
      "[2024-02-29 17:15:23.507] [info] Found eventinput plugin: /root/software/NUISANCEMC/eventinput/build/Linux/lib/plugins/nuisplugin-eventinput-NuWroevent1.so\n",
      "[2024-02-29 17:15:23.514] [info] Found eventinput plugin: /root/software/NUISANCEMC/eventinput/build/Linux/lib/plugins/nuisplugin-eventinput-neutvect.so\n",
      "[2024-02-29 17:15:23.517] [info] EventSourceFactory: PathResolver::resolve filepath: dune_argon_sf_10mega.nuwro.pb.gz, exists: true\n",
      "[2024-02-29 17:15:23.650] [info] Reading file dune_argon_sf_10mega.nuwro.pb.gz with native HepMC3EventSource\n"
     ]
    }
   ],
   "source": [
    "evs = pn.EventSource(\"dune_argon_sf_10mega.nuwro.pb.gz\")\n",
    "if not evs:\n",
    "    print(\"Error: failed to open input file\")"
   ]
  },
  {
   "cell_type": "code",
   "execution_count": 4,
   "id": "030b1b46-0d55-4665-bdff-a593e368435b",
   "metadata": {},
   "outputs": [
    {
     "name": "stdout",
     "output_type": "stream",
     "text": [
      "2.2748704837946896\n"
     ]
    }
   ],
   "source": [
    "def enu_GeV(ev):\n",
    "    return nhm.EventUtils.GetBeamParticle(ev).momentum().e() * nhm.EventUtils.ToMeVFactor(ev) * 1E-3\n",
    "print(enu_GeV(evs.first()[0]))"
   ]
  },
  {
   "cell_type": "code",
   "execution_count": 5,
   "id": "ef354a00-2c71-4b68-bbac-3497e8ae3b3d",
   "metadata": {},
   "outputs": [
    {
     "name": "stdout",
     "output_type": "stream",
     "text": [
      "[2024-02-29 17:15:24.598] [info] [Prob3plusplusWeightCalc]: Set numu disappearance oscillation channel: 2 -> 2\n",
      "[2024-02-29 17:15:24.599] [info] [Prob3plusplusWeightCalc]: Set baseline_km = 1300\n",
      "[2024-02-29 17:15:24.599] [info] [Prob3plusplusWeightCalc]: Set DUNE baseline\n",
      "[2024-02-29 17:15:24.599] [info] [Prob3plusplusWeightCalc]: Set sinsq_th12 = 0.297\n",
      "[2024-02-29 17:15:24.599] [info] [Prob3plusplusWeightCalc]: Set sinsq_th13 = 0.0214\n",
      "[2024-02-29 17:15:24.599] [info] [Prob3plusplusWeightCalc]: Set sinsq_th23 = 0.526\n",
      "[2024-02-29 17:15:24.599] [info] [Prob3plusplusWeightCalc]: Set dmsq_21 = 7.37e-05\n",
      "[2024-02-29 17:15:24.599] [info] [Prob3plusplusWeightCalc]: Set dmsq_atm = 0.002463\n",
      "[2024-02-29 17:15:24.599] [info] [Prob3plusplusWeightCalc]: Set dcp_rad = 0\n",
      "[2024-02-29 17:15:24.599] [info] [Prob3plusplusWeightCalc]: Set T2K bestfit parameters\n",
      "[2024-02-29 17:15:24.599] [info] [Prob3plusplusWeightCalc]: Set numu to nue appearance oscillation channel: 2 -> 1\n",
      "[2024-02-29 17:15:24.599] [info] [Prob3plusplusWeightCalc]: Set baseline_km = 1300\n",
      "[2024-02-29 17:15:24.599] [info] [Prob3plusplusWeightCalc]: Set DUNE baseline\n",
      "[2024-02-29 17:15:24.599] [info] [Prob3plusplusWeightCalc]: Set sinsq_th12 = 0.297\n",
      "[2024-02-29 17:15:24.599] [info] [Prob3plusplusWeightCalc]: Set sinsq_th13 = 0.0214\n",
      "[2024-02-29 17:15:24.599] [info] [Prob3plusplusWeightCalc]: Set sinsq_th23 = 0.526\n",
      "[2024-02-29 17:15:24.599] [info] [Prob3plusplusWeightCalc]: Set dmsq_21 = 7.37e-05\n",
      "[2024-02-29 17:15:24.599] [info] [Prob3plusplusWeightCalc]: Set dmsq_atm = 0.002463\n",
      "[2024-02-29 17:15:24.599] [info] [Prob3plusplusWeightCalc]: Set dcp_rad = 0\n",
      "[2024-02-29 17:15:24.599] [info] [Prob3plusplusWeightCalc]: Set T2K bestfit parameters\n",
      "[2024-02-29 17:15:24.599] [info] [Prob3plusplusWeightCalc]: Set numu disappearance oscillation channel: 2 -> 2\n",
      "[2024-02-29 17:15:24.599] [info] [Prob3plusplusWeightCalc]: Set baseline_km = 1300\n",
      "[2024-02-29 17:15:24.599] [info] [Prob3plusplusWeightCalc]: Set DUNE baseline\n",
      "[2024-02-29 17:15:24.599] [info] [Prob3plusplusWeightCalc]: Set sinsq_th12 = 0.303\n",
      "[2024-02-29 17:15:24.599] [info] [Prob3plusplusWeightCalc]: Set sinsq_th13 = 0.02203\n",
      "[2024-02-29 17:15:24.599] [info] [Prob3plusplusWeightCalc]: Set sinsq_th23 = 0.572\n",
      "[2024-02-29 17:15:24.599] [info] [Prob3plusplusWeightCalc]: Set dmsq_21 = 7.41e-05\n",
      "[2024-02-29 17:15:24.599] [info] [Prob3plusplusWeightCalc]: Set dmsq_atm = 0.00251\n",
      "[2024-02-29 17:15:24.599] [info] [Prob3plusplusWeightCalc]: Set dcp_rad = 0\n",
      "[2024-02-29 17:15:24.599] [info] [Prob3plusplusWeightCalc]: Set T2K bestfit parameters\n",
      "[2024-02-29 17:15:24.599] [info] [Prob3plusplusWeightCalc]: Set numu to nue appearance oscillation channel: 2 -> 1\n",
      "[2024-02-29 17:15:24.599] [info] [Prob3plusplusWeightCalc]: Set baseline_km = 1300\n",
      "[2024-02-29 17:15:24.599] [info] [Prob3plusplusWeightCalc]: Set DUNE baseline\n",
      "[2024-02-29 17:15:24.599] [info] [Prob3plusplusWeightCalc]: Set sinsq_th12 = 0.303\n",
      "[2024-02-29 17:15:24.599] [info] [Prob3plusplusWeightCalc]: Set sinsq_th13 = 0.02203\n",
      "[2024-02-29 17:15:24.599] [info] [Prob3plusplusWeightCalc]: Set sinsq_th23 = 0.572\n",
      "[2024-02-29 17:15:24.599] [info] [Prob3plusplusWeightCalc]: Set dmsq_21 = 7.41e-05\n",
      "[2024-02-29 17:15:24.599] [info] [Prob3plusplusWeightCalc]: Set dmsq_atm = 0.00251\n",
      "[2024-02-29 17:15:24.599] [info] [Prob3plusplusWeightCalc]: Set dcp_rad = 0\n",
      "[2024-02-29 17:15:24.599] [info] [Prob3plusplusWeightCalc]: Set T2K bestfit parameters\n"
     ]
    }
   ],
   "source": [
    "wt2k_disp = pn.Prob3plusplusWeightCalc()\n",
    "wt2k_disp.set_parameters({\"baseline:DUNE\": 1, \"t2k:bestfit\": 1, \"osc:numu_disp\":1})\n",
    "wt2k_app = pn.Prob3plusplusWeightCalc()\n",
    "wt2k_app.set_parameters({\"baseline:DUNE\": 1, \"t2k:bestfit\": 1, \"osc:numu_to_nue\":1})\n",
    "\n",
    "wnf5_disp = pn.Prob3plusplusWeightCalc()\n",
    "wnf5_disp.set_parameters({\"baseline:DUNE\": 1, \"NuFit:5.2\": 1, \"osc:numu_disp\":1})\n",
    "wnf5_app = pn.Prob3plusplusWeightCalc()\n",
    "wnf5_app.set_parameters({\"baseline:DUNE\": 1, \"NuFit:5.2\": 1, \"osc:numu_to_nue\":1})\n"
   ]
  },
  {
   "cell_type": "code",
   "execution_count": 6,
   "id": "24675ce2-dcf5-4c13-914d-f7fd814035ba",
   "metadata": {},
   "outputs": [
    {
     "name": "stdout",
     "output_type": "stream",
     "text": [
      " ------------------------------------------------------------------------------------\n",
      " | evt# | cvw | enu_GeV | T2K B.F. P($ | T2K B.F. P($ | NuFit 5.2 P$ | NuFit 5.2 P$ |\n",
      " ------------------------------------------------------------------------------------\n",
      " |    0 |   1 |   2.275 |      0.05437 |      0.06693 |      0.08036 |      0.07433 |\n",
      " |    1 |   1 |    14.3 |       0.9199 |     0.004287 |       0.9179 |     0.004895 |\n",
      " |    2 |   1 |    2.86 |      0.01832 |       0.0649 |      0.02232 |      0.07304 |\n",
      " |    3 |   1 |   3.728 |       0.2048 |      0.04962 |       0.1972 |      0.05627 |\n",
      " |    4 |   1 |    9.08 |       0.8092 |      0.01056 |       0.8047 |      0.01206 |\n",
      " |    5 |   1 |   3.237 |      0.08881 |      0.05852 |      0.08565 |      0.06614 |\n",
      " |    6 |   1 |   2.473 |     0.008372 |      0.06826 |      0.02523 |      0.07626 |\n",
      " |    7 |   1 |   1.916 |       0.2941 |        0.054 |       0.3381 |      0.05881 |\n",
      " |    8 |   1 |   1.988 |       0.2265 |      0.05799 |       0.2673 |       0.0635 |\n",
      " |    9 |   1 |   3.671 |       0.1912 |      0.05062 |       0.1839 |      0.05739 |\n",
      " |   10 |   1 |   2.506 |     0.004892 |      0.06822 |      0.02038 |      0.07628 |\n",
      " |   11 |   1 |    2.55 |      0.00184 |      0.06807 |      0.01559 |      0.07619 |\n",
      " |   12 |   1 |   2.242 |      0.06709 |      0.06638 |      0.09475 |      0.07364 |\n",
      " |   13 |   1 |    3.36 |       0.1169 |      0.05626 |       0.1122 |      0.06366 |\n",
      " |   14 |   1 |   2.785 |     0.009469 |      0.06593 |      0.01546 |      0.07412 |\n",
      " |   15 |   1 |   2.682 |      0.00182 |      0.06711 |      0.01091 |      0.07531 |\n",
      " |   16 |   1 |   1.237 |       0.9669 |    0.0003308 |       0.9413 |    0.0008046 |\n",
      " |   17 |   1 |   10.46 |       0.8538 |     0.007999 |       0.8503 |     0.009133 |\n",
      " |   18 |   1 |   3.034 |       0.0467 |      0.06212 |      0.04687 |      0.07008 |\n",
      " |   19 |   1 |   1.846 |       0.3709 |      0.04927 |       0.4175 |       0.0533 |\n",
      " ------------------------------------------------------------------------------------\n"
     ]
    }
   ],
   "source": [
    "print(pn.FrameGen(evs).limit(20)\n",
    "      .add_column(\"enu_GeV\",enu_GeV)\n",
    "      .add_column(\"T2K B.F. P(numu->numu)\", wt2k_disp.calc_weight)\n",
    "      .add_column(\"T2K B.F. P(numu->nue)\", wt2k_app.calc_weight)\n",
    "      .add_column(\"NuFit 5.2 P(numu->numu)\", wnf5_disp.calc_weight)\n",
    "      .add_column(\"NuFit 5.2 P(numu->nue)\", wnf5_app.calc_weight)\n",
    "      .all())"
   ]
  },
  {
   "cell_type": "code",
   "execution_count": 8,
   "id": "2136d848-386d-4bb9-a035-e417bda34ba8",
   "metadata": {},
   "outputs": [
    {
     "name": "stdout",
     "output_type": "stream",
     "text": [
      " -----------------------------------------------------------------------------------------------------------------\n",
      " | unosc |   err | T2K B.F. P($ |    err | T2K B.F. P($ |    err | NuFit 5.2 P$ |    err | NuFit 5.2 P$ |    err |\n",
      " -----------------------------------------------------------------------------------------------------------------\n",
      " |     0 |     0 |            0 |      0 |            0 |      0 |            0 |      0 |            0 |      0 |\n",
      " |     0 |     0 |            0 |      0 |            0 |      0 |            0 |      0 |            0 |      0 |\n",
      " |     0 |     0 |            0 |      0 |            0 |      0 |            0 |      0 |            0 |      0 |\n",
      " |     2 | 1.414 |        0.325 | 0.2927 |       0.6668 | 0.4717 |       0.2547 | 0.2077 |        0.489 | 0.3527 |\n",
      " |     2 | 1.414 |       0.4086 | 0.3839 |       0.4151 | 0.3085 |       0.9314 | 0.7811 |       0.2878 | 0.2075 |\n",
      " |     3 | 1.732 |         1.17 | 0.7608 |       0.6911 | 0.4313 |       0.9466 | 0.8624 |        0.625 | 0.3754 |\n",
      " |     3 | 1.732 |        1.202 | 0.7096 |       0.7039 | 0.4068 |       0.3314 | 0.2121 |       0.6858 |  0.396 |\n",
      " |     4 |     2 |        1.967 |  1.116 |        0.363 | 0.1873 |        2.938 |  1.508 |        0.316 | 0.1664 |\n",
      " |     9 |     3 |        4.248 |  1.766 |        1.376 | 0.4847 |        3.038 |    1.4 |        1.361 | 0.4635 |\n",
      " |    17 | 4.123 |        5.147 |  1.714 |        1.505 | 0.3939 |        8.978 |  2.495 |        1.043 | 0.2715 |\n",
      " |    43 | 6.557 |        23.35 |  4.089 |        5.123 | 0.8217 |        15.26 |  3.039 |        5.504 | 0.8552 |\n",
      " |    57 |  7.55 |        30.01 |  4.577 |        2.575 |  0.377 |        40.78 |  5.708 |        2.003 | 0.2864 |\n",
      " |    65 | 8.062 |        17.87 |  2.838 |        7.019 |  0.875 |        10.55 |  1.633 |        6.798 | 0.8515 |\n",
      " |    87 | 9.327 |        76.16 |  8.201 |        2.995 | 0.3881 |        71.92 |  7.865 |        4.037 | 0.5147 |\n",
      " |   120 | 10.95 |        34.07 |  3.975 |        5.528 | 0.5546 |        56.27 |  5.833 |        3.778 | 0.4014 |\n",
      " |   175 | 13.23 |        42.97 |  4.058 |        14.19 |  1.078 |        24.75 |  2.439 |        14.53 |    1.1 |\n",
      " |   223 | 14.93 |        197.5 |  13.35 |        5.777 | 0.4681 |        177.1 |  12.17 |        7.868 | 0.6083 |\n",
      " |   319 | 17.86 |        217.3 |  12.63 |        3.915 | 0.2659 |        258.1 |   14.7 |         2.52 |  0.173 |\n",
      " |   478 | 21.86 |         41.3 |  2.906 |        25.61 |  1.193 |        86.03 |  5.052 |        23.22 |  1.098 |\n",
      " |   708 | 26.61 |        130.7 |  6.046 |        42.23 |  1.596 |        80.73 |  3.945 |        45.41 |   1.71 |\n",
      " |   906 |  30.1 |        661.4 |  22.43 |        23.44 | 0.8484 |        563.1 |  19.37 |        29.65 |  1.051 |\n",
      " |   ... |   ... |          ... |    ... |          ... |    ... |          ... |    ... |          ... |    ... |\n",
      " -----------------------------------------------------------------------------------------------------------------\n"
     ]
    }
   ],
   "source": [
    "from math import log\n",
    "binning = pn.binning.log10_space(50,log(0.1)/log(10),log(8)/log(10), \"E_nu [GeV]\")\n",
    "\n",
    "hf = pn.HistFrame(binning,\"unosc\")\n",
    "hf.add_column(\"T2K B.F. P(numu->numu)\")\n",
    "hf.add_column(\"T2K B.F. P(numu->nue)\")\n",
    "hf.add_column(\"NuFit 5.2 P(numu->nue)\")\n",
    "hf.add_column(\"NuFit 5.2 P(numu->nue)\")\n",
    "for i, (ev, cvw) in enumerate(evs):\n",
    "    enu = enu_GeV(ev)\n",
    "    hf.fill(enu,cvw)\n",
    "    hf.fill(enu,cvw*wt2k_disp.prob(enu),1)\n",
    "    hf.fill(enu,cvw*wt2k_app.prob(enu),2)\n",
    "    hf.fill(enu,cvw*wnf5_disp.prob(enu),3)\n",
    "    hf.fill(enu,cvw*wnf5_app.prob(enu),4)\n",
    "    if i >= 5E5:\n",
    "        break\n",
    "print(hf)"
   ]
  },
  {
   "cell_type": "code",
   "execution_count": 9,
   "id": "7b2532ec-1e45-4716-8b6d-0351ee8f589a",
   "metadata": {},
   "outputs": [
    {
     "data": {
      "image/png": "[encoded data removed]",
      "text/plain": [
       "<Figure size 640x480 with 1 Axes>"
      ]
     },
     "metadata": {},
     "output_type": "display_data"
    }
   ],
   "source": [
    "import matplotlib.pyplot as plt\n",
    "import numpy as np\n",
    "\n",
    "bin_centers = [ ((x[0].min + x[0].max) / 2.0) for x in hf.binning.bin_info.extents ]\n",
    "bin_widths = [ (x[0].max - x[0].min) for x in hf.binning.bin_info.extents ]\n",
    "\n",
    "sf = evs.fatx()/evs.sumw()\n",
    "\n",
    "plt.errorbar(bin_centers,hf.contents[:,0]*sf,yerr=np.sqrt(hf.variance[:,0])*sf)\n",
    "plt.errorbar(bin_centers,hf.contents[:,1]*sf,yerr=np.sqrt(hf.variance[:,1])*sf)\n",
    "plt.errorbar(bin_centers,hf.contents[:,2]*sf,yerr=np.sqrt(hf.variance[:,2])*sf)\n",
    "plt.errorbar(bin_centers,hf.contents[:,3]*sf,yerr=np.sqrt(hf.variance[:,3])*sf)\n",
    "plt.errorbar(bin_centers,hf.contents[:,4]*sf,yerr=np.sqrt(hf.variance[:,4])*sf)\n",
    "plt.show()"
   ]
  },
  {
   "cell_type": "code",
   "execution_count": null,
   "id": "3e779f24-ca9a-4b27-811a-257d93ce9e32",
   "metadata": {},
   "outputs": [],
   "source": []
  }
 ],
 "metadata": {
  "kernelspec": {
   "display_name": "Python 3 (ipykernel)",
   "language": "python",
   "name": "python3"
  },
  "language_info": {
   "codemirror_mode": {
    "name": "ipython",
    "version": 3
   },
   "file_extension": ".py",
   "mimetype": "text/x-python",
   "name": "python",
   "nbconvert_exporter": "python",
   "pygments_lexer": "ipython3",
   "version": "3.9.18"
  }
 },
 "nbformat": 4,
 "nbformat_minor": 5
}
