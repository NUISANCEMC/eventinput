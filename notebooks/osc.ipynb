{
 "cells": [
  {
   "cell_type": "code",
   "execution_count": 1,
   "id": "422f7c15-c533-4e1e-9734-99a746bbde14",
   "metadata": {},
   "outputs": [],
   "source": [
    "import pyNUISANCE as pn\n",
    "import pyNuHepMC as nhm"
   ]
  },
  {
   "cell_type": "code",
   "execution_count": null,
   "id": "411deb79-65ad-4e18-8468-671c97c8aa5b",
   "metadata": {},
   "outputs": [],
   "source": [
    "evs = pn.EventSource(\"dune_argon_sf_10mega.nuwro.pb.gz\")\n",
    "if not evs:\n",
    "    print(\"Error: failed to open input file\")"
   ]
  },
  {
   "cell_type": "code",
   "execution_count": 3,
   "id": "030b1b46-0d55-4665-bdff-a593e368435b",
   "metadata": {
    "editable": true,
    "slideshow": {
     "slide_type": ""
    },
    "tags": []
   },
   "outputs": [
    {
     "name": "stdout",
     "output_type": "stream",
     "text": [
      "2.2748704837946896\n",
      "1.2503555877599393\n"
     ]
    }
   ],
   "source": [
    "def enu_GeV(ev):\n",
    "    return nhm.EventUtils.GetBeamParticle(ev).momentum().e() * 1E-3\n",
    "ev,_ = evs.first()\n",
    "print(enu_GeV(ev))\n",
    "\n",
    "def elep_GeV(ev):\n",
    "    beamp = nhm.EventUtils.GetBeamParticle(ev)\n",
    "    beam_pid = beamp.pid()\n",
    "    cc_lep_pid = (beam_pid - 1) if (beam_pid > 0) else (beam_pid + 1);\n",
    "    lep = nhm.EventUtils.GetParticle_FirstRealFinalState(ev, [int(cc_lep_pid)])\n",
    "    if lep:\n",
    "        return lep.momentum().e() * 1E-3\n",
    "    return -0\n",
    "\n",
    "print(elep_GeV(ev))"
   ]
  },
  {
   "cell_type": "code",
   "execution_count": 4,
   "id": "00133549-ff59-489b-a3b6-8ee4a0f3e38e",
   "metadata": {},
   "outputs": [
    {
     "data": {
      "text/plain": [
       "['Binning',\n",
       " 'ColumnInfo',\n",
       " 'ComparisonFrame',\n",
       " 'EventSource',\n",
       " 'Frame',\n",
       " 'FrameGen',\n",
       " 'HistFrame',\n",
       " 'Prob3plusplusWeightCalc',\n",
       " 'Project',\n",
       " 'Record',\n",
       " 'RecordFactory',\n",
       " 'Table',\n",
       " 'Vector_bool',\n",
       " 'Vector_double',\n",
       " 'Vector_int',\n",
       " 'Vector_uint32_t',\n",
       " 'WeightCalc',\n",
       " 'WeightCalcFactory',\n",
       " '__doc__',\n",
       " '__file__',\n",
       " '__loader__',\n",
       " '__name__',\n",
       " '__package__',\n",
       " '__spec__',\n",
       " 'hm',\n",
       " 'pps',\n",
       " 'pyProSelecta']"
      ]
     },
     "execution_count": 4,
     "metadata": {},
     "output_type": "execute_result"
    }
   ],
   "source": [
    "dir(pn)"
   ]
  },
  {
   "cell_type": "code",
   "execution_count": 5,
   "id": "ef354a00-2c71-4b68-bbac-3497e8ae3b3d",
   "metadata": {},
   "outputs": [
    {
     "name": "stdout",
     "output_type": "stream",
     "text": [
      "[2024-03-05 17:17:45.498] [info] [Prob3plusplusWeightCalc]: Set numu disappearance oscillation channel: 2 -> 2\n",
      "[2024-03-05 17:17:45.498] [info] [Prob3plusplusWeightCalc]: Set baseline_km = 1300\n",
      "[2024-03-05 17:17:45.498] [info] [Prob3plusplusWeightCalc]: Set DUNE baseline\n",
      "[2024-03-05 17:17:45.498] [info] [Prob3plusplusWeightCalc]: Set sinsq_th12 = 0.297\n",
      "[2024-03-05 17:17:45.498] [info] [Prob3plusplusWeightCalc]: Set sinsq_th13 = 0.0214\n",
      "[2024-03-05 17:17:45.498] [info] [Prob3plusplusWeightCalc]: Set sinsq_th23 = 0.526\n",
      "[2024-03-05 17:17:45.498] [info] [Prob3plusplusWeightCalc]: Set dmsq_21 = 7.37e-05\n",
      "[2024-03-05 17:17:45.498] [info] [Prob3plusplusWeightCalc]: Set dmsq_atm = 0.002463\n",
      "[2024-03-05 17:17:45.498] [info] [Prob3plusplusWeightCalc]: Set dcp_rad = 0\n",
      "[2024-03-05 17:17:45.498] [info] [Prob3plusplusWeightCalc]: Set T2K bestfit parameters\n",
      "[2024-03-05 17:17:45.498] [info] [Prob3plusplusWeightCalc]: Set numu to nue appearance oscillation channel: 2 -> 1\n",
      "[2024-03-05 17:17:45.498] [info] [Prob3plusplusWeightCalc]: Set baseline_km = 1300\n",
      "[2024-03-05 17:17:45.498] [info] [Prob3plusplusWeightCalc]: Set DUNE baseline\n",
      "[2024-03-05 17:17:45.498] [info] [Prob3plusplusWeightCalc]: Set sinsq_th12 = 0.297\n",
      "[2024-03-05 17:17:45.498] [info] [Prob3plusplusWeightCalc]: Set sinsq_th13 = 0.0214\n",
      "[2024-03-05 17:17:45.498] [info] [Prob3plusplusWeightCalc]: Set sinsq_th23 = 0.526\n",
      "[2024-03-05 17:17:45.498] [info] [Prob3plusplusWeightCalc]: Set dmsq_21 = 7.37e-05\n",
      "[2024-03-05 17:17:45.498] [info] [Prob3plusplusWeightCalc]: Set dmsq_atm = 0.002463\n",
      "[2024-03-05 17:17:45.498] [info] [Prob3plusplusWeightCalc]: Set dcp_rad = 0\n",
      "[2024-03-05 17:17:45.498] [info] [Prob3plusplusWeightCalc]: Set T2K bestfit parameters\n",
      "[2024-03-05 17:17:45.498] [info] [Prob3plusplusWeightCalc]: Set numu disappearance oscillation channel: 2 -> 2\n",
      "[2024-03-05 17:17:45.498] [info] [Prob3plusplusWeightCalc]: Set baseline_km = 1300\n",
      "[2024-03-05 17:17:45.498] [info] [Prob3plusplusWeightCalc]: Set DUNE baseline\n",
      "[2024-03-05 17:17:45.498] [info] [Prob3plusplusWeightCalc]: Set sinsq_th12 = 0.303\n",
      "[2024-03-05 17:17:45.498] [info] [Prob3plusplusWeightCalc]: Set sinsq_th13 = 0.02203\n",
      "[2024-03-05 17:17:45.498] [info] [Prob3plusplusWeightCalc]: Set sinsq_th23 = 0.572\n",
      "[2024-03-05 17:17:45.498] [info] [Prob3plusplusWeightCalc]: Set dmsq_21 = 7.41e-05\n",
      "[2024-03-05 17:17:45.498] [info] [Prob3plusplusWeightCalc]: Set dmsq_atm = 0.00251\n",
      "[2024-03-05 17:17:45.498] [info] [Prob3plusplusWeightCalc]: Set dcp_rad = 0\n",
      "[2024-03-05 17:17:45.498] [info] [Prob3plusplusWeightCalc]: Set T2K bestfit parameters\n",
      "[2024-03-05 17:17:45.498] [info] [Prob3plusplusWeightCalc]: Set numu to nue appearance oscillation channel: 2 -> 1\n",
      "[2024-03-05 17:17:45.498] [info] [Prob3plusplusWeightCalc]: Set baseline_km = 1300\n",
      "[2024-03-05 17:17:45.498] [info] [Prob3plusplusWeightCalc]: Set DUNE baseline\n",
      "[2024-03-05 17:17:45.498] [info] [Prob3plusplusWeightCalc]: Set sinsq_th12 = 0.303\n",
      "[2024-03-05 17:17:45.498] [info] [Prob3plusplusWeightCalc]: Set sinsq_th13 = 0.02203\n",
      "[2024-03-05 17:17:45.498] [info] [Prob3plusplusWeightCalc]: Set sinsq_th23 = 0.572\n",
      "[2024-03-05 17:17:45.498] [info] [Prob3plusplusWeightCalc]: Set dmsq_21 = 7.41e-05\n",
      "[2024-03-05 17:17:45.498] [info] [Prob3plusplusWeightCalc]: Set dmsq_atm = 0.00251\n",
      "[2024-03-05 17:17:45.498] [info] [Prob3plusplusWeightCalc]: Set dcp_rad = 0\n",
      "[2024-03-05 17:17:45.498] [info] [Prob3plusplusWeightCalc]: Set T2K bestfit parameters\n"
     ]
    }
   ],
   "source": [
    "wt2k_disp = pn.Prob3plusplusWeightCalc()\n",
    "wt2k_disp.set_parameters({\"baseline:DUNE\": 1, \"t2k:bestfit\": 1, \"osc:numu_disp\":1})\n",
    "wt2k_app = pn.Prob3plusplusWeightCalc()\n",
    "wt2k_app.set_parameters({\"baseline:DUNE\": 1, \"t2k:bestfit\": 1, \"osc:numu_to_nue\":1})\n",
    "\n",
    "wnf5_disp = pn.Prob3plusplusWeightCalc()\n",
    "wnf5_disp.set_parameters({\"baseline:DUNE\": 1, \"NuFit:5.2\": 1, \"osc:numu_disp\":1})\n",
    "wnf5_app = pn.Prob3plusplusWeightCalc()\n",
    "wnf5_app.set_parameters({\"baseline:DUNE\": 1, \"NuFit:5.2\": 1, \"osc:numu_to_nue\":1})\n"
   ]
  },
  {
   "cell_type": "code",
   "execution_count": 6,
   "id": "24675ce2-dcf5-4c13-914d-f7fd814035ba",
   "metadata": {},
   "outputs": [
    {
     "name": "stdout",
     "output_type": "stream",
     "text": [
      " -----------------------------------------------------------------------------------------------\n",
      " | evt# | cvw | enu_GeV | elep_GeV | T2K B.F. P($ | T2K B.F. P($ | NuFit 5.2 P$ | NuFit 5.2 P$ |\n",
      " -----------------------------------------------------------------------------------------------\n",
      " |    0 |   1 |   2.275 |     1.25 |      0.05437 |      0.06693 |      0.08036 |      0.07433 |\n",
      " |    1 |   1 |    14.3 |   0.8818 |       0.9199 |     0.004287 |       0.9179 |     0.004895 |\n",
      " |    2 |   1 |    2.86 |   0.2383 |      0.01832 |       0.0649 |      0.02232 |      0.07304 |\n",
      " |    3 |   1 |   3.728 |   0.7166 |       0.2048 |      0.04962 |       0.1972 |      0.05627 |\n",
      " |    4 |   1 |    9.08 |    6.874 |       0.8092 |      0.01056 |       0.8047 |      0.01206 |\n",
      " |    5 |   1 |   3.237 |    1.004 |      0.08881 |      0.05852 |      0.08565 |      0.06614 |\n",
      " |    6 |   1 |   2.473 |    1.832 |     0.008372 |      0.06826 |      0.02523 |      0.07626 |\n",
      " |    7 |   1 |   1.916 |    1.591 |       0.2941 |        0.054 |       0.3381 |      0.05881 |\n",
      " |    8 |   1 |   1.988 |   0.6083 |       0.2265 |      0.05799 |       0.2673 |       0.0635 |\n",
      " |    9 |   1 |   3.671 |        0 |       0.1912 |      0.05062 |       0.1839 |      0.05739 |\n",
      " |   10 |   1 |   2.506 |   0.9147 |     0.004892 |      0.06822 |      0.02038 |      0.07628 |\n",
      " |   11 |   1 |    2.55 |   0.8784 |      0.00184 |      0.06807 |      0.01559 |      0.07619 |\n",
      " |   12 |   1 |   2.242 |    1.746 |      0.06709 |      0.06638 |      0.09475 |      0.07364 |\n",
      " |   13 |   1 |    3.36 |    1.909 |       0.1169 |      0.05626 |       0.1122 |      0.06366 |\n",
      " |   14 |   1 |   2.785 |    1.131 |     0.009469 |      0.06593 |      0.01546 |      0.07412 |\n",
      " |   15 |   1 |   2.682 |     1.05 |      0.00182 |      0.06711 |      0.01091 |      0.07531 |\n",
      " |   16 |   1 |   1.237 |   0.9433 |       0.9669 |    0.0003308 |       0.9413 |    0.0008046 |\n",
      " |   17 |   1 |   10.46 |        0 |       0.8538 |     0.007999 |       0.8503 |     0.009133 |\n",
      " |   18 |   1 |   3.034 |        0 |       0.0467 |      0.06212 |      0.04687 |      0.07008 |\n",
      " |   19 |   1 |   1.846 |    1.023 |       0.3709 |      0.04927 |       0.4175 |       0.0533 |\n",
      " -----------------------------------------------------------------------------------------------\n"
     ]
    }
   ],
   "source": [
    "print(pn.FrameGen(evs).limit(20)\n",
    "      .add_column(\"enu_GeV\",enu_GeV)\n",
    "      .add_column(\"elep_GeV\",elep_GeV)\n",
    "      .add_column(\"T2K B.F. P(numu->numu)\", wt2k_disp.calc_weight)\n",
    "      .add_column(\"T2K B.F. P(numu->nue)\", wt2k_app.calc_weight)\n",
    "      .add_column(\"NuFit 5.2 P(numu->numu)\", wnf5_disp.calc_weight)\n",
    "      .add_column(\"NuFit 5.2 P(numu->nue)\", wnf5_app.calc_weight)\n",
    "      .all())"
   ]
  },
  {
   "cell_type": "code",
   "execution_count": 7,
   "id": "2136d848-386d-4bb9-a035-e417bda34ba8",
   "metadata": {},
   "outputs": [
    {
     "name": "stdout",
     "output_type": "stream",
     "text": [
      " ---------------------------------------------------------------------------------------------------------\n",
      " | bin | unosc | err | T2K B.F. P($ | err | T2K B.F. P($ | err | NuFit 5.2 P$ | err | NuFit 5.2 P$ | err |\n",
      " ---------------------------------------------------------------------------------------------------------\n",
      " |   0 |     0 |   0 |            0 |   0 |            0 |   0 |            0 |   0 |            0 |   0 |\n",
      " |   1 |     0 |   0 |            0 |   0 |            0 |   0 |            0 |   0 |            0 |   0 |\n",
      " |   2 |     0 |   0 |            0 |   0 |            0 |   0 |            0 |   0 |            0 |   0 |\n",
      " |   3 |     0 |   0 |            0 |   0 |            0 |   0 |            0 |   0 |            0 |   0 |\n",
      " |   4 |     0 |   0 |            0 |   0 |            0 |   0 |            0 |   0 |            0 |   0 |\n",
      " |   5 |     0 |   0 |            0 |   0 |            0 |   0 |            0 |   0 |            0 |   0 |\n",
      " |   6 |     0 |   0 |            0 |   0 |            0 |   0 |            0 |   0 |            0 |   0 |\n",
      " |   7 |     0 |   0 |            0 |   0 |            0 |   0 |            0 |   0 |            0 |   0 |\n",
      " |   8 |     0 |   0 |            0 |   0 |            0 |   0 |            0 |   0 |            0 |   0 |\n",
      " |   9 |     0 |   0 |            0 |   0 |            0 |   0 |            0 |   0 |            0 |   0 |\n",
      " |  10 |     0 |   0 |            0 |   0 |            0 |   0 |            0 |   0 |            0 |   0 |\n",
      " |  11 |     0 |   0 |            0 |   0 |            0 |   0 |            0 |   0 |            0 |   0 |\n",
      " |  12 |     0 |   0 |            0 |   0 |            0 |   0 |            0 |   0 |            0 |   0 |\n",
      " |  13 |     0 |   0 |            0 |   0 |            0 |   0 |            0 |   0 |            0 |   0 |\n",
      " |  14 |     0 |   0 |            0 |   0 |            0 |   0 |            0 |   0 |            0 |   0 |\n",
      " |  15 |     0 |   0 |            0 |   0 |            0 |   0 |            0 |   0 |            0 |   0 |\n",
      " |  16 |     0 |   0 |            0 |   0 |            0 |   0 |            0 |   0 |            0 |   0 |\n",
      " |  17 |     0 |   0 |            0 |   0 |            0 |   0 |            0 |   0 |            0 |   0 |\n",
      " |  18 |     0 |   0 |            0 |   0 |            0 |   0 |            0 |   0 |            0 |   0 |\n",
      " |  19 |     0 |   0 |            0 |   0 |            0 |   0 |            0 |   0 |            0 |   0 |\n",
      " |  20 |     0 |   0 |            0 |   0 |            0 |   0 |            0 |   0 |            0 |   0 |\n",
      " |   ... | ... |          ... | ... |          ... | ... |          ... | ... |          ... | ... |\n",
      " ---------------------------------------------------------------------------------------------------------\n"
     ]
    }
   ],
   "source": [
    "from math import log\n",
    "\n",
    "etrue_ax = pn.Binning.log10_space(50,0.1,5, \"enu\")\n",
    "elep_ax = pn.Binning.lin_space(50,0,5, \"elep\")\n",
    "etrue_elep = pn.Binning.product([etrue_ax, elep_ax])\n",
    "\n",
    "hf = pn.HistFrame(etrue_elep,\"unosc\")\n",
    "hf.add_column(\"T2K B.F. P(numu->numu)\")\n",
    "hf.add_column(\"T2K B.F. P(numu->nue)\")\n",
    "hf.add_column(\"NuFit 5.2 P(numu->nue)\")\n",
    "hf.add_column(\"NuFit 5.2 P(numu->nue)\")\n",
    "for i, (ev, cvw) in enumerate(evs):\n",
    "    enu = enu_GeV(ev)\n",
    "    projs = [enu, elep_GeV(ev)]\n",
    "    if(projs[1] == 0):\n",
    "        continue\n",
    "    hf.fill(projs,cvw)\n",
    "    hf.fill(projs,cvw*wt2k_disp.prob(enu),1)\n",
    "    hf.fill(projs,cvw*wt2k_app.prob(enu),2)\n",
    "    hf.fill(projs,cvw*wnf5_disp.prob(enu),3)\n",
    "    hf.fill(projs,cvw*wnf5_app.prob(enu),4)\n",
    "    if i >= 5E5:\n",
    "        break\n",
    "print(hf)"
   ]
  },
  {
   "cell_type": "code",
   "execution_count": 10,
   "id": "7b2532ec-1e45-4716-8b6d-0351ee8f589a",
   "metadata": {},
   "outputs": [
    {
     "data": {
      "image/png": "[encoded data removed]",
      "text/plain": [
       "<Figure size 640x480 with 1 Axes>"
      ]
     },
     "metadata": {},
     "output_type": "display_data"
    }
   ],
   "source": [
    "import matplotlib.pyplot as plt\n",
    "import numpy as np\n",
    "\n",
    "hfp = pn.Project(hf,1)\n",
    "\n",
    "bin_centers = [ ((x[0].min + x[0].max) / 2.0) for x in hfp.binning.bins ]\n",
    "bin_widths = [ (x[0].max - x[0].min) for x in hfp.binning.bins ]\n",
    "\n",
    "sf = evs.fatx()/evs.sumw()\n",
    "\n",
    "plt.errorbar(bin_centers,hfp.contents[:,0]*sf,yerr=np.sqrt(hfp.variance[:,0])*sf)\n",
    "plt.errorbar(bin_centers,hfp.contents[:,1]*sf,yerr=np.sqrt(hfp.variance[:,1])*sf)\n",
    "plt.errorbar(bin_centers,hfp.contents[:,2]*sf,yerr=np.sqrt(hfp.variance[:,2])*sf)\n",
    "plt.errorbar(bin_centers,hfp.contents[:,3]*sf,yerr=np.sqrt(hfp.variance[:,3])*sf)\n",
    "plt.errorbar(bin_centers,hfp.contents[:,4]*sf,yerr=np.sqrt(hfp.variance[:,4])*sf)\n",
    "plt.show()"
   ]
  },
  {
   "cell_type": "code",
   "execution_count": null,
   "id": "3fd305aa-3287-4bdb-8b41-decc0c97c790",
   "metadata": {},
   "outputs": [],
   "source": []
  }
 ],
 "metadata": {
  "kernelspec": {
   "display_name": "Python 3 (ipykernel)",
   "language": "python",
   "name": "python3"
  },
  "language_info": {
   "codemirror_mode": {
    "name": "ipython",
    "version": 3
   },
   "file_extension": ".py",
   "mimetype": "text/x-python",
   "name": "python",
   "nbconvert_exporter": "python",
   "pygments_lexer": "ipython3",
   "version": "3.9.18"
  }
 },
 "nbformat": 4,
 "nbformat_minor": 5
}
