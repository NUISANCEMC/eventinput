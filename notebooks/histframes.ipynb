{
 "cells": [
  {
   "cell_type": "markdown",
   "id": "b5159f37-d896-401c-b8b0-988ec70ec99b",
   "metadata": {},
   "source": [
    "# Introducing: HistFrames\n",
    "HistFrames are similar to data frames, but each row corresponds to a bin, like in a histogram. They do not aim to be fully featured histogram objects like you might find in other library, however. Jack of all trades; master of... also all trades.\n",
    "\n",
    "Firstly, we need to define a binning"
   ]
  },
  {
   "cell_type": "code",
   "execution_count": null,
   "id": "64897573-1bbb-44ac-8ac3-80ae3e4345a4",
   "metadata": {
    "editable": true,
    "slideshow": {
     "slide_type": ""
    },
    "tags": []
   },
   "outputs": [],
   "source": [
    "import pyNUISANCE as pn\n",
    "\n",
    "pn.log.set_level(\"Binning\",pn.log.level.trace)\n",
    "\n",
    "binning = pn.Binning.lin_space(50,0,50)\n",
    "binning(1)"
   ]
  },
  {
   "cell_type": "markdown",
   "id": "660a7afa-614c-4ae0-ac89-8f37b29d4c3e",
   "metadata": {},
   "source": [
    "Then we can instantiate an empty HistFrame with this binning"
   ]
  },
  {
   "cell_type": "code",
   "execution_count": null,
   "id": "777815c5-e48a-41f7-b0fd-a3b892cc3eb0",
   "metadata": {},
   "outputs": [],
   "source": [
    "hf = pn.HistFrame(binning, \"MCPrediction\")\n",
    "print(hf) #the printer only prints the first 20 rows by default"
   ]
  },
  {
   "cell_type": "markdown",
   "id": "9116fee7-c840-4607-a91e-e4f43c470088",
   "metadata": {},
   "source": [
    "We can then add an entry to a bin"
   ]
  },
  {
   "cell_type": "code",
   "execution_count": null,
   "id": "a6178e81-7ba3-4c72-ab7b-99a3f561fbd7",
   "metadata": {},
   "outputs": [],
   "source": [
    "import pyProSelecta as pps\n",
    "\n",
    "evs = pn.EventSource(\"dune_argon_sf_10mega.nuwro.pb.gz\")\n",
    "if not evs:\n",
    "    print(\"Error: failed to open input file\")\n",
    "\n",
    "def enu_GeV(ev):\n",
    "    bpart = pps.sel.Beam(ev,14)\n",
    "    print(bpart)\n",
    "    if bpart:\n",
    "        print(bpart.momentum().e() * 1E-3)\n",
    "        return bpart.momentum().e() * 1E-3\n",
    "    return -0\n",
    "\n",
    "hf.reset() # reset it so that repeated running of this cell doesn't keep filling the histo\n",
    "ev, cvw = evs.first()\n",
    "enu = enu_GeV(ev)\n",
    "hf.fill(enu, cvw) # for correctly normalizable distributions that work for different generators \n",
    "                  # we *always* need to keep track of the weights, even if they're all '1' for \n",
    "                  # our testing generator\n",
    "print(hf)"
   ]
  },
  {
   "cell_type": "markdown",
   "id": "67684fbf-ef49-4d60-a046-58eaf10b90ec",
   "metadata": {},
   "source": [
    "Lets make a more sensibly binned histogram and fill it with a few events"
   ]
  },
  {
   "cell_type": "code",
   "execution_count": null,
   "id": "0148e01b-17a9-422c-af99-89c57854404e",
   "metadata": {},
   "outputs": [],
   "source": [
    "from math import log\n",
    "binning = pn.Binning.lin_space(20,0,6, \"E_nu [GeV]\")\n",
    "hf = pn.HistFrame(binning) #the default first column name is \"mc\"\n",
    "for i, (ev, cvw) in enumerate(evs):\n",
    "    print(cvw)\n",
    "    hf.fill(enu_GeV(ev),cvw)\n",
    "    if i >= 5:\n",
    "        break\n",
    "\n",
    "print(hf)"
   ]
  },
  {
   "cell_type": "markdown",
   "id": "03a43f6d-04cb-4f1f-9b71-9ee6e6fd91de",
   "metadata": {},
   "source": [
    "We can interrogate some of the binning metadata like below. The binning information is stored by bin index, this enables fully generic ndimensional binnings to be defined but can make them confusing to work with if you're use to information being stored by axis."
   ]
  },
  {
   "cell_type": "code",
   "execution_count": null,
   "id": "8a296e61-f545-46d1-8cbb-5e66cd1ff7eb",
   "metadata": {},
   "outputs": [],
   "source": [
    "print(\"Bin extents: %s\" % hf.binning.bins)"
   ]
  },
  {
   "cell_type": "code",
   "execution_count": null,
   "id": "196e5c39-476e-4d8e-b1a5-78aa4ecd70bf",
   "metadata": {},
   "outputs": [],
   "source": [
    "xaxbcs = [ x[0] for x in pn.Binning.get_bin_centers(hf.binning.bins) ]\n",
    "print(\"Bin centers: %s\" % xaxbcs)"
   ]
  },
  {
   "cell_type": "markdown",
   "id": "99928dc3-9c81-4212-872f-2f691d978bd6",
   "metadata": {},
   "source": [
    "Lets make a plot"
   ]
  },
  {
   "cell_type": "code",
   "execution_count": null,
   "id": "f1936c1d-15c1-4e72-8b3a-0ae7622ede42",
   "metadata": {},
   "outputs": [],
   "source": [
    "import matplotlib.pyplot as plt\n",
    "import numpy as np\n",
    "\n",
    "plt.errorbar(xaxbcs,\n",
    "             hf.contents[:,0],yerr=np.sqrt(hf.variance[:,0]))\n",
    "plt.show()"
   ]
  },
  {
   "cell_type": "code",
   "execution_count": null,
   "id": "30f37b44-2f39-4c42-9637-eff6a43ffe53",
   "metadata": {},
   "outputs": [],
   "source": []
  }
 ],
 "metadata": {
  "kernelspec": {
   "display_name": "Python 3 (ipykernel)",
   "language": "python",
   "name": "python3"
  },
  "language_info": {
   "codemirror_mode": {
    "name": "ipython",
    "version": 3
   },
   "file_extension": ".py",
   "mimetype": "text/x-python",
   "name": "python",
   "nbconvert_exporter": "python",
   "pygments_lexer": "ipython3",
   "version": "3.9.18"
  }
 },
 "nbformat": 4,
 "nbformat_minor": 5
}
