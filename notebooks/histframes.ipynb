{
 "cells": [
  {
   "cell_type": "markdown",
   "id": "b5159f37-d896-401c-b8b0-988ec70ec99b",
   "metadata": {},
   "source": [
    "# Introducing: HistFrames\n",
    "HistFrames are similar to data frames, but each row corresponds to a bin, like in a histogram. They do not aim to be fully featured histogram objects like you might find in other libraries, however. Jack of all trades; master of... also all trades.\n",
    "\n",
    "`HistFrame`s take a Binning object and an optional column name for the first column."
   ]
  },
  {
   "cell_type": "code",
   "execution_count": 1,
   "id": "777815c5-e48a-41f7-b0fd-a3b892cc3eb0",
   "metadata": {
    "editable": true,
    "slideshow": {
     "slide_type": ""
    },
    "tags": []
   },
   "outputs": [
    {
     "name": "stdout",
     "output_type": "stream",
     "text": [
      " ----------------------------\n",
      " | bin | MCPrediction | err |\n",
      " ----------------------------\n",
      " |   0 |            0 |   0 |\n",
      " |   1 |            0 |   0 |\n",
      " |   2 |            0 |   0 |\n",
      " |   3 |            0 |   0 |\n",
      " |   4 |            0 |   0 |\n",
      " |   5 |            0 |   0 |\n",
      " |   6 |            0 |   0 |\n",
      " |   7 |            0 |   0 |\n",
      " |   8 |            0 |   0 |\n",
      " |   9 |            0 |   0 |\n",
      " |  10 |            0 |   0 |\n",
      " |  11 |            0 |   0 |\n",
      " |  12 |            0 |   0 |\n",
      " |  13 |            0 |   0 |\n",
      " |  14 |            0 |   0 |\n",
      " |  15 |            0 |   0 |\n",
      " |  16 |            0 |   0 |\n",
      " |  17 |            0 |   0 |\n",
      " |  18 |            0 |   0 |\n",
      " |  19 |            0 |   0 |\n",
      " |  20 |            0 |   0 |\n",
      " |          ... | ... |\n",
      " ----------------------------\n"
     ]
    }
   ],
   "source": [
    "import pyNUISANCE as pn\n",
    "hf = pn.HistFrame(pn.Binning.lin_space(0,10,50), \"MCPrediction\")\n",
    "print(hf) #the printer only prints the first 20 rows by default"
   ]
  },
  {
   "cell_type": "markdown",
   "id": "9116fee7-c840-4607-a91e-e4f43c470088",
   "metadata": {},
   "source": [
    "We can then add an entry to a bin"
   ]
  },
  {
   "cell_type": "code",
   "execution_count": 2,
   "id": "a6178e81-7ba3-4c72-ab7b-99a3f561fbd7",
   "metadata": {
    "editable": true,
    "slideshow": {
     "slide_type": ""
    },
    "tags": []
   },
   "outputs": [
    {
     "name": "stdout",
     "output_type": "stream",
     "text": [
      " ----------------------------\n",
      " | bin | MCPrediction | err |\n",
      " ----------------------------\n",
      " |   0 |            0 |   0 |\n",
      " |   1 |            0 |   0 |\n",
      " |   2 |            0 |   0 |\n",
      " |   3 |            0 |   0 |\n",
      " |   4 |            0 |   0 |\n",
      " |   5 |            0 |   0 |\n",
      " |   6 |            0 |   0 |\n",
      " |   7 |            0 |   0 |\n",
      " |   8 |            0 |   0 |\n",
      " |   9 |            0 |   0 |\n",
      " |  10 |            0 |   0 |\n",
      " |  11 |            1 |   1 |\n",
      " |  12 |            0 |   0 |\n",
      " |  13 |            0 |   0 |\n",
      " |  14 |            0 |   0 |\n",
      " |  15 |            0 |   0 |\n",
      " |  16 |            0 |   0 |\n",
      " |  17 |            0 |   0 |\n",
      " |  18 |            0 |   0 |\n",
      " |  19 |            0 |   0 |\n",
      " |  20 |            0 |   0 |\n",
      " |          ... | ... |\n",
      " ----------------------------\n"
     ]
    }
   ],
   "source": [
    "import pyProSelecta as pps\n",
    "\n",
    "evs = pn.EventSource(\"dune_argon_sf_10mega.nuwro.pb.gz\")\n",
    "if not evs:\n",
    "    print(\"Error: failed to open input file\")\n",
    "\n",
    "def enu_GeV(ev):\n",
    "    bpart = pps.sel.Beam(ev,14)\n",
    "    if not bpart:\n",
    "        return pn.HistFrame.missing_datum\n",
    "    return bpart.momentum().e() * 1E-3\n",
    "    \n",
    "hf.reset() # reset it so that repeated running of this cell doesn't keep filling the histo\n",
    "ev, cvw = evs.first()\n",
    "enu = enu_GeV(ev)\n",
    "hf.fill(enu, cvw) # for correctly normalizable distributions that work for different generators \n",
    "                  # we *always* need to keep track of the weights, even if they're all '1' for \n",
    "                  # our testing generator\n",
    "print(hf)"
   ]
  },
  {
   "cell_type": "markdown",
   "id": "67684fbf-ef49-4d60-a046-58eaf10b90ec",
   "metadata": {},
   "source": [
    "Lets make a more sensibly binned histogram and fill it with a few events"
   ]
  },
  {
   "cell_type": "markdown",
   "id": "270c170f-6a7b-406f-a08e-982d3905a73d",
   "metadata": {},
   "source": [
    "### Filling in a loop"
   ]
  },
  {
   "cell_type": "code",
   "execution_count": 3,
   "id": "0148e01b-17a9-422c-af99-89c57854404e",
   "metadata": {
    "editable": true,
    "slideshow": {
     "slide_type": ""
    },
    "tags": []
   },
   "outputs": [
    {
     "data": {
      "image/png": "[encoded data removed]",
      "text/plain": [
       "<Figure size 640x480 with 1 Axes>"
      ]
     },
     "metadata": {},
     "output_type": "display_data"
    }
   ],
   "source": [
    "import matplotlib.pyplot as plt\n",
    "import numpy as np\n",
    "\n",
    "hf = pn.HistFrame(pn.Binning.lin_space(0,6,50, \"E_{nu} [GeV]\"), \"mc\")\n",
    "for i, (ev, cvw) in enumerate(evs):\n",
    "    hf.fill(enu_GeV(ev),cvw)\n",
    "    if i >= 1E5:\n",
    "        break\n",
    "\n",
    "plt.errorbar(pn.Binning.get_bin_centers1D(hf.binning.bins),\n",
    "             hf.sumweights[:,0],yerr=np.sqrt(hf.variances[:,0]))\n",
    "plt.show()"
   ]
  },
  {
   "cell_type": "markdown",
   "id": "a65f25c8-11ae-4f32-b185-c51364ed410b",
   "metadata": {},
   "source": [
    "### Filling directly from an EventFrame"
   ]
  },
  {
   "cell_type": "code",
   "execution_count": 4,
   "id": "fa7f7804-0282-4485-981c-b55ceaaa5e36",
   "metadata": {},
   "outputs": [
    {
     "data": {
      "image/png": "[encoded data removed]",
      "text/plain": [
       "<Figure size 640x480 with 1 Axes>"
      ]
     },
     "metadata": {},
     "output_type": "display_data"
    }
   ],
   "source": [
    "hf = pn.HistFrame(pn.Binning.lin_space(0,6,50, \"E_{nu} [GeV]\"), \"mc\")\n",
    "fg = pn.EventFrameGen(evs,int(1E4)).limit(1E5).add_column(\"enu_GeV\",enu_GeV)\n",
    "batch = fg.first()\n",
    "\n",
    "while batch.rows():\n",
    "    hf.fill_from_EventFrame(batch,\"enu_GeV\")\n",
    "    batch = fg.next()\n",
    "\n",
    "plt.errorbar(pn.Binning.get_bin_centers1D(hf.binning.bins),\n",
    "             hf.sumweights[:,0],yerr=np.sqrt(hf.variances[:,0]))\n",
    "plt.show()"
   ]
  },
  {
   "cell_type": "markdown",
   "id": "9e03cfea-e327-4382-99e6-ec132db48745",
   "metadata": {},
   "source": [
    "### Filling directly from an EventFrameGen"
   ]
  },
  {
   "cell_type": "code",
   "execution_count": 5,
   "id": "79458eb9-4fb4-4bd5-9722-9595fd4b8258",
   "metadata": {},
   "outputs": [
    {
     "data": {
      "image/png": "[encoded data removed]",
      "text/plain": [
       "<Figure size 640x480 with 1 Axes>"
      ]
     },
     "metadata": {},
     "output_type": "display_data"
    }
   ],
   "source": [
    "hf = pn.HistFrame(pn.Binning.lin_space(0,6,50, \"E_{nu} [GeV]\"), \"mc\")\n",
    "\n",
    "fg = pn.EventFrameGen(evs,int(1E4)).limit(1E5).add_column(\"enu_GeV\",enu_GeV)\n",
    "\n",
    "hf.fill_from_EventFrameGen(fg,\"enu_GeV\")\n",
    "\n",
    "plt.errorbar(pn.Binning.get_bin_centers1D(hf.binning.bins),\n",
    "             hf.sumweights[:,0],yerr=np.sqrt(hf.variances[:,0]))\n",
    "plt.show()"
   ]
  },
  {
   "cell_type": "markdown",
   "id": "ff078d25-0905-488d-9f4a-0bc98a7ba8a5",
   "metadata": {
    "editable": true,
    "slideshow": {
     "slide_type": ""
    },
    "tags": []
   },
   "source": [
    "## 2D Histograms\n",
    "\n",
    "As we saw in the [binning notebook](https://github.com/NUISANCEMC/eventinput/blob/main/notebooks/binning.ipynb), we can make multi-dimensional binnings. These can be used to instantiate `HistFrame`s."
   ]
  },
  {
   "cell_type": "code",
   "execution_count": null,
   "id": "e71976da-8a39-47c0-98d1-b65f4d4cbff5",
   "metadata": {},
   "outputs": [],
   "source": [
    "hf_ptpz = pn.HistFrame(pn.Binning.lin_spaceND([[0,5,75],[0,1.25,25]], [\"pz\",\"pt\"]))"
   ]
  },
  {
   "cell_type": "code",
   "execution_count": null,
   "id": "6bc1345f-3979-4cc8-a8e4-2927ba318de8",
   "metadata": {},
   "outputs": [],
   "source": [
    "def ptpz(ev):\n",
    "    bpart = pps.sel.Beam(ev,14)\n",
    "    if not bpart:\n",
    "        return pn.Frame.missing_datum\n",
    "    beam_pid = bpart.pid()\n",
    "    cc_lep_pid = (beam_pid - 1) if (beam_pid > 0) else (beam_pid + 1);\n",
    "    lep = pps.sel.OutPartHM(ev, int(cc_lep_pid))\n",
    "    if not lep:\n",
    "        return pn.Frame.missing_datum\n",
    "    \n",
    "    return [lep.momentum().pz() * 1E-3, lep.momentum().pt() * 1E-3]"
   ]
  },
  {
   "cell_type": "code",
   "execution_count": null,
   "id": "38f078f2-9db6-4fa3-b2ec-a1b689f96baf",
   "metadata": {
    "editable": true,
    "slideshow": {
     "slide_type": ""
    },
    "tags": []
   },
   "outputs": [],
   "source": [
    "hf_ptpz.reset()\n",
    "for i, (ev, cvw) in enumerate(evs):\n",
    "    ev_ptpz = ptpz(ev)\n",
    "    if ev_ptpz != pn.Frame.missing_datum:\n",
    "        hf_ptpz.fill(ev_ptpz,cvw)\n",
    "    if i >= 1E6:\n",
    "        break\n",
    "\n",
    "print(hf_ptpz)"
   ]
  },
  {
   "cell_type": "markdown",
   "id": "f26e37c6-a13d-4d52-8955-64b1d47332d4",
   "metadata": {},
   "source": [
    "Drawing a 2D histogram is a little more fiddly in matplotlib (or plotly for that matter)\n",
    "\n",
    "From [numpy.histogram2d](https://numpy.org/doc/stable/reference/generated/numpy.histogram2d.html) and [matplotlib.pyplot.pcolormesh](https://matplotlib.org/stable/api/_as_gen/matplotlib.axes.Axes.pcolormesh.html):\n",
    "\n",
    "```\n",
    "(X[i+1, j], Y[i+1, j])       (X[i+1, j+1], Y[i+1, j+1])\n",
    "                      ●╶───╴●\n",
    "                      │     │\n",
    "                      ●╶───╴●\n",
    "    (X[i, j], Y[i, j])       (X[i, j+1], Y[i, j+1])\n",
    "```"
   ]
  },
  {
   "cell_type": "code",
   "execution_count": null,
   "id": "1c06fab5-916c-4cdb-9a8b-0b2deea14c58",
   "metadata": {},
   "outputs": [],
   "source": [
    "nbins = len(hf_ptpz.binning.bins)\n",
    "X = np.zeros((2*nbins,2))\n",
    "Y = np.zeros((2*nbins,2))\n",
    "C = np.zeros(((2*nbins)-1,1))\n",
    "for i,bin in enumerate(hf_ptpz.binning.bins):\n",
    "    X[2*i,0] = bin[0].low\n",
    "    Y[2*i,0] = bin[1].low\n",
    "    \n",
    "    X[2*i + 1,0] = bin[0].low\n",
    "    Y[2*i + 1,0] = bin[1].high\n",
    "    \n",
    "    X[2*i, 1] = bin[0].high\n",
    "    Y[2*i, 1] = bin[1].low\n",
    "\n",
    "    X[2*i + 1, 1] = bin[0].high\n",
    "    Y[2*i + 1, 1] = bin[1].high\n",
    "\n",
    "    C[2*i,0] = hf_ptpz.sumweights[i,0]\n",
    "    if (2*i + 2) != (2*nbins):\n",
    "        C[2*i + 1,0] = hf_ptpz.sumweights[i,0]\n",
    "        \n",
    "plt.pcolormesh(X, Y, C)\n",
    "plt.show()"
   ]
  },
  {
   "cell_type": "markdown",
   "id": "93000d24-869a-473c-b554-181ca1952f60",
   "metadata": {},
   "source": [
    "we provide a helper function for building the pcolormesh data structures following the above logic"
   ]
  },
  {
   "cell_type": "code",
   "execution_count": null,
   "id": "02699c0f-2430-46fa-816d-4f80525c7fb2",
   "metadata": {
    "editable": true,
    "slideshow": {
     "slide_type": ""
    },
    "tags": []
   },
   "outputs": [],
   "source": [
    "pcmdata = pn.convert.HistFrame.to_mpl_pcolormesh(hf_ptpz)\n",
    "plt.pcolormesh(pcmdata[\"X\"], pcmdata[\"Y\"], pcmdata[\"C\"])\n",
    "plt.show()"
   ]
  },
  {
   "cell_type": "markdown",
   "id": "c00294d0-77b2-4c79-a7a4-0bfe13d8a029",
   "metadata": {},
   "source": [
    "## Projections\n",
    "For rectangular binnings where projections onto lower dimensions are well defined, we can make histogram projections"
   ]
  },
  {
   "cell_type": "code",
   "execution_count": null,
   "id": "2e3b4897-218a-4843-a41a-33d22d8a7ba4",
   "metadata": {
    "editable": true,
    "slideshow": {
     "slide_type": ""
    },
    "tags": []
   },
   "outputs": [],
   "source": [
    "hf_pt = pn.HistFrame.project(hf_ptpz,1)\n",
    "print(hf_pt.binning)\n",
    "print(hf_pt)\n",
    "print(\"nfills: %s\" % hf_pt.nfills)"
   ]
  },
  {
   "cell_type": "code",
   "execution_count": null,
   "id": "54f57be4-f5b3-4460-8f60-81af298b2576",
   "metadata": {},
   "outputs": [],
   "source": [
    "plt.errorbar(pn.Binning.get_bin_centers1D(hf_pt.binning.bins),\n",
    "             hf_pt.sumweights[:,0],yerr=np.sqrt(hf_pt.variances[:,0]))\n",
    "plt.show()"
   ]
  },
  {
   "cell_type": "markdown",
   "id": "44c9b462-2c04-4706-ba48-0bf3e31f4dbe",
   "metadata": {},
   "source": [
    "While it is unlikely that we would want to continue calling fill on a projection histogram, it is supported."
   ]
  },
  {
   "cell_type": "code",
   "execution_count": null,
   "id": "0fbca4eb-999f-47c5-810e-574113ae5141",
   "metadata": {
    "editable": true,
    "scrolled": true,
    "slideshow": {
     "slide_type": ""
    },
    "tags": []
   },
   "outputs": [],
   "source": [
    "hf_pt.fill(0.5,10000)\n",
    "print(hf_pt)\n",
    "print(\"nfills: %s\" % hf_pt.nfills)"
   ]
  },
  {
   "cell_type": "code",
   "execution_count": null,
   "id": "9844dbfb-4806-4a40-a417-cb0416321fbe",
   "metadata": {},
   "outputs": [],
   "source": [
    "plt.errorbar(pn.Binning.get_bin_centers1D(hf_pt.binning.bins),\n",
    "             hf_pt.sumweights[:,0],yerr=np.sqrt(hf_pt.variances[:,0]))\n",
    "plt.show()"
   ]
  },
  {
   "cell_type": "code",
   "execution_count": null,
   "id": "c68632cb-845b-47d0-a80c-2fcb6360f0c4",
   "metadata": {},
   "outputs": [],
   "source": []
  }
 ],
 "metadata": {
  "kernelspec": {
   "display_name": "Python 3 (ipykernel)",
   "language": "python",
   "name": "python3"
  },
  "language_info": {
   "codemirror_mode": {
    "name": "ipython",
    "version": 3
   },
   "file_extension": ".py",
   "mimetype": "text/x-python",
   "name": "python",
   "nbconvert_exporter": "python",
   "pygments_lexer": "ipython3",
   "version": "3.9.18"
  }
 },
 "nbformat": 4,
 "nbformat_minor": 5
}
