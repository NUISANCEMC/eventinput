{
 "cells": [
  {
   "cell_type": "markdown",
   "id": "b5159f37-d896-401c-b8b0-988ec70ec99b",
   "metadata": {},
   "source": [
    "# Introducing: HistFrames\n",
    "HistFrames are similar to data frames, but each row corresponds to a bin, like in a histogram. They do not aim to be fully featured histogram objects like you might find in other library, however. Jack of all trades; master of... also all trades.\n",
    "\n",
    "Firstly, we need to define a binning"
   ]
  },
  {
   "cell_type": "code",
   "execution_count": 1,
   "id": "64897573-1bbb-44ac-8ac3-80ae3e4345a4",
   "metadata": {},
   "outputs": [],
   "source": [
    "import pyNUISANCE as pn\n",
    "\n",
    "binning = pn.binning.lin_space(50,0,50)"
   ]
  },
  {
   "cell_type": "markdown",
   "id": "660a7afa-614c-4ae0-ac89-8f37b29d4c3e",
   "metadata": {},
   "source": [
    "Then we can instantiate an empty HistFrame with this binning"
   ]
  },
  {
   "cell_type": "code",
   "execution_count": 2,
   "id": "777815c5-e48a-41f7-b0fd-a3b892cc3eb0",
   "metadata": {},
   "outputs": [
    {
     "name": "stdout",
     "output_type": "stream",
     "text": [
      " ----------------------\n",
      " | MCPrediction | err |\n",
      " ----------------------\n",
      " |            0 |   0 |\n",
      " |            0 |   0 |\n",
      " |            0 |   0 |\n",
      " |            0 |   0 |\n",
      " |            0 |   0 |\n",
      " |            0 |   0 |\n",
      " |            0 |   0 |\n",
      " |            0 |   0 |\n",
      " |            0 |   0 |\n",
      " |            0 |   0 |\n",
      " |            0 |   0 |\n",
      " |            0 |   0 |\n",
      " |            0 |   0 |\n",
      " |            0 |   0 |\n",
      " |            0 |   0 |\n",
      " |            0 |   0 |\n",
      " |            0 |   0 |\n",
      " |            0 |   0 |\n",
      " |            0 |   0 |\n",
      " |            0 |   0 |\n",
      " |            0 |   0 |\n",
      " |          ... | ... |\n",
      " ----------------------\n"
     ]
    }
   ],
   "source": [
    "hf = pn.HistFrame(binning, \"MCPrediction\")\n",
    "print(hf) #the printer only prints the first 20 rows by default"
   ]
  },
  {
   "cell_type": "markdown",
   "id": "9116fee7-c840-4607-a91e-e4f43c470088",
   "metadata": {},
   "source": [
    "We can then add an entry to a bin"
   ]
  },
  {
   "cell_type": "code",
   "execution_count": 3,
   "id": "a6178e81-7ba3-4c72-ab7b-99a3f561fbd7",
   "metadata": {},
   "outputs": [
    {
     "name": "stdout",
     "output_type": "stream",
     "text": [
      "[2024-02-29 17:13:45.565] [info] Found eventinput plugin: /root/software/NUISANCEMC/eventinput/build/Linux/lib/plugins/nuisplugin-eventinput-GHEP3.so\n",
      "[2024-02-29 17:13:45.595] [info] Found eventinput plugin: /root/software/NUISANCEMC/eventinput/build/Linux/lib/plugins/nuisplugin-eventinput-NuWroevent1.so\n",
      "[2024-02-29 17:13:45.599] [info] Found eventinput plugin: /root/software/NUISANCEMC/eventinput/build/Linux/lib/plugins/nuisplugin-eventinput-neutvect.so\n",
      "[2024-02-29 17:13:45.600] [info] EventSourceFactory: PathResolver::resolve filepath: dune_argon_sf_10mega.nuwro.pb.gz, exists: true\n",
      "[2024-02-29 17:13:45.750] [info] Reading file dune_argon_sf_10mega.nuwro.pb.gz with native HepMC3EventSource\n",
      " ----------------------\n",
      " | MCPrediction | err |\n",
      " ----------------------\n",
      " |            0 |   0 |\n",
      " |            0 |   0 |\n",
      " |            1 |   1 |\n",
      " |            0 |   0 |\n",
      " |            0 |   0 |\n",
      " |            0 |   0 |\n",
      " |            0 |   0 |\n",
      " |            0 |   0 |\n",
      " |            0 |   0 |\n",
      " |            0 |   0 |\n",
      " |            0 |   0 |\n",
      " |            0 |   0 |\n",
      " |            0 |   0 |\n",
      " |            0 |   0 |\n",
      " |            0 |   0 |\n",
      " |            0 |   0 |\n",
      " |            0 |   0 |\n",
      " |            0 |   0 |\n",
      " |            0 |   0 |\n",
      " |            0 |   0 |\n",
      " |            0 |   0 |\n",
      " |          ... | ... |\n",
      " ----------------------\n"
     ]
    }
   ],
   "source": [
    "evs = pn.EventSource(\"dune_argon_sf_10mega.nuwro.pb.gz\")\n",
    "if not evs:\n",
    "    print(\"Error: failed to open input file\")\n",
    "\n",
    "# just get the first event so that we can check the units\n",
    "ev,_ = evs.first()\n",
    "ToGeV = 1 if (ev.momentum_unit() == pn.hm.HepMC3.Units.GEV) else 1E-3\n",
    "\n",
    "def enu_GeV(ev):\n",
    "    bpart = pn.pps.sel.Beam(ev,14)\n",
    "    if bpart:\n",
    "        return bpart.momentum().e()*ToGeV\n",
    "    return -0\n",
    "\n",
    "hf.reset() # reset it so that repeated running of this cell doesn't keep filling the histo\n",
    "ev, cvw = evs.first()\n",
    "enu = enu_GeV(ev)\n",
    "hf.fill(enu, cvw) # for correctly normalizable distributions that work for different generators \n",
    "                  # we *always* need to keep track of the weights, even if they're all '1' for \n",
    "                  # our testing generator\n",
    "print(hf)"
   ]
  },
  {
   "cell_type": "markdown",
   "id": "67684fbf-ef49-4d60-a046-58eaf10b90ec",
   "metadata": {},
   "source": [
    "Lets make a more sensibly binned histogram and fill it with a few events"
   ]
  },
  {
   "cell_type": "code",
   "execution_count": 7,
   "id": "0148e01b-17a9-422c-af99-89c57854404e",
   "metadata": {},
   "outputs": [
    {
     "name": "stdout",
     "output_type": "stream",
     "text": [
      " ---------------\n",
      " |  mc |   err |\n",
      " ---------------\n",
      " |   0 |     0 |\n",
      " |   0 |     0 |\n",
      " |   0 |     0 |\n",
      " |   0 |     0 |\n",
      " |   0 |     0 |\n",
      " |   1 |     1 |\n",
      " |   0 |     0 |\n",
      " |   1 |     1 |\n",
      " |   0 |     0 |\n",
      " |   1 |     1 |\n",
      " |  12 | 3.464 |\n",
      " |   5 | 2.236 |\n",
      " |  12 | 3.464 |\n",
      " |  21 | 4.583 |\n",
      " |  28 | 5.292 |\n",
      " |  28 | 5.292 |\n",
      " |  42 | 6.481 |\n",
      " |  69 | 8.307 |\n",
      " |  94 | 9.695 |\n",
      " | 149 | 12.21 |\n",
      " | 185 |  13.6 |\n",
      " | ... |   ... |\n",
      " ---------------\n"
     ]
    }
   ],
   "source": [
    "from math import log\n",
    "binning = pn.binning.log10_space(50,log(0.1)/log(10),log(8)/log(10), \"E_nu [GeV]\")\n",
    "hf = pn.HistFrame(binning) #the default first column name is \"mc\"\n",
    "for i, (ev, cvw) in enumerate(evs):\n",
    "    hf.fill(enu_GeV(ev),cvw)\n",
    "    if i >= 1E5:\n",
    "        break\n",
    "\n",
    "print(hf)"
   ]
  },
  {
   "cell_type": "markdown",
   "id": "03a43f6d-04cb-4f1f-9b71-9ee6e6fd91de",
   "metadata": {},
   "source": [
    "We can interrogate some of the binning metadata like below. The binning information is stored by bin index, this enables fully generic ndimensional binnings to be defined but can make them confusing to work with if you're use to information being stored by axis."
   ]
  },
  {
   "cell_type": "code",
   "execution_count": 8,
   "id": "8a296e61-f545-46d1-8cbb-5e66cd1ff7eb",
   "metadata": {},
   "outputs": [
    {
     "name": "stdout",
     "output_type": "stream",
     "text": [
      "Bin extents: Axis lables: [\"E_nu [GeV]\"]\n",
      "Bins: [\n",
      "  0: [(0.10 - 0.11)]\n",
      "  1: [(0.11 - 0.12)]\n",
      "  2: [(0.12 - 0.13)]\n",
      "  3: [(0.13 - 0.14)]\n",
      "  4: [(0.14 - 0.15)]\n",
      "  5: [(0.15 - 0.17)]\n",
      "  6: [(0.17 - 0.18)]\n",
      "  7: [(0.18 - 0.20)]\n",
      "  8: [(0.20 - 0.22)]\n",
      "  9: [(0.22 - 0.24)]\n",
      "  10: [(0.24 - 0.26)]\n",
      "  11: [(0.26 - 0.29)]\n",
      "  12: [(0.29 - 0.31)]\n",
      "  13: [(0.31 - 0.34)]\n",
      "  14: [(0.34 - 0.37)]\n",
      "  15: [(0.37 - 0.41)]\n",
      "  16: [(0.41 - 0.44)]\n",
      "  17: [(0.44 - 0.48)]\n",
      "  18: [(0.48 - 0.53)]\n",
      "  19: [(0.53 - 0.58)]\n",
      "  20: [(0.58 - 0.63)]\n",
      "  21: [(0.63 - 0.69)]\n",
      "  22: [(0.69 - 0.75)]\n",
      "  23: [(0.75 - 0.82)]\n",
      "  24: [(0.82 - 0.89)]\n",
      "  25: [(0.89 - 0.98)]\n",
      "  26: [(0.98 - 1.07)]\n",
      "  27: [(1.07 - 1.16)]\n",
      "  28: [(1.16 - 1.27)]\n",
      "  29: [(1.27 - 1.39)]\n",
      "  30: [(1.39 - 1.51)]\n",
      "  31: [(1.51 - 1.65)]\n",
      "  32: [(1.65 - 1.80)]\n",
      "  33: [(1.80 - 1.97)]\n",
      "  34: [(1.97 - 2.15)]\n",
      "  35: [(2.15 - 2.35)]\n",
      "  36: [(2.35 - 2.56)]\n",
      "  37: [(2.56 - 2.79)]\n",
      "  38: [(2.79 - 3.05)]\n",
      "  39: [(3.05 - 3.33)]\n",
      "  40: [(3.33 - 3.64)]\n",
      "  41: [(3.64 - 3.97)]\n",
      "  42: [(3.97 - 4.33)]\n",
      "  43: [(4.33 - 4.73)]\n",
      "  44: [(4.73 - 5.16)]\n",
      "  45: [(5.16 - 5.63)]\n",
      "  46: [(5.63 - 6.15)]\n",
      "  47: [(6.15 - 6.71)]\n",
      "  48: [(6.71 - 7.33)]\n",
      "  49: [(7.33 - 8.00)]\n",
      "]\n",
      "\n"
     ]
    }
   ],
   "source": [
    "print(\"Bin extents: %s\" % hf.binning.bin_info)"
   ]
  },
  {
   "cell_type": "markdown",
   "id": "288b9493-1e10-42f5-999c-88bfb5e5dc98",
   "metadata": {},
   "source": [
    "We can use a simple list comprehension to get the binning along one axis."
   ]
  },
  {
   "cell_type": "code",
   "execution_count": 9,
   "id": "196e5c39-476e-4d8e-b1a5-78aa4ecd70bf",
   "metadata": {},
   "outputs": [
    {
     "name": "stdout",
     "output_type": "stream",
     "text": [
      "Bin centers: [0.104579782927117, 0.11415883701454124, 0.12461529086931576, 0.13602951050093595, 0.14848922309646131, 0.16209019127242208, 0.17693694908527335, 0.19314360545721143, 0.21083472119230656, 0.23014626632350643, 0.2512266651484687, 0.2742379369861385, 0.2993569414216766, 0.3267767376104157, 0.356708068088159, 0.38938097849205977, 0.4250465856409006, 0.46397900756385185, 0.506477470311484, 0.5528686077415228, 0.603508971954994, 0.6587877736774221, 0.7191298736470475, 0.7849990480012183, 0.8569015527579997, 0.9353900147888221, 1.021067679187333, 1.1145930456787954, 1.2166849297044569, 1.3281279870792768, 1.4497787446843153, 1.5825721835443618, 1.727528924886896, 1.8857630744128513, 2.058490785068524, 2.247039604130213, 2.452858676441238, 2.6775298822211653, 2.922779995050006, 3.190493953470988, 3.482729348214516, 3.8017322363889576, 4.149954404182646, 4.5300722107544384, 4.945007158142845, 5.397948345289523, 5.892376978753848, 6.43209312850253, 7.021244934413378, 7.664360487968038]\n"
     ]
    }
   ],
   "source": [
    "bin_centers = [ ((x[0].min + x[0].max) / 2.0) for x in hf.binning.bin_info.extents ]\n",
    "print(\"Bin centers: %s\" % bin_centers)"
   ]
  },
  {
   "cell_type": "markdown",
   "id": "99928dc3-9c81-4212-872f-2f691d978bd6",
   "metadata": {},
   "source": [
    "Lets make a plot"
   ]
  },
  {
   "cell_type": "code",
   "execution_count": 10,
   "id": "f1936c1d-15c1-4e72-8b3a-0ae7622ede42",
   "metadata": {},
   "outputs": [
    {
     "data": {
      "image/png": "[encoded data removed]",
      "text/plain": [
       "<Figure size 640x480 with 1 Axes>"
      ]
     },
     "metadata": {},
     "output_type": "display_data"
    }
   ],
   "source": [
    "import matplotlib.pyplot as plt\n",
    "import numpy as np\n",
    "\n",
    "plt.errorbar(bin_centers,hf.contents[:,0],yerr=np.sqrt(hf.variance[:,0]))\n",
    "plt.show()"
   ]
  },
  {
   "cell_type": "code",
   "execution_count": null,
   "id": "47957fb6-6dce-4b09-b0bc-1c7fabfd40b1",
   "metadata": {},
   "outputs": [],
   "source": []
  }
 ],
 "metadata": {
  "kernelspec": {
   "display_name": "Python 3 (ipykernel)",
   "language": "python",
   "name": "python3"
  },
  "language_info": {
   "codemirror_mode": {
    "name": "ipython",
    "version": 3
   },
   "file_extension": ".py",
   "mimetype": "text/x-python",
   "name": "python",
   "nbconvert_exporter": "python",
   "pygments_lexer": "ipython3",
   "version": "3.9.18"
  }
 },
 "nbformat": 4,
 "nbformat_minor": 5
}
