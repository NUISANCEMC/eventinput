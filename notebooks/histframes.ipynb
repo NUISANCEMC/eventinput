{
 "cells": [
  {
   "cell_type": "markdown",
   "id": "b5159f37-d896-401c-b8b0-988ec70ec99b",
   "metadata": {},
   "source": [
    "# Introducing: HistFrames\n",
    "HistFrames are similar to data frames, but each row corresponds to a bin, like in a histogram. They do not aim to be fully featured histogram objects like you might find in other library, however. Jack of all trades; master of... also all trades.\n",
    "\n",
    "Firstly, we need to define a binning"
   ]
  },
  {
   "cell_type": "code",
   "execution_count": 5,
   "id": "64897573-1bbb-44ac-8ac3-80ae3e4345a4",
   "metadata": {},
   "outputs": [],
   "source": [
    "import pyNUISANCE as pn\n",
    "\n",
    "binning = pn.binning.lin_space(50,0,50)"
   ]
  },
  {
   "cell_type": "markdown",
   "id": "660a7afa-614c-4ae0-ac89-8f37b29d4c3e",
   "metadata": {},
   "source": [
    "Then we can instantiate an empty HistFrame with this binning"
   ]
  },
  {
   "cell_type": "code",
   "execution_count": 6,
   "id": "777815c5-e48a-41f7-b0fd-a3b892cc3eb0",
   "metadata": {},
   "outputs": [
    {
     "name": "stdout",
     "output_type": "stream",
     "text": [
      " ----------------------\n",
      " | MCPrediction | err |\n",
      " ----------------------\n",
      " |            0 |   0 |\n",
      " |            0 |   0 |\n",
      " |            0 |   0 |\n",
      " |            0 |   0 |\n",
      " |            0 |   0 |\n",
      " |            0 |   0 |\n",
      " |            0 |   0 |\n",
      " |            0 |   0 |\n",
      " |            0 |   0 |\n",
      " |            0 |   0 |\n",
      " |            0 |   0 |\n",
      " |            0 |   0 |\n",
      " |            0 |   0 |\n",
      " |            0 |   0 |\n",
      " |            0 |   0 |\n",
      " |            0 |   0 |\n",
      " |            0 |   0 |\n",
      " |            0 |   0 |\n",
      " |            0 |   0 |\n",
      " |            0 |   0 |\n",
      " |            0 |   0 |\n",
      " |          ... | ... |\n",
      " ----------------------\n"
     ]
    }
   ],
   "source": [
    "hf = pn.HistFrame(binning, \"MCPrediction\")\n",
    "print(hf) #the printer only prints the first 20 rows by default"
   ]
  },
  {
   "cell_type": "markdown",
   "id": "9116fee7-c840-4607-a91e-e4f43c470088",
   "metadata": {},
   "source": [
    "We can then add an entry to a bin"
   ]
  },
  {
   "cell_type": "code",
   "execution_count": 8,
   "id": "a6178e81-7ba3-4c72-ab7b-99a3f561fbd7",
   "metadata": {},
   "outputs": [
    {
     "name": "stdout",
     "output_type": "stream",
     "text": [
      "[2024-02-27 18:56:29.995] [info] Found eventinput plugin: /root/software/NUISANCEMC/eventinput/build/Linux/lib/plugins/nuisplugin-eventinput-GHEP3.so\n",
      "[2024-02-27 18:56:29.997] [info] Found eventinput plugin: /root/software/NUISANCEMC/eventinput/build/Linux/lib/plugins/nuisplugin-eventinput-NuWroevent1.so\n",
      "[2024-02-27 18:56:29.998] [info] Found eventinput plugin: /root/software/NUISANCEMC/eventinput/build/Linux/lib/plugins/nuisplugin-eventinput-neutvect.so\n",
      "[2024-02-27 18:56:29.999] [info] EventSourceFactory: PathResolver::resolve filepath: dune_argon_sf_10mega.nuwro.pb.gz, exists: true\n",
      "[2024-02-27 18:56:30.030] [info] Reading file dune_argon_sf_10mega.nuwro.pb.gz with native HepMC3EventSource\n",
      " ----------------------\n",
      " | MCPrediction | err |\n",
      " ----------------------\n",
      " |            0 |   0 |\n",
      " |            0 |   0 |\n",
      " |            1 |   1 |\n",
      " |            0 |   0 |\n",
      " |            0 |   0 |\n",
      " |            0 |   0 |\n",
      " |            0 |   0 |\n",
      " |            0 |   0 |\n",
      " |            0 |   0 |\n",
      " |            0 |   0 |\n",
      " |            0 |   0 |\n",
      " |            0 |   0 |\n",
      " |            0 |   0 |\n",
      " |            0 |   0 |\n",
      " |            0 |   0 |\n",
      " |            0 |   0 |\n",
      " |            0 |   0 |\n",
      " |            0 |   0 |\n",
      " |            0 |   0 |\n",
      " |            0 |   0 |\n",
      " |            0 |   0 |\n",
      " |          ... | ... |\n",
      " ----------------------\n"
     ]
    }
   ],
   "source": [
    "evs = pn.EventSource(\"dune_argon_sf_10mega.nuwro.pb.gz\")\n",
    "if not evs:\n",
    "    print(\"Error: failed to open input file\")\n",
    "\n",
    "# just get the first event so that we can check the units\n",
    "ev,_ = evs.first()\n",
    "ToGeV = 1 if (ev.momentum_unit() == pn.hm.HepMC3.Units.GEV) else 1E-3\n",
    "\n",
    "def enu_GeV(ev):\n",
    "    bpart = pn.pps.sel.Beam(ev,14)\n",
    "    if bpart:\n",
    "        return bpart.momentum().e()*ToGeV\n",
    "    return -0\n",
    "\n",
    "hf.reset() # reset it so that repeated running of this cell doesn't keep filling the histo\n",
    "ev, cvw = evs.first()\n",
    "enu = enu_GeV(ev)\n",
    "hf.fill(enu, cvw) # for correctly normalizable distributions that work for different generators \n",
    "                  # we *always* need to keep track of the weights, even if they're all '1' for \n",
    "                  # our testing generator\n",
    "print(hf)"
   ]
  },
  {
   "cell_type": "markdown",
   "id": "67684fbf-ef49-4d60-a046-58eaf10b90ec",
   "metadata": {},
   "source": [
    "Lets make a more sensibly binned histogram and fill it with a few events"
   ]
  },
  {
   "cell_type": "code",
   "execution_count": 10,
   "id": "0148e01b-17a9-422c-af99-89c57854404e",
   "metadata": {},
   "outputs": [
    {
     "name": "stdout",
     "output_type": "stream",
     "text": [
      " ----------------\n",
      " |   mc |   err |\n",
      " ----------------\n",
      " |    0 |     0 |\n",
      " |   37 | 6.083 |\n",
      " |  178 | 13.34 |\n",
      " |  473 | 21.75 |\n",
      " |  879 | 29.65 |\n",
      " | 1279 | 35.76 |\n",
      " | 1801 | 42.44 |\n",
      " | 2188 | 46.78 |\n",
      " | 2448 | 49.48 |\n",
      " | 2918 | 54.02 |\n",
      " | 3298 | 57.43 |\n",
      " | 3802 | 61.66 |\n",
      " | 4433 | 66.58 |\n",
      " | 4595 | 67.79 |\n",
      " | 4840 | 69.57 |\n",
      " | 5026 | 70.89 |\n",
      " | 5373 |  73.3 |\n",
      " | 5240 | 72.39 |\n",
      " | 4971 | 70.51 |\n",
      " | 4730 | 68.77 |\n",
      " | 4350 | 65.95 |\n",
      " |  ... |   ... |\n",
      " ----------------\n"
     ]
    }
   ],
   "source": [
    "binning = pn.binning.lin_space(50,0,8, \"E_nu [GeV]\")\n",
    "hf = pn.HistFrame(binning) #the default first column name is \"mc\"\n",
    "for i, (ev, cvw) in enumerate(evs):\n",
    "    hf.fill(enu_GeV(ev),cvw)\n",
    "    if i >= 1E5:\n",
    "        break\n",
    "\n",
    "print(hf)"
   ]
  },
  {
   "cell_type": "markdown",
   "id": "03a43f6d-04cb-4f1f-9b71-9ee6e6fd91de",
   "metadata": {},
   "source": [
    "We can interrogate some of the binning metadata like below. The binning information is stored by bin index, this enables fully generic ndimensional binnings to be defined but can make them confusing to work with if you're use to information being stored by axis."
   ]
  },
  {
   "cell_type": "code",
   "execution_count": 11,
   "id": "8a296e61-f545-46d1-8cbb-5e66cd1ff7eb",
   "metadata": {},
   "outputs": [
    {
     "name": "stdout",
     "output_type": "stream",
     "text": [
      "Axis labels: ['E_nu [GeV]']\n",
      "\n",
      "Bin extents: [[[0 -- 0.16]], [[0.16 -- 0.32]], [[0.32 -- 0.48]], [[0.48 -- 0.64]], [[0.64 -- 0.8]], [[0.8 -- 0.96]], [[0.96 -- 1.12]], [[1.12 -- 1.28]], [[1.28 -- 1.44]], [[1.44 -- 1.6]], [[1.6 -- 1.76]], [[1.76 -- 1.92]], [[1.92 -- 2.08]], [[2.08 -- 2.24]], [[2.24 -- 2.4]], [[2.4 -- 2.56]], [[2.56 -- 2.72]], [[2.72 -- 2.88]], [[2.88 -- 3.04]], [[3.04 -- 3.2]], [[3.2 -- 3.36]], [[3.36 -- 3.52]], [[3.52 -- 3.68]], [[3.68 -- 3.84]], [[3.84 -- 4]], [[4 -- 4.16]], [[4.16 -- 4.32]], [[4.32 -- 4.48]], [[4.48 -- 4.64]], [[4.64 -- 4.8]], [[4.8 -- 4.96]], [[4.96 -- 5.12]], [[5.12 -- 5.28]], [[5.28 -- 5.44]], [[5.44 -- 5.6000000000000005]], [[5.6000000000000005 -- 5.76]], [[5.76 -- 5.92]], [[5.92 -- 6.08]], [[6.08 -- 6.24]], [[6.24 -- 6.4]], [[6.4 -- 6.5600000000000005]], [[6.5600000000000005 -- 6.72]], [[6.72 -- 6.88]], [[6.88 -- 7.04]], [[7.04 -- 7.2]], [[7.2 -- 7.36]], [[7.36 -- 7.5200000000000005]], [[7.5200000000000005 -- 7.68]], [[7.68 -- 7.84]], [[7.84 -- 8]]]\n"
     ]
    }
   ],
   "source": [
    "print(\"Axis labels: %s\\n\" % hf.binning.bin_info.axis_labels)\n",
    "print(\"Bin extents: %s\" % hf.binning.bin_info.extents)"
   ]
  },
  {
   "cell_type": "markdown",
   "id": "288b9493-1e10-42f5-999c-88bfb5e5dc98",
   "metadata": {},
   "source": [
    "We can use a simple list comprehension to get the binning along one axis."
   ]
  },
  {
   "cell_type": "code",
   "execution_count": 12,
   "id": "196e5c39-476e-4d8e-b1a5-78aa4ecd70bf",
   "metadata": {},
   "outputs": [
    {
     "name": "stdout",
     "output_type": "stream",
     "text": [
      "Bin extents: [(0.0, 0.16), (0.16, 0.32), (0.32, 0.48), (0.48, 0.64), (0.64, 0.8), (0.8, 0.96), (0.96, 1.12), (1.12, 1.28), (1.28, 1.44), (1.44, 1.6), (1.6, 1.76), (1.76, 1.92), (1.92, 2.08), (2.08, 2.24), (2.24, 2.4), (2.4, 2.56), (2.56, 2.72), (2.72, 2.88), (2.88, 3.04), (3.04, 3.2), (3.2, 3.36), (3.36, 3.52), (3.52, 3.68), (3.68, 3.84), (3.84, 4.0), (4.0, 4.16), (4.16, 4.32), (4.32, 4.48), (4.48, 4.64), (4.64, 4.8), (4.8, 4.96), (4.96, 5.12), (5.12, 5.28), (5.28, 5.44), (5.44, 5.6000000000000005), (5.6000000000000005, 5.76), (5.76, 5.92), (5.92, 6.08), (6.08, 6.24), (6.24, 6.4), (6.4, 6.5600000000000005), (6.5600000000000005, 6.72), (6.72, 6.88), (6.88, 7.04), (7.04, 7.2), (7.2, 7.36), (7.36, 7.5200000000000005), (7.5200000000000005, 7.68), (7.68, 7.84), (7.84, 8.0)]\n",
      "\n",
      "Bin centers: [0.08, 0.24, 0.4, 0.56, 0.72, 0.88, 1.04, 1.2000000000000002, 1.3599999999999999, 1.52, 1.6800000000000002, 1.8399999999999999, 2.0, 2.16, 2.3200000000000003, 2.48, 2.64, 2.8, 2.96, 3.12, 3.2800000000000002, 3.44, 3.6, 3.76, 3.92, 4.08, 4.24, 4.4, 4.5600000000000005, 4.72, 4.88, 5.04, 5.2, 5.36, 5.5200000000000005, 5.68, 5.84, 6.0, 6.16, 6.32, 6.48, 6.640000000000001, 6.8, 6.96, 7.12, 7.28, 7.44, 7.6, 7.76, 7.92]\n"
     ]
    }
   ],
   "source": [
    "print(\"Bin extents: %s\\n\" % [ (x[0].min, x[0].max) for x in hf.binning.bin_info.extents ])\n",
    "bin_centers = [ ((x[0].min + x[0].max) / 2.0) for x in hf.binning.bin_info.extents ]\n",
    "print(\"Bin centers: %s\" % bin_centers)"
   ]
  },
  {
   "cell_type": "markdown",
   "id": "99928dc3-9c81-4212-872f-2f691d978bd6",
   "metadata": {},
   "source": [
    "Lets make a plot"
   ]
  },
  {
   "cell_type": "code",
   "execution_count": 13,
   "id": "f1936c1d-15c1-4e72-8b3a-0ae7622ede42",
   "metadata": {},
   "outputs": [
    {
     "data": {
      "image/png": "[encoded data removed]",
      "text/plain": [
       "<Figure size 640x480 with 1 Axes>"
      ]
     },
     "metadata": {},
     "output_type": "display_data"
    }
   ],
   "source": [
    "import matplotlib.pyplot as plt\n",
    "import numpy as np\n",
    "\n",
    "plt.errorbar(bin_centers,hf.contents[:,0],yerr=np.sqrt(hf.variance[:,0]))\n",
    "plt.show()"
   ]
  },
  {
   "cell_type": "code",
   "execution_count": null,
   "id": "47957fb6-6dce-4b09-b0bc-1c7fabfd40b1",
   "metadata": {},
   "outputs": [],
   "source": []
  }
 ],
 "metadata": {
  "kernelspec": {
   "display_name": "Python 3 (ipykernel)",
   "language": "python",
   "name": "python3"
  },
  "language_info": {
   "codemirror_mode": {
    "name": "ipython",
    "version": 3
   },
   "file_extension": ".py",
   "mimetype": "text/x-python",
   "name": "python",
   "nbconvert_exporter": "python",
   "pygments_lexer": "ipython3",
   "version": "3.9.18"
  }
 },
 "nbformat": 4,
 "nbformat_minor": 5
}
