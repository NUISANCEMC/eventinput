{
 "cells": [
  {
   "cell_type": "code",
   "execution_count": 1,
   "id": "de91ed38-75a9-4719-ae57-81ca678226d7",
   "metadata": {},
   "outputs": [],
   "source": [
    "#include <iostream>\n",
    "gInterpreter->AddIncludePath(\"$NUISANCE_ROOT/include/\");\n",
    "gInterpreter->AddIncludePath(\"$NUISANCE_ROOT/../src/\");\n",
    "gInterpreter->AddIncludePath(\"/opt/HepMC3/git_master/include/\"); \n",
    "gInterpreter->AddIncludePath(\"/opt/NuHepMC_CPPUtils/git_master/include/\"); \n",
    "gInterpreter->AddIncludePath(\"/opt/ProSelecta/git_master/include/\"); \n",
    "gInterpreter->AddIncludePath(\"/opt/genie/3_04_00/include/\"); \n",
    "gInterpreter->AddIncludePath(\"/opt/lhapdf/5.9.1/include/\"); \n",
    "gInterpreter->AddIncludePath(\"/opt/neut/git_master/include/\"); \n",
    "gInterpreter->AddIncludePath(\"/opt/pybind11/v2.9.2/include/\"); \n",
    "gInterpreter->AddIncludePath(\"/opt/root/v6-28-08/include/\"); \n",
    "gInterpreter->AddIncludePath(\"/opt/yaml-cpp/v0.8.0/include/\"); \n"
   ]
  },
  {
   "cell_type": "code",
   "execution_count": 4,
   "id": "26966baf-2f2f-4d4e-a309-1407fd1d876d",
   "metadata": {},
   "outputs": [
    {
     "name": "stderr",
     "output_type": "stream",
     "text": [
      "Error in <TInterpreter::TCling::AutoLoad>: failure loading library libNuWroEvent.so for event\n",
      "Error in <TInterpreter::TCling::AutoLoad>: failure loading library libNuWroEvent.so for particle\n",
      "In file included from input_line_50:1:\n",
      "In file included from /Users/stowell/Research/Software/NUISANCEMC/eventinput/build/Linux/include/nuis/eventinput/EventSourceFactory.h:3:\n",
      "\u001b[1m/Users/stowell/Research/Software/NUISANCEMC/eventinput/build/Linux/include/nuis/eventinput/INormalizedEventSource.h:6:10: \u001b[0m\u001b[0;1;31mfatal error: \u001b[0m\u001b[1m'NuHepMC/FATXUtils.hxx' file not found\u001b[0m\n",
      "#include \"NuHepMC/FATXUtils.hxx\"\n",
      "\u001b[0;1;32m         ^~~~~~~~~~~~~~~~~~~~~~~\n",
      "\u001b[0m"
     ]
    }
   ],
   "source": [
    "#include \"nuis/eventinput/EventSourceFactory.h\"\n"
   ]
  },
  {
   "cell_type": "code",
   "execution_count": 2,
   "id": "a85dc7dc-dbfa-4b06-afa6-78fff6a80d9b",
   "metadata": {},
   "outputs": [
    {
     "name": "stdout",
     "output_type": "stream",
     "text": [
      "TEST ROOT\n"
     ]
    }
   ],
   "source": [
    "std::cout << \"TEST ROOT\" << std::endl;"
   ]
  },
  {
   "cell_type": "code",
   "execution_count": 4,
   "id": "b78f13ae-dc68-4369-85d0-ebc5d23797ea",
   "metadata": {},
   "outputs": [
    {
     "name": "stderr",
     "output_type": "stream",
     "text": [
      "\u001b[1minput_line_50:2:4: \u001b[0m\u001b[0;1;31merror: \u001b[0m\u001b[1mexpected expression\u001b[0m\n",
      "   .include /Users/stowell/Research/Software/NUISANCEMC/eventinput/examples/c++/../../build/Linux/include/\n",
      "\u001b[0;1;32m   ^\n",
      "\u001b[0m"
     ]
    }
   ],
   "source": [
    "  .include /Users/stowell/Research/Software/NUISANCEMC/eventinput/examples/c++/../../build/Linux/include/\n"
   ]
  },
  {
   "cell_type": "code",
   "execution_count": null,
   "id": "aa1b33b0-27e2-440b-ae0f-2af1af5b4362",
   "metadata": {},
   "outputs": [],
   "source": []
  }
 ],
 "metadata": {
  "kernelspec": {
   "display_name": "ROOT C++",
   "language": "c++",
   "name": "root"
  },
  "language_info": {
   "codemirror_mode": "text/x-c++src",
   "file_extension": ".C",
   "mimetype": " text/x-c++src",
   "name": "c++"
  }
 },
 "nbformat": 4,
 "nbformat_minor": 5
}
