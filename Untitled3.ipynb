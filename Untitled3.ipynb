{
 "cells": [
  {
   "cell_type": "code",
   "execution_count": 4,
   "id": "bebfb7b2-0937-4bc5-a8a7-9657105691f6",
   "metadata": {},
   "outputs": [],
   "source": [
    "#include \"nuis-notebook.h\"\n",
    "nuis::configure();"
   ]
  },
  {
   "cell_type": "code",
   "execution_count": 6,
   "id": "d81fbb29-385e-4ce1-8eaf-7d23a708d0b6",
   "metadata": {},
   "outputs": [
    {
     "name": "stdout",
     "output_type": "stream",
     "text": [
      "[2024-02-24 20:32:46.639] [info] Found eventinput plugin: /Users/stowell/Research/Software/NUISANCEMC/eventinput/build/Linux/lib/plugins/nuisplugin-eventinput-NuWroevent1.so\n",
      "[2024-02-24 20:32:46.675] [info] Found eventinput plugin: /Users/stowell/Research/Software/NUISANCEMC/eventinput/build/Linux/lib/plugins/nuisplugin-eventinput-neutvect.so\n"
     ]
    }
   ],
   "source": [
    "auto fact = nuis::EventSourceFactory();"
   ]
  },
  {
   "cell_type": "code",
   "execution_count": 11,
   "id": "fdaedac2-5a88-49bf-8e55-6e58cac80cd7",
   "metadata": {},
   "outputs": [
    {
     "name": "stdout",
     "output_type": "stream",
     "text": [
      "[2024-02-24 20:33:24.687] [info] EventSourceFactory: PathResolver::resolve filepath: ../runs/NEUT.numu.enu_nd280_numu.t2kflux_2016_plus250kA.4529.evts.root, exists: true\n",
      "[2024-02-24 20:33:25.082] [info] Reading file ../runs/NEUT.numu.enu_nd280_numu.t2kflux_2016_plus250kA.4529.evts.root with plugin /Users/stowell/Research/Software/NUISANCEMC/eventinput/build/Linux/lib/plugins/nuisplugin-eventinput-neutvect.so\n"
     ]
    }
   ],
   "source": [
    "auto [gri, evs] = fact.Make(\"../runs/NEUT.numu.enu_nd280_numu.t2kflux_2016_plus250kA.4529.evts.root\");"
   ]
  },
  {
   "cell_type": "code",
   "execution_count": null,
   "id": "e50f05ef-9f3c-48ec-b5db-8ffe4af07412",
   "metadata": {},
   "outputs": [],
   "source": []
  }
 ],
 "metadata": {
  "kernelspec": {
   "display_name": "ROOT C++",
   "language": "c++",
   "name": "root"
  },
  "language_info": {
   "codemirror_mode": "text/x-c++src",
   "file_extension": ".C",
   "mimetype": " text/x-c++src",
   "name": "c++"
  }
 },
 "nbformat": 4,
 "nbformat_minor": 5
}
