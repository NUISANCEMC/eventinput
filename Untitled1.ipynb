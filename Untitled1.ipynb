{
 "cells": [
  {
   "cell_type": "code",
   "execution_count": null,
   "id": "fe1554df-3f4c-4e1d-9693-3f63c7904cab",
   "metadata": {},
   "outputs": [],
   "source": [
    "#include <iostream>"
   ]
  },
  {
   "cell_type": "code",
   "execution_count": null,
   "id": "cb4826fc-e57c-48b3-b63f-dd4cde735d68",
   "metadata": {},
   "outputs": [],
   "source": [
    "std::cout << \"TEST\" << std::endl;"
   ]
  },
  {
   "cell_type": "code",
   "execution_count": null,
   "id": "aaf0fd0a-07ac-4a37-b3f4-175e83a879d8",
   "metadata": {},
   "outputs": [],
   "source": [
    "gInterpreter->AddIncludePath(\"$NUISANCE_ROOT/include/\");\n",
    "gInterpreter->AddIncludePath(\"$NUISANCE_ROOT/../src/\");\n",
    "gInterpreter->AddIncludePath(\"/opt/NuHepMC_CPPUtils/git_master/include/\"); \n",
    "gInterpreter->AddIncludePath(\"/opt/yaml-cpp/v0.8.0/include/\"); "
   ]
  },
  {
   "cell_type": "code",
   "execution_count": null,
   "id": "80797601-7338-4559-8063-ba96c08b80f4",
   "metadata": {},
   "outputs": [],
   "source": [
    "\n"
   ]
  },
  {
   "cell_type": "code",
   "execution_count": null,
   "id": "60e55165-7749-447d-bd7d-f9382abe03a9",
   "metadata": {},
   "outputs": [],
   "source": [
    "#include \"nuis/eventinput/EventSourceFactory.h\"\n"
   ]
  },
  {
   "cell_type": "code",
   "execution_count": null,
   "id": "06712c3e-1992-46f6-b292-29c13078abc8",
   "metadata": {},
   "outputs": [],
   "source": [
    "using namespace nuis;\n",
    "EventSourceFactory fact;"
   ]
  },
  {
   "cell_type": "code",
   "execution_count": null,
   "id": "85037c5a-7702-476d-a134-1a249ca0ae4d",
   "metadata": {},
   "outputs": [],
   "source": [
    "!ls ../runs/"
   ]
  },
  {
   "cell_type": "code",
   "execution_count": null,
   "id": "8825e24d-549d-4ab5-a4ac-49d0d310c7bb",
   "metadata": {},
   "outputs": [],
   "source": [
    "#include \"NuHepMC/EventUtils.hxx\"\n",
    "#include \"NuHepMC/FATXUtils.hxx\"\n",
    "#include \"NuHepMC/ReaderUtils.hxx\"\n",
    "// #include \"spdlog/spdlog.h\"\n"
   ]
  },
  {
   "cell_type": "code",
   "execution_count": null,
   "id": "524d5037-cd8f-4002-9989-c98bd9cd6477",
   "metadata": {},
   "outputs": [],
   "source": [
    "auto [gri, evs] = fact.Make(\"../runs/NEUT.numu.enu_nd280_numu.t2kflux_2016_plus250kA.4529.evts.root\");"
   ]
  },
  {
   "cell_type": "code",
   "execution_count": null,
   "id": "eb3814f9-a63e-48c5-a9b9-60a88a3f630a",
   "metadata": {},
   "outputs": [],
   "source": [
    "\n",
    "size_t ctr = 0;\n",
    "for (auto const &[ev, w] : evs) {\n",
    "    auto beamp = NuHepMC::Event::GetBeamParticle(ev);\n",
    "    auto tgtp = NuHepMC::Event::GetTargetParticle(ev);\n",
    "    auto nprot = NuHepMC::Event::GetParticles_All(\n",
    "                     ev, NuHepMC::ParticleStatus::UndecayedPhysical,\n",
    "                     {\n",
    "                         2212,\n",
    "                     })\n",
    "                     .size();\n",
    "    auto npip = NuHepMC::Event::GetParticles_All(\n",
    "                    ev, NuHepMC::ParticleStatus::UndecayedPhysical,\n",
    "                    {\n",
    "                        211,\n",
    "                    })\n",
    "                    .size();\n",
    "    auto npim = NuHepMC::Event::GetParticles_All(\n",
    "                    ev, NuHepMC::ParticleStatus::UndecayedPhysical,\n",
    "                    {\n",
    "                        -211,\n",
    "                    })\n",
    "                    .size();\n",
    "    auto npi0 = NuHepMC::Event::GetParticles_All(\n",
    "                    ev, NuHepMC::ParticleStatus::UndecayedPhysical,\n",
    "                    {\n",
    "                        111,\n",
    "                    })\n",
    "                    .size();\n",
    "    \n",
    "    auto procid = NuHepMC::ER3::ReadProcessID(ev);\n",
    "\n",
    "    std::cout << ctr << std::endl;\n",
    "\n",
    "    ctr++;\n",
    "    break;\n",
    "}"
   ]
  },
  {
   "cell_type": "code",
   "execution_count": null,
   "id": "36ed0d4c-0204-438f-8cf3-5c887310c0d3",
   "metadata": {},
   "outputs": [],
   "source": []
  }
 ],
 "metadata": {
  "kernelspec": {
   "display_name": "ROOT C++",
   "language": "c++",
   "name": "root"
  },
  "language_info": {
   "codemirror_mode": "text/x-c++src",
   "file_extension": ".C",
   "mimetype": " text/x-c++src",
   "name": "c++"
  }
 },
 "nbformat": 4,
 "nbformat_minor": 5
}
