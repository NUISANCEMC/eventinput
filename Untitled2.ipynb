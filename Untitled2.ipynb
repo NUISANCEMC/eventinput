{
 "cells": [
  {
   "cell_type": "code",
   "execution_count": null,
   "id": "e6505c05-6b96-46b9-bd0c-900e37902da7",
   "metadata": {},
   "outputs": [],
   "source": [
    "#include \"./nuis-notebook.h\""
   ]
  },
  {
   "cell_type": "code",
   "execution_count": 8,
   "id": "033cdb85-29b2-48ae-afeb-b098ff278581",
   "metadata": {},
   "outputs": [
    {
     "name": "stderr",
     "output_type": "stream",
     "text": [
      "\u001b[1minput_line_53:1:10: \u001b[0m\u001b[0;1;31mfatal error: \u001b[0m\u001b[1m'nuis/eventinput/EventSourceFactory.h' file not found\u001b[0m\n",
      "#include \"nuis/eventinput/EventSourceFactory.h\"\n",
      "\u001b[0;1;32m         ^~~~~~~~~~~~~~~~~~~~~~~~~~~~~~~~~~~~~~\n",
      "\u001b[0m"
     ]
    }
   ],
   "source": []
  },
  {
   "cell_type": "code",
   "execution_count": 3,
   "id": "50e2bee7-5d81-495e-a67d-b59e4f538895",
   "metadata": {
    "scrolled": true
   },
   "outputs": [
    {
     "name": "stderr",
     "output_type": "stream",
     "text": [
      "\u001b[1minput_line_49:1:17: \u001b[0m\u001b[0;1;31merror: \u001b[0m\u001b[1mexpected namespace name\u001b[0m\n",
      "using namespace nuis;void __cling_Un1Qu320(void* vpClingValue) {\n",
      "\u001b[0;1;32m                ^\n",
      "\u001b[0m\u001b[1minput_line_49:3:1: \u001b[0m\u001b[0;1;31merror: \u001b[0m\u001b[1munknown type name 'EventSourceFactory'\u001b[0m\n",
      "EventSourceFactory fact;\n",
      "\u001b[0;1;32m^\n",
      "\u001b[0m"
     ]
    }
   ],
   "source": [
    "using namespace nuis;\n",
    "EventSourceFactory fact;\n",
    "auto [gri, evs] = fact.Make(\"../../../runs/NEUT.numu.enu_nd280_numu.t2kflux_2016_plus250kA.4529.evts.root\");"
   ]
  },
  {
   "cell_type": "code",
   "execution_count": null,
   "id": "2fbe461c-e2d1-40a9-a807-bd584abf4ad9",
   "metadata": {},
   "outputs": [],
   "source": [
    "for (auto const &[ev, w] : evs) {\n",
    "    break;\n",
    "}"
   ]
  },
  {
   "cell_type": "code",
   "execution_count": null,
   "id": "f2271383-cf88-4c49-a0dd-4cb5eec4ca30",
   "metadata": {},
   "outputs": [],
   "source": []
  },
  {
   "cell_type": "code",
   "execution_count": null,
   "id": "1c8057ab-7490-45bb-a8f9-9a1aaf484746",
   "metadata": {},
   "outputs": [],
   "source": []
  }
 ],
 "metadata": {
  "kernelspec": {
   "display_name": "ROOT C++",
   "language": "c++",
   "name": "root"
  },
  "language_info": {
   "codemirror_mode": "text/x-c++src",
   "file_extension": ".C",
   "mimetype": " text/x-c++src",
   "name": "c++"
  }
 },
 "nbformat": 4,
 "nbformat_minor": 5
}
